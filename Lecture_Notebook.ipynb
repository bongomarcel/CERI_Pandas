{
  "cells": [
    {
      "cell_type": "markdown",
      "metadata": {
        "id": "view-in-github",
        "colab_type": "text"
      },
      "source": [
        "<a href=\"https://colab.research.google.com/github/bongomarcel/CERI_Pandas/blob/main/Lecture_Notebook.ipynb\" target=\"_parent\"><img src=\"https://colab.research.google.com/assets/colab-badge.svg\" alt=\"Open In Colab\"/></a>"
      ]
    },
    {
      "cell_type": "markdown",
      "metadata": {
        "id": "EJnlusHuFXGq"
      },
      "source": [
        "# Introduction to Pandas\n",
        "\n",
        "A high-level overview of the [Pandas](https://pandas.pydata.org) library.\n",
        "\n",
        "We will cover the following in this crash course:\n",
        "1. Key data structures and indexing\n",
        "2. Working with columns and sorting\n",
        "3. Groupby.agg & Groupby.filter paradigms\n",
        "4. Merging data\n",
        "\n",
        "Also provided are:\n",
        "1. Self-study: How to write efficient Pandas code\n",
        "2. Practical (+Memo) on all the above"
      ]
    },
    {
      "cell_type": "markdown",
      "metadata": {
        "id": "ZtNbHw_GFXGv"
      },
      "source": [
        "## Reading in DataFrames from Files"
      ]
    },
    {
      "cell_type": "code",
      "source": [
        "! git clone https://github.com/bongomarcel/CERI_Pandas.git"
      ],
      "metadata": {
        "id": "BFyC7QxZLJgB",
        "outputId": "74ec4b46-b90c-4d2f-d88f-6823e117e039",
        "colab": {
          "base_uri": "https://localhost:8080/"
        }
      },
      "execution_count": 1,
      "outputs": [
        {
          "output_type": "stream",
          "name": "stdout",
          "text": [
            "Cloning into 'CERI_Pandas'...\n",
            "remote: Enumerating objects: 18, done.\u001b[K\n",
            "remote: Counting objects: 100% (18/18), done.\u001b[K\n",
            "remote: Compressing objects: 100% (15/15), done.\u001b[K\n",
            "remote: Total 18 (delta 2), reused 11 (delta 1), pack-reused 0\u001b[K\n",
            "Receiving objects: 100% (18/18), 1.98 MiB | 5.72 MiB/s, done.\n",
            "Resolving deltas: 100% (2/2), done.\n"
          ]
        }
      ]
    },
    {
      "cell_type": "code",
      "execution_count": 2,
      "metadata": {
        "id": "Xi5Z16LtFXGu"
      },
      "outputs": [],
      "source": [
        "#%matplotlib inline\n",
        "#import matplotlib.pyplot as plt\n",
        "#import seaborn as sns\n",
        "import numpy as np\n",
        "import pandas as pd"
      ]
    },
    {
      "cell_type": "markdown",
      "metadata": {
        "id": "o4dl4J4ZFXGw"
      },
      "source": [
        "Pandas has a number of very useful file reading tools `pd.re*`.\n",
        "* pd.read_json()\n",
        "* pd.read_table()\n",
        "* pd.read_xml()\n",
        "* pd.read_sql()\n",
        "* pd.read_html()"
      ]
    },
    {
      "cell_type": "code",
      "source": [
        "%pwd"
      ],
      "metadata": {
        "id": "ykqpOp5KL5xA",
        "outputId": "ab4fbc88-5dca-4602-9b13-c74b21d44cb5",
        "colab": {
          "base_uri": "https://localhost:8080/",
          "height": 36
        }
      },
      "execution_count": 3,
      "outputs": [
        {
          "output_type": "execute_result",
          "data": {
            "text/plain": [
              "'/content'"
            ],
            "application/vnd.google.colaboratory.intrinsic+json": {
              "type": "string"
            }
          },
          "metadata": {},
          "execution_count": 3
        }
      ]
    },
    {
      "cell_type": "code",
      "source": [
        "%cd CERI_Pandas"
      ],
      "metadata": {
        "id": "cnt5dkMCMES-",
        "outputId": "54a4199c-9234-417c-9081-347210d0ce70",
        "colab": {
          "base_uri": "https://localhost:8080/"
        }
      },
      "execution_count": 4,
      "outputs": [
        {
          "output_type": "stream",
          "name": "stdout",
          "text": [
            "/content/CERI_Pandas\n"
          ]
        }
      ]
    },
    {
      "cell_type": "code",
      "execution_count": 5,
      "metadata": {
        "colab": {
          "base_uri": "https://localhost:8080/",
          "height": 423
        },
        "id": "uFJtZCdBFXGw",
        "outputId": "c3f9ecd6-ef27-434c-9a31-8eb05508803f"
      },
      "outputs": [
        {
          "output_type": "execute_result",
          "data": {
            "text/plain": [
              "     Year          Candidate                  Party  Popular vote Result  \\\n",
              "0    1824     Andrew Jackson  Democratic-Republican        151271   loss   \n",
              "1    1824  John Quincy Adams  Democratic-Republican        113142    win   \n",
              "2    1828     Andrew Jackson             Democratic        642806    win   \n",
              "3    1828  John Quincy Adams    National Republican        500897   loss   \n",
              "4    1832     Andrew Jackson             Democratic        702735    win   \n",
              "..    ...                ...                    ...           ...    ...   \n",
              "177  2016         Jill Stein                  Green       1457226   loss   \n",
              "178  2020       Joseph Biden             Democratic      81268924    win   \n",
              "179  2020       Donald Trump             Republican      74216154   loss   \n",
              "180  2020       Jo Jorgensen            Libertarian       1865724   loss   \n",
              "181  2020     Howard Hawkins                  Green        405035   loss   \n",
              "\n",
              "             %  \n",
              "0    57.210122  \n",
              "1    42.789878  \n",
              "2    56.203927  \n",
              "3    43.796073  \n",
              "4    54.574789  \n",
              "..         ...  \n",
              "177   1.073699  \n",
              "178  51.311515  \n",
              "179  46.858542  \n",
              "180   1.177979  \n",
              "181   0.255731  \n",
              "\n",
              "[182 rows x 6 columns]"
            ],
            "text/html": [
              "\n",
              "  <div id=\"df-6a0c5811-d678-442f-aafc-7042399d1a71\" class=\"colab-df-container\">\n",
              "    <div>\n",
              "<style scoped>\n",
              "    .dataframe tbody tr th:only-of-type {\n",
              "        vertical-align: middle;\n",
              "    }\n",
              "\n",
              "    .dataframe tbody tr th {\n",
              "        vertical-align: top;\n",
              "    }\n",
              "\n",
              "    .dataframe thead th {\n",
              "        text-align: right;\n",
              "    }\n",
              "</style>\n",
              "<table border=\"1\" class=\"dataframe\">\n",
              "  <thead>\n",
              "    <tr style=\"text-align: right;\">\n",
              "      <th></th>\n",
              "      <th>Year</th>\n",
              "      <th>Candidate</th>\n",
              "      <th>Party</th>\n",
              "      <th>Popular vote</th>\n",
              "      <th>Result</th>\n",
              "      <th>%</th>\n",
              "    </tr>\n",
              "  </thead>\n",
              "  <tbody>\n",
              "    <tr>\n",
              "      <th>0</th>\n",
              "      <td>1824</td>\n",
              "      <td>Andrew Jackson</td>\n",
              "      <td>Democratic-Republican</td>\n",
              "      <td>151271</td>\n",
              "      <td>loss</td>\n",
              "      <td>57.210122</td>\n",
              "    </tr>\n",
              "    <tr>\n",
              "      <th>1</th>\n",
              "      <td>1824</td>\n",
              "      <td>John Quincy Adams</td>\n",
              "      <td>Democratic-Republican</td>\n",
              "      <td>113142</td>\n",
              "      <td>win</td>\n",
              "      <td>42.789878</td>\n",
              "    </tr>\n",
              "    <tr>\n",
              "      <th>2</th>\n",
              "      <td>1828</td>\n",
              "      <td>Andrew Jackson</td>\n",
              "      <td>Democratic</td>\n",
              "      <td>642806</td>\n",
              "      <td>win</td>\n",
              "      <td>56.203927</td>\n",
              "    </tr>\n",
              "    <tr>\n",
              "      <th>3</th>\n",
              "      <td>1828</td>\n",
              "      <td>John Quincy Adams</td>\n",
              "      <td>National Republican</td>\n",
              "      <td>500897</td>\n",
              "      <td>loss</td>\n",
              "      <td>43.796073</td>\n",
              "    </tr>\n",
              "    <tr>\n",
              "      <th>4</th>\n",
              "      <td>1832</td>\n",
              "      <td>Andrew Jackson</td>\n",
              "      <td>Democratic</td>\n",
              "      <td>702735</td>\n",
              "      <td>win</td>\n",
              "      <td>54.574789</td>\n",
              "    </tr>\n",
              "    <tr>\n",
              "      <th>...</th>\n",
              "      <td>...</td>\n",
              "      <td>...</td>\n",
              "      <td>...</td>\n",
              "      <td>...</td>\n",
              "      <td>...</td>\n",
              "      <td>...</td>\n",
              "    </tr>\n",
              "    <tr>\n",
              "      <th>177</th>\n",
              "      <td>2016</td>\n",
              "      <td>Jill Stein</td>\n",
              "      <td>Green</td>\n",
              "      <td>1457226</td>\n",
              "      <td>loss</td>\n",
              "      <td>1.073699</td>\n",
              "    </tr>\n",
              "    <tr>\n",
              "      <th>178</th>\n",
              "      <td>2020</td>\n",
              "      <td>Joseph Biden</td>\n",
              "      <td>Democratic</td>\n",
              "      <td>81268924</td>\n",
              "      <td>win</td>\n",
              "      <td>51.311515</td>\n",
              "    </tr>\n",
              "    <tr>\n",
              "      <th>179</th>\n",
              "      <td>2020</td>\n",
              "      <td>Donald Trump</td>\n",
              "      <td>Republican</td>\n",
              "      <td>74216154</td>\n",
              "      <td>loss</td>\n",
              "      <td>46.858542</td>\n",
              "    </tr>\n",
              "    <tr>\n",
              "      <th>180</th>\n",
              "      <td>2020</td>\n",
              "      <td>Jo Jorgensen</td>\n",
              "      <td>Libertarian</td>\n",
              "      <td>1865724</td>\n",
              "      <td>loss</td>\n",
              "      <td>1.177979</td>\n",
              "    </tr>\n",
              "    <tr>\n",
              "      <th>181</th>\n",
              "      <td>2020</td>\n",
              "      <td>Howard Hawkins</td>\n",
              "      <td>Green</td>\n",
              "      <td>405035</td>\n",
              "      <td>loss</td>\n",
              "      <td>0.255731</td>\n",
              "    </tr>\n",
              "  </tbody>\n",
              "</table>\n",
              "<p>182 rows × 6 columns</p>\n",
              "</div>\n",
              "    <div class=\"colab-df-buttons\">\n",
              "\n",
              "  <div class=\"colab-df-container\">\n",
              "    <button class=\"colab-df-convert\" onclick=\"convertToInteractive('df-6a0c5811-d678-442f-aafc-7042399d1a71')\"\n",
              "            title=\"Convert this dataframe to an interactive table.\"\n",
              "            style=\"display:none;\">\n",
              "\n",
              "  <svg xmlns=\"http://www.w3.org/2000/svg\" height=\"24px\" viewBox=\"0 -960 960 960\">\n",
              "    <path d=\"M120-120v-720h720v720H120Zm60-500h600v-160H180v160Zm220 220h160v-160H400v160Zm0 220h160v-160H400v160ZM180-400h160v-160H180v160Zm440 0h160v-160H620v160ZM180-180h160v-160H180v160Zm440 0h160v-160H620v160Z\"/>\n",
              "  </svg>\n",
              "    </button>\n",
              "\n",
              "  <style>\n",
              "    .colab-df-container {\n",
              "      display:flex;\n",
              "      gap: 12px;\n",
              "    }\n",
              "\n",
              "    .colab-df-convert {\n",
              "      background-color: #E8F0FE;\n",
              "      border: none;\n",
              "      border-radius: 50%;\n",
              "      cursor: pointer;\n",
              "      display: none;\n",
              "      fill: #1967D2;\n",
              "      height: 32px;\n",
              "      padding: 0 0 0 0;\n",
              "      width: 32px;\n",
              "    }\n",
              "\n",
              "    .colab-df-convert:hover {\n",
              "      background-color: #E2EBFA;\n",
              "      box-shadow: 0px 1px 2px rgba(60, 64, 67, 0.3), 0px 1px 3px 1px rgba(60, 64, 67, 0.15);\n",
              "      fill: #174EA6;\n",
              "    }\n",
              "\n",
              "    .colab-df-buttons div {\n",
              "      margin-bottom: 4px;\n",
              "    }\n",
              "\n",
              "    [theme=dark] .colab-df-convert {\n",
              "      background-color: #3B4455;\n",
              "      fill: #D2E3FC;\n",
              "    }\n",
              "\n",
              "    [theme=dark] .colab-df-convert:hover {\n",
              "      background-color: #434B5C;\n",
              "      box-shadow: 0px 1px 3px 1px rgba(0, 0, 0, 0.15);\n",
              "      filter: drop-shadow(0px 1px 2px rgba(0, 0, 0, 0.3));\n",
              "      fill: #FFFFFF;\n",
              "    }\n",
              "  </style>\n",
              "\n",
              "    <script>\n",
              "      const buttonEl =\n",
              "        document.querySelector('#df-6a0c5811-d678-442f-aafc-7042399d1a71 button.colab-df-convert');\n",
              "      buttonEl.style.display =\n",
              "        google.colab.kernel.accessAllowed ? 'block' : 'none';\n",
              "\n",
              "      async function convertToInteractive(key) {\n",
              "        const element = document.querySelector('#df-6a0c5811-d678-442f-aafc-7042399d1a71');\n",
              "        const dataTable =\n",
              "          await google.colab.kernel.invokeFunction('convertToInteractive',\n",
              "                                                    [key], {});\n",
              "        if (!dataTable) return;\n",
              "\n",
              "        const docLinkHtml = 'Like what you see? Visit the ' +\n",
              "          '<a target=\"_blank\" href=https://colab.research.google.com/notebooks/data_table.ipynb>data table notebook</a>'\n",
              "          + ' to learn more about interactive tables.';\n",
              "        element.innerHTML = '';\n",
              "        dataTable['output_type'] = 'display_data';\n",
              "        await google.colab.output.renderOutput(dataTable, element);\n",
              "        const docLink = document.createElement('div');\n",
              "        docLink.innerHTML = docLinkHtml;\n",
              "        element.appendChild(docLink);\n",
              "      }\n",
              "    </script>\n",
              "  </div>\n",
              "\n",
              "\n",
              "<div id=\"df-2e0483c8-4140-45e6-9162-65f722c2b78d\">\n",
              "  <button class=\"colab-df-quickchart\" onclick=\"quickchart('df-2e0483c8-4140-45e6-9162-65f722c2b78d')\"\n",
              "            title=\"Suggest charts.\"\n",
              "            style=\"display:none;\">\n",
              "\n",
              "<svg xmlns=\"http://www.w3.org/2000/svg\" height=\"24px\"viewBox=\"0 0 24 24\"\n",
              "     width=\"24px\">\n",
              "    <g>\n",
              "        <path d=\"M19 3H5c-1.1 0-2 .9-2 2v14c0 1.1.9 2 2 2h14c1.1 0 2-.9 2-2V5c0-1.1-.9-2-2-2zM9 17H7v-7h2v7zm4 0h-2V7h2v10zm4 0h-2v-4h2v4z\"/>\n",
              "    </g>\n",
              "</svg>\n",
              "  </button>\n",
              "\n",
              "<style>\n",
              "  .colab-df-quickchart {\n",
              "    background-color: #E8F0FE;\n",
              "    border: none;\n",
              "    border-radius: 50%;\n",
              "    cursor: pointer;\n",
              "    display: none;\n",
              "    fill: #1967D2;\n",
              "    height: 32px;\n",
              "    padding: 0 0 0 0;\n",
              "    width: 32px;\n",
              "  }\n",
              "\n",
              "  .colab-df-quickchart:hover {\n",
              "    background-color: #E2EBFA;\n",
              "    box-shadow: 0px 1px 2px rgba(60, 64, 67, 0.3), 0px 1px 3px 1px rgba(60, 64, 67, 0.15);\n",
              "    fill: #174EA6;\n",
              "  }\n",
              "\n",
              "  [theme=dark] .colab-df-quickchart {\n",
              "    background-color: #3B4455;\n",
              "    fill: #D2E3FC;\n",
              "  }\n",
              "\n",
              "  [theme=dark] .colab-df-quickchart:hover {\n",
              "    background-color: #434B5C;\n",
              "    box-shadow: 0px 1px 3px 1px rgba(0, 0, 0, 0.15);\n",
              "    filter: drop-shadow(0px 1px 2px rgba(0, 0, 0, 0.3));\n",
              "    fill: #FFFFFF;\n",
              "  }\n",
              "</style>\n",
              "\n",
              "  <script>\n",
              "    async function quickchart(key) {\n",
              "      const charts = await google.colab.kernel.invokeFunction(\n",
              "          'suggestCharts', [key], {});\n",
              "    }\n",
              "    (() => {\n",
              "      let quickchartButtonEl =\n",
              "        document.querySelector('#df-2e0483c8-4140-45e6-9162-65f722c2b78d button');\n",
              "      quickchartButtonEl.style.display =\n",
              "        google.colab.kernel.accessAllowed ? 'block' : 'none';\n",
              "    })();\n",
              "  </script>\n",
              "</div>\n",
              "    </div>\n",
              "  </div>\n"
            ]
          },
          "metadata": {},
          "execution_count": 5
        }
      ],
      "source": [
        "elections = pd.read_csv(\"./data/elections.csv\")\n",
        "elections # if we end a cell with an expression or variable name, the result will print"
      ]
    },
    {
      "cell_type": "markdown",
      "metadata": {
        "id": "DaaIIw-gFXGx"
      },
      "source": [
        "As a simple indexing example, consider the code below, which returns the first 5 rows of the DataFrame."
      ]
    },
    {
      "cell_type": "code",
      "execution_count": null,
      "metadata": {
        "colab": {
          "base_uri": "https://localhost:8080/",
          "height": 206
        },
        "id": "TRLISCBfFXGx",
        "outputId": "f8e86caf-7673-415c-9ea1-6f8423364cac"
      },
      "outputs": [
        {
          "data": {
            "text/html": [
              "<div>\n",
              "<style scoped>\n",
              "    .dataframe tbody tr th:only-of-type {\n",
              "        vertical-align: middle;\n",
              "    }\n",
              "\n",
              "    .dataframe tbody tr th {\n",
              "        vertical-align: top;\n",
              "    }\n",
              "\n",
              "    .dataframe thead th {\n",
              "        text-align: right;\n",
              "    }\n",
              "</style>\n",
              "<table border=\"1\" class=\"dataframe\">\n",
              "  <thead>\n",
              "    <tr style=\"text-align: right;\">\n",
              "      <th></th>\n",
              "      <th>Year</th>\n",
              "      <th>Candidate</th>\n",
              "      <th>Party</th>\n",
              "      <th>Popular vote</th>\n",
              "      <th>Result</th>\n",
              "      <th>%</th>\n",
              "    </tr>\n",
              "  </thead>\n",
              "  <tbody>\n",
              "    <tr>\n",
              "      <th>0</th>\n",
              "      <td>1824</td>\n",
              "      <td>Andrew Jackson</td>\n",
              "      <td>Democratic-Republican</td>\n",
              "      <td>151271</td>\n",
              "      <td>loss</td>\n",
              "      <td>57.210122</td>\n",
              "    </tr>\n",
              "    <tr>\n",
              "      <th>1</th>\n",
              "      <td>1824</td>\n",
              "      <td>John Quincy Adams</td>\n",
              "      <td>Democratic-Republican</td>\n",
              "      <td>113142</td>\n",
              "      <td>win</td>\n",
              "      <td>42.789878</td>\n",
              "    </tr>\n",
              "    <tr>\n",
              "      <th>2</th>\n",
              "      <td>1828</td>\n",
              "      <td>Andrew Jackson</td>\n",
              "      <td>Democratic</td>\n",
              "      <td>642806</td>\n",
              "      <td>win</td>\n",
              "      <td>56.203927</td>\n",
              "    </tr>\n",
              "    <tr>\n",
              "      <th>3</th>\n",
              "      <td>1828</td>\n",
              "      <td>John Quincy Adams</td>\n",
              "      <td>National Republican</td>\n",
              "      <td>500897</td>\n",
              "      <td>loss</td>\n",
              "      <td>43.796073</td>\n",
              "    </tr>\n",
              "    <tr>\n",
              "      <th>4</th>\n",
              "      <td>1832</td>\n",
              "      <td>Andrew Jackson</td>\n",
              "      <td>Democratic</td>\n",
              "      <td>702735</td>\n",
              "      <td>win</td>\n",
              "      <td>54.574789</td>\n",
              "    </tr>\n",
              "  </tbody>\n",
              "</table>\n",
              "</div>"
            ],
            "text/plain": [
              "   Year          Candidate                  Party  Popular vote Result  \\\n",
              "0  1824     Andrew Jackson  Democratic-Republican        151271   loss   \n",
              "1  1824  John Quincy Adams  Democratic-Republican        113142    win   \n",
              "2  1828     Andrew Jackson             Democratic        642806    win   \n",
              "3  1828  John Quincy Adams    National Republican        500897   loss   \n",
              "4  1832     Andrew Jackson             Democratic        702735    win   \n",
              "\n",
              "           %  \n",
              "0  57.210122  \n",
              "1  42.789878  \n",
              "2  56.203927  \n",
              "3  43.796073  \n",
              "4  54.574789  "
            ]
          },
          "execution_count": 3,
          "metadata": {},
          "output_type": "execute_result"
        }
      ],
      "source": [
        "elections.loc[0:4]"
      ]
    },
    {
      "cell_type": "markdown",
      "metadata": {
        "id": "TCse0atnFXGy"
      },
      "source": [
        "We can also use the head command to return only a few rows of a dataframe."
      ]
    },
    {
      "cell_type": "code",
      "execution_count": null,
      "metadata": {
        "colab": {
          "base_uri": "https://localhost:8080/",
          "height": 206
        },
        "id": "fi3J4OyzFXGz",
        "outputId": "ad3b1597-a727-4637-9fb3-17ea3399fb41"
      },
      "outputs": [
        {
          "data": {
            "text/html": [
              "<div>\n",
              "<style scoped>\n",
              "    .dataframe tbody tr th:only-of-type {\n",
              "        vertical-align: middle;\n",
              "    }\n",
              "\n",
              "    .dataframe tbody tr th {\n",
              "        vertical-align: top;\n",
              "    }\n",
              "\n",
              "    .dataframe thead th {\n",
              "        text-align: right;\n",
              "    }\n",
              "</style>\n",
              "<table border=\"1\" class=\"dataframe\">\n",
              "  <thead>\n",
              "    <tr style=\"text-align: right;\">\n",
              "      <th></th>\n",
              "      <th>Year</th>\n",
              "      <th>Candidate</th>\n",
              "      <th>Party</th>\n",
              "      <th>Popular vote</th>\n",
              "      <th>Result</th>\n",
              "      <th>%</th>\n",
              "    </tr>\n",
              "  </thead>\n",
              "  <tbody>\n",
              "    <tr>\n",
              "      <th>0</th>\n",
              "      <td>1824</td>\n",
              "      <td>Andrew Jackson</td>\n",
              "      <td>Democratic-Republican</td>\n",
              "      <td>151271</td>\n",
              "      <td>loss</td>\n",
              "      <td>57.210122</td>\n",
              "    </tr>\n",
              "    <tr>\n",
              "      <th>1</th>\n",
              "      <td>1824</td>\n",
              "      <td>John Quincy Adams</td>\n",
              "      <td>Democratic-Republican</td>\n",
              "      <td>113142</td>\n",
              "      <td>win</td>\n",
              "      <td>42.789878</td>\n",
              "    </tr>\n",
              "    <tr>\n",
              "      <th>2</th>\n",
              "      <td>1828</td>\n",
              "      <td>Andrew Jackson</td>\n",
              "      <td>Democratic</td>\n",
              "      <td>642806</td>\n",
              "      <td>win</td>\n",
              "      <td>56.203927</td>\n",
              "    </tr>\n",
              "    <tr>\n",
              "      <th>3</th>\n",
              "      <td>1828</td>\n",
              "      <td>John Quincy Adams</td>\n",
              "      <td>National Republican</td>\n",
              "      <td>500897</td>\n",
              "      <td>loss</td>\n",
              "      <td>43.796073</td>\n",
              "    </tr>\n",
              "    <tr>\n",
              "      <th>4</th>\n",
              "      <td>1832</td>\n",
              "      <td>Andrew Jackson</td>\n",
              "      <td>Democratic</td>\n",
              "      <td>702735</td>\n",
              "      <td>win</td>\n",
              "      <td>54.574789</td>\n",
              "    </tr>\n",
              "  </tbody>\n",
              "</table>\n",
              "</div>"
            ],
            "text/plain": [
              "   Year          Candidate                  Party  Popular vote Result  \\\n",
              "0  1824     Andrew Jackson  Democratic-Republican        151271   loss   \n",
              "1  1824  John Quincy Adams  Democratic-Republican        113142    win   \n",
              "2  1828     Andrew Jackson             Democratic        642806    win   \n",
              "3  1828  John Quincy Adams    National Republican        500897   loss   \n",
              "4  1832     Andrew Jackson             Democratic        702735    win   \n",
              "\n",
              "           %  \n",
              "0  57.210122  \n",
              "1  42.789878  \n",
              "2  56.203927  \n",
              "3  43.796073  \n",
              "4  54.574789  "
            ]
          },
          "execution_count": 4,
          "metadata": {},
          "output_type": "execute_result"
        }
      ],
      "source": [
        "elections.head()"
      ]
    },
    {
      "cell_type": "markdown",
      "metadata": {
        "id": "EEImoz9mFXGz"
      },
      "source": [
        "Or the tail command to get the last so many rows."
      ]
    },
    {
      "cell_type": "code",
      "execution_count": null,
      "metadata": {
        "colab": {
          "base_uri": "https://localhost:8080/",
          "height": 206
        },
        "id": "fhO9Qzr6FXG0",
        "outputId": "18fd28c5-1373-4c38-f3cc-dc1f64c823ef"
      },
      "outputs": [
        {
          "data": {
            "text/html": [
              "<div>\n",
              "<style scoped>\n",
              "    .dataframe tbody tr th:only-of-type {\n",
              "        vertical-align: middle;\n",
              "    }\n",
              "\n",
              "    .dataframe tbody tr th {\n",
              "        vertical-align: top;\n",
              "    }\n",
              "\n",
              "    .dataframe thead th {\n",
              "        text-align: right;\n",
              "    }\n",
              "</style>\n",
              "<table border=\"1\" class=\"dataframe\">\n",
              "  <thead>\n",
              "    <tr style=\"text-align: right;\">\n",
              "      <th></th>\n",
              "      <th>Year</th>\n",
              "      <th>Candidate</th>\n",
              "      <th>Party</th>\n",
              "      <th>Popular vote</th>\n",
              "      <th>Result</th>\n",
              "      <th>%</th>\n",
              "    </tr>\n",
              "  </thead>\n",
              "  <tbody>\n",
              "    <tr>\n",
              "      <th>177</th>\n",
              "      <td>2016</td>\n",
              "      <td>Jill Stein</td>\n",
              "      <td>Green</td>\n",
              "      <td>1457226</td>\n",
              "      <td>loss</td>\n",
              "      <td>1.073699</td>\n",
              "    </tr>\n",
              "    <tr>\n",
              "      <th>178</th>\n",
              "      <td>2020</td>\n",
              "      <td>Joseph Biden</td>\n",
              "      <td>Democratic</td>\n",
              "      <td>81268924</td>\n",
              "      <td>win</td>\n",
              "      <td>51.311515</td>\n",
              "    </tr>\n",
              "    <tr>\n",
              "      <th>179</th>\n",
              "      <td>2020</td>\n",
              "      <td>Donald Trump</td>\n",
              "      <td>Republican</td>\n",
              "      <td>74216154</td>\n",
              "      <td>loss</td>\n",
              "      <td>46.858542</td>\n",
              "    </tr>\n",
              "    <tr>\n",
              "      <th>180</th>\n",
              "      <td>2020</td>\n",
              "      <td>Jo Jorgensen</td>\n",
              "      <td>Libertarian</td>\n",
              "      <td>1865724</td>\n",
              "      <td>loss</td>\n",
              "      <td>1.177979</td>\n",
              "    </tr>\n",
              "    <tr>\n",
              "      <th>181</th>\n",
              "      <td>2020</td>\n",
              "      <td>Howard Hawkins</td>\n",
              "      <td>Green</td>\n",
              "      <td>405035</td>\n",
              "      <td>loss</td>\n",
              "      <td>0.255731</td>\n",
              "    </tr>\n",
              "  </tbody>\n",
              "</table>\n",
              "</div>"
            ],
            "text/plain": [
              "     Year       Candidate        Party  Popular vote Result          %\n",
              "177  2016      Jill Stein        Green       1457226   loss   1.073699\n",
              "178  2020    Joseph Biden   Democratic      81268924    win  51.311515\n",
              "179  2020    Donald Trump   Republican      74216154   loss  46.858542\n",
              "180  2020    Jo Jorgensen  Libertarian       1865724   loss   1.177979\n",
              "181  2020  Howard Hawkins        Green        405035   loss   0.255731"
            ]
          },
          "execution_count": 5,
          "metadata": {},
          "output_type": "execute_result"
        }
      ],
      "source": [
        "elections.tail(5)"
      ]
    },
    {
      "cell_type": "markdown",
      "metadata": {
        "id": "nEkqhiJHFXG0"
      },
      "source": [
        "If we want a subset of the columns, we can also use loc just to ask for those."
      ]
    },
    {
      "cell_type": "code",
      "execution_count": null,
      "metadata": {
        "colab": {
          "base_uri": "https://localhost:8080/",
          "height": 206
        },
        "id": "Hfnl4zMkFXG0",
        "outputId": "72e7f341-fbcf-420f-99dc-d9c4a04f1992"
      },
      "outputs": [
        {
          "data": {
            "text/html": [
              "<div>\n",
              "<style scoped>\n",
              "    .dataframe tbody tr th:only-of-type {\n",
              "        vertical-align: middle;\n",
              "    }\n",
              "\n",
              "    .dataframe tbody tr th {\n",
              "        vertical-align: top;\n",
              "    }\n",
              "\n",
              "    .dataframe thead th {\n",
              "        text-align: right;\n",
              "    }\n",
              "</style>\n",
              "<table border=\"1\" class=\"dataframe\">\n",
              "  <thead>\n",
              "    <tr style=\"text-align: right;\">\n",
              "      <th></th>\n",
              "      <th>Year</th>\n",
              "      <th>Candidate</th>\n",
              "      <th>Party</th>\n",
              "    </tr>\n",
              "  </thead>\n",
              "  <tbody>\n",
              "    <tr>\n",
              "      <th>0</th>\n",
              "      <td>1824</td>\n",
              "      <td>Andrew Jackson</td>\n",
              "      <td>Democratic-Republican</td>\n",
              "    </tr>\n",
              "    <tr>\n",
              "      <th>1</th>\n",
              "      <td>1824</td>\n",
              "      <td>John Quincy Adams</td>\n",
              "      <td>Democratic-Republican</td>\n",
              "    </tr>\n",
              "    <tr>\n",
              "      <th>2</th>\n",
              "      <td>1828</td>\n",
              "      <td>Andrew Jackson</td>\n",
              "      <td>Democratic</td>\n",
              "    </tr>\n",
              "    <tr>\n",
              "      <th>3</th>\n",
              "      <td>1828</td>\n",
              "      <td>John Quincy Adams</td>\n",
              "      <td>National Republican</td>\n",
              "    </tr>\n",
              "    <tr>\n",
              "      <th>4</th>\n",
              "      <td>1832</td>\n",
              "      <td>Andrew Jackson</td>\n",
              "      <td>Democratic</td>\n",
              "    </tr>\n",
              "  </tbody>\n",
              "</table>\n",
              "</div>"
            ],
            "text/plain": [
              "   Year          Candidate                  Party\n",
              "0  1824     Andrew Jackson  Democratic-Republican\n",
              "1  1824  John Quincy Adams  Democratic-Republican\n",
              "2  1828     Andrew Jackson             Democratic\n",
              "3  1828  John Quincy Adams    National Republican\n",
              "4  1832     Andrew Jackson             Democratic"
            ]
          },
          "execution_count": 6,
          "metadata": {},
          "output_type": "execute_result"
        }
      ],
      "source": [
        "elections.loc[0:4, \"Year\":\"Party\"]"
      ]
    },
    {
      "cell_type": "markdown",
      "metadata": {
        "id": "lyDZxsYJFXG1"
      },
      "source": [
        "---\n",
        "### The `.loc` operator"
      ]
    },
    {
      "cell_type": "markdown",
      "metadata": {
        "id": "XDKaz6mtFXG1"
      },
      "source": [
        "loc selects items by row and column label."
      ]
    },
    {
      "cell_type": "code",
      "execution_count": null,
      "metadata": {
        "colab": {
          "base_uri": "https://localhost:8080/",
          "height": 143
        },
        "id": "gygkpd8kFXG2",
        "outputId": "3bac3a46-bea3-49f8-c30e-2aa863ad4aa8"
      },
      "outputs": [
        {
          "data": {
            "text/html": [
              "<div>\n",
              "<style scoped>\n",
              "    .dataframe tbody tr th:only-of-type {\n",
              "        vertical-align: middle;\n",
              "    }\n",
              "\n",
              "    .dataframe tbody tr th {\n",
              "        vertical-align: top;\n",
              "    }\n",
              "\n",
              "    .dataframe thead th {\n",
              "        text-align: right;\n",
              "    }\n",
              "</style>\n",
              "<table border=\"1\" class=\"dataframe\">\n",
              "  <thead>\n",
              "    <tr style=\"text-align: right;\">\n",
              "      <th></th>\n",
              "      <th>Year</th>\n",
              "      <th>Candidate</th>\n",
              "      <th>Result</th>\n",
              "    </tr>\n",
              "  </thead>\n",
              "  <tbody>\n",
              "    <tr>\n",
              "      <th>87</th>\n",
              "      <td>1932</td>\n",
              "      <td>Herbert Hoover</td>\n",
              "      <td>loss</td>\n",
              "    </tr>\n",
              "    <tr>\n",
              "      <th>25</th>\n",
              "      <td>1860</td>\n",
              "      <td>John C. Breckinridge</td>\n",
              "      <td>loss</td>\n",
              "    </tr>\n",
              "    <tr>\n",
              "      <th>179</th>\n",
              "      <td>2020</td>\n",
              "      <td>Donald Trump</td>\n",
              "      <td>loss</td>\n",
              "    </tr>\n",
              "  </tbody>\n",
              "</table>\n",
              "</div>"
            ],
            "text/plain": [
              "     Year             Candidate Result\n",
              "87   1932        Herbert Hoover   loss\n",
              "25   1860  John C. Breckinridge   loss\n",
              "179  2020          Donald Trump   loss"
            ]
          },
          "execution_count": 7,
          "metadata": {},
          "output_type": "execute_result"
        }
      ],
      "source": [
        "elections.loc[[87, 25, 179], [\"Year\", \"Candidate\", \"Result\"]]"
      ]
    },
    {
      "cell_type": "code",
      "execution_count": null,
      "metadata": {
        "colab": {
          "base_uri": "https://localhost:8080/",
          "height": 143
        },
        "id": "T07rwfSnFXG2",
        "outputId": "04ccf6cb-7e5b-4a5c-8da6-64f0b3459712"
      },
      "outputs": [
        {
          "data": {
            "text/html": [
              "<div>\n",
              "<style scoped>\n",
              "    .dataframe tbody tr th:only-of-type {\n",
              "        vertical-align: middle;\n",
              "    }\n",
              "\n",
              "    .dataframe tbody tr th {\n",
              "        vertical-align: top;\n",
              "    }\n",
              "\n",
              "    .dataframe thead th {\n",
              "        text-align: right;\n",
              "    }\n",
              "</style>\n",
              "<table border=\"1\" class=\"dataframe\">\n",
              "  <thead>\n",
              "    <tr style=\"text-align: right;\">\n",
              "      <th></th>\n",
              "      <th>Popular vote</th>\n",
              "      <th>Result</th>\n",
              "      <th>%</th>\n",
              "    </tr>\n",
              "  </thead>\n",
              "  <tbody>\n",
              "    <tr>\n",
              "      <th>87</th>\n",
              "      <td>15761254</td>\n",
              "      <td>loss</td>\n",
              "      <td>39.830594</td>\n",
              "    </tr>\n",
              "    <tr>\n",
              "      <th>25</th>\n",
              "      <td>848019</td>\n",
              "      <td>loss</td>\n",
              "      <td>18.138998</td>\n",
              "    </tr>\n",
              "    <tr>\n",
              "      <th>179</th>\n",
              "      <td>74216154</td>\n",
              "      <td>loss</td>\n",
              "      <td>46.858542</td>\n",
              "    </tr>\n",
              "  </tbody>\n",
              "</table>\n",
              "</div>"
            ],
            "text/plain": [
              "     Popular vote Result          %\n",
              "87       15761254   loss  39.830594\n",
              "25         848019   loss  18.138998\n",
              "179      74216154   loss  46.858542"
            ]
          },
          "execution_count": 8,
          "metadata": {},
          "output_type": "execute_result"
        }
      ],
      "source": [
        "elections.loc[[87, 25, 179], \"Popular vote\":\"%\"]"
      ]
    },
    {
      "cell_type": "code",
      "execution_count": null,
      "metadata": {
        "colab": {
          "base_uri": "https://localhost:8080/"
        },
        "id": "pVbs9cd7FXG2",
        "outputId": "f1f474b1-0d51-419a-ecda-d64c74b8d36c"
      },
      "outputs": [
        {
          "data": {
            "text/plain": [
              "87     15761254\n",
              "25       848019\n",
              "179    74216154\n",
              "Name: Popular vote, dtype: int64"
            ]
          },
          "execution_count": 9,
          "metadata": {},
          "output_type": "execute_result"
        }
      ],
      "source": [
        "elections.loc[[87, 25, 179], \"Popular vote\"]"
      ]
    },
    {
      "cell_type": "code",
      "execution_count": null,
      "metadata": {
        "id": "RUjjCD-57j50",
        "outputId": "b377ea6a-c6e8-43bc-aac8-08215fc40965"
      },
      "outputs": [
        {
          "data": {
            "text/plain": [
              "pandas.core.series.Series"
            ]
          },
          "execution_count": 10,
          "metadata": {},
          "output_type": "execute_result"
        }
      ],
      "source": [
        "type(elections.loc[[87, 25, 179], \"Popular vote\"])"
      ]
    },
    {
      "cell_type": "code",
      "execution_count": null,
      "metadata": {
        "colab": {
          "base_uri": "https://localhost:8080/",
          "height": 424
        },
        "id": "3xHZHr32FXG3",
        "outputId": "4962a405-ade2-4ba6-aad2-216fcb250311"
      },
      "outputs": [
        {
          "data": {
            "text/html": [
              "<div>\n",
              "<style scoped>\n",
              "    .dataframe tbody tr th:only-of-type {\n",
              "        vertical-align: middle;\n",
              "    }\n",
              "\n",
              "    .dataframe tbody tr th {\n",
              "        vertical-align: top;\n",
              "    }\n",
              "\n",
              "    .dataframe thead th {\n",
              "        text-align: right;\n",
              "    }\n",
              "</style>\n",
              "<table border=\"1\" class=\"dataframe\">\n",
              "  <thead>\n",
              "    <tr style=\"text-align: right;\">\n",
              "      <th></th>\n",
              "      <th>Year</th>\n",
              "      <th>Candidate</th>\n",
              "      <th>Result</th>\n",
              "    </tr>\n",
              "  </thead>\n",
              "  <tbody>\n",
              "    <tr>\n",
              "      <th>0</th>\n",
              "      <td>1824</td>\n",
              "      <td>Andrew Jackson</td>\n",
              "      <td>loss</td>\n",
              "    </tr>\n",
              "    <tr>\n",
              "      <th>1</th>\n",
              "      <td>1824</td>\n",
              "      <td>John Quincy Adams</td>\n",
              "      <td>win</td>\n",
              "    </tr>\n",
              "    <tr>\n",
              "      <th>2</th>\n",
              "      <td>1828</td>\n",
              "      <td>Andrew Jackson</td>\n",
              "      <td>win</td>\n",
              "    </tr>\n",
              "    <tr>\n",
              "      <th>3</th>\n",
              "      <td>1828</td>\n",
              "      <td>John Quincy Adams</td>\n",
              "      <td>loss</td>\n",
              "    </tr>\n",
              "    <tr>\n",
              "      <th>4</th>\n",
              "      <td>1832</td>\n",
              "      <td>Andrew Jackson</td>\n",
              "      <td>win</td>\n",
              "    </tr>\n",
              "    <tr>\n",
              "      <th>...</th>\n",
              "      <td>...</td>\n",
              "      <td>...</td>\n",
              "      <td>...</td>\n",
              "    </tr>\n",
              "    <tr>\n",
              "      <th>177</th>\n",
              "      <td>2016</td>\n",
              "      <td>Jill Stein</td>\n",
              "      <td>loss</td>\n",
              "    </tr>\n",
              "    <tr>\n",
              "      <th>178</th>\n",
              "      <td>2020</td>\n",
              "      <td>Joseph Biden</td>\n",
              "      <td>win</td>\n",
              "    </tr>\n",
              "    <tr>\n",
              "      <th>179</th>\n",
              "      <td>2020</td>\n",
              "      <td>Donald Trump</td>\n",
              "      <td>loss</td>\n",
              "    </tr>\n",
              "    <tr>\n",
              "      <th>180</th>\n",
              "      <td>2020</td>\n",
              "      <td>Jo Jorgensen</td>\n",
              "      <td>loss</td>\n",
              "    </tr>\n",
              "    <tr>\n",
              "      <th>181</th>\n",
              "      <td>2020</td>\n",
              "      <td>Howard Hawkins</td>\n",
              "      <td>loss</td>\n",
              "    </tr>\n",
              "  </tbody>\n",
              "</table>\n",
              "<p>182 rows × 3 columns</p>\n",
              "</div>"
            ],
            "text/plain": [
              "     Year          Candidate Result\n",
              "0    1824     Andrew Jackson   loss\n",
              "1    1824  John Quincy Adams    win\n",
              "2    1828     Andrew Jackson    win\n",
              "3    1828  John Quincy Adams   loss\n",
              "4    1832     Andrew Jackson    win\n",
              "..    ...                ...    ...\n",
              "177  2016         Jill Stein   loss\n",
              "178  2020       Joseph Biden    win\n",
              "179  2020       Donald Trump   loss\n",
              "180  2020       Jo Jorgensen   loss\n",
              "181  2020     Howard Hawkins   loss\n",
              "\n",
              "[182 rows x 3 columns]"
            ]
          },
          "execution_count": 11,
          "metadata": {},
          "output_type": "execute_result"
        }
      ],
      "source": [
        "elections.loc[:, [\"Year\", \"Candidate\", \"Result\"]]"
      ]
    },
    {
      "cell_type": "markdown",
      "metadata": {
        "id": "-gY-rlrWFXG3"
      },
      "source": [
        "---\n",
        "### The `iloc` operator"
      ]
    },
    {
      "cell_type": "markdown",
      "metadata": {
        "id": "GTl7BWmWFXG3"
      },
      "source": [
        "iloc selects items by row and column number."
      ]
    },
    {
      "cell_type": "code",
      "execution_count": null,
      "metadata": {
        "colab": {
          "base_uri": "https://localhost:8080/",
          "height": 143
        },
        "id": "PoA8KnlGFXG3",
        "outputId": "336b46ae-bf1c-4db7-a2ec-c5b09cc304a3"
      },
      "outputs": [
        {
          "data": {
            "text/html": [
              "<div>\n",
              "<style scoped>\n",
              "    .dataframe tbody tr th:only-of-type {\n",
              "        vertical-align: middle;\n",
              "    }\n",
              "\n",
              "    .dataframe tbody tr th {\n",
              "        vertical-align: top;\n",
              "    }\n",
              "\n",
              "    .dataframe thead th {\n",
              "        text-align: right;\n",
              "    }\n",
              "</style>\n",
              "<table border=\"1\" class=\"dataframe\">\n",
              "  <thead>\n",
              "    <tr style=\"text-align: right;\">\n",
              "      <th></th>\n",
              "      <th>Year</th>\n",
              "      <th>Candidate</th>\n",
              "      <th>Party</th>\n",
              "    </tr>\n",
              "  </thead>\n",
              "  <tbody>\n",
              "    <tr>\n",
              "      <th>1</th>\n",
              "      <td>1824</td>\n",
              "      <td>John Quincy Adams</td>\n",
              "      <td>Democratic-Republican</td>\n",
              "    </tr>\n",
              "    <tr>\n",
              "      <th>2</th>\n",
              "      <td>1828</td>\n",
              "      <td>Andrew Jackson</td>\n",
              "      <td>Democratic</td>\n",
              "    </tr>\n",
              "    <tr>\n",
              "      <th>3</th>\n",
              "      <td>1828</td>\n",
              "      <td>John Quincy Adams</td>\n",
              "      <td>National Republican</td>\n",
              "    </tr>\n",
              "  </tbody>\n",
              "</table>\n",
              "</div>"
            ],
            "text/plain": [
              "   Year          Candidate                  Party\n",
              "1  1824  John Quincy Adams  Democratic-Republican\n",
              "2  1828     Andrew Jackson             Democratic\n",
              "3  1828  John Quincy Adams    National Republican"
            ]
          },
          "execution_count": 12,
          "metadata": {},
          "output_type": "execute_result"
        }
      ],
      "source": [
        "elections.iloc[[1, 2, 3], [0, 1, 2]]"
      ]
    },
    {
      "cell_type": "code",
      "execution_count": null,
      "metadata": {
        "colab": {
          "base_uri": "https://localhost:8080/",
          "height": 143
        },
        "id": "6qpgI1bdFXG4",
        "outputId": "8f4bdc71-0d74-477d-bb82-eba4ea7b5d4a"
      },
      "outputs": [
        {
          "data": {
            "text/html": [
              "<div>\n",
              "<style scoped>\n",
              "    .dataframe tbody tr th:only-of-type {\n",
              "        vertical-align: middle;\n",
              "    }\n",
              "\n",
              "    .dataframe tbody tr th {\n",
              "        vertical-align: top;\n",
              "    }\n",
              "\n",
              "    .dataframe thead th {\n",
              "        text-align: right;\n",
              "    }\n",
              "</style>\n",
              "<table border=\"1\" class=\"dataframe\">\n",
              "  <thead>\n",
              "    <tr style=\"text-align: right;\">\n",
              "      <th></th>\n",
              "      <th>Year</th>\n",
              "      <th>Candidate</th>\n",
              "    </tr>\n",
              "  </thead>\n",
              "  <tbody>\n",
              "    <tr>\n",
              "      <th>1</th>\n",
              "      <td>1824</td>\n",
              "      <td>John Quincy Adams</td>\n",
              "    </tr>\n",
              "    <tr>\n",
              "      <th>2</th>\n",
              "      <td>1828</td>\n",
              "      <td>Andrew Jackson</td>\n",
              "    </tr>\n",
              "    <tr>\n",
              "      <th>3</th>\n",
              "      <td>1828</td>\n",
              "      <td>John Quincy Adams</td>\n",
              "    </tr>\n",
              "  </tbody>\n",
              "</table>\n",
              "</div>"
            ],
            "text/plain": [
              "   Year          Candidate\n",
              "1  1824  John Quincy Adams\n",
              "2  1828     Andrew Jackson\n",
              "3  1828  John Quincy Adams"
            ]
          },
          "execution_count": 13,
          "metadata": {},
          "output_type": "execute_result"
        }
      ],
      "source": [
        "elections.iloc[[1, 2, 3], 0:2]"
      ]
    },
    {
      "cell_type": "code",
      "execution_count": null,
      "metadata": {
        "colab": {
          "base_uri": "https://localhost:8080/"
        },
        "id": "Lj3gSCKIFXG4",
        "outputId": "fd4b9b44-2c53-4eb0-c313-1181c7fd4d3e"
      },
      "outputs": [
        {
          "data": {
            "text/plain": [
              "1    John Quincy Adams\n",
              "2       Andrew Jackson\n",
              "3    John Quincy Adams\n",
              "Name: Candidate, dtype: object"
            ]
          },
          "execution_count": 14,
          "metadata": {},
          "output_type": "execute_result"
        }
      ],
      "source": [
        "elections.iloc[[1, 2, 3], 1]"
      ]
    },
    {
      "cell_type": "code",
      "execution_count": null,
      "metadata": {
        "colab": {
          "base_uri": "https://localhost:8080/",
          "height": 424
        },
        "id": "LbxcFUdLFXG4",
        "outputId": "f214a486-e812-4bf9-a769-3b703517a918"
      },
      "outputs": [
        {
          "data": {
            "text/html": [
              "<div>\n",
              "<style scoped>\n",
              "    .dataframe tbody tr th:only-of-type {\n",
              "        vertical-align: middle;\n",
              "    }\n",
              "\n",
              "    .dataframe tbody tr th {\n",
              "        vertical-align: top;\n",
              "    }\n",
              "\n",
              "    .dataframe thead th {\n",
              "        text-align: right;\n",
              "    }\n",
              "</style>\n",
              "<table border=\"1\" class=\"dataframe\">\n",
              "  <thead>\n",
              "    <tr style=\"text-align: right;\">\n",
              "      <th></th>\n",
              "      <th>Year</th>\n",
              "      <th>Candidate</th>\n",
              "      <th>Result</th>\n",
              "    </tr>\n",
              "  </thead>\n",
              "  <tbody>\n",
              "    <tr>\n",
              "      <th>0</th>\n",
              "      <td>1824</td>\n",
              "      <td>Andrew Jackson</td>\n",
              "      <td>loss</td>\n",
              "    </tr>\n",
              "    <tr>\n",
              "      <th>1</th>\n",
              "      <td>1824</td>\n",
              "      <td>John Quincy Adams</td>\n",
              "      <td>win</td>\n",
              "    </tr>\n",
              "    <tr>\n",
              "      <th>2</th>\n",
              "      <td>1828</td>\n",
              "      <td>Andrew Jackson</td>\n",
              "      <td>win</td>\n",
              "    </tr>\n",
              "    <tr>\n",
              "      <th>3</th>\n",
              "      <td>1828</td>\n",
              "      <td>John Quincy Adams</td>\n",
              "      <td>loss</td>\n",
              "    </tr>\n",
              "    <tr>\n",
              "      <th>4</th>\n",
              "      <td>1832</td>\n",
              "      <td>Andrew Jackson</td>\n",
              "      <td>win</td>\n",
              "    </tr>\n",
              "    <tr>\n",
              "      <th>...</th>\n",
              "      <td>...</td>\n",
              "      <td>...</td>\n",
              "      <td>...</td>\n",
              "    </tr>\n",
              "    <tr>\n",
              "      <th>177</th>\n",
              "      <td>2016</td>\n",
              "      <td>Jill Stein</td>\n",
              "      <td>loss</td>\n",
              "    </tr>\n",
              "    <tr>\n",
              "      <th>178</th>\n",
              "      <td>2020</td>\n",
              "      <td>Joseph Biden</td>\n",
              "      <td>win</td>\n",
              "    </tr>\n",
              "    <tr>\n",
              "      <th>179</th>\n",
              "      <td>2020</td>\n",
              "      <td>Donald Trump</td>\n",
              "      <td>loss</td>\n",
              "    </tr>\n",
              "    <tr>\n",
              "      <th>180</th>\n",
              "      <td>2020</td>\n",
              "      <td>Jo Jorgensen</td>\n",
              "      <td>loss</td>\n",
              "    </tr>\n",
              "    <tr>\n",
              "      <th>181</th>\n",
              "      <td>2020</td>\n",
              "      <td>Howard Hawkins</td>\n",
              "      <td>loss</td>\n",
              "    </tr>\n",
              "  </tbody>\n",
              "</table>\n",
              "<p>182 rows × 3 columns</p>\n",
              "</div>"
            ],
            "text/plain": [
              "     Year          Candidate Result\n",
              "0    1824     Andrew Jackson   loss\n",
              "1    1824  John Quincy Adams    win\n",
              "2    1828     Andrew Jackson    win\n",
              "3    1828  John Quincy Adams   loss\n",
              "4    1832     Andrew Jackson    win\n",
              "..    ...                ...    ...\n",
              "177  2016         Jill Stein   loss\n",
              "178  2020       Joseph Biden    win\n",
              "179  2020       Donald Trump   loss\n",
              "180  2020       Jo Jorgensen   loss\n",
              "181  2020     Howard Hawkins   loss\n",
              "\n",
              "[182 rows x 3 columns]"
            ]
          },
          "execution_count": 15,
          "metadata": {},
          "output_type": "execute_result"
        }
      ],
      "source": [
        "elections.iloc[:, [0, 1, 4]]"
      ]
    },
    {
      "cell_type": "markdown",
      "metadata": {
        "id": "QkKEV_ITFXG4"
      },
      "source": [
        "---\n",
        "### The `[]` operator"
      ]
    },
    {
      "cell_type": "markdown",
      "metadata": {
        "id": "QNnrChMiFXG4"
      },
      "source": [
        "We could technically do anything we want using `.loc` or `.iloc`. However, in practice, the `[]` operator is often used instead to yield more concise code.\n",
        "\n",
        "`[]` is a bit trickier to understand than `.loc` or `.iloc`, but it does essentially the same thing."
      ]
    },
    {
      "cell_type": "markdown",
      "metadata": {
        "id": "ODUsxNWNFXG5"
      },
      "source": [
        "If we provide a slice of row numbers, we get the numbered rows."
      ]
    },
    {
      "cell_type": "code",
      "execution_count": null,
      "metadata": {
        "id": "gMye14_GFXG5",
        "outputId": "a81d3808-3a0d-47c5-e59b-11e18a3bd2c1",
        "scrolled": true
      },
      "outputs": [
        {
          "data": {
            "text/html": [
              "<div>\n",
              "<style scoped>\n",
              "    .dataframe tbody tr th:only-of-type {\n",
              "        vertical-align: middle;\n",
              "    }\n",
              "\n",
              "    .dataframe tbody tr th {\n",
              "        vertical-align: top;\n",
              "    }\n",
              "\n",
              "    .dataframe thead th {\n",
              "        text-align: right;\n",
              "    }\n",
              "</style>\n",
              "<table border=\"1\" class=\"dataframe\">\n",
              "  <thead>\n",
              "    <tr style=\"text-align: right;\">\n",
              "      <th></th>\n",
              "      <th>Year</th>\n",
              "      <th>Candidate</th>\n",
              "      <th>Party</th>\n",
              "      <th>Popular vote</th>\n",
              "      <th>Result</th>\n",
              "      <th>%</th>\n",
              "    </tr>\n",
              "  </thead>\n",
              "  <tbody>\n",
              "    <tr>\n",
              "      <th>3</th>\n",
              "      <td>1828</td>\n",
              "      <td>John Quincy Adams</td>\n",
              "      <td>National Republican</td>\n",
              "      <td>500897</td>\n",
              "      <td>loss</td>\n",
              "      <td>43.796073</td>\n",
              "    </tr>\n",
              "    <tr>\n",
              "      <th>4</th>\n",
              "      <td>1832</td>\n",
              "      <td>Andrew Jackson</td>\n",
              "      <td>Democratic</td>\n",
              "      <td>702735</td>\n",
              "      <td>win</td>\n",
              "      <td>54.574789</td>\n",
              "    </tr>\n",
              "    <tr>\n",
              "      <th>5</th>\n",
              "      <td>1832</td>\n",
              "      <td>Henry Clay</td>\n",
              "      <td>National Republican</td>\n",
              "      <td>484205</td>\n",
              "      <td>loss</td>\n",
              "      <td>37.603628</td>\n",
              "    </tr>\n",
              "    <tr>\n",
              "      <th>6</th>\n",
              "      <td>1832</td>\n",
              "      <td>William Wirt</td>\n",
              "      <td>Anti-Masonic</td>\n",
              "      <td>100715</td>\n",
              "      <td>loss</td>\n",
              "      <td>7.821583</td>\n",
              "    </tr>\n",
              "  </tbody>\n",
              "</table>\n",
              "</div>"
            ],
            "text/plain": [
              "   Year          Candidate                Party  Popular vote Result  \\\n",
              "3  1828  John Quincy Adams  National Republican        500897   loss   \n",
              "4  1832     Andrew Jackson           Democratic        702735    win   \n",
              "5  1832         Henry Clay  National Republican        484205   loss   \n",
              "6  1832       William Wirt         Anti-Masonic        100715   loss   \n",
              "\n",
              "           %  \n",
              "3  43.796073  \n",
              "4  54.574789  \n",
              "5  37.603628  \n",
              "6   7.821583  "
            ]
          },
          "execution_count": 16,
          "metadata": {},
          "output_type": "execute_result"
        }
      ],
      "source": [
        "elections[3:7]"
      ]
    },
    {
      "cell_type": "markdown",
      "metadata": {
        "id": "Zu61LSuVFXG5"
      },
      "source": [
        "If we provide a list of column names, we get the listed columns."
      ]
    },
    {
      "cell_type": "code",
      "execution_count": null,
      "metadata": {
        "id": "aRdRN1MBFXG5",
        "outputId": "1bac8e22-5b37-4145-cfaf-1c38912b6438"
      },
      "outputs": [
        {
          "data": {
            "text/html": [
              "<div>\n",
              "<style scoped>\n",
              "    .dataframe tbody tr th:only-of-type {\n",
              "        vertical-align: middle;\n",
              "    }\n",
              "\n",
              "    .dataframe tbody tr th {\n",
              "        vertical-align: top;\n",
              "    }\n",
              "\n",
              "    .dataframe thead th {\n",
              "        text-align: right;\n",
              "    }\n",
              "</style>\n",
              "<table border=\"1\" class=\"dataframe\">\n",
              "  <thead>\n",
              "    <tr style=\"text-align: right;\">\n",
              "      <th></th>\n",
              "      <th>Year</th>\n",
              "      <th>Candidate</th>\n",
              "      <th>Result</th>\n",
              "    </tr>\n",
              "  </thead>\n",
              "  <tbody>\n",
              "    <tr>\n",
              "      <th>177</th>\n",
              "      <td>2016</td>\n",
              "      <td>Jill Stein</td>\n",
              "      <td>loss</td>\n",
              "    </tr>\n",
              "    <tr>\n",
              "      <th>178</th>\n",
              "      <td>2020</td>\n",
              "      <td>Joseph Biden</td>\n",
              "      <td>win</td>\n",
              "    </tr>\n",
              "    <tr>\n",
              "      <th>179</th>\n",
              "      <td>2020</td>\n",
              "      <td>Donald Trump</td>\n",
              "      <td>loss</td>\n",
              "    </tr>\n",
              "    <tr>\n",
              "      <th>180</th>\n",
              "      <td>2020</td>\n",
              "      <td>Jo Jorgensen</td>\n",
              "      <td>loss</td>\n",
              "    </tr>\n",
              "    <tr>\n",
              "      <th>181</th>\n",
              "      <td>2020</td>\n",
              "      <td>Howard Hawkins</td>\n",
              "      <td>loss</td>\n",
              "    </tr>\n",
              "  </tbody>\n",
              "</table>\n",
              "</div>"
            ],
            "text/plain": [
              "     Year       Candidate Result\n",
              "177  2016      Jill Stein   loss\n",
              "178  2020    Joseph Biden    win\n",
              "179  2020    Donald Trump   loss\n",
              "180  2020    Jo Jorgensen   loss\n",
              "181  2020  Howard Hawkins   loss"
            ]
          },
          "execution_count": 17,
          "metadata": {},
          "output_type": "execute_result"
        }
      ],
      "source": [
        "elections[[\"Year\", \"Candidate\", \"Result\"]].tail(5)"
      ]
    },
    {
      "cell_type": "markdown",
      "metadata": {
        "id": "9YeanaerFXG5"
      },
      "source": [
        "And if we provide a single column name we get back just that column."
      ]
    },
    {
      "cell_type": "code",
      "execution_count": null,
      "metadata": {
        "colab": {
          "base_uri": "https://localhost:8080/"
        },
        "id": "3Mhg_-7LFXG5",
        "outputId": "4fd1c8f0-a747-45b8-f9ca-f6b37ce79221",
        "scrolled": true
      },
      "outputs": [
        {
          "data": {
            "text/plain": [
              "177        Jill Stein\n",
              "178      Joseph Biden\n",
              "179      Donald Trump\n",
              "180      Jo Jorgensen\n",
              "181    Howard Hawkins\n",
              "Name: Candidate, dtype: object"
            ]
          },
          "execution_count": 18,
          "metadata": {},
          "output_type": "execute_result"
        }
      ],
      "source": [
        "elections[\"Candidate\"].tail(5)"
      ]
    },
    {
      "cell_type": "code",
      "execution_count": null,
      "metadata": {
        "colab": {
          "base_uri": "https://localhost:8080/",
          "height": 112
        },
        "id": "BN-gnn7GFXG6",
        "outputId": "9841a6e8-951c-480b-8722-e0897cb725c8"
      },
      "outputs": [
        {
          "data": {
            "text/html": [
              "<div>\n",
              "<style scoped>\n",
              "    .dataframe tbody tr th:only-of-type {\n",
              "        vertical-align: middle;\n",
              "    }\n",
              "\n",
              "    .dataframe tbody tr th {\n",
              "        vertical-align: top;\n",
              "    }\n",
              "\n",
              "    .dataframe thead th {\n",
              "        text-align: right;\n",
              "    }\n",
              "</style>\n",
              "<table border=\"1\" class=\"dataframe\">\n",
              "  <thead>\n",
              "    <tr style=\"text-align: right;\">\n",
              "      <th></th>\n",
              "      <th>1</th>\n",
              "      <th>1</th>\n",
              "    </tr>\n",
              "  </thead>\n",
              "  <tbody>\n",
              "    <tr>\n",
              "      <th>0</th>\n",
              "      <td>topdog</td>\n",
              "      <td>topcat</td>\n",
              "    </tr>\n",
              "    <tr>\n",
              "      <th>1</th>\n",
              "      <td>botdog</td>\n",
              "      <td>botcat</td>\n",
              "    </tr>\n",
              "  </tbody>\n",
              "</table>\n",
              "</div>"
            ],
            "text/plain": [
              "        1       1\n",
              "0  topdog  topcat\n",
              "1  botdog  botcat"
            ]
          },
          "execution_count": 9,
          "metadata": {},
          "output_type": "execute_result"
        }
      ],
      "source": [
        "weird = pd.DataFrame({\n",
        "    1:[\"topdog\",\"botdog\"],\n",
        "    \"1\":[\"topcat\",\"botcat\"]\n",
        "})\n",
        "weird"
      ]
    },
    {
      "cell_type": "code",
      "execution_count": null,
      "metadata": {
        "colab": {
          "base_uri": "https://localhost:8080/"
        },
        "id": "vsPbLMRcFXG6",
        "outputId": "a7cf4578-e934-4f5c-9779-b841572e7a0e"
      },
      "outputs": [
        {
          "data": {
            "text/plain": [
              "0    topdog\n",
              "1    botdog\n",
              "Name: 1, dtype: object"
            ]
          },
          "execution_count": 10,
          "metadata": {},
          "output_type": "execute_result"
        }
      ],
      "source": [
        "weird[1] #try to predict the output"
      ]
    },
    {
      "cell_type": "code",
      "execution_count": null,
      "metadata": {
        "colab": {
          "base_uri": "https://localhost:8080/"
        },
        "id": "ibtKrUSqFXG6",
        "outputId": "d906bdbd-9e74-4f28-e5e7-77ad2d2a6a51"
      },
      "outputs": [
        {
          "data": {
            "text/plain": [
              "0    topcat\n",
              "1    botcat\n",
              "Name: 1, dtype: object"
            ]
          },
          "execution_count": 11,
          "metadata": {},
          "output_type": "execute_result"
        }
      ],
      "source": [
        "weird[\"1\"] #try to predict the output"
      ]
    },
    {
      "cell_type": "code",
      "execution_count": null,
      "metadata": {
        "id": "P6Evt3gTFXG6",
        "outputId": "734053c7-7c3b-4fb8-89ce-0356ba057528"
      },
      "outputs": [
        {
          "data": {
            "text/html": [
              "<div>\n",
              "<style scoped>\n",
              "    .dataframe tbody tr th:only-of-type {\n",
              "        vertical-align: middle;\n",
              "    }\n",
              "\n",
              "    .dataframe tbody tr th {\n",
              "        vertical-align: top;\n",
              "    }\n",
              "\n",
              "    .dataframe thead th {\n",
              "        text-align: right;\n",
              "    }\n",
              "</style>\n",
              "<table border=\"1\" class=\"dataframe\">\n",
              "  <thead>\n",
              "    <tr style=\"text-align: right;\">\n",
              "      <th></th>\n",
              "      <th>1</th>\n",
              "      <th>1</th>\n",
              "    </tr>\n",
              "  </thead>\n",
              "  <tbody>\n",
              "    <tr>\n",
              "      <th>1</th>\n",
              "      <td>botdog</td>\n",
              "      <td>botcat</td>\n",
              "    </tr>\n",
              "  </tbody>\n",
              "</table>\n",
              "</div>"
            ],
            "text/plain": [
              "        1       1\n",
              "1  botdog  botcat"
            ]
          },
          "execution_count": 12,
          "metadata": {},
          "output_type": "execute_result"
        }
      ],
      "source": [
        "weird[1:] #try to predict the output"
      ]
    },
    {
      "cell_type": "markdown",
      "metadata": {
        "id": "kiz784jYFXG6"
      },
      "source": [
        "---\n",
        "## Pandas Datastructures: DataFrames, Series, and Indices"
      ]
    },
    {
      "cell_type": "code",
      "execution_count": null,
      "metadata": {
        "id": "Igacl5IUFXG7",
        "outputId": "9eb34224-a841-48d9-a508-fcd8498f81bd"
      },
      "outputs": [
        {
          "data": {
            "text/plain": [
              "pandas.core.frame.DataFrame"
            ]
          },
          "execution_count": 23,
          "metadata": {},
          "output_type": "execute_result"
        }
      ],
      "source": [
        "type(elections)"
      ]
    },
    {
      "cell_type": "code",
      "execution_count": null,
      "metadata": {
        "id": "Np45JMAFFXG7",
        "outputId": "d6b2c588-5432-44d2-ac57-68ab1c107e25"
      },
      "outputs": [
        {
          "data": {
            "text/plain": [
              "pandas.core.series.Series"
            ]
          },
          "execution_count": 24,
          "metadata": {},
          "output_type": "execute_result"
        }
      ],
      "source": [
        "type(elections[\"Candidate\"])"
      ]
    },
    {
      "cell_type": "code",
      "execution_count": null,
      "metadata": {
        "colab": {
          "base_uri": "https://localhost:8080/",
          "height": 237
        },
        "id": "n31U7pm0FXG7",
        "outputId": "1ac532a5-fea5-4c2b-fe71-011ba214753b"
      },
      "outputs": [
        {
          "data": {
            "text/html": [
              "<div>\n",
              "<style scoped>\n",
              "    .dataframe tbody tr th:only-of-type {\n",
              "        vertical-align: middle;\n",
              "    }\n",
              "\n",
              "    .dataframe tbody tr th {\n",
              "        vertical-align: top;\n",
              "    }\n",
              "\n",
              "    .dataframe thead th {\n",
              "        text-align: right;\n",
              "    }\n",
              "</style>\n",
              "<table border=\"1\" class=\"dataframe\">\n",
              "  <thead>\n",
              "    <tr style=\"text-align: right;\">\n",
              "      <th></th>\n",
              "      <th>Motto</th>\n",
              "      <th>Translation</th>\n",
              "      <th>Language</th>\n",
              "      <th>Date Adopted</th>\n",
              "    </tr>\n",
              "    <tr>\n",
              "      <th>State</th>\n",
              "      <th></th>\n",
              "      <th></th>\n",
              "      <th></th>\n",
              "      <th></th>\n",
              "    </tr>\n",
              "  </thead>\n",
              "  <tbody>\n",
              "    <tr>\n",
              "      <th>Alabama</th>\n",
              "      <td>Audemus jura nostra defendere</td>\n",
              "      <td>We dare defend our rights!</td>\n",
              "      <td>Latin</td>\n",
              "      <td>1923</td>\n",
              "    </tr>\n",
              "    <tr>\n",
              "      <th>Alaska</th>\n",
              "      <td>North to the future</td>\n",
              "      <td>—</td>\n",
              "      <td>English</td>\n",
              "      <td>1967</td>\n",
              "    </tr>\n",
              "    <tr>\n",
              "      <th>Arizona</th>\n",
              "      <td>Ditat Deus</td>\n",
              "      <td>God enriches</td>\n",
              "      <td>Latin</td>\n",
              "      <td>1863</td>\n",
              "    </tr>\n",
              "    <tr>\n",
              "      <th>Arkansas</th>\n",
              "      <td>Regnat populus</td>\n",
              "      <td>The people rule</td>\n",
              "      <td>Latin</td>\n",
              "      <td>1907</td>\n",
              "    </tr>\n",
              "    <tr>\n",
              "      <th>California</th>\n",
              "      <td>Eureka (Εὕρηκα)</td>\n",
              "      <td>I have found it</td>\n",
              "      <td>Greek</td>\n",
              "      <td>1849</td>\n",
              "    </tr>\n",
              "  </tbody>\n",
              "</table>\n",
              "</div>"
            ],
            "text/plain": [
              "                                    Motto                 Translation  \\\n",
              "State                                                                   \n",
              "Alabama     Audemus jura nostra defendere  We dare defend our rights!   \n",
              "Alaska                North to the future                           —   \n",
              "Arizona                        Ditat Deus                God enriches   \n",
              "Arkansas                   Regnat populus             The people rule   \n",
              "California                Eureka (Εὕρηκα)             I have found it   \n",
              "\n",
              "           Language Date Adopted  \n",
              "State                             \n",
              "Alabama       Latin         1923  \n",
              "Alaska      English         1967  \n",
              "Arizona       Latin         1863  \n",
              "Arkansas      Latin         1907  \n",
              "California    Greek         1849  "
            ]
          },
          "execution_count": 25,
          "metadata": {},
          "output_type": "execute_result"
        }
      ],
      "source": [
        "mottos = pd.read_csv(\"./data/mottos.csv\", index_col = \"State\")\n",
        "mottos.loc[\"Alabama\":\"California\"]"
      ]
    },
    {
      "cell_type": "code",
      "execution_count": null,
      "metadata": {
        "colab": {
          "base_uri": "https://localhost:8080/",
          "height": 206
        },
        "id": "rDoC2QPrFXG7",
        "outputId": "8152848a-a98d-4803-b9c6-caf402cd09cc"
      },
      "outputs": [
        {
          "data": {
            "text/html": [
              "<div>\n",
              "<style scoped>\n",
              "    .dataframe tbody tr th:only-of-type {\n",
              "        vertical-align: middle;\n",
              "    }\n",
              "\n",
              "    .dataframe tbody tr th {\n",
              "        vertical-align: top;\n",
              "    }\n",
              "\n",
              "    .dataframe thead th {\n",
              "        text-align: right;\n",
              "    }\n",
              "</style>\n",
              "<table border=\"1\" class=\"dataframe\">\n",
              "  <thead>\n",
              "    <tr style=\"text-align: right;\">\n",
              "      <th></th>\n",
              "      <th>Candidate</th>\n",
              "    </tr>\n",
              "  </thead>\n",
              "  <tbody>\n",
              "    <tr>\n",
              "      <th>177</th>\n",
              "      <td>Jill Stein</td>\n",
              "    </tr>\n",
              "    <tr>\n",
              "      <th>178</th>\n",
              "      <td>Joseph Biden</td>\n",
              "    </tr>\n",
              "    <tr>\n",
              "      <th>179</th>\n",
              "      <td>Donald Trump</td>\n",
              "    </tr>\n",
              "    <tr>\n",
              "      <th>180</th>\n",
              "      <td>Jo Jorgensen</td>\n",
              "    </tr>\n",
              "    <tr>\n",
              "      <th>181</th>\n",
              "      <td>Howard Hawkins</td>\n",
              "    </tr>\n",
              "  </tbody>\n",
              "</table>\n",
              "</div>"
            ],
            "text/plain": [
              "          Candidate\n",
              "177      Jill Stein\n",
              "178    Joseph Biden\n",
              "179    Donald Trump\n",
              "180    Jo Jorgensen\n",
              "181  Howard Hawkins"
            ]
          },
          "execution_count": 26,
          "metadata": {},
          "output_type": "execute_result"
        }
      ],
      "source": [
        "elections[\"Candidate\"].tail(5).to_frame()"
      ]
    },
    {
      "cell_type": "code",
      "execution_count": null,
      "metadata": {
        "id": "WEWqc51BFXG7",
        "outputId": "c073266e-6043-4f46-f72a-a8055a0116a7"
      },
      "outputs": [
        {
          "data": {
            "text/html": [
              "<div>\n",
              "<style scoped>\n",
              "    .dataframe tbody tr th:only-of-type {\n",
              "        vertical-align: middle;\n",
              "    }\n",
              "\n",
              "    .dataframe tbody tr th {\n",
              "        vertical-align: top;\n",
              "    }\n",
              "\n",
              "    .dataframe thead th {\n",
              "        text-align: right;\n",
              "    }\n",
              "</style>\n",
              "<table border=\"1\" class=\"dataframe\">\n",
              "  <thead>\n",
              "    <tr style=\"text-align: right;\">\n",
              "      <th></th>\n",
              "      <th>Candidate</th>\n",
              "    </tr>\n",
              "  </thead>\n",
              "  <tbody>\n",
              "    <tr>\n",
              "      <th>177</th>\n",
              "      <td>Jill Stein</td>\n",
              "    </tr>\n",
              "    <tr>\n",
              "      <th>178</th>\n",
              "      <td>Joseph Biden</td>\n",
              "    </tr>\n",
              "    <tr>\n",
              "      <th>179</th>\n",
              "      <td>Donald Trump</td>\n",
              "    </tr>\n",
              "    <tr>\n",
              "      <th>180</th>\n",
              "      <td>Jo Jorgensen</td>\n",
              "    </tr>\n",
              "    <tr>\n",
              "      <th>181</th>\n",
              "      <td>Howard Hawkins</td>\n",
              "    </tr>\n",
              "  </tbody>\n",
              "</table>\n",
              "</div>"
            ],
            "text/plain": [
              "          Candidate\n",
              "177      Jill Stein\n",
              "178    Joseph Biden\n",
              "179    Donald Trump\n",
              "180    Jo Jorgensen\n",
              "181  Howard Hawkins"
            ]
          },
          "execution_count": 27,
          "metadata": {},
          "output_type": "execute_result"
        }
      ],
      "source": [
        "elections[[\"Candidate\"]].tail(5)"
      ]
    },
    {
      "cell_type": "code",
      "execution_count": null,
      "metadata": {
        "colab": {
          "base_uri": "https://localhost:8080/"
        },
        "id": "qJy3pZVhFXG8",
        "outputId": "72bb8b63-699f-47c4-9b56-84512671a83b"
      },
      "outputs": [
        {
          "data": {
            "text/plain": [
              "Index(['Alabama', 'Alaska', 'Arizona', 'Arkansas', 'California', 'Colorado',\n",
              "       'Connecticut', 'Delaware', 'Florida', 'Georgia', 'Hawaii', 'Idaho',\n",
              "       'Illinois', 'Indiana', 'Iowa', 'Kansas', 'Kentucky', 'Louisiana',\n",
              "       'Maine', 'Maryland', 'Massachusetts', 'Michigan', 'Minnesota',\n",
              "       'Mississippi', 'Missouri', 'Montana', 'Nebraska', 'Nevada',\n",
              "       'New Hampshire', 'New Jersey', 'New Mexico', 'New York',\n",
              "       'North Carolina', 'North Dakota', 'Ohio', 'Oklahoma', 'Oregon',\n",
              "       'Pennsylvania', 'Rhode Island', 'South Carolina', 'South Dakota',\n",
              "       'Tennessee', 'Texas', 'Utah', 'Vermont', 'Virginia', 'Washington',\n",
              "       'West Virginia', 'Wisconsin', 'Wyoming'],\n",
              "      dtype='object', name='State')"
            ]
          },
          "execution_count": 28,
          "metadata": {},
          "output_type": "execute_result"
        }
      ],
      "source": [
        "mottos.index"
      ]
    },
    {
      "cell_type": "code",
      "execution_count": null,
      "metadata": {
        "colab": {
          "base_uri": "https://localhost:8080/"
        },
        "id": "N1dqMEmiFXG8",
        "outputId": "746bdd40-fa32-4a6e-9401-6910a68eefee"
      },
      "outputs": [
        {
          "data": {
            "text/plain": [
              "Index(['Motto', 'Translation', 'Language', 'Date Adopted'], dtype='object')"
            ]
          },
          "execution_count": 29,
          "metadata": {},
          "output_type": "execute_result"
        }
      ],
      "source": [
        "mottos.columns"
      ]
    },
    {
      "cell_type": "markdown",
      "metadata": {
        "id": "ilj9R-U4FXG8"
      },
      "source": [
        "## Conditional Selection"
      ]
    },
    {
      "cell_type": "code",
      "execution_count": null,
      "metadata": {
        "id": "u1MITtJ3FXG8",
        "outputId": "1ad12505-86aa-4cc6-8c4f-d6f195d1a28a"
      },
      "outputs": [
        {
          "data": {
            "text/html": [
              "<div>\n",
              "<style scoped>\n",
              "    .dataframe tbody tr th:only-of-type {\n",
              "        vertical-align: middle;\n",
              "    }\n",
              "\n",
              "    .dataframe tbody tr th {\n",
              "        vertical-align: top;\n",
              "    }\n",
              "\n",
              "    .dataframe thead th {\n",
              "        text-align: right;\n",
              "    }\n",
              "</style>\n",
              "<table border=\"1\" class=\"dataframe\">\n",
              "  <thead>\n",
              "    <tr style=\"text-align: right;\">\n",
              "      <th></th>\n",
              "      <th>Year</th>\n",
              "      <th>Candidate</th>\n",
              "      <th>Party</th>\n",
              "      <th>Popular vote</th>\n",
              "      <th>Result</th>\n",
              "      <th>%</th>\n",
              "    </tr>\n",
              "  </thead>\n",
              "  <tbody>\n",
              "    <tr>\n",
              "      <th>121</th>\n",
              "      <td>1976</td>\n",
              "      <td>Eugene McCarthy</td>\n",
              "      <td>Independent</td>\n",
              "      <td>740460</td>\n",
              "      <td>loss</td>\n",
              "      <td>0.911649</td>\n",
              "    </tr>\n",
              "    <tr>\n",
              "      <th>130</th>\n",
              "      <td>1980</td>\n",
              "      <td>John B. Anderson</td>\n",
              "      <td>Independent</td>\n",
              "      <td>5719850</td>\n",
              "      <td>loss</td>\n",
              "      <td>6.631143</td>\n",
              "    </tr>\n",
              "    <tr>\n",
              "      <th>143</th>\n",
              "      <td>1992</td>\n",
              "      <td>Ross Perot</td>\n",
              "      <td>Independent</td>\n",
              "      <td>19743821</td>\n",
              "      <td>loss</td>\n",
              "      <td>18.956298</td>\n",
              "    </tr>\n",
              "    <tr>\n",
              "      <th>161</th>\n",
              "      <td>2004</td>\n",
              "      <td>Ralph Nader</td>\n",
              "      <td>Independent</td>\n",
              "      <td>465151</td>\n",
              "      <td>loss</td>\n",
              "      <td>0.380663</td>\n",
              "    </tr>\n",
              "    <tr>\n",
              "      <th>167</th>\n",
              "      <td>2008</td>\n",
              "      <td>Ralph Nader</td>\n",
              "      <td>Independent</td>\n",
              "      <td>739034</td>\n",
              "      <td>loss</td>\n",
              "      <td>0.563842</td>\n",
              "    </tr>\n",
              "    <tr>\n",
              "      <th>174</th>\n",
              "      <td>2016</td>\n",
              "      <td>Evan McMullin</td>\n",
              "      <td>Independent</td>\n",
              "      <td>732273</td>\n",
              "      <td>loss</td>\n",
              "      <td>0.539546</td>\n",
              "    </tr>\n",
              "  </tbody>\n",
              "</table>\n",
              "</div>"
            ],
            "text/plain": [
              "     Year         Candidate        Party  Popular vote Result          %\n",
              "121  1976   Eugene McCarthy  Independent        740460   loss   0.911649\n",
              "130  1980  John B. Anderson  Independent       5719850   loss   6.631143\n",
              "143  1992        Ross Perot  Independent      19743821   loss  18.956298\n",
              "161  2004       Ralph Nader  Independent        465151   loss   0.380663\n",
              "167  2008       Ralph Nader  Independent        739034   loss   0.563842\n",
              "174  2016     Evan McMullin  Independent        732273   loss   0.539546"
            ]
          },
          "execution_count": 30,
          "metadata": {},
          "output_type": "execute_result"
        }
      ],
      "source": [
        "elections[elections[\"Party\"] == \"Independent\"]"
      ]
    },
    {
      "cell_type": "code",
      "execution_count": null,
      "metadata": {
        "id": "D2FH8v9nFXG8",
        "outputId": "951a3855-d024-42cd-e969-1ee215ae298a"
      },
      "outputs": [
        {
          "data": {
            "text/plain": [
              "0      False\n",
              "1      False\n",
              "2      False\n",
              "3      False\n",
              "4      False\n",
              "       ...  \n",
              "177    False\n",
              "178    False\n",
              "179    False\n",
              "180    False\n",
              "181    False\n",
              "Name: Party, Length: 182, dtype: bool"
            ]
          },
          "execution_count": 31,
          "metadata": {},
          "output_type": "execute_result"
        }
      ],
      "source": [
        "elections[\"Party\"] == \"Independent\""
      ]
    },
    {
      "cell_type": "markdown",
      "metadata": {
        "id": "Im4lsyx6FXG8"
      },
      "source": [
        "Boolean array selection also works with `loc`!"
      ]
    },
    {
      "cell_type": "code",
      "execution_count": null,
      "metadata": {
        "colab": {
          "base_uri": "https://localhost:8080/",
          "height": 237
        },
        "id": "HRqBQ-7tFXG9",
        "outputId": "050ebc2f-78b9-4f9a-d589-066c16936555"
      },
      "outputs": [
        {
          "data": {
            "text/html": [
              "<div>\n",
              "<style scoped>\n",
              "    .dataframe tbody tr th:only-of-type {\n",
              "        vertical-align: middle;\n",
              "    }\n",
              "\n",
              "    .dataframe tbody tr th {\n",
              "        vertical-align: top;\n",
              "    }\n",
              "\n",
              "    .dataframe thead th {\n",
              "        text-align: right;\n",
              "    }\n",
              "</style>\n",
              "<table border=\"1\" class=\"dataframe\">\n",
              "  <thead>\n",
              "    <tr style=\"text-align: right;\">\n",
              "      <th></th>\n",
              "      <th>Year</th>\n",
              "      <th>Candidate</th>\n",
              "      <th>Party</th>\n",
              "      <th>Popular vote</th>\n",
              "      <th>Result</th>\n",
              "      <th>%</th>\n",
              "    </tr>\n",
              "  </thead>\n",
              "  <tbody>\n",
              "    <tr>\n",
              "      <th>121</th>\n",
              "      <td>1976</td>\n",
              "      <td>Eugene McCarthy</td>\n",
              "      <td>Independent</td>\n",
              "      <td>740460</td>\n",
              "      <td>loss</td>\n",
              "      <td>0.911649</td>\n",
              "    </tr>\n",
              "    <tr>\n",
              "      <th>130</th>\n",
              "      <td>1980</td>\n",
              "      <td>John B. Anderson</td>\n",
              "      <td>Independent</td>\n",
              "      <td>5719850</td>\n",
              "      <td>loss</td>\n",
              "      <td>6.631143</td>\n",
              "    </tr>\n",
              "    <tr>\n",
              "      <th>143</th>\n",
              "      <td>1992</td>\n",
              "      <td>Ross Perot</td>\n",
              "      <td>Independent</td>\n",
              "      <td>19743821</td>\n",
              "      <td>loss</td>\n",
              "      <td>18.956298</td>\n",
              "    </tr>\n",
              "    <tr>\n",
              "      <th>161</th>\n",
              "      <td>2004</td>\n",
              "      <td>Ralph Nader</td>\n",
              "      <td>Independent</td>\n",
              "      <td>465151</td>\n",
              "      <td>loss</td>\n",
              "      <td>0.380663</td>\n",
              "    </tr>\n",
              "    <tr>\n",
              "      <th>167</th>\n",
              "      <td>2008</td>\n",
              "      <td>Ralph Nader</td>\n",
              "      <td>Independent</td>\n",
              "      <td>739034</td>\n",
              "      <td>loss</td>\n",
              "      <td>0.563842</td>\n",
              "    </tr>\n",
              "    <tr>\n",
              "      <th>174</th>\n",
              "      <td>2016</td>\n",
              "      <td>Evan McMullin</td>\n",
              "      <td>Independent</td>\n",
              "      <td>732273</td>\n",
              "      <td>loss</td>\n",
              "      <td>0.539546</td>\n",
              "    </tr>\n",
              "  </tbody>\n",
              "</table>\n",
              "</div>"
            ],
            "text/plain": [
              "     Year         Candidate        Party  Popular vote Result          %\n",
              "121  1976   Eugene McCarthy  Independent        740460   loss   0.911649\n",
              "130  1980  John B. Anderson  Independent       5719850   loss   6.631143\n",
              "143  1992        Ross Perot  Independent      19743821   loss  18.956298\n",
              "161  2004       Ralph Nader  Independent        465151   loss   0.380663\n",
              "167  2008       Ralph Nader  Independent        739034   loss   0.563842\n",
              "174  2016     Evan McMullin  Independent        732273   loss   0.539546"
            ]
          },
          "execution_count": 32,
          "metadata": {},
          "output_type": "execute_result"
        }
      ],
      "source": [
        "elections.loc[elections[\"Party\"] == \"Independent\"]"
      ]
    },
    {
      "cell_type": "code",
      "execution_count": null,
      "metadata": {
        "colab": {
          "base_uri": "https://localhost:8080/",
          "height": 300
        },
        "id": "yhiipVjiFXG9",
        "outputId": "6bd5e42d-5cfe-4abd-c963-6448b4df7c41"
      },
      "outputs": [
        {
          "data": {
            "text/html": [
              "<div>\n",
              "<style scoped>\n",
              "    .dataframe tbody tr th:only-of-type {\n",
              "        vertical-align: middle;\n",
              "    }\n",
              "\n",
              "    .dataframe tbody tr th {\n",
              "        vertical-align: top;\n",
              "    }\n",
              "\n",
              "    .dataframe thead th {\n",
              "        text-align: right;\n",
              "    }\n",
              "</style>\n",
              "<table border=\"1\" class=\"dataframe\">\n",
              "  <thead>\n",
              "    <tr style=\"text-align: right;\">\n",
              "      <th></th>\n",
              "      <th>Year</th>\n",
              "      <th>Candidate</th>\n",
              "      <th>Party</th>\n",
              "      <th>Popular vote</th>\n",
              "      <th>Result</th>\n",
              "      <th>%</th>\n",
              "    </tr>\n",
              "  </thead>\n",
              "  <tbody>\n",
              "    <tr>\n",
              "      <th>1</th>\n",
              "      <td>1824</td>\n",
              "      <td>John Quincy Adams</td>\n",
              "      <td>Democratic-Republican</td>\n",
              "      <td>113142</td>\n",
              "      <td>win</td>\n",
              "      <td>42.789878</td>\n",
              "    </tr>\n",
              "    <tr>\n",
              "      <th>20</th>\n",
              "      <td>1856</td>\n",
              "      <td>James Buchanan</td>\n",
              "      <td>Democratic</td>\n",
              "      <td>1835140</td>\n",
              "      <td>win</td>\n",
              "      <td>45.306080</td>\n",
              "    </tr>\n",
              "    <tr>\n",
              "      <th>23</th>\n",
              "      <td>1860</td>\n",
              "      <td>Abraham Lincoln</td>\n",
              "      <td>Republican</td>\n",
              "      <td>1855993</td>\n",
              "      <td>win</td>\n",
              "      <td>39.699408</td>\n",
              "    </tr>\n",
              "    <tr>\n",
              "      <th>47</th>\n",
              "      <td>1892</td>\n",
              "      <td>Grover Cleveland</td>\n",
              "      <td>Democratic</td>\n",
              "      <td>5553898</td>\n",
              "      <td>win</td>\n",
              "      <td>46.121393</td>\n",
              "    </tr>\n",
              "    <tr>\n",
              "      <th>70</th>\n",
              "      <td>1912</td>\n",
              "      <td>Woodrow Wilson</td>\n",
              "      <td>Democratic</td>\n",
              "      <td>6296284</td>\n",
              "      <td>win</td>\n",
              "      <td>41.933422</td>\n",
              "    </tr>\n",
              "    <tr>\n",
              "      <th>117</th>\n",
              "      <td>1968</td>\n",
              "      <td>Richard Nixon</td>\n",
              "      <td>Republican</td>\n",
              "      <td>31783783</td>\n",
              "      <td>win</td>\n",
              "      <td>43.565246</td>\n",
              "    </tr>\n",
              "    <tr>\n",
              "      <th>140</th>\n",
              "      <td>1992</td>\n",
              "      <td>Bill Clinton</td>\n",
              "      <td>Democratic</td>\n",
              "      <td>44909806</td>\n",
              "      <td>win</td>\n",
              "      <td>43.118485</td>\n",
              "    </tr>\n",
              "    <tr>\n",
              "      <th>173</th>\n",
              "      <td>2016</td>\n",
              "      <td>Donald Trump</td>\n",
              "      <td>Republican</td>\n",
              "      <td>62984828</td>\n",
              "      <td>win</td>\n",
              "      <td>46.407862</td>\n",
              "    </tr>\n",
              "  </tbody>\n",
              "</table>\n",
              "</div>"
            ],
            "text/plain": [
              "     Year          Candidate                  Party  Popular vote Result  \\\n",
              "1    1824  John Quincy Adams  Democratic-Republican        113142    win   \n",
              "20   1856     James Buchanan             Democratic       1835140    win   \n",
              "23   1860    Abraham Lincoln             Republican       1855993    win   \n",
              "47   1892   Grover Cleveland             Democratic       5553898    win   \n",
              "70   1912     Woodrow Wilson             Democratic       6296284    win   \n",
              "117  1968      Richard Nixon             Republican      31783783    win   \n",
              "140  1992       Bill Clinton             Democratic      44909806    win   \n",
              "173  2016       Donald Trump             Republican      62984828    win   \n",
              "\n",
              "             %  \n",
              "1    42.789878  \n",
              "20   45.306080  \n",
              "23   39.699408  \n",
              "47   46.121393  \n",
              "70   41.933422  \n",
              "117  43.565246  \n",
              "140  43.118485  \n",
              "173  46.407862  "
            ]
          },
          "execution_count": 33,
          "metadata": {},
          "output_type": "execute_result"
        }
      ],
      "source": [
        "elections[(elections[\"Result\"] == \"win\") & (elections[\"%\"] < 47)]"
      ]
    },
    {
      "cell_type": "code",
      "execution_count": null,
      "metadata": {
        "colab": {
          "base_uri": "https://localhost:8080/",
          "height": 339
        },
        "id": "7fL5-yEFFXG9",
        "outputId": "74eb7b85-5200-4f91-98ac-91af1315f4d9"
      },
      "outputs": [
        {
          "ename": "KeyError",
          "evalue": "\"None of [Int64Index([1, 1, 1, 1, 1, 1, 1, 1, 1, 1,\\n            ...\\n            1, 1, 1, 1, 1, 1, 1, 1, 1, 1],\\n           dtype='int64', length=182)] are in the [columns]\"",
          "output_type": "error",
          "traceback": [
            "\u001b[0;31m---------------------------------------------------------------------------\u001b[0m",
            "\u001b[0;31mKeyError\u001b[0m                                  Traceback (most recent call last)",
            "Cell \u001b[0;32mIn[34], line 1\u001b[0m\n\u001b[0;32m----> 1\u001b[0m \u001b[43melections\u001b[49m\u001b[43m[\u001b[49m\u001b[43m[\u001b[49m\u001b[38;5;241;43m1\u001b[39;49m\u001b[43m]\u001b[49m\u001b[38;5;241;43m*\u001b[39;49m\u001b[38;5;28;43mlen\u001b[39;49m\u001b[43m(\u001b[49m\u001b[43melections\u001b[49m\u001b[43m)\u001b[49m\u001b[43m]\u001b[49m\n",
            "File \u001b[0;32m/opt/conda/lib/python3.10/site-packages/pandas/core/frame.py:3811\u001b[0m, in \u001b[0;36mDataFrame.__getitem__\u001b[0;34m(self, key)\u001b[0m\n\u001b[1;32m   3809\u001b[0m     \u001b[38;5;28;01mif\u001b[39;00m is_iterator(key):\n\u001b[1;32m   3810\u001b[0m         key \u001b[38;5;241m=\u001b[39m \u001b[38;5;28mlist\u001b[39m(key)\n\u001b[0;32m-> 3811\u001b[0m     indexer \u001b[38;5;241m=\u001b[39m \u001b[38;5;28;43mself\u001b[39;49m\u001b[38;5;241;43m.\u001b[39;49m\u001b[43mcolumns\u001b[49m\u001b[38;5;241;43m.\u001b[39;49m\u001b[43m_get_indexer_strict\u001b[49m\u001b[43m(\u001b[49m\u001b[43mkey\u001b[49m\u001b[43m,\u001b[49m\u001b[43m \u001b[49m\u001b[38;5;124;43m\"\u001b[39;49m\u001b[38;5;124;43mcolumns\u001b[39;49m\u001b[38;5;124;43m\"\u001b[39;49m\u001b[43m)\u001b[49m[\u001b[38;5;241m1\u001b[39m]\n\u001b[1;32m   3813\u001b[0m \u001b[38;5;66;03m# take() does not accept boolean indexers\u001b[39;00m\n\u001b[1;32m   3814\u001b[0m \u001b[38;5;28;01mif\u001b[39;00m \u001b[38;5;28mgetattr\u001b[39m(indexer, \u001b[38;5;124m\"\u001b[39m\u001b[38;5;124mdtype\u001b[39m\u001b[38;5;124m\"\u001b[39m, \u001b[38;5;28;01mNone\u001b[39;00m) \u001b[38;5;241m==\u001b[39m \u001b[38;5;28mbool\u001b[39m:\n",
            "File \u001b[0;32m/opt/conda/lib/python3.10/site-packages/pandas/core/indexes/base.py:6113\u001b[0m, in \u001b[0;36mIndex._get_indexer_strict\u001b[0;34m(self, key, axis_name)\u001b[0m\n\u001b[1;32m   6110\u001b[0m \u001b[38;5;28;01melse\u001b[39;00m:\n\u001b[1;32m   6111\u001b[0m     keyarr, indexer, new_indexer \u001b[38;5;241m=\u001b[39m \u001b[38;5;28mself\u001b[39m\u001b[38;5;241m.\u001b[39m_reindex_non_unique(keyarr)\n\u001b[0;32m-> 6113\u001b[0m \u001b[38;5;28;43mself\u001b[39;49m\u001b[38;5;241;43m.\u001b[39;49m\u001b[43m_raise_if_missing\u001b[49m\u001b[43m(\u001b[49m\u001b[43mkeyarr\u001b[49m\u001b[43m,\u001b[49m\u001b[43m \u001b[49m\u001b[43mindexer\u001b[49m\u001b[43m,\u001b[49m\u001b[43m \u001b[49m\u001b[43maxis_name\u001b[49m\u001b[43m)\u001b[49m\n\u001b[1;32m   6115\u001b[0m keyarr \u001b[38;5;241m=\u001b[39m \u001b[38;5;28mself\u001b[39m\u001b[38;5;241m.\u001b[39mtake(indexer)\n\u001b[1;32m   6116\u001b[0m \u001b[38;5;28;01mif\u001b[39;00m \u001b[38;5;28misinstance\u001b[39m(key, Index):\n\u001b[1;32m   6117\u001b[0m     \u001b[38;5;66;03m# GH 42790 - Preserve name from an Index\u001b[39;00m\n",
            "File \u001b[0;32m/opt/conda/lib/python3.10/site-packages/pandas/core/indexes/base.py:6173\u001b[0m, in \u001b[0;36mIndex._raise_if_missing\u001b[0;34m(self, key, indexer, axis_name)\u001b[0m\n\u001b[1;32m   6171\u001b[0m     \u001b[38;5;28;01mif\u001b[39;00m use_interval_msg:\n\u001b[1;32m   6172\u001b[0m         key \u001b[38;5;241m=\u001b[39m \u001b[38;5;28mlist\u001b[39m(key)\n\u001b[0;32m-> 6173\u001b[0m     \u001b[38;5;28;01mraise\u001b[39;00m \u001b[38;5;167;01mKeyError\u001b[39;00m(\u001b[38;5;124mf\u001b[39m\u001b[38;5;124m\"\u001b[39m\u001b[38;5;124mNone of [\u001b[39m\u001b[38;5;132;01m{\u001b[39;00mkey\u001b[38;5;132;01m}\u001b[39;00m\u001b[38;5;124m] are in the [\u001b[39m\u001b[38;5;132;01m{\u001b[39;00maxis_name\u001b[38;5;132;01m}\u001b[39;00m\u001b[38;5;124m]\u001b[39m\u001b[38;5;124m\"\u001b[39m)\n\u001b[1;32m   6175\u001b[0m not_found \u001b[38;5;241m=\u001b[39m \u001b[38;5;28mlist\u001b[39m(ensure_index(key)[missing_mask\u001b[38;5;241m.\u001b[39mnonzero()[\u001b[38;5;241m0\u001b[39m]]\u001b[38;5;241m.\u001b[39munique())\n\u001b[1;32m   6176\u001b[0m \u001b[38;5;28;01mraise\u001b[39;00m \u001b[38;5;167;01mKeyError\u001b[39;00m(\u001b[38;5;124mf\u001b[39m\u001b[38;5;124m\"\u001b[39m\u001b[38;5;132;01m{\u001b[39;00mnot_found\u001b[38;5;132;01m}\u001b[39;00m\u001b[38;5;124m not in index\u001b[39m\u001b[38;5;124m\"\u001b[39m)\n",
            "\u001b[0;31mKeyError\u001b[0m: \"None of [Int64Index([1, 1, 1, 1, 1, 1, 1, 1, 1, 1,\\n            ...\\n            1, 1, 1, 1, 1, 1, 1, 1, 1, 1],\\n           dtype='int64', length=182)] are in the [columns]\""
          ]
        }
      ],
      "source": [
        "elections[[1]*len(elections)]"
      ]
    },
    {
      "cell_type": "code",
      "execution_count": null,
      "metadata": {
        "colab": {
          "base_uri": "https://localhost:8080/",
          "height": 426
        },
        "id": "S9ts6_kOFXG-",
        "outputId": "8bdb469c-8e48-4981-c054-2de5b3577577"
      },
      "outputs": [
        {
          "data": {
            "text/html": [
              "<div>\n",
              "<style scoped>\n",
              "    .dataframe tbody tr th:only-of-type {\n",
              "        vertical-align: middle;\n",
              "    }\n",
              "\n",
              "    .dataframe tbody tr th {\n",
              "        vertical-align: top;\n",
              "    }\n",
              "\n",
              "    .dataframe thead th {\n",
              "        text-align: right;\n",
              "    }\n",
              "</style>\n",
              "<table border=\"1\" class=\"dataframe\">\n",
              "  <thead>\n",
              "    <tr style=\"text-align: right;\">\n",
              "      <th></th>\n",
              "      <th>Year</th>\n",
              "      <th>Candidate</th>\n",
              "      <th>Party</th>\n",
              "      <th>Popular vote</th>\n",
              "      <th>Result</th>\n",
              "      <th>%</th>\n",
              "    </tr>\n",
              "  </thead>\n",
              "  <tbody>\n",
              "    <tr>\n",
              "      <th>127</th>\n",
              "      <td>1980</td>\n",
              "      <td>Barry Commoner</td>\n",
              "      <td>Citizens</td>\n",
              "      <td>233052</td>\n",
              "      <td>loss</td>\n",
              "      <td>0.270182</td>\n",
              "    </tr>\n",
              "    <tr>\n",
              "      <th>128</th>\n",
              "      <td>1980</td>\n",
              "      <td>Ed Clark</td>\n",
              "      <td>Libertarian</td>\n",
              "      <td>921128</td>\n",
              "      <td>loss</td>\n",
              "      <td>1.067883</td>\n",
              "    </tr>\n",
              "    <tr>\n",
              "      <th>129</th>\n",
              "      <td>1980</td>\n",
              "      <td>Jimmy Carter</td>\n",
              "      <td>Democratic</td>\n",
              "      <td>35480115</td>\n",
              "      <td>loss</td>\n",
              "      <td>41.132848</td>\n",
              "    </tr>\n",
              "    <tr>\n",
              "      <th>130</th>\n",
              "      <td>1980</td>\n",
              "      <td>John B. Anderson</td>\n",
              "      <td>Independent</td>\n",
              "      <td>5719850</td>\n",
              "      <td>loss</td>\n",
              "      <td>6.631143</td>\n",
              "    </tr>\n",
              "    <tr>\n",
              "      <th>131</th>\n",
              "      <td>1980</td>\n",
              "      <td>Ronald Reagan</td>\n",
              "      <td>Republican</td>\n",
              "      <td>43903230</td>\n",
              "      <td>win</td>\n",
              "      <td>50.897944</td>\n",
              "    </tr>\n",
              "    <tr>\n",
              "      <th>132</th>\n",
              "      <td>1984</td>\n",
              "      <td>David Bergland</td>\n",
              "      <td>Libertarian</td>\n",
              "      <td>228111</td>\n",
              "      <td>loss</td>\n",
              "      <td>0.247245</td>\n",
              "    </tr>\n",
              "    <tr>\n",
              "      <th>133</th>\n",
              "      <td>1984</td>\n",
              "      <td>Ronald Reagan</td>\n",
              "      <td>Republican</td>\n",
              "      <td>54455472</td>\n",
              "      <td>win</td>\n",
              "      <td>59.023326</td>\n",
              "    </tr>\n",
              "    <tr>\n",
              "      <th>134</th>\n",
              "      <td>1984</td>\n",
              "      <td>Walter Mondale</td>\n",
              "      <td>Democratic</td>\n",
              "      <td>37577352</td>\n",
              "      <td>loss</td>\n",
              "      <td>40.729429</td>\n",
              "    </tr>\n",
              "    <tr>\n",
              "      <th>135</th>\n",
              "      <td>1988</td>\n",
              "      <td>George H. W. Bush</td>\n",
              "      <td>Republican</td>\n",
              "      <td>48886597</td>\n",
              "      <td>win</td>\n",
              "      <td>53.518845</td>\n",
              "    </tr>\n",
              "    <tr>\n",
              "      <th>136</th>\n",
              "      <td>1988</td>\n",
              "      <td>Lenora Fulani</td>\n",
              "      <td>New Alliance</td>\n",
              "      <td>217221</td>\n",
              "      <td>loss</td>\n",
              "      <td>0.237804</td>\n",
              "    </tr>\n",
              "    <tr>\n",
              "      <th>137</th>\n",
              "      <td>1988</td>\n",
              "      <td>Michael Dukakis</td>\n",
              "      <td>Democratic</td>\n",
              "      <td>41809074</td>\n",
              "      <td>loss</td>\n",
              "      <td>45.770691</td>\n",
              "    </tr>\n",
              "    <tr>\n",
              "      <th>138</th>\n",
              "      <td>1988</td>\n",
              "      <td>Ron Paul</td>\n",
              "      <td>Libertarian</td>\n",
              "      <td>431750</td>\n",
              "      <td>loss</td>\n",
              "      <td>0.472660</td>\n",
              "    </tr>\n",
              "  </tbody>\n",
              "</table>\n",
              "</div>"
            ],
            "text/plain": [
              "     Year          Candidate         Party  Popular vote Result          %\n",
              "127  1980     Barry Commoner      Citizens        233052   loss   0.270182\n",
              "128  1980           Ed Clark   Libertarian        921128   loss   1.067883\n",
              "129  1980       Jimmy Carter    Democratic      35480115   loss  41.132848\n",
              "130  1980   John B. Anderson   Independent       5719850   loss   6.631143\n",
              "131  1980      Ronald Reagan    Republican      43903230    win  50.897944\n",
              "132  1984     David Bergland   Libertarian        228111   loss   0.247245\n",
              "133  1984      Ronald Reagan    Republican      54455472    win  59.023326\n",
              "134  1984     Walter Mondale    Democratic      37577352   loss  40.729429\n",
              "135  1988  George H. W. Bush    Republican      48886597    win  53.518845\n",
              "136  1988      Lenora Fulani  New Alliance        217221   loss   0.237804\n",
              "137  1988    Michael Dukakis    Democratic      41809074   loss  45.770691\n",
              "138  1988           Ron Paul   Libertarian        431750   loss   0.472660"
            ]
          },
          "execution_count": 35,
          "metadata": {},
          "output_type": "execute_result"
        }
      ],
      "source": [
        "elections2 = elections[(elections[\"Year\"] == 1980) | (elections[\"Year\"] == 1984) | (elections[\"Year\"] == 1988)]\n",
        "elections2"
      ]
    },
    {
      "cell_type": "code",
      "execution_count": null,
      "metadata": {
        "colab": {
          "base_uri": "https://localhost:8080/",
          "height": 269
        },
        "id": "GIij00YNFXG-",
        "outputId": "4c6d87de-60a8-45ba-f0a2-ff91f16fc1a7"
      },
      "outputs": [
        {
          "data": {
            "text/html": [
              "<div>\n",
              "<style scoped>\n",
              "    .dataframe tbody tr th:only-of-type {\n",
              "        vertical-align: middle;\n",
              "    }\n",
              "\n",
              "    .dataframe tbody tr th {\n",
              "        vertical-align: top;\n",
              "    }\n",
              "\n",
              "    .dataframe thead th {\n",
              "        text-align: right;\n",
              "    }\n",
              "</style>\n",
              "<table border=\"1\" class=\"dataframe\">\n",
              "  <thead>\n",
              "    <tr style=\"text-align: right;\">\n",
              "      <th></th>\n",
              "      <th>Year</th>\n",
              "      <th>Candidate</th>\n",
              "      <th>Party</th>\n",
              "      <th>Popular vote</th>\n",
              "      <th>Result</th>\n",
              "      <th>%</th>\n",
              "    </tr>\n",
              "  </thead>\n",
              "  <tbody>\n",
              "    <tr>\n",
              "      <th>6</th>\n",
              "      <td>1832</td>\n",
              "      <td>William Wirt</td>\n",
              "      <td>Anti-Masonic</td>\n",
              "      <td>100715</td>\n",
              "      <td>loss</td>\n",
              "      <td>7.821583</td>\n",
              "    </tr>\n",
              "    <tr>\n",
              "      <th>22</th>\n",
              "      <td>1856</td>\n",
              "      <td>Millard Fillmore</td>\n",
              "      <td>American</td>\n",
              "      <td>873053</td>\n",
              "      <td>loss</td>\n",
              "      <td>21.554001</td>\n",
              "    </tr>\n",
              "    <tr>\n",
              "      <th>38</th>\n",
              "      <td>1884</td>\n",
              "      <td>Benjamin Butler</td>\n",
              "      <td>Anti-Monopoly</td>\n",
              "      <td>134294</td>\n",
              "      <td>loss</td>\n",
              "      <td>1.335838</td>\n",
              "    </tr>\n",
              "    <tr>\n",
              "      <th>115</th>\n",
              "      <td>1968</td>\n",
              "      <td>George Wallace</td>\n",
              "      <td>American Independent</td>\n",
              "      <td>9901118</td>\n",
              "      <td>loss</td>\n",
              "      <td>13.571218</td>\n",
              "    </tr>\n",
              "    <tr>\n",
              "      <th>119</th>\n",
              "      <td>1972</td>\n",
              "      <td>John G. Schmitz</td>\n",
              "      <td>American Independent</td>\n",
              "      <td>1100868</td>\n",
              "      <td>loss</td>\n",
              "      <td>1.421524</td>\n",
              "    </tr>\n",
              "    <tr>\n",
              "      <th>124</th>\n",
              "      <td>1976</td>\n",
              "      <td>Lester Maddox</td>\n",
              "      <td>American Independent</td>\n",
              "      <td>170274</td>\n",
              "      <td>loss</td>\n",
              "      <td>0.209640</td>\n",
              "    </tr>\n",
              "    <tr>\n",
              "      <th>126</th>\n",
              "      <td>1976</td>\n",
              "      <td>Thomas J. Anderson</td>\n",
              "      <td>American</td>\n",
              "      <td>158271</td>\n",
              "      <td>loss</td>\n",
              "      <td>0.194862</td>\n",
              "    </tr>\n",
              "  </tbody>\n",
              "</table>\n",
              "</div>"
            ],
            "text/plain": [
              "     Year           Candidate                 Party  Popular vote Result  \\\n",
              "6    1832        William Wirt          Anti-Masonic        100715   loss   \n",
              "22   1856    Millard Fillmore              American        873053   loss   \n",
              "38   1884     Benjamin Butler         Anti-Monopoly        134294   loss   \n",
              "115  1968      George Wallace  American Independent       9901118   loss   \n",
              "119  1972     John G. Schmitz  American Independent       1100868   loss   \n",
              "124  1976       Lester Maddox  American Independent        170274   loss   \n",
              "126  1976  Thomas J. Anderson              American        158271   loss   \n",
              "\n",
              "             %  \n",
              "6     7.821583  \n",
              "22   21.554001  \n",
              "38    1.335838  \n",
              "115  13.571218  \n",
              "119   1.421524  \n",
              "124   0.209640  \n",
              "126   0.194862  "
            ]
          },
          "execution_count": 36,
          "metadata": {},
          "output_type": "execute_result"
        }
      ],
      "source": [
        "(\n",
        "    elections[(elections[\"Party\"] == \"Anti-Masonic\")  |\n",
        "              (elections[\"Party\"] == \"American\")      |\n",
        "              (elections[\"Party\"] == \"Anti-Monopoly\") |\n",
        "              (elections[\"Party\"] == \"American Independent\")]\n",
        ")\n",
        "#Note: The parentheses surrounding the code make it possible to break the code on to multiple lines for readability"
      ]
    },
    {
      "cell_type": "code",
      "execution_count": null,
      "metadata": {
        "colab": {
          "base_uri": "https://localhost:8080/",
          "height": 269
        },
        "id": "qw8o_-nkFXG-",
        "outputId": "b4da5ee3-9f6d-4549-f8ad-38e72e2ac332"
      },
      "outputs": [
        {
          "data": {
            "text/html": [
              "<div>\n",
              "<style scoped>\n",
              "    .dataframe tbody tr th:only-of-type {\n",
              "        vertical-align: middle;\n",
              "    }\n",
              "\n",
              "    .dataframe tbody tr th {\n",
              "        vertical-align: top;\n",
              "    }\n",
              "\n",
              "    .dataframe thead th {\n",
              "        text-align: right;\n",
              "    }\n",
              "</style>\n",
              "<table border=\"1\" class=\"dataframe\">\n",
              "  <thead>\n",
              "    <tr style=\"text-align: right;\">\n",
              "      <th></th>\n",
              "      <th>Year</th>\n",
              "      <th>Candidate</th>\n",
              "      <th>Party</th>\n",
              "      <th>Popular vote</th>\n",
              "      <th>Result</th>\n",
              "      <th>%</th>\n",
              "    </tr>\n",
              "  </thead>\n",
              "  <tbody>\n",
              "    <tr>\n",
              "      <th>6</th>\n",
              "      <td>1832</td>\n",
              "      <td>William Wirt</td>\n",
              "      <td>Anti-Masonic</td>\n",
              "      <td>100715</td>\n",
              "      <td>loss</td>\n",
              "      <td>7.821583</td>\n",
              "    </tr>\n",
              "    <tr>\n",
              "      <th>22</th>\n",
              "      <td>1856</td>\n",
              "      <td>Millard Fillmore</td>\n",
              "      <td>American</td>\n",
              "      <td>873053</td>\n",
              "      <td>loss</td>\n",
              "      <td>21.554001</td>\n",
              "    </tr>\n",
              "    <tr>\n",
              "      <th>38</th>\n",
              "      <td>1884</td>\n",
              "      <td>Benjamin Butler</td>\n",
              "      <td>Anti-Monopoly</td>\n",
              "      <td>134294</td>\n",
              "      <td>loss</td>\n",
              "      <td>1.335838</td>\n",
              "    </tr>\n",
              "    <tr>\n",
              "      <th>115</th>\n",
              "      <td>1968</td>\n",
              "      <td>George Wallace</td>\n",
              "      <td>American Independent</td>\n",
              "      <td>9901118</td>\n",
              "      <td>loss</td>\n",
              "      <td>13.571218</td>\n",
              "    </tr>\n",
              "    <tr>\n",
              "      <th>119</th>\n",
              "      <td>1972</td>\n",
              "      <td>John G. Schmitz</td>\n",
              "      <td>American Independent</td>\n",
              "      <td>1100868</td>\n",
              "      <td>loss</td>\n",
              "      <td>1.421524</td>\n",
              "    </tr>\n",
              "    <tr>\n",
              "      <th>124</th>\n",
              "      <td>1976</td>\n",
              "      <td>Lester Maddox</td>\n",
              "      <td>American Independent</td>\n",
              "      <td>170274</td>\n",
              "      <td>loss</td>\n",
              "      <td>0.209640</td>\n",
              "    </tr>\n",
              "    <tr>\n",
              "      <th>126</th>\n",
              "      <td>1976</td>\n",
              "      <td>Thomas J. Anderson</td>\n",
              "      <td>American</td>\n",
              "      <td>158271</td>\n",
              "      <td>loss</td>\n",
              "      <td>0.194862</td>\n",
              "    </tr>\n",
              "  </tbody>\n",
              "</table>\n",
              "</div>"
            ],
            "text/plain": [
              "     Year           Candidate                 Party  Popular vote Result  \\\n",
              "6    1832        William Wirt          Anti-Masonic        100715   loss   \n",
              "22   1856    Millard Fillmore              American        873053   loss   \n",
              "38   1884     Benjamin Butler         Anti-Monopoly        134294   loss   \n",
              "115  1968      George Wallace  American Independent       9901118   loss   \n",
              "119  1972     John G. Schmitz  American Independent       1100868   loss   \n",
              "124  1976       Lester Maddox  American Independent        170274   loss   \n",
              "126  1976  Thomas J. Anderson              American        158271   loss   \n",
              "\n",
              "             %  \n",
              "6     7.821583  \n",
              "22   21.554001  \n",
              "38    1.335838  \n",
              "115  13.571218  \n",
              "119   1.421524  \n",
              "124   0.209640  \n",
              "126   0.194862  "
            ]
          },
          "execution_count": 37,
          "metadata": {},
          "output_type": "execute_result"
        }
      ],
      "source": [
        "a_parties = [\"Anti-Masonic\", \"American\", \"Anti-Monopoly\", \"American Independent\"]\n",
        "elections[elections[\"Party\"].isin(a_parties)]"
      ]
    },
    {
      "cell_type": "code",
      "execution_count": null,
      "metadata": {
        "colab": {
          "base_uri": "https://localhost:8080/",
          "height": 269
        },
        "id": "FcrhmIQNFXG-",
        "outputId": "81f36a96-d43c-4425-a370-a32062ac133a"
      },
      "outputs": [
        {
          "data": {
            "text/html": [
              "<div>\n",
              "<style scoped>\n",
              "    .dataframe tbody tr th:only-of-type {\n",
              "        vertical-align: middle;\n",
              "    }\n",
              "\n",
              "    .dataframe tbody tr th {\n",
              "        vertical-align: top;\n",
              "    }\n",
              "\n",
              "    .dataframe thead th {\n",
              "        text-align: right;\n",
              "    }\n",
              "</style>\n",
              "<table border=\"1\" class=\"dataframe\">\n",
              "  <thead>\n",
              "    <tr style=\"text-align: right;\">\n",
              "      <th></th>\n",
              "      <th>Year</th>\n",
              "      <th>Candidate</th>\n",
              "      <th>Party</th>\n",
              "      <th>Popular vote</th>\n",
              "      <th>Result</th>\n",
              "      <th>%</th>\n",
              "    </tr>\n",
              "  </thead>\n",
              "  <tbody>\n",
              "    <tr>\n",
              "      <th>6</th>\n",
              "      <td>1832</td>\n",
              "      <td>William Wirt</td>\n",
              "      <td>Anti-Masonic</td>\n",
              "      <td>100715</td>\n",
              "      <td>loss</td>\n",
              "      <td>7.821583</td>\n",
              "    </tr>\n",
              "    <tr>\n",
              "      <th>22</th>\n",
              "      <td>1856</td>\n",
              "      <td>Millard Fillmore</td>\n",
              "      <td>American</td>\n",
              "      <td>873053</td>\n",
              "      <td>loss</td>\n",
              "      <td>21.554001</td>\n",
              "    </tr>\n",
              "    <tr>\n",
              "      <th>38</th>\n",
              "      <td>1884</td>\n",
              "      <td>Benjamin Butler</td>\n",
              "      <td>Anti-Monopoly</td>\n",
              "      <td>134294</td>\n",
              "      <td>loss</td>\n",
              "      <td>1.335838</td>\n",
              "    </tr>\n",
              "    <tr>\n",
              "      <th>115</th>\n",
              "      <td>1968</td>\n",
              "      <td>George Wallace</td>\n",
              "      <td>American Independent</td>\n",
              "      <td>9901118</td>\n",
              "      <td>loss</td>\n",
              "      <td>13.571218</td>\n",
              "    </tr>\n",
              "    <tr>\n",
              "      <th>119</th>\n",
              "      <td>1972</td>\n",
              "      <td>John G. Schmitz</td>\n",
              "      <td>American Independent</td>\n",
              "      <td>1100868</td>\n",
              "      <td>loss</td>\n",
              "      <td>1.421524</td>\n",
              "    </tr>\n",
              "    <tr>\n",
              "      <th>124</th>\n",
              "      <td>1976</td>\n",
              "      <td>Lester Maddox</td>\n",
              "      <td>American Independent</td>\n",
              "      <td>170274</td>\n",
              "      <td>loss</td>\n",
              "      <td>0.209640</td>\n",
              "    </tr>\n",
              "    <tr>\n",
              "      <th>126</th>\n",
              "      <td>1976</td>\n",
              "      <td>Thomas J. Anderson</td>\n",
              "      <td>American</td>\n",
              "      <td>158271</td>\n",
              "      <td>loss</td>\n",
              "      <td>0.194862</td>\n",
              "    </tr>\n",
              "  </tbody>\n",
              "</table>\n",
              "</div>"
            ],
            "text/plain": [
              "     Year           Candidate                 Party  Popular vote Result  \\\n",
              "6    1832        William Wirt          Anti-Masonic        100715   loss   \n",
              "22   1856    Millard Fillmore              American        873053   loss   \n",
              "38   1884     Benjamin Butler         Anti-Monopoly        134294   loss   \n",
              "115  1968      George Wallace  American Independent       9901118   loss   \n",
              "119  1972     John G. Schmitz  American Independent       1100868   loss   \n",
              "124  1976       Lester Maddox  American Independent        170274   loss   \n",
              "126  1976  Thomas J. Anderson              American        158271   loss   \n",
              "\n",
              "             %  \n",
              "6     7.821583  \n",
              "22   21.554001  \n",
              "38    1.335838  \n",
              "115  13.571218  \n",
              "119   1.421524  \n",
              "124   0.209640  \n",
              "126   0.194862  "
            ]
          },
          "execution_count": 38,
          "metadata": {},
          "output_type": "execute_result"
        }
      ],
      "source": [
        "elections[elections[\"Party\"].str.startswith(\"A\")]"
      ]
    },
    {
      "cell_type": "code",
      "execution_count": null,
      "metadata": {
        "colab": {
          "base_uri": "https://localhost:8080/",
          "height": 237
        },
        "id": "y3Xz18_kFXG_",
        "outputId": "1ad961f2-15f2-4a13-b507-7909213e17b1"
      },
      "outputs": [
        {
          "data": {
            "text/html": [
              "<div>\n",
              "<style scoped>\n",
              "    .dataframe tbody tr th:only-of-type {\n",
              "        vertical-align: middle;\n",
              "    }\n",
              "\n",
              "    .dataframe tbody tr th {\n",
              "        vertical-align: top;\n",
              "    }\n",
              "\n",
              "    .dataframe thead th {\n",
              "        text-align: right;\n",
              "    }\n",
              "</style>\n",
              "<table border=\"1\" class=\"dataframe\">\n",
              "  <thead>\n",
              "    <tr style=\"text-align: right;\">\n",
              "      <th></th>\n",
              "      <th>Year</th>\n",
              "      <th>Candidate</th>\n",
              "      <th>Party</th>\n",
              "      <th>Popular vote</th>\n",
              "      <th>Result</th>\n",
              "      <th>%</th>\n",
              "    </tr>\n",
              "  </thead>\n",
              "  <tbody>\n",
              "    <tr>\n",
              "      <th>152</th>\n",
              "      <td>2000</td>\n",
              "      <td>George W. Bush</td>\n",
              "      <td>Republican</td>\n",
              "      <td>50456002</td>\n",
              "      <td>win</td>\n",
              "      <td>47.974666</td>\n",
              "    </tr>\n",
              "    <tr>\n",
              "      <th>157</th>\n",
              "      <td>2004</td>\n",
              "      <td>George W. Bush</td>\n",
              "      <td>Republican</td>\n",
              "      <td>62040610</td>\n",
              "      <td>win</td>\n",
              "      <td>50.771824</td>\n",
              "    </tr>\n",
              "    <tr>\n",
              "      <th>162</th>\n",
              "      <td>2008</td>\n",
              "      <td>Barack Obama</td>\n",
              "      <td>Democratic</td>\n",
              "      <td>69498516</td>\n",
              "      <td>win</td>\n",
              "      <td>53.023510</td>\n",
              "    </tr>\n",
              "    <tr>\n",
              "      <th>168</th>\n",
              "      <td>2012</td>\n",
              "      <td>Barack Obama</td>\n",
              "      <td>Democratic</td>\n",
              "      <td>65915795</td>\n",
              "      <td>win</td>\n",
              "      <td>51.258484</td>\n",
              "    </tr>\n",
              "    <tr>\n",
              "      <th>173</th>\n",
              "      <td>2016</td>\n",
              "      <td>Donald Trump</td>\n",
              "      <td>Republican</td>\n",
              "      <td>62984828</td>\n",
              "      <td>win</td>\n",
              "      <td>46.407862</td>\n",
              "    </tr>\n",
              "    <tr>\n",
              "      <th>178</th>\n",
              "      <td>2020</td>\n",
              "      <td>Joseph Biden</td>\n",
              "      <td>Democratic</td>\n",
              "      <td>81268924</td>\n",
              "      <td>win</td>\n",
              "      <td>51.311515</td>\n",
              "    </tr>\n",
              "  </tbody>\n",
              "</table>\n",
              "</div>"
            ],
            "text/plain": [
              "     Year       Candidate       Party  Popular vote Result          %\n",
              "152  2000  George W. Bush  Republican      50456002    win  47.974666\n",
              "157  2004  George W. Bush  Republican      62040610    win  50.771824\n",
              "162  2008    Barack Obama  Democratic      69498516    win  53.023510\n",
              "168  2012    Barack Obama  Democratic      65915795    win  51.258484\n",
              "173  2016    Donald Trump  Republican      62984828    win  46.407862\n",
              "178  2020    Joseph Biden  Democratic      81268924    win  51.311515"
            ]
          },
          "execution_count": 39,
          "metadata": {},
          "output_type": "execute_result"
        }
      ],
      "source": [
        "elections.query('Year >= 2000 and Result == \"win\"')"
      ]
    },
    {
      "cell_type": "code",
      "execution_count": null,
      "metadata": {
        "colab": {
          "base_uri": "https://localhost:8080/",
          "height": 206
        },
        "id": "mg88UIYNFXG_",
        "outputId": "6d60d310-1e66-4a87-97d0-2c5ff5e73644"
      },
      "outputs": [
        {
          "data": {
            "text/html": [
              "<div>\n",
              "<style scoped>\n",
              "    .dataframe tbody tr th:only-of-type {\n",
              "        vertical-align: middle;\n",
              "    }\n",
              "\n",
              "    .dataframe tbody tr th {\n",
              "        vertical-align: top;\n",
              "    }\n",
              "\n",
              "    .dataframe thead th {\n",
              "        text-align: right;\n",
              "    }\n",
              "</style>\n",
              "<table border=\"1\" class=\"dataframe\">\n",
              "  <thead>\n",
              "    <tr style=\"text-align: right;\">\n",
              "      <th></th>\n",
              "      <th>Year</th>\n",
              "      <th>Candidate</th>\n",
              "      <th>Party</th>\n",
              "      <th>Popular vote</th>\n",
              "      <th>Result</th>\n",
              "      <th>%</th>\n",
              "    </tr>\n",
              "  </thead>\n",
              "  <tbody>\n",
              "    <tr>\n",
              "      <th>1</th>\n",
              "      <td>1824</td>\n",
              "      <td>John Quincy Adams</td>\n",
              "      <td>Democratic-Republican</td>\n",
              "      <td>113142</td>\n",
              "      <td>win</td>\n",
              "      <td>42.789878</td>\n",
              "    </tr>\n",
              "    <tr>\n",
              "      <th>11</th>\n",
              "      <td>1840</td>\n",
              "      <td>William Henry Harrison</td>\n",
              "      <td>Whig</td>\n",
              "      <td>1275583</td>\n",
              "      <td>win</td>\n",
              "      <td>53.051213</td>\n",
              "    </tr>\n",
              "    <tr>\n",
              "      <th>16</th>\n",
              "      <td>1848</td>\n",
              "      <td>Zachary Taylor</td>\n",
              "      <td>Whig</td>\n",
              "      <td>1360235</td>\n",
              "      <td>win</td>\n",
              "      <td>47.309296</td>\n",
              "    </tr>\n",
              "    <tr>\n",
              "      <th>27</th>\n",
              "      <td>1864</td>\n",
              "      <td>Abraham Lincoln</td>\n",
              "      <td>National Union</td>\n",
              "      <td>2211317</td>\n",
              "      <td>win</td>\n",
              "      <td>54.951512</td>\n",
              "    </tr>\n",
              "  </tbody>\n",
              "</table>\n",
              "</div>"
            ],
            "text/plain": [
              "    Year               Candidate                  Party  Popular vote Result  \\\n",
              "1   1824       John Quincy Adams  Democratic-Republican        113142    win   \n",
              "11  1840  William Henry Harrison                   Whig       1275583    win   \n",
              "16  1848          Zachary Taylor                   Whig       1360235    win   \n",
              "27  1864         Abraham Lincoln         National Union       2211317    win   \n",
              "\n",
              "            %  \n",
              "1   42.789878  \n",
              "11  53.051213  \n",
              "16  47.309296  \n",
              "27  54.951512  "
            ]
          },
          "execution_count": 40,
          "metadata": {},
          "output_type": "execute_result"
        }
      ],
      "source": [
        "parties = [\"Republican\", \"Democratic\"]\n",
        "elections.query('Result == \"win\" and Party not in @parties')"
      ]
    },
    {
      "cell_type": "markdown",
      "metadata": {
        "id": "ll6j6m_GFXG_"
      },
      "source": [
        "## Built In Functions"
      ]
    },
    {
      "cell_type": "code",
      "execution_count": null,
      "metadata": {
        "colab": {
          "base_uri": "https://localhost:8080/"
        },
        "id": "f2kg_7AWFXG_",
        "outputId": "1717f337-4118-4ff5-9d45-38093b44ab2b"
      },
      "outputs": [
        {
          "data": {
            "text/plain": [
              "1     42.789878\n",
              "2     56.203927\n",
              "4     54.574789\n",
              "8     52.272472\n",
              "11    53.051213\n",
              "Name: %, dtype: float64"
            ]
          },
          "execution_count": 41,
          "metadata": {},
          "output_type": "execute_result"
        }
      ],
      "source": [
        "winners = elections.query('Result == \"win\"')[\"%\"]\n",
        "winners.head(5)"
      ]
    },
    {
      "cell_type": "code",
      "execution_count": null,
      "metadata": {
        "colab": {
          "base_uri": "https://localhost:8080/"
        },
        "id": "rulyXEpFFXHA",
        "outputId": "0e4aa5ac-fade-4461-eb35-c959fc0237aa"
      },
      "outputs": [
        {
          "data": {
            "text/plain": [
              "51.711492939"
            ]
          },
          "execution_count": 42,
          "metadata": {},
          "output_type": "execute_result"
        }
      ],
      "source": [
        "np.mean(winners)"
      ]
    },
    {
      "cell_type": "code",
      "execution_count": null,
      "metadata": {
        "colab": {
          "base_uri": "https://localhost:8080/"
        },
        "id": "TUXDU6FWFXHA",
        "outputId": "29adf85d-4f46-419f-84c0-51f05ada0f9e"
      },
      "outputs": [
        {
          "data": {
            "text/plain": [
              "61.34470329"
            ]
          },
          "execution_count": 43,
          "metadata": {},
          "output_type": "execute_result"
        }
      ],
      "source": [
        "max(winners)"
      ]
    },
    {
      "cell_type": "code",
      "execution_count": null,
      "metadata": {
        "colab": {
          "base_uri": "https://localhost:8080/",
          "height": 424
        },
        "id": "eT_8A3VhFXHA",
        "outputId": "9620ac3a-1331-4707-8fd3-7f8ba24a7798"
      },
      "outputs": [
        {
          "data": {
            "text/html": [
              "<div>\n",
              "<style scoped>\n",
              "    .dataframe tbody tr th:only-of-type {\n",
              "        vertical-align: middle;\n",
              "    }\n",
              "\n",
              "    .dataframe tbody tr th {\n",
              "        vertical-align: top;\n",
              "    }\n",
              "\n",
              "    .dataframe thead th {\n",
              "        text-align: right;\n",
              "    }\n",
              "</style>\n",
              "<table border=\"1\" class=\"dataframe\">\n",
              "  <thead>\n",
              "    <tr style=\"text-align: right;\">\n",
              "      <th></th>\n",
              "      <th>Year</th>\n",
              "      <th>Candidate</th>\n",
              "      <th>Party</th>\n",
              "      <th>Popular vote</th>\n",
              "      <th>Result</th>\n",
              "      <th>%</th>\n",
              "    </tr>\n",
              "  </thead>\n",
              "  <tbody>\n",
              "    <tr>\n",
              "      <th>0</th>\n",
              "      <td>1824</td>\n",
              "      <td>Andrew Jackson</td>\n",
              "      <td>Democratic-Republican</td>\n",
              "      <td>151271</td>\n",
              "      <td>loss</td>\n",
              "      <td>57.210122</td>\n",
              "    </tr>\n",
              "    <tr>\n",
              "      <th>1</th>\n",
              "      <td>1824</td>\n",
              "      <td>John Quincy Adams</td>\n",
              "      <td>Democratic-Republican</td>\n",
              "      <td>113142</td>\n",
              "      <td>win</td>\n",
              "      <td>42.789878</td>\n",
              "    </tr>\n",
              "    <tr>\n",
              "      <th>2</th>\n",
              "      <td>1828</td>\n",
              "      <td>Andrew Jackson</td>\n",
              "      <td>Democratic</td>\n",
              "      <td>642806</td>\n",
              "      <td>win</td>\n",
              "      <td>56.203927</td>\n",
              "    </tr>\n",
              "    <tr>\n",
              "      <th>3</th>\n",
              "      <td>1828</td>\n",
              "      <td>John Quincy Adams</td>\n",
              "      <td>National Republican</td>\n",
              "      <td>500897</td>\n",
              "      <td>loss</td>\n",
              "      <td>43.796073</td>\n",
              "    </tr>\n",
              "    <tr>\n",
              "      <th>4</th>\n",
              "      <td>1832</td>\n",
              "      <td>Andrew Jackson</td>\n",
              "      <td>Democratic</td>\n",
              "      <td>702735</td>\n",
              "      <td>win</td>\n",
              "      <td>54.574789</td>\n",
              "    </tr>\n",
              "    <tr>\n",
              "      <th>...</th>\n",
              "      <td>...</td>\n",
              "      <td>...</td>\n",
              "      <td>...</td>\n",
              "      <td>...</td>\n",
              "      <td>...</td>\n",
              "      <td>...</td>\n",
              "    </tr>\n",
              "    <tr>\n",
              "      <th>177</th>\n",
              "      <td>2016</td>\n",
              "      <td>Jill Stein</td>\n",
              "      <td>Green</td>\n",
              "      <td>1457226</td>\n",
              "      <td>loss</td>\n",
              "      <td>1.073699</td>\n",
              "    </tr>\n",
              "    <tr>\n",
              "      <th>178</th>\n",
              "      <td>2020</td>\n",
              "      <td>Joseph Biden</td>\n",
              "      <td>Democratic</td>\n",
              "      <td>81268924</td>\n",
              "      <td>win</td>\n",
              "      <td>51.311515</td>\n",
              "    </tr>\n",
              "    <tr>\n",
              "      <th>179</th>\n",
              "      <td>2020</td>\n",
              "      <td>Donald Trump</td>\n",
              "      <td>Republican</td>\n",
              "      <td>74216154</td>\n",
              "      <td>loss</td>\n",
              "      <td>46.858542</td>\n",
              "    </tr>\n",
              "    <tr>\n",
              "      <th>180</th>\n",
              "      <td>2020</td>\n",
              "      <td>Jo Jorgensen</td>\n",
              "      <td>Libertarian</td>\n",
              "      <td>1865724</td>\n",
              "      <td>loss</td>\n",
              "      <td>1.177979</td>\n",
              "    </tr>\n",
              "    <tr>\n",
              "      <th>181</th>\n",
              "      <td>2020</td>\n",
              "      <td>Howard Hawkins</td>\n",
              "      <td>Green</td>\n",
              "      <td>405035</td>\n",
              "      <td>loss</td>\n",
              "      <td>0.255731</td>\n",
              "    </tr>\n",
              "  </tbody>\n",
              "</table>\n",
              "<p>182 rows × 6 columns</p>\n",
              "</div>"
            ],
            "text/plain": [
              "     Year          Candidate                  Party  Popular vote Result  \\\n",
              "0    1824     Andrew Jackson  Democratic-Republican        151271   loss   \n",
              "1    1824  John Quincy Adams  Democratic-Republican        113142    win   \n",
              "2    1828     Andrew Jackson             Democratic        642806    win   \n",
              "3    1828  John Quincy Adams    National Republican        500897   loss   \n",
              "4    1832     Andrew Jackson             Democratic        702735    win   \n",
              "..    ...                ...                    ...           ...    ...   \n",
              "177  2016         Jill Stein                  Green       1457226   loss   \n",
              "178  2020       Joseph Biden             Democratic      81268924    win   \n",
              "179  2020       Donald Trump             Republican      74216154   loss   \n",
              "180  2020       Jo Jorgensen            Libertarian       1865724   loss   \n",
              "181  2020     Howard Hawkins                  Green        405035   loss   \n",
              "\n",
              "             %  \n",
              "0    57.210122  \n",
              "1    42.789878  \n",
              "2    56.203927  \n",
              "3    43.796073  \n",
              "4    54.574789  \n",
              "..         ...  \n",
              "177   1.073699  \n",
              "178  51.311515  \n",
              "179  46.858542  \n",
              "180   1.177979  \n",
              "181   0.255731  \n",
              "\n",
              "[182 rows x 6 columns]"
            ]
          },
          "execution_count": 44,
          "metadata": {},
          "output_type": "execute_result"
        }
      ],
      "source": [
        "elections"
      ]
    },
    {
      "cell_type": "code",
      "execution_count": null,
      "metadata": {
        "colab": {
          "base_uri": "https://localhost:8080/"
        },
        "id": "3-N4_RRsFXHA",
        "outputId": "5f0635f5-c24f-45c8-8ca4-e94e203cc37a"
      },
      "outputs": [
        {
          "data": {
            "text/plain": [
              "1092"
            ]
          },
          "execution_count": 45,
          "metadata": {},
          "output_type": "execute_result"
        }
      ],
      "source": [
        "elections.size"
      ]
    },
    {
      "cell_type": "code",
      "execution_count": null,
      "metadata": {
        "colab": {
          "base_uri": "https://localhost:8080/"
        },
        "id": "KKpXOhF_FXHA",
        "outputId": "72a1ea45-8c65-490e-85c8-7ba8262129b9"
      },
      "outputs": [
        {
          "data": {
            "text/plain": [
              "(182, 6)"
            ]
          },
          "execution_count": 46,
          "metadata": {},
          "output_type": "execute_result"
        }
      ],
      "source": [
        "elections.shape"
      ]
    },
    {
      "cell_type": "code",
      "execution_count": null,
      "metadata": {
        "colab": {
          "base_uri": "https://localhost:8080/",
          "height": 300
        },
        "id": "x9ptTu49FXHA",
        "outputId": "ce34ee38-8074-4cf8-9158-81eeee521cbc"
      },
      "outputs": [
        {
          "data": {
            "text/html": [
              "<div>\n",
              "<style scoped>\n",
              "    .dataframe tbody tr th:only-of-type {\n",
              "        vertical-align: middle;\n",
              "    }\n",
              "\n",
              "    .dataframe tbody tr th {\n",
              "        vertical-align: top;\n",
              "    }\n",
              "\n",
              "    .dataframe thead th {\n",
              "        text-align: right;\n",
              "    }\n",
              "</style>\n",
              "<table border=\"1\" class=\"dataframe\">\n",
              "  <thead>\n",
              "    <tr style=\"text-align: right;\">\n",
              "      <th></th>\n",
              "      <th>Year</th>\n",
              "      <th>Popular vote</th>\n",
              "      <th>%</th>\n",
              "    </tr>\n",
              "  </thead>\n",
              "  <tbody>\n",
              "    <tr>\n",
              "      <th>count</th>\n",
              "      <td>182.000000</td>\n",
              "      <td>1.820000e+02</td>\n",
              "      <td>182.000000</td>\n",
              "    </tr>\n",
              "    <tr>\n",
              "      <th>mean</th>\n",
              "      <td>1934.087912</td>\n",
              "      <td>1.235364e+07</td>\n",
              "      <td>27.470350</td>\n",
              "    </tr>\n",
              "    <tr>\n",
              "      <th>std</th>\n",
              "      <td>57.048908</td>\n",
              "      <td>1.907715e+07</td>\n",
              "      <td>22.968034</td>\n",
              "    </tr>\n",
              "    <tr>\n",
              "      <th>min</th>\n",
              "      <td>1824.000000</td>\n",
              "      <td>1.007150e+05</td>\n",
              "      <td>0.098088</td>\n",
              "    </tr>\n",
              "    <tr>\n",
              "      <th>25%</th>\n",
              "      <td>1889.000000</td>\n",
              "      <td>3.876395e+05</td>\n",
              "      <td>1.219996</td>\n",
              "    </tr>\n",
              "    <tr>\n",
              "      <th>50%</th>\n",
              "      <td>1936.000000</td>\n",
              "      <td>1.709375e+06</td>\n",
              "      <td>37.677893</td>\n",
              "    </tr>\n",
              "    <tr>\n",
              "      <th>75%</th>\n",
              "      <td>1988.000000</td>\n",
              "      <td>1.897775e+07</td>\n",
              "      <td>48.354977</td>\n",
              "    </tr>\n",
              "    <tr>\n",
              "      <th>max</th>\n",
              "      <td>2020.000000</td>\n",
              "      <td>8.126892e+07</td>\n",
              "      <td>61.344703</td>\n",
              "    </tr>\n",
              "  </tbody>\n",
              "</table>\n",
              "</div>"
            ],
            "text/plain": [
              "              Year  Popular vote           %\n",
              "count   182.000000  1.820000e+02  182.000000\n",
              "mean   1934.087912  1.235364e+07   27.470350\n",
              "std      57.048908  1.907715e+07   22.968034\n",
              "min    1824.000000  1.007150e+05    0.098088\n",
              "25%    1889.000000  3.876395e+05    1.219996\n",
              "50%    1936.000000  1.709375e+06   37.677893\n",
              "75%    1988.000000  1.897775e+07   48.354977\n",
              "max    2020.000000  8.126892e+07   61.344703"
            ]
          },
          "execution_count": 47,
          "metadata": {},
          "output_type": "execute_result"
        }
      ],
      "source": [
        "elections.describe()"
      ]
    },
    {
      "cell_type": "code",
      "execution_count": null,
      "metadata": {
        "colab": {
          "base_uri": "https://localhost:8080/",
          "height": 206
        },
        "id": "6bblZaI2FXHB",
        "outputId": "7e55f1a4-8629-43a2-c53b-98ac4c1d46ee"
      },
      "outputs": [
        {
          "data": {
            "text/html": [
              "<div>\n",
              "<style scoped>\n",
              "    .dataframe tbody tr th:only-of-type {\n",
              "        vertical-align: middle;\n",
              "    }\n",
              "\n",
              "    .dataframe tbody tr th {\n",
              "        vertical-align: top;\n",
              "    }\n",
              "\n",
              "    .dataframe thead th {\n",
              "        text-align: right;\n",
              "    }\n",
              "</style>\n",
              "<table border=\"1\" class=\"dataframe\">\n",
              "  <thead>\n",
              "    <tr style=\"text-align: right;\">\n",
              "      <th></th>\n",
              "      <th>Year</th>\n",
              "      <th>Candidate</th>\n",
              "    </tr>\n",
              "  </thead>\n",
              "  <tbody>\n",
              "    <tr>\n",
              "      <th>181</th>\n",
              "      <td>2020</td>\n",
              "      <td>Howard Hawkins</td>\n",
              "    </tr>\n",
              "    <tr>\n",
              "      <th>180</th>\n",
              "      <td>2020</td>\n",
              "      <td>Jo Jorgensen</td>\n",
              "    </tr>\n",
              "    <tr>\n",
              "      <th>112</th>\n",
              "      <td>1960</td>\n",
              "      <td>Richard Nixon</td>\n",
              "    </tr>\n",
              "    <tr>\n",
              "      <th>12</th>\n",
              "      <td>1844</td>\n",
              "      <td>Henry Clay</td>\n",
              "    </tr>\n",
              "    <tr>\n",
              "      <th>119</th>\n",
              "      <td>1972</td>\n",
              "      <td>John G. Schmitz</td>\n",
              "    </tr>\n",
              "  </tbody>\n",
              "</table>\n",
              "</div>"
            ],
            "text/plain": [
              "     Year        Candidate\n",
              "181  2020   Howard Hawkins\n",
              "180  2020     Jo Jorgensen\n",
              "112  1960    Richard Nixon\n",
              "12   1844       Henry Clay\n",
              "119  1972  John G. Schmitz"
            ]
          },
          "execution_count": 48,
          "metadata": {},
          "output_type": "execute_result"
        }
      ],
      "source": [
        "elections.sample(5).iloc[:, 0:2]"
      ]
    },
    {
      "cell_type": "code",
      "execution_count": null,
      "metadata": {
        "colab": {
          "base_uri": "https://localhost:8080/",
          "height": 175
        },
        "id": "r_XYGrxEFXHB",
        "outputId": "6ae80aee-d3af-42c0-9325-e0a8c6926016",
        "scrolled": true
      },
      "outputs": [
        {
          "data": {
            "text/html": [
              "<div>\n",
              "<style scoped>\n",
              "    .dataframe tbody tr th:only-of-type {\n",
              "        vertical-align: middle;\n",
              "    }\n",
              "\n",
              "    .dataframe tbody tr th {\n",
              "        vertical-align: top;\n",
              "    }\n",
              "\n",
              "    .dataframe thead th {\n",
              "        text-align: right;\n",
              "    }\n",
              "</style>\n",
              "<table border=\"1\" class=\"dataframe\">\n",
              "  <thead>\n",
              "    <tr style=\"text-align: right;\">\n",
              "      <th></th>\n",
              "      <th>Year</th>\n",
              "      <th>Candidate</th>\n",
              "    </tr>\n",
              "  </thead>\n",
              "  <tbody>\n",
              "    <tr>\n",
              "      <th>154</th>\n",
              "      <td>2000</td>\n",
              "      <td>Pat Buchanan</td>\n",
              "    </tr>\n",
              "    <tr>\n",
              "      <th>151</th>\n",
              "      <td>2000</td>\n",
              "      <td>Al Gore</td>\n",
              "    </tr>\n",
              "    <tr>\n",
              "      <th>155</th>\n",
              "      <td>2000</td>\n",
              "      <td>Ralph Nader</td>\n",
              "    </tr>\n",
              "    <tr>\n",
              "      <th>152</th>\n",
              "      <td>2000</td>\n",
              "      <td>George W. Bush</td>\n",
              "    </tr>\n",
              "  </tbody>\n",
              "</table>\n",
              "</div>"
            ],
            "text/plain": [
              "     Year       Candidate\n",
              "154  2000    Pat Buchanan\n",
              "151  2000         Al Gore\n",
              "155  2000     Ralph Nader\n",
              "152  2000  George W. Bush"
            ]
          },
          "execution_count": 49,
          "metadata": {},
          "output_type": "execute_result"
        }
      ],
      "source": [
        "elections.query('Year == 2000').sample(4, replace = True).iloc[:, 0:2]"
      ]
    },
    {
      "cell_type": "code",
      "execution_count": null,
      "metadata": {
        "colab": {
          "base_uri": "https://localhost:8080/"
        },
        "id": "-Jo_g4NIFXHB",
        "outputId": "8f84771b-440b-4f70-f05e-773792a61d7e"
      },
      "outputs": [
        {
          "data": {
            "text/plain": [
              "Norman Thomas         5\n",
              "Ralph Nader           4\n",
              "Franklin Roosevelt    4\n",
              "Eugene V. Debs        4\n",
              "Andrew Jackson        3\n",
              "                     ..\n",
              "Silas C. Swallow      1\n",
              "Alton B. Parker       1\n",
              "John G. Woolley       1\n",
              "Joshua Levering       1\n",
              "Howard Hawkins        1\n",
              "Name: Candidate, Length: 132, dtype: int64"
            ]
          },
          "execution_count": 50,
          "metadata": {},
          "output_type": "execute_result"
        }
      ],
      "source": [
        "elections[\"Candidate\"].value_counts()"
      ]
    },
    {
      "cell_type": "code",
      "execution_count": null,
      "metadata": {
        "colab": {
          "base_uri": "https://localhost:8080/"
        },
        "id": "F8ZX3IbQFXHB",
        "outputId": "d7d34c6f-489f-4b3a-90cf-c27230e21a08"
      },
      "outputs": [
        {
          "data": {
            "text/plain": [
              "array(['Democratic-Republican', 'Democratic', 'National Republican',\n",
              "       'Anti-Masonic', 'Whig', 'Free Soil', 'Republican', 'American',\n",
              "       'Constitutional Union', 'Southern Democratic',\n",
              "       'Northern Democratic', 'National Union', 'Liberal Republican',\n",
              "       'Greenback', 'Anti-Monopoly', 'Prohibition', 'Union Labor',\n",
              "       'Populist', 'National Democratic', 'Socialist', 'Progressive',\n",
              "       'Farmer–Labor', 'Communist', 'Union', 'Dixiecrat',\n",
              "       \"States' Rights\", 'American Independent', 'Independent',\n",
              "       'Libertarian', 'Citizens', 'New Alliance', 'Taxpayers',\n",
              "       'Natural Law', 'Green', 'Reform', 'Constitution'], dtype=object)"
            ]
          },
          "execution_count": 51,
          "metadata": {},
          "output_type": "execute_result"
        }
      ],
      "source": [
        "elections[\"Party\"].unique()"
      ]
    },
    {
      "cell_type": "code",
      "execution_count": null,
      "metadata": {
        "colab": {
          "base_uri": "https://localhost:8080/"
        },
        "id": "Lo9JXWm0FXHB",
        "outputId": "2e46811b-cfb9-43c5-b4a7-2f101ec5d8a5"
      },
      "outputs": [
        {
          "data": {
            "text/plain": [
              "75           Aaron S. Watkins\n",
              "27            Abraham Lincoln\n",
              "23            Abraham Lincoln\n",
              "108           Adlai Stevenson\n",
              "105           Adlai Stevenson\n",
              "                ...          \n",
              "19             Winfield Scott\n",
              "37     Winfield Scott Hancock\n",
              "74             Woodrow Wilson\n",
              "70             Woodrow Wilson\n",
              "16             Zachary Taylor\n",
              "Name: Candidate, Length: 182, dtype: object"
            ]
          },
          "execution_count": 52,
          "metadata": {},
          "output_type": "execute_result"
        }
      ],
      "source": [
        "elections[\"Candidate\"].sort_values()"
      ]
    },
    {
      "cell_type": "code",
      "execution_count": null,
      "metadata": {
        "colab": {
          "base_uri": "https://localhost:8080/",
          "height": 424
        },
        "id": "qEEveIoqFXHC",
        "outputId": "4c8319a2-1ba0-499f-a6fc-421f7b4ed7b9"
      },
      "outputs": [
        {
          "data": {
            "text/html": [
              "<div>\n",
              "<style scoped>\n",
              "    .dataframe tbody tr th:only-of-type {\n",
              "        vertical-align: middle;\n",
              "    }\n",
              "\n",
              "    .dataframe tbody tr th {\n",
              "        vertical-align: top;\n",
              "    }\n",
              "\n",
              "    .dataframe thead th {\n",
              "        text-align: right;\n",
              "    }\n",
              "</style>\n",
              "<table border=\"1\" class=\"dataframe\">\n",
              "  <thead>\n",
              "    <tr style=\"text-align: right;\">\n",
              "      <th></th>\n",
              "      <th>Year</th>\n",
              "      <th>Candidate</th>\n",
              "      <th>Party</th>\n",
              "      <th>Popular vote</th>\n",
              "      <th>Result</th>\n",
              "      <th>%</th>\n",
              "    </tr>\n",
              "  </thead>\n",
              "  <tbody>\n",
              "    <tr>\n",
              "      <th>114</th>\n",
              "      <td>1964</td>\n",
              "      <td>Lyndon Johnson</td>\n",
              "      <td>Democratic</td>\n",
              "      <td>43127041</td>\n",
              "      <td>win</td>\n",
              "      <td>61.344703</td>\n",
              "    </tr>\n",
              "    <tr>\n",
              "      <th>91</th>\n",
              "      <td>1936</td>\n",
              "      <td>Franklin Roosevelt</td>\n",
              "      <td>Democratic</td>\n",
              "      <td>27752648</td>\n",
              "      <td>win</td>\n",
              "      <td>60.978107</td>\n",
              "    </tr>\n",
              "    <tr>\n",
              "      <th>120</th>\n",
              "      <td>1972</td>\n",
              "      <td>Richard Nixon</td>\n",
              "      <td>Republican</td>\n",
              "      <td>47168710</td>\n",
              "      <td>win</td>\n",
              "      <td>60.907806</td>\n",
              "    </tr>\n",
              "    <tr>\n",
              "      <th>79</th>\n",
              "      <td>1920</td>\n",
              "      <td>Warren Harding</td>\n",
              "      <td>Republican</td>\n",
              "      <td>16144093</td>\n",
              "      <td>win</td>\n",
              "      <td>60.574501</td>\n",
              "    </tr>\n",
              "    <tr>\n",
              "      <th>133</th>\n",
              "      <td>1984</td>\n",
              "      <td>Ronald Reagan</td>\n",
              "      <td>Republican</td>\n",
              "      <td>54455472</td>\n",
              "      <td>win</td>\n",
              "      <td>59.023326</td>\n",
              "    </tr>\n",
              "    <tr>\n",
              "      <th>...</th>\n",
              "      <td>...</td>\n",
              "      <td>...</td>\n",
              "      <td>...</td>\n",
              "      <td>...</td>\n",
              "      <td>...</td>\n",
              "      <td>...</td>\n",
              "    </tr>\n",
              "    <tr>\n",
              "      <th>165</th>\n",
              "      <td>2008</td>\n",
              "      <td>Cynthia McKinney</td>\n",
              "      <td>Green</td>\n",
              "      <td>161797</td>\n",
              "      <td>loss</td>\n",
              "      <td>0.123442</td>\n",
              "    </tr>\n",
              "    <tr>\n",
              "      <th>148</th>\n",
              "      <td>1996</td>\n",
              "      <td>John Hagelin</td>\n",
              "      <td>Natural Law</td>\n",
              "      <td>113670</td>\n",
              "      <td>loss</td>\n",
              "      <td>0.118219</td>\n",
              "    </tr>\n",
              "    <tr>\n",
              "      <th>160</th>\n",
              "      <td>2004</td>\n",
              "      <td>Michael Peroutka</td>\n",
              "      <td>Constitution</td>\n",
              "      <td>143630</td>\n",
              "      <td>loss</td>\n",
              "      <td>0.117542</td>\n",
              "    </tr>\n",
              "    <tr>\n",
              "      <th>141</th>\n",
              "      <td>1992</td>\n",
              "      <td>Bo Gritz</td>\n",
              "      <td>Populist</td>\n",
              "      <td>106152</td>\n",
              "      <td>loss</td>\n",
              "      <td>0.101918</td>\n",
              "    </tr>\n",
              "    <tr>\n",
              "      <th>156</th>\n",
              "      <td>2004</td>\n",
              "      <td>David Cobb</td>\n",
              "      <td>Green</td>\n",
              "      <td>119859</td>\n",
              "      <td>loss</td>\n",
              "      <td>0.098088</td>\n",
              "    </tr>\n",
              "  </tbody>\n",
              "</table>\n",
              "<p>182 rows × 6 columns</p>\n",
              "</div>"
            ],
            "text/plain": [
              "     Year           Candidate         Party  Popular vote Result          %\n",
              "114  1964      Lyndon Johnson    Democratic      43127041    win  61.344703\n",
              "91   1936  Franklin Roosevelt    Democratic      27752648    win  60.978107\n",
              "120  1972       Richard Nixon    Republican      47168710    win  60.907806\n",
              "79   1920      Warren Harding    Republican      16144093    win  60.574501\n",
              "133  1984       Ronald Reagan    Republican      54455472    win  59.023326\n",
              "..    ...                 ...           ...           ...    ...        ...\n",
              "165  2008    Cynthia McKinney         Green        161797   loss   0.123442\n",
              "148  1996        John Hagelin   Natural Law        113670   loss   0.118219\n",
              "160  2004    Michael Peroutka  Constitution        143630   loss   0.117542\n",
              "141  1992            Bo Gritz      Populist        106152   loss   0.101918\n",
              "156  2004          David Cobb         Green        119859   loss   0.098088\n",
              "\n",
              "[182 rows x 6 columns]"
            ]
          },
          "execution_count": 53,
          "metadata": {},
          "output_type": "execute_result"
        }
      ],
      "source": [
        "elections.sort_values(\"%\", ascending = False)"
      ]
    },
    {
      "cell_type": "markdown",
      "metadata": {
        "id": "8fkKMo7Bj5Dv"
      },
      "source": [
        "## Chained indexing\n",
        "The flexibility of pandas allows for chained indexing, where you can repeatedly index the outcome of a previous indexing operation. [Source](https://towardsdatascience.com/settingwithcopywarning-in-pandas-782e4aa54ff7)"
      ]
    },
    {
      "cell_type": "code",
      "execution_count": null,
      "metadata": {
        "colab": {
          "base_uri": "https://localhost:8080/",
          "height": 206
        },
        "id": "y-q6MogkkDo2",
        "outputId": "9d0865b9-5d81-4dcb-b8b6-6f8ce623d992"
      },
      "outputs": [
        {
          "data": {
            "text/html": [
              "<div>\n",
              "<style scoped>\n",
              "    .dataframe tbody tr th:only-of-type {\n",
              "        vertical-align: middle;\n",
              "    }\n",
              "\n",
              "    .dataframe tbody tr th {\n",
              "        vertical-align: top;\n",
              "    }\n",
              "\n",
              "    .dataframe thead th {\n",
              "        text-align: right;\n",
              "    }\n",
              "</style>\n",
              "<table border=\"1\" class=\"dataframe\">\n",
              "  <thead>\n",
              "    <tr style=\"text-align: right;\">\n",
              "      <th></th>\n",
              "      <th>A</th>\n",
              "      <th>B</th>\n",
              "    </tr>\n",
              "  </thead>\n",
              "  <tbody>\n",
              "    <tr>\n",
              "      <th>0</th>\n",
              "      <td>1</td>\n",
              "      <td>6</td>\n",
              "    </tr>\n",
              "    <tr>\n",
              "      <th>1</th>\n",
              "      <td>2</td>\n",
              "      <td>7</td>\n",
              "    </tr>\n",
              "    <tr>\n",
              "      <th>2</th>\n",
              "      <td>3</td>\n",
              "      <td>8</td>\n",
              "    </tr>\n",
              "    <tr>\n",
              "      <th>3</th>\n",
              "      <td>4</td>\n",
              "      <td>9</td>\n",
              "    </tr>\n",
              "    <tr>\n",
              "      <th>4</th>\n",
              "      <td>5</td>\n",
              "      <td>10</td>\n",
              "    </tr>\n",
              "  </tbody>\n",
              "</table>\n",
              "</div>"
            ],
            "text/plain": [
              "   A   B\n",
              "0  1   6\n",
              "1  2   7\n",
              "2  3   8\n",
              "3  4   9\n",
              "4  5  10"
            ]
          },
          "execution_count": 13,
          "metadata": {},
          "output_type": "execute_result"
        }
      ],
      "source": [
        "import pandas as pd\n",
        "df = pd.DataFrame({\n",
        "    \"A\": [1, 2, 3, 4, 5],\n",
        "    \"B\": [6, 7, 8, 9, 10],\n",
        "    }, index=range(5)\n",
        "    )\n",
        "df"
      ]
    },
    {
      "cell_type": "code",
      "execution_count": null,
      "metadata": {
        "colab": {
          "base_uri": "https://localhost:8080/"
        },
        "id": "w8ZVa7fLUV_t",
        "outputId": "938dd406-5fd9-479f-ff44-679a7f14c55e"
      },
      "outputs": [
        {
          "name": "stderr",
          "output_type": "stream",
          "text": [
            "/tmp/ipykernel_359/914266719.py:3: SettingWithCopyWarning: \n",
            "A value is trying to be set on a copy of a slice from a DataFrame.\n",
            "Try using .loc[row_indexer,col_indexer] = value instead\n",
            "\n",
            "See the caveats in the documentation: https://pandas.pydata.org/pandas-docs/stable/user_guide/indexing.html#returning-a-view-versus-a-copy\n",
            "  dfa[\"C\"] = dfa[\"B\"] * 50\n"
          ]
        }
      ],
      "source": [
        "# Example of causing a Pandas chained assignment warning\n",
        "dfa = df.loc[3:5]\n",
        "dfa[\"C\"] = dfa[\"B\"] * 50"
      ]
    },
    {
      "cell_type": "code",
      "execution_count": null,
      "metadata": {
        "colab": {
          "base_uri": "https://localhost:8080/"
        },
        "id": "dSF0Ump9VACC",
        "outputId": "682f5a17-5bfb-4543-bb8c-2054bdf8e552"
      },
      "outputs": [
        {
          "name": "stdout",
          "output_type": "stream",
          "text": [
            "   A   B    C\n",
            "3  4   9  450\n",
            "4  5  10  500\n",
            "   A   B\n",
            "0  1   6\n",
            "1  2   7\n",
            "2  3   8\n",
            "3  4   9\n",
            "4  5  10\n"
          ]
        }
      ],
      "source": [
        "print(dfa)\n",
        "print(df)"
      ]
    },
    {
      "cell_type": "markdown",
      "metadata": {
        "id": "rW7SMEUjknMB"
      },
      "source": [
        "Note:\n",
        "* The value assignment did occur.\n",
        "* Did you expect the contents of `df` to be affected by the value assignment in dfa?\n",
        "* Pandas has internally consistent (albeit obtuse) rules on whether that happens or not. It’s just that the ambiguity in user expectations present in this situation warrants a warning, so that end users like you and me know where to look when our code misbehaves."
      ]
    },
    {
      "cell_type": "markdown",
      "metadata": {
        "id": "zvk4rZZlk-Px"
      },
      "source": [
        "When indexing and selecting data Pandas will return either a __view__ or a __copy__ of a dataframe. A view (shallow copy) references data from the original dataframe, while a copy (deep copy) is a separate instance of the same data.\n",
        "\n",
        "It is difficult to predict which will be returned by the indexing operation, as it depends on the memory layout of the underlying array. How exactly the indexing is chained can lead to different `__getitem__` and `__setitem__` calls being issued under the hood. Let's consider the following example: [Source](https://pandas.pydata.org/docs/user_guide/indexing.html#returning-a-view-versus-a-copy)"
      ]
    },
    {
      "cell_type": "code",
      "execution_count": null,
      "metadata": {
        "colab": {
          "base_uri": "https://localhost:8080/",
          "height": 206
        },
        "id": "VNXnKo0qkzhd",
        "outputId": "09408ca6-c8fa-4627-8868-b1d921d44df5"
      },
      "outputs": [
        {
          "data": {
            "text/html": [
              "<div>\n",
              "<style scoped>\n",
              "    .dataframe tbody tr th:only-of-type {\n",
              "        vertical-align: middle;\n",
              "    }\n",
              "\n",
              "    .dataframe tbody tr th {\n",
              "        vertical-align: top;\n",
              "    }\n",
              "\n",
              "    .dataframe thead tr th {\n",
              "        text-align: left;\n",
              "    }\n",
              "</style>\n",
              "<table border=\"1\" class=\"dataframe\">\n",
              "  <thead>\n",
              "    <tr>\n",
              "      <th></th>\n",
              "      <th colspan=\"2\" halign=\"left\">one</th>\n",
              "      <th colspan=\"2\" halign=\"left\">two</th>\n",
              "    </tr>\n",
              "    <tr>\n",
              "      <th></th>\n",
              "      <th>first</th>\n",
              "      <th>second</th>\n",
              "      <th>first</th>\n",
              "      <th>second</th>\n",
              "    </tr>\n",
              "  </thead>\n",
              "  <tbody>\n",
              "    <tr>\n",
              "      <th>0</th>\n",
              "      <td>a</td>\n",
              "      <td>b</td>\n",
              "      <td>c</td>\n",
              "      <td>d</td>\n",
              "    </tr>\n",
              "    <tr>\n",
              "      <th>1</th>\n",
              "      <td>e</td>\n",
              "      <td>f</td>\n",
              "      <td>g</td>\n",
              "      <td>h</td>\n",
              "    </tr>\n",
              "    <tr>\n",
              "      <th>2</th>\n",
              "      <td>i</td>\n",
              "      <td>j</td>\n",
              "      <td>k</td>\n",
              "      <td>l</td>\n",
              "    </tr>\n",
              "    <tr>\n",
              "      <th>3</th>\n",
              "      <td>m</td>\n",
              "      <td>n</td>\n",
              "      <td>o</td>\n",
              "      <td>p</td>\n",
              "    </tr>\n",
              "  </tbody>\n",
              "</table>\n",
              "</div>"
            ],
            "text/plain": [
              "    one          two       \n",
              "  first second first second\n",
              "0     a      b     c      d\n",
              "1     e      f     g      h\n",
              "2     i      j     k      l\n",
              "3     m      n     o      p"
            ]
          },
          "execution_count": 16,
          "metadata": {},
          "output_type": "execute_result"
        }
      ],
      "source": [
        "dfmi = pd.DataFrame([list('abcd'),\n",
        "                     list('efgh'),\n",
        "                     list('ijkl'),\n",
        "                     list('mnop')],\n",
        "                    columns=pd.MultiIndex.from_product([['one', 'two'],\n",
        "                                                        ['first', 'second']]))\n",
        "dfmi"
      ]
    },
    {
      "cell_type": "code",
      "execution_count": null,
      "metadata": {
        "id": "KsjEvV2WlDX0",
        "outputId": "ee0c6af1-b1e5-4b14-fb9d-2af8b37ce9e5"
      },
      "outputs": [
        {
          "data": {
            "text/html": [
              "<div>\n",
              "<style scoped>\n",
              "    .dataframe tbody tr th:only-of-type {\n",
              "        vertical-align: middle;\n",
              "    }\n",
              "\n",
              "    .dataframe tbody tr th {\n",
              "        vertical-align: top;\n",
              "    }\n",
              "\n",
              "    .dataframe thead tr th {\n",
              "        text-align: left;\n",
              "    }\n",
              "</style>\n",
              "<table border=\"1\" class=\"dataframe\">\n",
              "  <thead>\n",
              "    <tr>\n",
              "      <th></th>\n",
              "      <th colspan=\"2\" halign=\"left\">one</th>\n",
              "      <th colspan=\"2\" halign=\"left\">two</th>\n",
              "    </tr>\n",
              "    <tr>\n",
              "      <th></th>\n",
              "      <th>first</th>\n",
              "      <th>second</th>\n",
              "      <th>first</th>\n",
              "      <th>second</th>\n",
              "    </tr>\n",
              "  </thead>\n",
              "  <tbody>\n",
              "    <tr>\n",
              "      <th>0</th>\n",
              "      <td>a</td>\n",
              "      <td>z1</td>\n",
              "      <td>c</td>\n",
              "      <td>d</td>\n",
              "    </tr>\n",
              "    <tr>\n",
              "      <th>1</th>\n",
              "      <td>e</td>\n",
              "      <td>z1</td>\n",
              "      <td>g</td>\n",
              "      <td>h</td>\n",
              "    </tr>\n",
              "    <tr>\n",
              "      <th>2</th>\n",
              "      <td>i</td>\n",
              "      <td>z1</td>\n",
              "      <td>k</td>\n",
              "      <td>l</td>\n",
              "    </tr>\n",
              "    <tr>\n",
              "      <th>3</th>\n",
              "      <td>m</td>\n",
              "      <td>z1</td>\n",
              "      <td>o</td>\n",
              "      <td>p</td>\n",
              "    </tr>\n",
              "  </tbody>\n",
              "</table>\n",
              "</div>"
            ],
            "text/plain": [
              "    one          two       \n",
              "  first second first second\n",
              "0     a     z1     c      d\n",
              "1     e     z1     g      h\n",
              "2     i     z1     k      l\n",
              "3     m     z1     o      p"
            ]
          },
          "execution_count": 17,
          "metadata": {},
          "output_type": "execute_result"
        }
      ],
      "source": [
        "dfmi.loc[:, ('one', 'second')] = 'z1'\n",
        "# becomes\n",
        "# dfmi.loc.__setitem__((slice(None), (‘one’, ‘second’)), value)\n",
        "dfmi"
      ]
    },
    {
      "cell_type": "code",
      "execution_count": null,
      "metadata": {
        "colab": {
          "base_uri": "https://localhost:8080/"
        },
        "id": "s0Vwot51Z1Ld",
        "outputId": "f0a999b6-a2e0-4d8b-84e0-c004d0e6947f"
      },
      "outputs": [
        {
          "name": "stderr",
          "output_type": "stream",
          "text": [
            "/tmp/ipykernel_359/1355793736.py:1: SettingWithCopyWarning: \n",
            "A value is trying to be set on a copy of a slice from a DataFrame.\n",
            "Try using .loc[row_indexer,col_indexer] = value instead\n",
            "\n",
            "See the caveats in the documentation: https://pandas.pydata.org/pandas-docs/stable/user_guide/indexing.html#returning-a-view-versus-a-copy\n",
            "  dfmi['one']['second'] = 'z2'\n"
          ]
        }
      ],
      "source": [
        "dfmi['one']['second'] = 'z2'\n",
        "# becomes\n",
        "#dfmi.__getitem__(‘one’).__setitem__(‘second’, value)"
      ]
    },
    {
      "cell_type": "code",
      "execution_count": null,
      "metadata": {
        "id": "e3P3cPyk7j6B",
        "outputId": "5f92d12d-fa21-478a-a416-41eddb5240d8"
      },
      "outputs": [
        {
          "data": {
            "text/html": [
              "<div>\n",
              "<style scoped>\n",
              "    .dataframe tbody tr th:only-of-type {\n",
              "        vertical-align: middle;\n",
              "    }\n",
              "\n",
              "    .dataframe tbody tr th {\n",
              "        vertical-align: top;\n",
              "    }\n",
              "\n",
              "    .dataframe thead tr th {\n",
              "        text-align: left;\n",
              "    }\n",
              "</style>\n",
              "<table border=\"1\" class=\"dataframe\">\n",
              "  <thead>\n",
              "    <tr>\n",
              "      <th></th>\n",
              "      <th colspan=\"2\" halign=\"left\">one</th>\n",
              "      <th colspan=\"2\" halign=\"left\">two</th>\n",
              "    </tr>\n",
              "    <tr>\n",
              "      <th></th>\n",
              "      <th>first</th>\n",
              "      <th>second</th>\n",
              "      <th>first</th>\n",
              "      <th>second</th>\n",
              "    </tr>\n",
              "  </thead>\n",
              "  <tbody>\n",
              "    <tr>\n",
              "      <th>0</th>\n",
              "      <td>a</td>\n",
              "      <td>z1</td>\n",
              "      <td>c</td>\n",
              "      <td>d</td>\n",
              "    </tr>\n",
              "    <tr>\n",
              "      <th>1</th>\n",
              "      <td>e</td>\n",
              "      <td>z1</td>\n",
              "      <td>g</td>\n",
              "      <td>h</td>\n",
              "    </tr>\n",
              "    <tr>\n",
              "      <th>2</th>\n",
              "      <td>i</td>\n",
              "      <td>z1</td>\n",
              "      <td>k</td>\n",
              "      <td>l</td>\n",
              "    </tr>\n",
              "    <tr>\n",
              "      <th>3</th>\n",
              "      <td>m</td>\n",
              "      <td>z1</td>\n",
              "      <td>o</td>\n",
              "      <td>p</td>\n",
              "    </tr>\n",
              "  </tbody>\n",
              "</table>\n",
              "</div>"
            ],
            "text/plain": [
              "    one          two       \n",
              "  first second first second\n",
              "0     a     z1     c      d\n",
              "1     e     z1     g      h\n",
              "2     i     z1     k      l\n",
              "3     m     z1     o      p"
            ]
          },
          "execution_count": 19,
          "metadata": {},
          "output_type": "execute_result"
        }
      ],
      "source": [
        "dfmi"
      ]
    },
    {
      "cell_type": "markdown",
      "metadata": {
        "id": "kXQPj1TVaKRg"
      },
      "source": [
        "Notice the `__getitem__`? Outside of simple cases, it’s very hard to predict whether it will return a view or a copy (it depends on the memory layout of the array, about which pandas makes no guarantees), and therefore whether the `__setitem__` will modify `dfmi` or a temporary object that gets thrown out immediately afterward. That’s what `SettingWithCopy` is warning you about.\n",
        "\n",
        "If you need to update multiple items, it is recommended to use `.loc` as access method with a mask."
      ]
    },
    {
      "cell_type": "code",
      "execution_count": null,
      "metadata": {
        "colab": {
          "base_uri": "https://localhost:8080/",
          "height": 269
        },
        "id": "yb3SJVktlLhN",
        "outputId": "6e179dc1-e676-4623-b1f9-203a29adc571"
      },
      "outputs": [
        {
          "data": {
            "text/html": [
              "<div>\n",
              "<style scoped>\n",
              "    .dataframe tbody tr th:only-of-type {\n",
              "        vertical-align: middle;\n",
              "    }\n",
              "\n",
              "    .dataframe tbody tr th {\n",
              "        vertical-align: top;\n",
              "    }\n",
              "\n",
              "    .dataframe thead th {\n",
              "        text-align: right;\n",
              "    }\n",
              "</style>\n",
              "<table border=\"1\" class=\"dataframe\">\n",
              "  <thead>\n",
              "    <tr style=\"text-align: right;\">\n",
              "      <th></th>\n",
              "      <th>a</th>\n",
              "      <th>c</th>\n",
              "    </tr>\n",
              "  </thead>\n",
              "  <tbody>\n",
              "    <tr>\n",
              "      <th>0</th>\n",
              "      <td>one</td>\n",
              "      <td>42</td>\n",
              "    </tr>\n",
              "    <tr>\n",
              "      <th>1</th>\n",
              "      <td>one</td>\n",
              "      <td>42</td>\n",
              "    </tr>\n",
              "    <tr>\n",
              "      <th>2</th>\n",
              "      <td>two</td>\n",
              "      <td>2</td>\n",
              "    </tr>\n",
              "    <tr>\n",
              "      <th>3</th>\n",
              "      <td>three</td>\n",
              "      <td>3</td>\n",
              "    </tr>\n",
              "    <tr>\n",
              "      <th>4</th>\n",
              "      <td>two</td>\n",
              "      <td>4</td>\n",
              "    </tr>\n",
              "    <tr>\n",
              "      <th>5</th>\n",
              "      <td>one</td>\n",
              "      <td>42</td>\n",
              "    </tr>\n",
              "    <tr>\n",
              "      <th>6</th>\n",
              "      <td>six</td>\n",
              "      <td>6</td>\n",
              "    </tr>\n",
              "  </tbody>\n",
              "</table>\n",
              "</div>"
            ],
            "text/plain": [
              "       a   c\n",
              "0    one  42\n",
              "1    one  42\n",
              "2    two   2\n",
              "3  three   3\n",
              "4    two   4\n",
              "5    one  42\n",
              "6    six   6"
            ]
          },
          "execution_count": 60,
          "metadata": {},
          "output_type": "execute_result"
        }
      ],
      "source": [
        "dfc = pd.DataFrame({'a': ['one', 'one', 'two',\n",
        "                          'three', 'two', 'one', 'six'],\n",
        "                    'c': range(7)})\n",
        "\n",
        "dfd = dfc.copy()\n",
        "\n",
        "# Setting multiple items using a mask\n",
        "mask = dfd['a'].str.startswith('o')\n",
        "\n",
        "dfd.loc[mask, 'c'] = 42\n",
        "\n",
        "dfd"
      ]
    }
  ],
  "metadata": {
    "colab": {
      "collapsed_sections": [
        "-gY-rlrWFXG3",
        "QkKEV_ITFXG4",
        "kiz784jYFXG6"
      ],
      "provenance": [],
      "include_colab_link": true
    },
    "kernelspec": {
      "display_name": "Python 3 (ipykernel)",
      "language": "python",
      "name": "python3"
    },
    "language_info": {
      "codemirror_mode": {
        "name": "ipython",
        "version": 3
      },
      "file_extension": ".py",
      "mimetype": "text/x-python",
      "name": "python",
      "nbconvert_exporter": "python",
      "pygments_lexer": "ipython3",
      "version": "3.10.8"
    }
  },
  "nbformat": 4,
  "nbformat_minor": 0
}