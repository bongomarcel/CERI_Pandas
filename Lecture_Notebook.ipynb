{
  "cells": [
    {
      "cell_type": "markdown",
      "metadata": {
        "id": "view-in-github",
        "colab_type": "text"
      },
      "source": [
        "<a href=\"https://colab.research.google.com/github/bongomarcel/CERI_Pandas/blob/main/Lecture_Notebook.ipynb\" target=\"_parent\"><img src=\"https://colab.research.google.com/assets/colab-badge.svg\" alt=\"Open In Colab\"/></a>"
      ]
    },
    {
      "cell_type": "markdown",
      "metadata": {
        "id": "EJnlusHuFXGq"
      },
      "source": [
        "# Introduction to Pandas\n",
        "\n",
        "A high-level overview of the [Pandas](https://pandas.pydata.org) library.\n",
        "\n",
        "We will cover the following in this crash course:\n",
        "1. Key data structures and indexing\n",
        "2. Working with columns and sorting\n",
        "3. Groupby.agg & Groupby.filter paradigms\n",
        "4. Merging data\n",
        "\n",
        "Also provided are:\n",
        "1. Self-study: How to write efficient Pandas code\n",
        "2. Practical (+Memo) on all the above"
      ]
    },
    {
      "cell_type": "markdown",
      "metadata": {
        "id": "ZtNbHw_GFXGv"
      },
      "source": [
        "---\n",
        "## Reading in DataFrames from Files"
      ]
    },
    {
      "cell_type": "code",
      "source": [
        "#! git clone https://github.com/bongomarcel/CERI_Pandas.git\n",
        "! git pull"
      ],
      "metadata": {
        "colab": {
          "base_uri": "https://localhost:8080/"
        },
        "id": "BFyC7QxZLJgB",
        "outputId": "6e15407e-558b-447e-967e-d9e5a18ab62b"
      },
      "execution_count": 13,
      "outputs": [
        {
          "output_type": "stream",
          "name": "stdout",
          "text": [
            "remote: Enumerating objects: 13, done.\u001b[K\n",
            "remote: Counting objects:   7% (1/13)\u001b[K\rremote: Counting objects:  15% (2/13)\u001b[K\rremote: Counting objects:  23% (3/13)\u001b[K\rremote: Counting objects:  30% (4/13)\u001b[K\rremote: Counting objects:  38% (5/13)\u001b[K\rremote: Counting objects:  46% (6/13)\u001b[K\rremote: Counting objects:  53% (7/13)\u001b[K\rremote: Counting objects:  61% (8/13)\u001b[K\rremote: Counting objects:  69% (9/13)\u001b[K\rremote: Counting objects:  76% (10/13)\u001b[K\rremote: Counting objects:  84% (11/13)\u001b[K\rremote: Counting objects:  92% (12/13)\u001b[K\rremote: Counting objects: 100% (13/13)\u001b[K\rremote: Counting objects: 100% (13/13), done.\u001b[K\n",
            "remote: Compressing objects: 100% (8/8), done.\u001b[K\n",
            "remote: Total 10 (delta 5), reused 4 (delta 1), pack-reused 0\u001b[K\n",
            "Unpacking objects: 100% (10/10), 495.66 KiB | 1.30 MiB/s, done.\n",
            "From https://github.com/bongomarcel/CERI_Pandas\n",
            "   8f155fb..e7a4c48  main       -> origin/main\n",
            "Updating 8f155fb..e7a4c48\n",
            "Fast-forward\n",
            " Lecture_Notebook.ipynb | 618 \u001b[32m+++++++++++++++++++++\u001b[m\u001b[31m----------------------------\u001b[m\n",
            " slides/slide05.pdf     | Bin \u001b[31m297741\u001b[m -> \u001b[32m0\u001b[m bytes\n",
            " slides/slide05.png     | Bin \u001b[31m0\u001b[m -> \u001b[32m510626\u001b[m bytes\n",
            " 3 files changed, 266 insertions(+), 352 deletions(-)\n",
            " delete mode 100644 slides/slide05.pdf\n",
            " create mode 100644 slides/slide05.png\n"
          ]
        }
      ]
    },
    {
      "cell_type": "code",
      "execution_count": 2,
      "metadata": {
        "id": "Xi5Z16LtFXGu"
      },
      "outputs": [],
      "source": [
        "#%matplotlib inline\n",
        "#import matplotlib.pyplot as plt\n",
        "#import seaborn as sns\n",
        "import numpy as np\n",
        "import pandas as pd"
      ]
    },
    {
      "cell_type": "markdown",
      "metadata": {
        "id": "o4dl4J4ZFXGw"
      },
      "source": [
        "Pandas has a number of very useful file reading tools `pd.re*`.\n",
        "* pd.read_json()\n",
        "* pd.read_table()\n",
        "* pd.read_xml()\n",
        "* pd.read_sql()\n",
        "* pd.read_html()"
      ]
    },
    {
      "cell_type": "code",
      "source": [
        "%pwd"
      ],
      "metadata": {
        "colab": {
          "base_uri": "https://localhost:8080/",
          "height": 36
        },
        "id": "ykqpOp5KL5xA",
        "outputId": "ab4fbc88-5dca-4602-9b13-c74b21d44cb5"
      },
      "execution_count": 3,
      "outputs": [
        {
          "output_type": "execute_result",
          "data": {
            "text/plain": [
              "'/content'"
            ],
            "application/vnd.google.colaboratory.intrinsic+json": {
              "type": "string"
            }
          },
          "metadata": {},
          "execution_count": 3
        }
      ]
    },
    {
      "cell_type": "code",
      "source": [
        "%cd CERI_Pandas"
      ],
      "metadata": {
        "colab": {
          "base_uri": "https://localhost:8080/"
        },
        "id": "cnt5dkMCMES-",
        "outputId": "54a4199c-9234-417c-9081-347210d0ce70"
      },
      "execution_count": 4,
      "outputs": [
        {
          "output_type": "stream",
          "name": "stdout",
          "text": [
            "/content/CERI_Pandas\n"
          ]
        }
      ]
    },
    {
      "cell_type": "code",
      "source": [
        "! pip install pdf2image"
      ],
      "metadata": {
        "colab": {
          "base_uri": "https://localhost:8080/"
        },
        "id": "uzkzqlHa4Q1d",
        "outputId": "e8332ce6-caac-41fe-ea1b-dae9ff369e15"
      },
      "execution_count": 8,
      "outputs": [
        {
          "output_type": "stream",
          "name": "stdout",
          "text": [
            "Collecting pdf2image\n",
            "  Downloading pdf2image-1.16.3-py3-none-any.whl (11 kB)\n",
            "Requirement already satisfied: pillow in /usr/local/lib/python3.10/dist-packages (from pdf2image) (9.4.0)\n",
            "Installing collected packages: pdf2image\n",
            "Successfully installed pdf2image-1.16.3\n"
          ]
        }
      ]
    },
    {
      "cell_type": "code",
      "execution_count": 12,
      "metadata": {
        "colab": {
          "base_uri": "https://localhost:8080/",
          "height": 423
        },
        "id": "uFJtZCdBFXGw",
        "outputId": "a1f6be68-e13c-4346-f91a-0e6781a587a8"
      },
      "outputs": [
        {
          "output_type": "execute_result",
          "data": {
            "text/plain": [
              "     Year          Candidate                  Party  Popular vote Result  \\\n",
              "0    1824     Andrew Jackson  Democratic-Republican        151271   loss   \n",
              "1    1824  John Quincy Adams  Democratic-Republican        113142    win   \n",
              "2    1828     Andrew Jackson             Democratic        642806    win   \n",
              "3    1828  John Quincy Adams    National Republican        500897   loss   \n",
              "4    1832     Andrew Jackson             Democratic        702735    win   \n",
              "..    ...                ...                    ...           ...    ...   \n",
              "177  2016         Jill Stein                  Green       1457226   loss   \n",
              "178  2020       Joseph Biden             Democratic      81268924    win   \n",
              "179  2020       Donald Trump             Republican      74216154   loss   \n",
              "180  2020       Jo Jorgensen            Libertarian       1865724   loss   \n",
              "181  2020     Howard Hawkins                  Green        405035   loss   \n",
              "\n",
              "             %  \n",
              "0    57.210122  \n",
              "1    42.789878  \n",
              "2    56.203927  \n",
              "3    43.796073  \n",
              "4    54.574789  \n",
              "..         ...  \n",
              "177   1.073699  \n",
              "178  51.311515  \n",
              "179  46.858542  \n",
              "180   1.177979  \n",
              "181   0.255731  \n",
              "\n",
              "[182 rows x 6 columns]"
            ],
            "text/html": [
              "\n",
              "  <div id=\"df-ead27e3d-8c33-4093-83d4-8555af120454\" class=\"colab-df-container\">\n",
              "    <div>\n",
              "<style scoped>\n",
              "    .dataframe tbody tr th:only-of-type {\n",
              "        vertical-align: middle;\n",
              "    }\n",
              "\n",
              "    .dataframe tbody tr th {\n",
              "        vertical-align: top;\n",
              "    }\n",
              "\n",
              "    .dataframe thead th {\n",
              "        text-align: right;\n",
              "    }\n",
              "</style>\n",
              "<table border=\"1\" class=\"dataframe\">\n",
              "  <thead>\n",
              "    <tr style=\"text-align: right;\">\n",
              "      <th></th>\n",
              "      <th>Year</th>\n",
              "      <th>Candidate</th>\n",
              "      <th>Party</th>\n",
              "      <th>Popular vote</th>\n",
              "      <th>Result</th>\n",
              "      <th>%</th>\n",
              "    </tr>\n",
              "  </thead>\n",
              "  <tbody>\n",
              "    <tr>\n",
              "      <th>0</th>\n",
              "      <td>1824</td>\n",
              "      <td>Andrew Jackson</td>\n",
              "      <td>Democratic-Republican</td>\n",
              "      <td>151271</td>\n",
              "      <td>loss</td>\n",
              "      <td>57.210122</td>\n",
              "    </tr>\n",
              "    <tr>\n",
              "      <th>1</th>\n",
              "      <td>1824</td>\n",
              "      <td>John Quincy Adams</td>\n",
              "      <td>Democratic-Republican</td>\n",
              "      <td>113142</td>\n",
              "      <td>win</td>\n",
              "      <td>42.789878</td>\n",
              "    </tr>\n",
              "    <tr>\n",
              "      <th>2</th>\n",
              "      <td>1828</td>\n",
              "      <td>Andrew Jackson</td>\n",
              "      <td>Democratic</td>\n",
              "      <td>642806</td>\n",
              "      <td>win</td>\n",
              "      <td>56.203927</td>\n",
              "    </tr>\n",
              "    <tr>\n",
              "      <th>3</th>\n",
              "      <td>1828</td>\n",
              "      <td>John Quincy Adams</td>\n",
              "      <td>National Republican</td>\n",
              "      <td>500897</td>\n",
              "      <td>loss</td>\n",
              "      <td>43.796073</td>\n",
              "    </tr>\n",
              "    <tr>\n",
              "      <th>4</th>\n",
              "      <td>1832</td>\n",
              "      <td>Andrew Jackson</td>\n",
              "      <td>Democratic</td>\n",
              "      <td>702735</td>\n",
              "      <td>win</td>\n",
              "      <td>54.574789</td>\n",
              "    </tr>\n",
              "    <tr>\n",
              "      <th>...</th>\n",
              "      <td>...</td>\n",
              "      <td>...</td>\n",
              "      <td>...</td>\n",
              "      <td>...</td>\n",
              "      <td>...</td>\n",
              "      <td>...</td>\n",
              "    </tr>\n",
              "    <tr>\n",
              "      <th>177</th>\n",
              "      <td>2016</td>\n",
              "      <td>Jill Stein</td>\n",
              "      <td>Green</td>\n",
              "      <td>1457226</td>\n",
              "      <td>loss</td>\n",
              "      <td>1.073699</td>\n",
              "    </tr>\n",
              "    <tr>\n",
              "      <th>178</th>\n",
              "      <td>2020</td>\n",
              "      <td>Joseph Biden</td>\n",
              "      <td>Democratic</td>\n",
              "      <td>81268924</td>\n",
              "      <td>win</td>\n",
              "      <td>51.311515</td>\n",
              "    </tr>\n",
              "    <tr>\n",
              "      <th>179</th>\n",
              "      <td>2020</td>\n",
              "      <td>Donald Trump</td>\n",
              "      <td>Republican</td>\n",
              "      <td>74216154</td>\n",
              "      <td>loss</td>\n",
              "      <td>46.858542</td>\n",
              "    </tr>\n",
              "    <tr>\n",
              "      <th>180</th>\n",
              "      <td>2020</td>\n",
              "      <td>Jo Jorgensen</td>\n",
              "      <td>Libertarian</td>\n",
              "      <td>1865724</td>\n",
              "      <td>loss</td>\n",
              "      <td>1.177979</td>\n",
              "    </tr>\n",
              "    <tr>\n",
              "      <th>181</th>\n",
              "      <td>2020</td>\n",
              "      <td>Howard Hawkins</td>\n",
              "      <td>Green</td>\n",
              "      <td>405035</td>\n",
              "      <td>loss</td>\n",
              "      <td>0.255731</td>\n",
              "    </tr>\n",
              "  </tbody>\n",
              "</table>\n",
              "<p>182 rows × 6 columns</p>\n",
              "</div>\n",
              "    <div class=\"colab-df-buttons\">\n",
              "\n",
              "  <div class=\"colab-df-container\">\n",
              "    <button class=\"colab-df-convert\" onclick=\"convertToInteractive('df-ead27e3d-8c33-4093-83d4-8555af120454')\"\n",
              "            title=\"Convert this dataframe to an interactive table.\"\n",
              "            style=\"display:none;\">\n",
              "\n",
              "  <svg xmlns=\"http://www.w3.org/2000/svg\" height=\"24px\" viewBox=\"0 -960 960 960\">\n",
              "    <path d=\"M120-120v-720h720v720H120Zm60-500h600v-160H180v160Zm220 220h160v-160H400v160Zm0 220h160v-160H400v160ZM180-400h160v-160H180v160Zm440 0h160v-160H620v160ZM180-180h160v-160H180v160Zm440 0h160v-160H620v160Z\"/>\n",
              "  </svg>\n",
              "    </button>\n",
              "\n",
              "  <style>\n",
              "    .colab-df-container {\n",
              "      display:flex;\n",
              "      gap: 12px;\n",
              "    }\n",
              "\n",
              "    .colab-df-convert {\n",
              "      background-color: #E8F0FE;\n",
              "      border: none;\n",
              "      border-radius: 50%;\n",
              "      cursor: pointer;\n",
              "      display: none;\n",
              "      fill: #1967D2;\n",
              "      height: 32px;\n",
              "      padding: 0 0 0 0;\n",
              "      width: 32px;\n",
              "    }\n",
              "\n",
              "    .colab-df-convert:hover {\n",
              "      background-color: #E2EBFA;\n",
              "      box-shadow: 0px 1px 2px rgba(60, 64, 67, 0.3), 0px 1px 3px 1px rgba(60, 64, 67, 0.15);\n",
              "      fill: #174EA6;\n",
              "    }\n",
              "\n",
              "    .colab-df-buttons div {\n",
              "      margin-bottom: 4px;\n",
              "    }\n",
              "\n",
              "    [theme=dark] .colab-df-convert {\n",
              "      background-color: #3B4455;\n",
              "      fill: #D2E3FC;\n",
              "    }\n",
              "\n",
              "    [theme=dark] .colab-df-convert:hover {\n",
              "      background-color: #434B5C;\n",
              "      box-shadow: 0px 1px 3px 1px rgba(0, 0, 0, 0.15);\n",
              "      filter: drop-shadow(0px 1px 2px rgba(0, 0, 0, 0.3));\n",
              "      fill: #FFFFFF;\n",
              "    }\n",
              "  </style>\n",
              "\n",
              "    <script>\n",
              "      const buttonEl =\n",
              "        document.querySelector('#df-ead27e3d-8c33-4093-83d4-8555af120454 button.colab-df-convert');\n",
              "      buttonEl.style.display =\n",
              "        google.colab.kernel.accessAllowed ? 'block' : 'none';\n",
              "\n",
              "      async function convertToInteractive(key) {\n",
              "        const element = document.querySelector('#df-ead27e3d-8c33-4093-83d4-8555af120454');\n",
              "        const dataTable =\n",
              "          await google.colab.kernel.invokeFunction('convertToInteractive',\n",
              "                                                    [key], {});\n",
              "        if (!dataTable) return;\n",
              "\n",
              "        const docLinkHtml = 'Like what you see? Visit the ' +\n",
              "          '<a target=\"_blank\" href=https://colab.research.google.com/notebooks/data_table.ipynb>data table notebook</a>'\n",
              "          + ' to learn more about interactive tables.';\n",
              "        element.innerHTML = '';\n",
              "        dataTable['output_type'] = 'display_data';\n",
              "        await google.colab.output.renderOutput(dataTable, element);\n",
              "        const docLink = document.createElement('div');\n",
              "        docLink.innerHTML = docLinkHtml;\n",
              "        element.appendChild(docLink);\n",
              "      }\n",
              "    </script>\n",
              "  </div>\n",
              "\n",
              "\n",
              "<div id=\"df-740875ae-e975-4af3-8150-875b0da2b235\">\n",
              "  <button class=\"colab-df-quickchart\" onclick=\"quickchart('df-740875ae-e975-4af3-8150-875b0da2b235')\"\n",
              "            title=\"Suggest charts.\"\n",
              "            style=\"display:none;\">\n",
              "\n",
              "<svg xmlns=\"http://www.w3.org/2000/svg\" height=\"24px\"viewBox=\"0 0 24 24\"\n",
              "     width=\"24px\">\n",
              "    <g>\n",
              "        <path d=\"M19 3H5c-1.1 0-2 .9-2 2v14c0 1.1.9 2 2 2h14c1.1 0 2-.9 2-2V5c0-1.1-.9-2-2-2zM9 17H7v-7h2v7zm4 0h-2V7h2v10zm4 0h-2v-4h2v4z\"/>\n",
              "    </g>\n",
              "</svg>\n",
              "  </button>\n",
              "\n",
              "<style>\n",
              "  .colab-df-quickchart {\n",
              "    background-color: #E8F0FE;\n",
              "    border: none;\n",
              "    border-radius: 50%;\n",
              "    cursor: pointer;\n",
              "    display: none;\n",
              "    fill: #1967D2;\n",
              "    height: 32px;\n",
              "    padding: 0 0 0 0;\n",
              "    width: 32px;\n",
              "  }\n",
              "\n",
              "  .colab-df-quickchart:hover {\n",
              "    background-color: #E2EBFA;\n",
              "    box-shadow: 0px 1px 2px rgba(60, 64, 67, 0.3), 0px 1px 3px 1px rgba(60, 64, 67, 0.15);\n",
              "    fill: #174EA6;\n",
              "  }\n",
              "\n",
              "  [theme=dark] .colab-df-quickchart {\n",
              "    background-color: #3B4455;\n",
              "    fill: #D2E3FC;\n",
              "  }\n",
              "\n",
              "  [theme=dark] .colab-df-quickchart:hover {\n",
              "    background-color: #434B5C;\n",
              "    box-shadow: 0px 1px 3px 1px rgba(0, 0, 0, 0.15);\n",
              "    filter: drop-shadow(0px 1px 2px rgba(0, 0, 0, 0.3));\n",
              "    fill: #FFFFFF;\n",
              "  }\n",
              "</style>\n",
              "\n",
              "  <script>\n",
              "    async function quickchart(key) {\n",
              "      const charts = await google.colab.kernel.invokeFunction(\n",
              "          'suggestCharts', [key], {});\n",
              "    }\n",
              "    (() => {\n",
              "      let quickchartButtonEl =\n",
              "        document.querySelector('#df-740875ae-e975-4af3-8150-875b0da2b235 button');\n",
              "      quickchartButtonEl.style.display =\n",
              "        google.colab.kernel.accessAllowed ? 'block' : 'none';\n",
              "    })();\n",
              "  </script>\n",
              "</div>\n",
              "    </div>\n",
              "  </div>\n"
            ]
          },
          "metadata": {},
          "execution_count": 12
        }
      ],
      "source": [
        "elections = pd.read_csv(\"./data/elections.csv\")\n",
        "elections # if we end a cell with an expression or variable name, the result will print"
      ]
    },
    {
      "cell_type": "code",
      "source": [
        "from IPython.display import HTML\n",
        "from base64 import b64encode\n",
        "\n",
        "def show_image(path_to_image, width=800, height=350):\n",
        "    img = open(path_to_image.lower(), 'rb').read()\n",
        "    data_url = 'data:image/png;base64,' + b64encode(img).decode()\n",
        "    display(HTML(\"<img src='%s' %s%s>\" % (data_url, \"width='%d'\" % (width), \"height='%d'\" % (height))))"
      ],
      "metadata": {
        "id": "c70ELU4IMHPX"
      },
      "execution_count": 30,
      "outputs": []
    },
    {
      "cell_type": "code",
      "source": [
        "show_image('./slides/slide05.png', 800, 350)"
      ],
      "metadata": {
        "colab": {
          "base_uri": "https://localhost:8080/",
          "height": 372
        },
        "id": "J0UGuffFNgrP",
        "outputId": "2358b99c-142a-4f26-89c6-ecbf7298593e"
      },
      "execution_count": 31,
      "outputs": [
        {
          "output_type": "display_data",
          "data": {
            "text/plain": [
              "<IPython.core.display.HTML object>"
            ],
            "text/html": [
              "<img src='data:image/png;base64,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' width='800'height='350'>"
            ]
          },
          "metadata": {}
        }
      ]
    },
    {
      "cell_type": "markdown",
      "metadata": {
        "id": "TCse0atnFXGy"
      },
      "source": [
        "The Pandas library has a lot of “syntactic sugar”. For example, we can also use the ``head`` command to return only a few rows of a dataframe."
      ]
    },
    {
      "cell_type": "code",
      "execution_count": 6,
      "metadata": {
        "colab": {
          "base_uri": "https://localhost:8080/",
          "height": 206
        },
        "id": "fi3J4OyzFXGz",
        "outputId": "6a3aa4e4-c3cf-4bb3-c6a8-0774cce8ef54"
      },
      "outputs": [
        {
          "output_type": "execute_result",
          "data": {
            "text/plain": [
              "   Year          Candidate                  Party  Popular vote Result  \\\n",
              "0  1824     Andrew Jackson  Democratic-Republican        151271   loss   \n",
              "1  1824  John Quincy Adams  Democratic-Republican        113142    win   \n",
              "2  1828     Andrew Jackson             Democratic        642806    win   \n",
              "3  1828  John Quincy Adams    National Republican        500897   loss   \n",
              "4  1832     Andrew Jackson             Democratic        702735    win   \n",
              "\n",
              "           %  \n",
              "0  57.210122  \n",
              "1  42.789878  \n",
              "2  56.203927  \n",
              "3  43.796073  \n",
              "4  54.574789  "
            ],
            "text/html": [
              "\n",
              "  <div id=\"df-b313b11e-ac1d-4c19-99ce-27ddcfe5a803\" class=\"colab-df-container\">\n",
              "    <div>\n",
              "<style scoped>\n",
              "    .dataframe tbody tr th:only-of-type {\n",
              "        vertical-align: middle;\n",
              "    }\n",
              "\n",
              "    .dataframe tbody tr th {\n",
              "        vertical-align: top;\n",
              "    }\n",
              "\n",
              "    .dataframe thead th {\n",
              "        text-align: right;\n",
              "    }\n",
              "</style>\n",
              "<table border=\"1\" class=\"dataframe\">\n",
              "  <thead>\n",
              "    <tr style=\"text-align: right;\">\n",
              "      <th></th>\n",
              "      <th>Year</th>\n",
              "      <th>Candidate</th>\n",
              "      <th>Party</th>\n",
              "      <th>Popular vote</th>\n",
              "      <th>Result</th>\n",
              "      <th>%</th>\n",
              "    </tr>\n",
              "  </thead>\n",
              "  <tbody>\n",
              "    <tr>\n",
              "      <th>0</th>\n",
              "      <td>1824</td>\n",
              "      <td>Andrew Jackson</td>\n",
              "      <td>Democratic-Republican</td>\n",
              "      <td>151271</td>\n",
              "      <td>loss</td>\n",
              "      <td>57.210122</td>\n",
              "    </tr>\n",
              "    <tr>\n",
              "      <th>1</th>\n",
              "      <td>1824</td>\n",
              "      <td>John Quincy Adams</td>\n",
              "      <td>Democratic-Republican</td>\n",
              "      <td>113142</td>\n",
              "      <td>win</td>\n",
              "      <td>42.789878</td>\n",
              "    </tr>\n",
              "    <tr>\n",
              "      <th>2</th>\n",
              "      <td>1828</td>\n",
              "      <td>Andrew Jackson</td>\n",
              "      <td>Democratic</td>\n",
              "      <td>642806</td>\n",
              "      <td>win</td>\n",
              "      <td>56.203927</td>\n",
              "    </tr>\n",
              "    <tr>\n",
              "      <th>3</th>\n",
              "      <td>1828</td>\n",
              "      <td>John Quincy Adams</td>\n",
              "      <td>National Republican</td>\n",
              "      <td>500897</td>\n",
              "      <td>loss</td>\n",
              "      <td>43.796073</td>\n",
              "    </tr>\n",
              "    <tr>\n",
              "      <th>4</th>\n",
              "      <td>1832</td>\n",
              "      <td>Andrew Jackson</td>\n",
              "      <td>Democratic</td>\n",
              "      <td>702735</td>\n",
              "      <td>win</td>\n",
              "      <td>54.574789</td>\n",
              "    </tr>\n",
              "  </tbody>\n",
              "</table>\n",
              "</div>\n",
              "    <div class=\"colab-df-buttons\">\n",
              "\n",
              "  <div class=\"colab-df-container\">\n",
              "    <button class=\"colab-df-convert\" onclick=\"convertToInteractive('df-b313b11e-ac1d-4c19-99ce-27ddcfe5a803')\"\n",
              "            title=\"Convert this dataframe to an interactive table.\"\n",
              "            style=\"display:none;\">\n",
              "\n",
              "  <svg xmlns=\"http://www.w3.org/2000/svg\" height=\"24px\" viewBox=\"0 -960 960 960\">\n",
              "    <path d=\"M120-120v-720h720v720H120Zm60-500h600v-160H180v160Zm220 220h160v-160H400v160Zm0 220h160v-160H400v160ZM180-400h160v-160H180v160Zm440 0h160v-160H620v160ZM180-180h160v-160H180v160Zm440 0h160v-160H620v160Z\"/>\n",
              "  </svg>\n",
              "    </button>\n",
              "\n",
              "  <style>\n",
              "    .colab-df-container {\n",
              "      display:flex;\n",
              "      gap: 12px;\n",
              "    }\n",
              "\n",
              "    .colab-df-convert {\n",
              "      background-color: #E8F0FE;\n",
              "      border: none;\n",
              "      border-radius: 50%;\n",
              "      cursor: pointer;\n",
              "      display: none;\n",
              "      fill: #1967D2;\n",
              "      height: 32px;\n",
              "      padding: 0 0 0 0;\n",
              "      width: 32px;\n",
              "    }\n",
              "\n",
              "    .colab-df-convert:hover {\n",
              "      background-color: #E2EBFA;\n",
              "      box-shadow: 0px 1px 2px rgba(60, 64, 67, 0.3), 0px 1px 3px 1px rgba(60, 64, 67, 0.15);\n",
              "      fill: #174EA6;\n",
              "    }\n",
              "\n",
              "    .colab-df-buttons div {\n",
              "      margin-bottom: 4px;\n",
              "    }\n",
              "\n",
              "    [theme=dark] .colab-df-convert {\n",
              "      background-color: #3B4455;\n",
              "      fill: #D2E3FC;\n",
              "    }\n",
              "\n",
              "    [theme=dark] .colab-df-convert:hover {\n",
              "      background-color: #434B5C;\n",
              "      box-shadow: 0px 1px 3px 1px rgba(0, 0, 0, 0.15);\n",
              "      filter: drop-shadow(0px 1px 2px rgba(0, 0, 0, 0.3));\n",
              "      fill: #FFFFFF;\n",
              "    }\n",
              "  </style>\n",
              "\n",
              "    <script>\n",
              "      const buttonEl =\n",
              "        document.querySelector('#df-b313b11e-ac1d-4c19-99ce-27ddcfe5a803 button.colab-df-convert');\n",
              "      buttonEl.style.display =\n",
              "        google.colab.kernel.accessAllowed ? 'block' : 'none';\n",
              "\n",
              "      async function convertToInteractive(key) {\n",
              "        const element = document.querySelector('#df-b313b11e-ac1d-4c19-99ce-27ddcfe5a803');\n",
              "        const dataTable =\n",
              "          await google.colab.kernel.invokeFunction('convertToInteractive',\n",
              "                                                    [key], {});\n",
              "        if (!dataTable) return;\n",
              "\n",
              "        const docLinkHtml = 'Like what you see? Visit the ' +\n",
              "          '<a target=\"_blank\" href=https://colab.research.google.com/notebooks/data_table.ipynb>data table notebook</a>'\n",
              "          + ' to learn more about interactive tables.';\n",
              "        element.innerHTML = '';\n",
              "        dataTable['output_type'] = 'display_data';\n",
              "        await google.colab.output.renderOutput(dataTable, element);\n",
              "        const docLink = document.createElement('div');\n",
              "        docLink.innerHTML = docLinkHtml;\n",
              "        element.appendChild(docLink);\n",
              "      }\n",
              "    </script>\n",
              "  </div>\n",
              "\n",
              "\n",
              "<div id=\"df-9ef8c936-3e3f-4562-b215-6a24972cb054\">\n",
              "  <button class=\"colab-df-quickchart\" onclick=\"quickchart('df-9ef8c936-3e3f-4562-b215-6a24972cb054')\"\n",
              "            title=\"Suggest charts.\"\n",
              "            style=\"display:none;\">\n",
              "\n",
              "<svg xmlns=\"http://www.w3.org/2000/svg\" height=\"24px\"viewBox=\"0 0 24 24\"\n",
              "     width=\"24px\">\n",
              "    <g>\n",
              "        <path d=\"M19 3H5c-1.1 0-2 .9-2 2v14c0 1.1.9 2 2 2h14c1.1 0 2-.9 2-2V5c0-1.1-.9-2-2-2zM9 17H7v-7h2v7zm4 0h-2V7h2v10zm4 0h-2v-4h2v4z\"/>\n",
              "    </g>\n",
              "</svg>\n",
              "  </button>\n",
              "\n",
              "<style>\n",
              "  .colab-df-quickchart {\n",
              "    background-color: #E8F0FE;\n",
              "    border: none;\n",
              "    border-radius: 50%;\n",
              "    cursor: pointer;\n",
              "    display: none;\n",
              "    fill: #1967D2;\n",
              "    height: 32px;\n",
              "    padding: 0 0 0 0;\n",
              "    width: 32px;\n",
              "  }\n",
              "\n",
              "  .colab-df-quickchart:hover {\n",
              "    background-color: #E2EBFA;\n",
              "    box-shadow: 0px 1px 2px rgba(60, 64, 67, 0.3), 0px 1px 3px 1px rgba(60, 64, 67, 0.15);\n",
              "    fill: #174EA6;\n",
              "  }\n",
              "\n",
              "  [theme=dark] .colab-df-quickchart {\n",
              "    background-color: #3B4455;\n",
              "    fill: #D2E3FC;\n",
              "  }\n",
              "\n",
              "  [theme=dark] .colab-df-quickchart:hover {\n",
              "    background-color: #434B5C;\n",
              "    box-shadow: 0px 1px 3px 1px rgba(0, 0, 0, 0.15);\n",
              "    filter: drop-shadow(0px 1px 2px rgba(0, 0, 0, 0.3));\n",
              "    fill: #FFFFFF;\n",
              "  }\n",
              "</style>\n",
              "\n",
              "  <script>\n",
              "    async function quickchart(key) {\n",
              "      const charts = await google.colab.kernel.invokeFunction(\n",
              "          'suggestCharts', [key], {});\n",
              "    }\n",
              "    (() => {\n",
              "      let quickchartButtonEl =\n",
              "        document.querySelector('#df-9ef8c936-3e3f-4562-b215-6a24972cb054 button');\n",
              "      quickchartButtonEl.style.display =\n",
              "        google.colab.kernel.accessAllowed ? 'block' : 'none';\n",
              "    })();\n",
              "  </script>\n",
              "</div>\n",
              "    </div>\n",
              "  </div>\n"
            ]
          },
          "metadata": {},
          "execution_count": 6
        }
      ],
      "source": [
        "# elections.tail(5) # tail command to get the last so many rows.\n",
        "elections.head()"
      ]
    },
    {
      "cell_type": "markdown",
      "metadata": {
        "id": "DaaIIw-gFXGx"
      },
      "source": [
        "---\n",
        "## Indexing into Data\n",
        "### The `.loc` operator\n",
        "``loc`` selects items by row and column label.\n",
        "\n",
        "As a simple indexing example using the ``loc`` operator, consider the code below which returns the first 5 rows of the DataFrame.  \n",
        "\n"
      ]
    },
    {
      "cell_type": "code",
      "execution_count": null,
      "metadata": {
        "colab": {
          "base_uri": "https://localhost:8080/",
          "height": 206
        },
        "id": "TRLISCBfFXGx",
        "outputId": "f8e86caf-7673-415c-9ea1-6f8423364cac"
      },
      "outputs": [
        {
          "data": {
            "text/html": [
              "<div>\n",
              "<style scoped>\n",
              "    .dataframe tbody tr th:only-of-type {\n",
              "        vertical-align: middle;\n",
              "    }\n",
              "\n",
              "    .dataframe tbody tr th {\n",
              "        vertical-align: top;\n",
              "    }\n",
              "\n",
              "    .dataframe thead th {\n",
              "        text-align: right;\n",
              "    }\n",
              "</style>\n",
              "<table border=\"1\" class=\"dataframe\">\n",
              "  <thead>\n",
              "    <tr style=\"text-align: right;\">\n",
              "      <th></th>\n",
              "      <th>Year</th>\n",
              "      <th>Candidate</th>\n",
              "      <th>Party</th>\n",
              "      <th>Popular vote</th>\n",
              "      <th>Result</th>\n",
              "      <th>%</th>\n",
              "    </tr>\n",
              "  </thead>\n",
              "  <tbody>\n",
              "    <tr>\n",
              "      <th>0</th>\n",
              "      <td>1824</td>\n",
              "      <td>Andrew Jackson</td>\n",
              "      <td>Democratic-Republican</td>\n",
              "      <td>151271</td>\n",
              "      <td>loss</td>\n",
              "      <td>57.210122</td>\n",
              "    </tr>\n",
              "    <tr>\n",
              "      <th>1</th>\n",
              "      <td>1824</td>\n",
              "      <td>John Quincy Adams</td>\n",
              "      <td>Democratic-Republican</td>\n",
              "      <td>113142</td>\n",
              "      <td>win</td>\n",
              "      <td>42.789878</td>\n",
              "    </tr>\n",
              "    <tr>\n",
              "      <th>2</th>\n",
              "      <td>1828</td>\n",
              "      <td>Andrew Jackson</td>\n",
              "      <td>Democratic</td>\n",
              "      <td>642806</td>\n",
              "      <td>win</td>\n",
              "      <td>56.203927</td>\n",
              "    </tr>\n",
              "    <tr>\n",
              "      <th>3</th>\n",
              "      <td>1828</td>\n",
              "      <td>John Quincy Adams</td>\n",
              "      <td>National Republican</td>\n",
              "      <td>500897</td>\n",
              "      <td>loss</td>\n",
              "      <td>43.796073</td>\n",
              "    </tr>\n",
              "    <tr>\n",
              "      <th>4</th>\n",
              "      <td>1832</td>\n",
              "      <td>Andrew Jackson</td>\n",
              "      <td>Democratic</td>\n",
              "      <td>702735</td>\n",
              "      <td>win</td>\n",
              "      <td>54.574789</td>\n",
              "    </tr>\n",
              "  </tbody>\n",
              "</table>\n",
              "</div>"
            ],
            "text/plain": [
              "   Year          Candidate                  Party  Popular vote Result  \\\n",
              "0  1824     Andrew Jackson  Democratic-Republican        151271   loss   \n",
              "1  1824  John Quincy Adams  Democratic-Republican        113142    win   \n",
              "2  1828     Andrew Jackson             Democratic        642806    win   \n",
              "3  1828  John Quincy Adams    National Republican        500897   loss   \n",
              "4  1832     Andrew Jackson             Democratic        702735    win   \n",
              "\n",
              "           %  \n",
              "0  57.210122  \n",
              "1  42.789878  \n",
              "2  56.203927  \n",
              "3  43.796073  \n",
              "4  54.574789  "
            ]
          },
          "execution_count": 3,
          "metadata": {},
          "output_type": "execute_result"
        }
      ],
      "source": [
        "elections.loc[0:4]"
      ]
    },
    {
      "cell_type": "markdown",
      "metadata": {
        "id": "nEkqhiJHFXG0"
      },
      "source": [
        "If we want a subset of the columns, we can also use ``loc`` just to ask for those."
      ]
    },
    {
      "cell_type": "code",
      "execution_count": null,
      "metadata": {
        "colab": {
          "base_uri": "https://localhost:8080/",
          "height": 206
        },
        "id": "Hfnl4zMkFXG0",
        "outputId": "72e7f341-fbcf-420f-99dc-d9c4a04f1992"
      },
      "outputs": [
        {
          "data": {
            "text/html": [
              "<div>\n",
              "<style scoped>\n",
              "    .dataframe tbody tr th:only-of-type {\n",
              "        vertical-align: middle;\n",
              "    }\n",
              "\n",
              "    .dataframe tbody tr th {\n",
              "        vertical-align: top;\n",
              "    }\n",
              "\n",
              "    .dataframe thead th {\n",
              "        text-align: right;\n",
              "    }\n",
              "</style>\n",
              "<table border=\"1\" class=\"dataframe\">\n",
              "  <thead>\n",
              "    <tr style=\"text-align: right;\">\n",
              "      <th></th>\n",
              "      <th>Year</th>\n",
              "      <th>Candidate</th>\n",
              "      <th>Party</th>\n",
              "    </tr>\n",
              "  </thead>\n",
              "  <tbody>\n",
              "    <tr>\n",
              "      <th>0</th>\n",
              "      <td>1824</td>\n",
              "      <td>Andrew Jackson</td>\n",
              "      <td>Democratic-Republican</td>\n",
              "    </tr>\n",
              "    <tr>\n",
              "      <th>1</th>\n",
              "      <td>1824</td>\n",
              "      <td>John Quincy Adams</td>\n",
              "      <td>Democratic-Republican</td>\n",
              "    </tr>\n",
              "    <tr>\n",
              "      <th>2</th>\n",
              "      <td>1828</td>\n",
              "      <td>Andrew Jackson</td>\n",
              "      <td>Democratic</td>\n",
              "    </tr>\n",
              "    <tr>\n",
              "      <th>3</th>\n",
              "      <td>1828</td>\n",
              "      <td>John Quincy Adams</td>\n",
              "      <td>National Republican</td>\n",
              "    </tr>\n",
              "    <tr>\n",
              "      <th>4</th>\n",
              "      <td>1832</td>\n",
              "      <td>Andrew Jackson</td>\n",
              "      <td>Democratic</td>\n",
              "    </tr>\n",
              "  </tbody>\n",
              "</table>\n",
              "</div>"
            ],
            "text/plain": [
              "   Year          Candidate                  Party\n",
              "0  1824     Andrew Jackson  Democratic-Republican\n",
              "1  1824  John Quincy Adams  Democratic-Republican\n",
              "2  1828     Andrew Jackson             Democratic\n",
              "3  1828  John Quincy Adams    National Republican\n",
              "4  1832     Andrew Jackson             Democratic"
            ]
          },
          "execution_count": 6,
          "metadata": {},
          "output_type": "execute_result"
        }
      ],
      "source": [
        "elections.loc[0:4, \"Year\":\"Party\"]"
      ]
    },
    {
      "cell_type": "code",
      "execution_count": 35,
      "metadata": {
        "colab": {
          "base_uri": "https://localhost:8080/",
          "height": 143
        },
        "id": "gygkpd8kFXG2",
        "outputId": "780d4955-a669-456a-e493-95ebc7863ed0"
      },
      "outputs": [
        {
          "output_type": "execute_result",
          "data": {
            "text/plain": [
              "     Year             Candidate Result\n",
              "87   1932        Herbert Hoover   loss\n",
              "25   1860  John C. Breckinridge   loss\n",
              "179  2020          Donald Trump   loss"
            ],
            "text/html": [
              "\n",
              "  <div id=\"df-693d2b37-e75f-4809-83da-7cc402c17046\" class=\"colab-df-container\">\n",
              "    <div>\n",
              "<style scoped>\n",
              "    .dataframe tbody tr th:only-of-type {\n",
              "        vertical-align: middle;\n",
              "    }\n",
              "\n",
              "    .dataframe tbody tr th {\n",
              "        vertical-align: top;\n",
              "    }\n",
              "\n",
              "    .dataframe thead th {\n",
              "        text-align: right;\n",
              "    }\n",
              "</style>\n",
              "<table border=\"1\" class=\"dataframe\">\n",
              "  <thead>\n",
              "    <tr style=\"text-align: right;\">\n",
              "      <th></th>\n",
              "      <th>Year</th>\n",
              "      <th>Candidate</th>\n",
              "      <th>Result</th>\n",
              "    </tr>\n",
              "  </thead>\n",
              "  <tbody>\n",
              "    <tr>\n",
              "      <th>87</th>\n",
              "      <td>1932</td>\n",
              "      <td>Herbert Hoover</td>\n",
              "      <td>loss</td>\n",
              "    </tr>\n",
              "    <tr>\n",
              "      <th>25</th>\n",
              "      <td>1860</td>\n",
              "      <td>John C. Breckinridge</td>\n",
              "      <td>loss</td>\n",
              "    </tr>\n",
              "    <tr>\n",
              "      <th>179</th>\n",
              "      <td>2020</td>\n",
              "      <td>Donald Trump</td>\n",
              "      <td>loss</td>\n",
              "    </tr>\n",
              "  </tbody>\n",
              "</table>\n",
              "</div>\n",
              "    <div class=\"colab-df-buttons\">\n",
              "\n",
              "  <div class=\"colab-df-container\">\n",
              "    <button class=\"colab-df-convert\" onclick=\"convertToInteractive('df-693d2b37-e75f-4809-83da-7cc402c17046')\"\n",
              "            title=\"Convert this dataframe to an interactive table.\"\n",
              "            style=\"display:none;\">\n",
              "\n",
              "  <svg xmlns=\"http://www.w3.org/2000/svg\" height=\"24px\" viewBox=\"0 -960 960 960\">\n",
              "    <path d=\"M120-120v-720h720v720H120Zm60-500h600v-160H180v160Zm220 220h160v-160H400v160Zm0 220h160v-160H400v160ZM180-400h160v-160H180v160Zm440 0h160v-160H620v160ZM180-180h160v-160H180v160Zm440 0h160v-160H620v160Z\"/>\n",
              "  </svg>\n",
              "    </button>\n",
              "\n",
              "  <style>\n",
              "    .colab-df-container {\n",
              "      display:flex;\n",
              "      gap: 12px;\n",
              "    }\n",
              "\n",
              "    .colab-df-convert {\n",
              "      background-color: #E8F0FE;\n",
              "      border: none;\n",
              "      border-radius: 50%;\n",
              "      cursor: pointer;\n",
              "      display: none;\n",
              "      fill: #1967D2;\n",
              "      height: 32px;\n",
              "      padding: 0 0 0 0;\n",
              "      width: 32px;\n",
              "    }\n",
              "\n",
              "    .colab-df-convert:hover {\n",
              "      background-color: #E2EBFA;\n",
              "      box-shadow: 0px 1px 2px rgba(60, 64, 67, 0.3), 0px 1px 3px 1px rgba(60, 64, 67, 0.15);\n",
              "      fill: #174EA6;\n",
              "    }\n",
              "\n",
              "    .colab-df-buttons div {\n",
              "      margin-bottom: 4px;\n",
              "    }\n",
              "\n",
              "    [theme=dark] .colab-df-convert {\n",
              "      background-color: #3B4455;\n",
              "      fill: #D2E3FC;\n",
              "    }\n",
              "\n",
              "    [theme=dark] .colab-df-convert:hover {\n",
              "      background-color: #434B5C;\n",
              "      box-shadow: 0px 1px 3px 1px rgba(0, 0, 0, 0.15);\n",
              "      filter: drop-shadow(0px 1px 2px rgba(0, 0, 0, 0.3));\n",
              "      fill: #FFFFFF;\n",
              "    }\n",
              "  </style>\n",
              "\n",
              "    <script>\n",
              "      const buttonEl =\n",
              "        document.querySelector('#df-693d2b37-e75f-4809-83da-7cc402c17046 button.colab-df-convert');\n",
              "      buttonEl.style.display =\n",
              "        google.colab.kernel.accessAllowed ? 'block' : 'none';\n",
              "\n",
              "      async function convertToInteractive(key) {\n",
              "        const element = document.querySelector('#df-693d2b37-e75f-4809-83da-7cc402c17046');\n",
              "        const dataTable =\n",
              "          await google.colab.kernel.invokeFunction('convertToInteractive',\n",
              "                                                    [key], {});\n",
              "        if (!dataTable) return;\n",
              "\n",
              "        const docLinkHtml = 'Like what you see? Visit the ' +\n",
              "          '<a target=\"_blank\" href=https://colab.research.google.com/notebooks/data_table.ipynb>data table notebook</a>'\n",
              "          + ' to learn more about interactive tables.';\n",
              "        element.innerHTML = '';\n",
              "        dataTable['output_type'] = 'display_data';\n",
              "        await google.colab.output.renderOutput(dataTable, element);\n",
              "        const docLink = document.createElement('div');\n",
              "        docLink.innerHTML = docLinkHtml;\n",
              "        element.appendChild(docLink);\n",
              "      }\n",
              "    </script>\n",
              "  </div>\n",
              "\n",
              "    </div>\n",
              "  </div>\n"
            ]
          },
          "metadata": {},
          "execution_count": 35
        }
      ],
      "source": [
        "# Using *list* of column and row labels\n",
        "elections.loc[[87, 25, 179], [\"Year\", \"Candidate\", \"Result\"]]"
      ]
    },
    {
      "cell_type": "code",
      "execution_count": 34,
      "metadata": {
        "colab": {
          "base_uri": "https://localhost:8080/",
          "height": 143
        },
        "id": "T07rwfSnFXG2",
        "outputId": "92b6599c-11a8-40bf-dc3b-944cb6f11ca1"
      },
      "outputs": [
        {
          "output_type": "execute_result",
          "data": {
            "text/plain": [
              "     Popular vote Result          %\n",
              "87       15761254   loss  39.830594\n",
              "25         848019   loss  18.138998\n",
              "179      74216154   loss  46.858542"
            ],
            "text/html": [
              "\n",
              "  <div id=\"df-f62f8c75-0bc4-497c-abae-13b2e13d6342\" class=\"colab-df-container\">\n",
              "    <div>\n",
              "<style scoped>\n",
              "    .dataframe tbody tr th:only-of-type {\n",
              "        vertical-align: middle;\n",
              "    }\n",
              "\n",
              "    .dataframe tbody tr th {\n",
              "        vertical-align: top;\n",
              "    }\n",
              "\n",
              "    .dataframe thead th {\n",
              "        text-align: right;\n",
              "    }\n",
              "</style>\n",
              "<table border=\"1\" class=\"dataframe\">\n",
              "  <thead>\n",
              "    <tr style=\"text-align: right;\">\n",
              "      <th></th>\n",
              "      <th>Popular vote</th>\n",
              "      <th>Result</th>\n",
              "      <th>%</th>\n",
              "    </tr>\n",
              "  </thead>\n",
              "  <tbody>\n",
              "    <tr>\n",
              "      <th>87</th>\n",
              "      <td>15761254</td>\n",
              "      <td>loss</td>\n",
              "      <td>39.830594</td>\n",
              "    </tr>\n",
              "    <tr>\n",
              "      <th>25</th>\n",
              "      <td>848019</td>\n",
              "      <td>loss</td>\n",
              "      <td>18.138998</td>\n",
              "    </tr>\n",
              "    <tr>\n",
              "      <th>179</th>\n",
              "      <td>74216154</td>\n",
              "      <td>loss</td>\n",
              "      <td>46.858542</td>\n",
              "    </tr>\n",
              "  </tbody>\n",
              "</table>\n",
              "</div>\n",
              "    <div class=\"colab-df-buttons\">\n",
              "\n",
              "  <div class=\"colab-df-container\">\n",
              "    <button class=\"colab-df-convert\" onclick=\"convertToInteractive('df-f62f8c75-0bc4-497c-abae-13b2e13d6342')\"\n",
              "            title=\"Convert this dataframe to an interactive table.\"\n",
              "            style=\"display:none;\">\n",
              "\n",
              "  <svg xmlns=\"http://www.w3.org/2000/svg\" height=\"24px\" viewBox=\"0 -960 960 960\">\n",
              "    <path d=\"M120-120v-720h720v720H120Zm60-500h600v-160H180v160Zm220 220h160v-160H400v160Zm0 220h160v-160H400v160ZM180-400h160v-160H180v160Zm440 0h160v-160H620v160ZM180-180h160v-160H180v160Zm440 0h160v-160H620v160Z\"/>\n",
              "  </svg>\n",
              "    </button>\n",
              "\n",
              "  <style>\n",
              "    .colab-df-container {\n",
              "      display:flex;\n",
              "      gap: 12px;\n",
              "    }\n",
              "\n",
              "    .colab-df-convert {\n",
              "      background-color: #E8F0FE;\n",
              "      border: none;\n",
              "      border-radius: 50%;\n",
              "      cursor: pointer;\n",
              "      display: none;\n",
              "      fill: #1967D2;\n",
              "      height: 32px;\n",
              "      padding: 0 0 0 0;\n",
              "      width: 32px;\n",
              "    }\n",
              "\n",
              "    .colab-df-convert:hover {\n",
              "      background-color: #E2EBFA;\n",
              "      box-shadow: 0px 1px 2px rgba(60, 64, 67, 0.3), 0px 1px 3px 1px rgba(60, 64, 67, 0.15);\n",
              "      fill: #174EA6;\n",
              "    }\n",
              "\n",
              "    .colab-df-buttons div {\n",
              "      margin-bottom: 4px;\n",
              "    }\n",
              "\n",
              "    [theme=dark] .colab-df-convert {\n",
              "      background-color: #3B4455;\n",
              "      fill: #D2E3FC;\n",
              "    }\n",
              "\n",
              "    [theme=dark] .colab-df-convert:hover {\n",
              "      background-color: #434B5C;\n",
              "      box-shadow: 0px 1px 3px 1px rgba(0, 0, 0, 0.15);\n",
              "      filter: drop-shadow(0px 1px 2px rgba(0, 0, 0, 0.3));\n",
              "      fill: #FFFFFF;\n",
              "    }\n",
              "  </style>\n",
              "\n",
              "    <script>\n",
              "      const buttonEl =\n",
              "        document.querySelector('#df-f62f8c75-0bc4-497c-abae-13b2e13d6342 button.colab-df-convert');\n",
              "      buttonEl.style.display =\n",
              "        google.colab.kernel.accessAllowed ? 'block' : 'none';\n",
              "\n",
              "      async function convertToInteractive(key) {\n",
              "        const element = document.querySelector('#df-f62f8c75-0bc4-497c-abae-13b2e13d6342');\n",
              "        const dataTable =\n",
              "          await google.colab.kernel.invokeFunction('convertToInteractive',\n",
              "                                                    [key], {});\n",
              "        if (!dataTable) return;\n",
              "\n",
              "        const docLinkHtml = 'Like what you see? Visit the ' +\n",
              "          '<a target=\"_blank\" href=https://colab.research.google.com/notebooks/data_table.ipynb>data table notebook</a>'\n",
              "          + ' to learn more about interactive tables.';\n",
              "        element.innerHTML = '';\n",
              "        dataTable['output_type'] = 'display_data';\n",
              "        await google.colab.output.renderOutput(dataTable, element);\n",
              "        const docLink = document.createElement('div');\n",
              "        docLink.innerHTML = docLinkHtml;\n",
              "        element.appendChild(docLink);\n",
              "      }\n",
              "    </script>\n",
              "  </div>\n",
              "\n",
              "    </div>\n",
              "  </div>\n"
            ]
          },
          "metadata": {},
          "execution_count": 34
        }
      ],
      "source": [
        "# Using a *slice* (syntax is inclusive of the right hand side of slice\n",
        "elections.loc[[87, 25, 179], \"Popular vote\":\"%\"]"
      ]
    },
    {
      "cell_type": "code",
      "execution_count": 36,
      "metadata": {
        "colab": {
          "base_uri": "https://localhost:8080/"
        },
        "id": "pVbs9cd7FXG2",
        "outputId": "da53653a-1ab6-4cee-c81d-df1d6d7f40e7"
      },
      "outputs": [
        {
          "output_type": "execute_result",
          "data": {
            "text/plain": [
              "87     15761254\n",
              "25       848019\n",
              "179    74216154\n",
              "Name: Popular vote, dtype: int64"
            ]
          },
          "metadata": {},
          "execution_count": 36
        }
      ],
      "source": [
        "# Using a *single value*\n",
        "elections.loc[[87, 25, 179], \"Popular vote\"]"
      ]
    },
    {
      "cell_type": "code",
      "execution_count": null,
      "metadata": {
        "id": "RUjjCD-57j50",
        "outputId": "b377ea6a-c6e8-43bc-aac8-08215fc40965"
      },
      "outputs": [
        {
          "data": {
            "text/plain": [
              "pandas.core.series.Series"
            ]
          },
          "execution_count": 10,
          "metadata": {},
          "output_type": "execute_result"
        }
      ],
      "source": [
        "type(elections.loc[[87, 25, 179], \"Popular vote\"])"
      ]
    },
    {
      "cell_type": "code",
      "execution_count": 37,
      "metadata": {
        "colab": {
          "base_uri": "https://localhost:8080/",
          "height": 423
        },
        "id": "3xHZHr32FXG3",
        "outputId": "89b62c1a-c061-4e6c-ae3c-65b5572a092b"
      },
      "outputs": [
        {
          "output_type": "execute_result",
          "data": {
            "text/plain": [
              "     Year          Candidate Result\n",
              "0    1824     Andrew Jackson   loss\n",
              "1    1824  John Quincy Adams    win\n",
              "2    1828     Andrew Jackson    win\n",
              "3    1828  John Quincy Adams   loss\n",
              "4    1832     Andrew Jackson    win\n",
              "..    ...                ...    ...\n",
              "177  2016         Jill Stein   loss\n",
              "178  2020       Joseph Biden    win\n",
              "179  2020       Donald Trump   loss\n",
              "180  2020       Jo Jorgensen   loss\n",
              "181  2020     Howard Hawkins   loss\n",
              "\n",
              "[182 rows x 3 columns]"
            ],
            "text/html": [
              "\n",
              "  <div id=\"df-8dce37a0-6512-42e6-b829-0baf55ca68a7\" class=\"colab-df-container\">\n",
              "    <div>\n",
              "<style scoped>\n",
              "    .dataframe tbody tr th:only-of-type {\n",
              "        vertical-align: middle;\n",
              "    }\n",
              "\n",
              "    .dataframe tbody tr th {\n",
              "        vertical-align: top;\n",
              "    }\n",
              "\n",
              "    .dataframe thead th {\n",
              "        text-align: right;\n",
              "    }\n",
              "</style>\n",
              "<table border=\"1\" class=\"dataframe\">\n",
              "  <thead>\n",
              "    <tr style=\"text-align: right;\">\n",
              "      <th></th>\n",
              "      <th>Year</th>\n",
              "      <th>Candidate</th>\n",
              "      <th>Result</th>\n",
              "    </tr>\n",
              "  </thead>\n",
              "  <tbody>\n",
              "    <tr>\n",
              "      <th>0</th>\n",
              "      <td>1824</td>\n",
              "      <td>Andrew Jackson</td>\n",
              "      <td>loss</td>\n",
              "    </tr>\n",
              "    <tr>\n",
              "      <th>1</th>\n",
              "      <td>1824</td>\n",
              "      <td>John Quincy Adams</td>\n",
              "      <td>win</td>\n",
              "    </tr>\n",
              "    <tr>\n",
              "      <th>2</th>\n",
              "      <td>1828</td>\n",
              "      <td>Andrew Jackson</td>\n",
              "      <td>win</td>\n",
              "    </tr>\n",
              "    <tr>\n",
              "      <th>3</th>\n",
              "      <td>1828</td>\n",
              "      <td>John Quincy Adams</td>\n",
              "      <td>loss</td>\n",
              "    </tr>\n",
              "    <tr>\n",
              "      <th>4</th>\n",
              "      <td>1832</td>\n",
              "      <td>Andrew Jackson</td>\n",
              "      <td>win</td>\n",
              "    </tr>\n",
              "    <tr>\n",
              "      <th>...</th>\n",
              "      <td>...</td>\n",
              "      <td>...</td>\n",
              "      <td>...</td>\n",
              "    </tr>\n",
              "    <tr>\n",
              "      <th>177</th>\n",
              "      <td>2016</td>\n",
              "      <td>Jill Stein</td>\n",
              "      <td>loss</td>\n",
              "    </tr>\n",
              "    <tr>\n",
              "      <th>178</th>\n",
              "      <td>2020</td>\n",
              "      <td>Joseph Biden</td>\n",
              "      <td>win</td>\n",
              "    </tr>\n",
              "    <tr>\n",
              "      <th>179</th>\n",
              "      <td>2020</td>\n",
              "      <td>Donald Trump</td>\n",
              "      <td>loss</td>\n",
              "    </tr>\n",
              "    <tr>\n",
              "      <th>180</th>\n",
              "      <td>2020</td>\n",
              "      <td>Jo Jorgensen</td>\n",
              "      <td>loss</td>\n",
              "    </tr>\n",
              "    <tr>\n",
              "      <th>181</th>\n",
              "      <td>2020</td>\n",
              "      <td>Howard Hawkins</td>\n",
              "      <td>loss</td>\n",
              "    </tr>\n",
              "  </tbody>\n",
              "</table>\n",
              "<p>182 rows × 3 columns</p>\n",
              "</div>\n",
              "    <div class=\"colab-df-buttons\">\n",
              "\n",
              "  <div class=\"colab-df-container\">\n",
              "    <button class=\"colab-df-convert\" onclick=\"convertToInteractive('df-8dce37a0-6512-42e6-b829-0baf55ca68a7')\"\n",
              "            title=\"Convert this dataframe to an interactive table.\"\n",
              "            style=\"display:none;\">\n",
              "\n",
              "  <svg xmlns=\"http://www.w3.org/2000/svg\" height=\"24px\" viewBox=\"0 -960 960 960\">\n",
              "    <path d=\"M120-120v-720h720v720H120Zm60-500h600v-160H180v160Zm220 220h160v-160H400v160Zm0 220h160v-160H400v160ZM180-400h160v-160H180v160Zm440 0h160v-160H620v160ZM180-180h160v-160H180v160Zm440 0h160v-160H620v160Z\"/>\n",
              "  </svg>\n",
              "    </button>\n",
              "\n",
              "  <style>\n",
              "    .colab-df-container {\n",
              "      display:flex;\n",
              "      gap: 12px;\n",
              "    }\n",
              "\n",
              "    .colab-df-convert {\n",
              "      background-color: #E8F0FE;\n",
              "      border: none;\n",
              "      border-radius: 50%;\n",
              "      cursor: pointer;\n",
              "      display: none;\n",
              "      fill: #1967D2;\n",
              "      height: 32px;\n",
              "      padding: 0 0 0 0;\n",
              "      width: 32px;\n",
              "    }\n",
              "\n",
              "    .colab-df-convert:hover {\n",
              "      background-color: #E2EBFA;\n",
              "      box-shadow: 0px 1px 2px rgba(60, 64, 67, 0.3), 0px 1px 3px 1px rgba(60, 64, 67, 0.15);\n",
              "      fill: #174EA6;\n",
              "    }\n",
              "\n",
              "    .colab-df-buttons div {\n",
              "      margin-bottom: 4px;\n",
              "    }\n",
              "\n",
              "    [theme=dark] .colab-df-convert {\n",
              "      background-color: #3B4455;\n",
              "      fill: #D2E3FC;\n",
              "    }\n",
              "\n",
              "    [theme=dark] .colab-df-convert:hover {\n",
              "      background-color: #434B5C;\n",
              "      box-shadow: 0px 1px 3px 1px rgba(0, 0, 0, 0.15);\n",
              "      filter: drop-shadow(0px 1px 2px rgba(0, 0, 0, 0.3));\n",
              "      fill: #FFFFFF;\n",
              "    }\n",
              "  </style>\n",
              "\n",
              "    <script>\n",
              "      const buttonEl =\n",
              "        document.querySelector('#df-8dce37a0-6512-42e6-b829-0baf55ca68a7 button.colab-df-convert');\n",
              "      buttonEl.style.display =\n",
              "        google.colab.kernel.accessAllowed ? 'block' : 'none';\n",
              "\n",
              "      async function convertToInteractive(key) {\n",
              "        const element = document.querySelector('#df-8dce37a0-6512-42e6-b829-0baf55ca68a7');\n",
              "        const dataTable =\n",
              "          await google.colab.kernel.invokeFunction('convertToInteractive',\n",
              "                                                    [key], {});\n",
              "        if (!dataTable) return;\n",
              "\n",
              "        const docLinkHtml = 'Like what you see? Visit the ' +\n",
              "          '<a target=\"_blank\" href=https://colab.research.google.com/notebooks/data_table.ipynb>data table notebook</a>'\n",
              "          + ' to learn more about interactive tables.';\n",
              "        element.innerHTML = '';\n",
              "        dataTable['output_type'] = 'display_data';\n",
              "        await google.colab.output.renderOutput(dataTable, element);\n",
              "        const docLink = document.createElement('div');\n",
              "        docLink.innerHTML = docLinkHtml;\n",
              "        element.appendChild(docLink);\n",
              "      }\n",
              "    </script>\n",
              "  </div>\n",
              "\n",
              "\n",
              "<div id=\"df-422dcc5d-1e4c-4d60-82ee-a5637337ae83\">\n",
              "  <button class=\"colab-df-quickchart\" onclick=\"quickchart('df-422dcc5d-1e4c-4d60-82ee-a5637337ae83')\"\n",
              "            title=\"Suggest charts.\"\n",
              "            style=\"display:none;\">\n",
              "\n",
              "<svg xmlns=\"http://www.w3.org/2000/svg\" height=\"24px\"viewBox=\"0 0 24 24\"\n",
              "     width=\"24px\">\n",
              "    <g>\n",
              "        <path d=\"M19 3H5c-1.1 0-2 .9-2 2v14c0 1.1.9 2 2 2h14c1.1 0 2-.9 2-2V5c0-1.1-.9-2-2-2zM9 17H7v-7h2v7zm4 0h-2V7h2v10zm4 0h-2v-4h2v4z\"/>\n",
              "    </g>\n",
              "</svg>\n",
              "  </button>\n",
              "\n",
              "<style>\n",
              "  .colab-df-quickchart {\n",
              "    background-color: #E8F0FE;\n",
              "    border: none;\n",
              "    border-radius: 50%;\n",
              "    cursor: pointer;\n",
              "    display: none;\n",
              "    fill: #1967D2;\n",
              "    height: 32px;\n",
              "    padding: 0 0 0 0;\n",
              "    width: 32px;\n",
              "  }\n",
              "\n",
              "  .colab-df-quickchart:hover {\n",
              "    background-color: #E2EBFA;\n",
              "    box-shadow: 0px 1px 2px rgba(60, 64, 67, 0.3), 0px 1px 3px 1px rgba(60, 64, 67, 0.15);\n",
              "    fill: #174EA6;\n",
              "  }\n",
              "\n",
              "  [theme=dark] .colab-df-quickchart {\n",
              "    background-color: #3B4455;\n",
              "    fill: #D2E3FC;\n",
              "  }\n",
              "\n",
              "  [theme=dark] .colab-df-quickchart:hover {\n",
              "    background-color: #434B5C;\n",
              "    box-shadow: 0px 1px 3px 1px rgba(0, 0, 0, 0.15);\n",
              "    filter: drop-shadow(0px 1px 2px rgba(0, 0, 0, 0.3));\n",
              "    fill: #FFFFFF;\n",
              "  }\n",
              "</style>\n",
              "\n",
              "  <script>\n",
              "    async function quickchart(key) {\n",
              "      const charts = await google.colab.kernel.invokeFunction(\n",
              "          'suggestCharts', [key], {});\n",
              "    }\n",
              "    (() => {\n",
              "      let quickchartButtonEl =\n",
              "        document.querySelector('#df-422dcc5d-1e4c-4d60-82ee-a5637337ae83 button');\n",
              "      quickchartButtonEl.style.display =\n",
              "        google.colab.kernel.accessAllowed ? 'block' : 'none';\n",
              "    })();\n",
              "  </script>\n",
              "</div>\n",
              "    </div>\n",
              "  </div>\n"
            ]
          },
          "metadata": {},
          "execution_count": 37
        }
      ],
      "source": [
        "# Omit the second row if you want all columns\n",
        "# Use the : (full slice) if you want all rows\n",
        "elections.loc[:, [\"Year\", \"Candidate\", \"Result\"]]"
      ]
    },
    {
      "cell_type": "markdown",
      "metadata": {
        "id": "-gY-rlrWFXG3"
      },
      "source": [
        "---\n",
        "### The `iloc` operator"
      ]
    },
    {
      "cell_type": "markdown",
      "metadata": {
        "id": "GTl7BWmWFXG3"
      },
      "source": [
        "``iloc`` selects items by row and column number."
      ]
    },
    {
      "cell_type": "code",
      "execution_count": null,
      "metadata": {
        "colab": {
          "base_uri": "https://localhost:8080/",
          "height": 143
        },
        "id": "PoA8KnlGFXG3",
        "outputId": "336b46ae-bf1c-4db7-a2ec-c5b09cc304a3"
      },
      "outputs": [
        {
          "data": {
            "text/html": [
              "<div>\n",
              "<style scoped>\n",
              "    .dataframe tbody tr th:only-of-type {\n",
              "        vertical-align: middle;\n",
              "    }\n",
              "\n",
              "    .dataframe tbody tr th {\n",
              "        vertical-align: top;\n",
              "    }\n",
              "\n",
              "    .dataframe thead th {\n",
              "        text-align: right;\n",
              "    }\n",
              "</style>\n",
              "<table border=\"1\" class=\"dataframe\">\n",
              "  <thead>\n",
              "    <tr style=\"text-align: right;\">\n",
              "      <th></th>\n",
              "      <th>Year</th>\n",
              "      <th>Candidate</th>\n",
              "      <th>Party</th>\n",
              "    </tr>\n",
              "  </thead>\n",
              "  <tbody>\n",
              "    <tr>\n",
              "      <th>1</th>\n",
              "      <td>1824</td>\n",
              "      <td>John Quincy Adams</td>\n",
              "      <td>Democratic-Republican</td>\n",
              "    </tr>\n",
              "    <tr>\n",
              "      <th>2</th>\n",
              "      <td>1828</td>\n",
              "      <td>Andrew Jackson</td>\n",
              "      <td>Democratic</td>\n",
              "    </tr>\n",
              "    <tr>\n",
              "      <th>3</th>\n",
              "      <td>1828</td>\n",
              "      <td>John Quincy Adams</td>\n",
              "      <td>National Republican</td>\n",
              "    </tr>\n",
              "  </tbody>\n",
              "</table>\n",
              "</div>"
            ],
            "text/plain": [
              "   Year          Candidate                  Party\n",
              "1  1824  John Quincy Adams  Democratic-Republican\n",
              "2  1828     Andrew Jackson             Democratic\n",
              "3  1828  John Quincy Adams    National Republican"
            ]
          },
          "execution_count": 12,
          "metadata": {},
          "output_type": "execute_result"
        }
      ],
      "source": [
        "elections.iloc[[1, 2, 3], [0, 1, 2]]"
      ]
    },
    {
      "cell_type": "code",
      "execution_count": null,
      "metadata": {
        "colab": {
          "base_uri": "https://localhost:8080/",
          "height": 143
        },
        "id": "6qpgI1bdFXG4",
        "outputId": "8f4bdc71-0d74-477d-bb82-eba4ea7b5d4a"
      },
      "outputs": [
        {
          "data": {
            "text/html": [
              "<div>\n",
              "<style scoped>\n",
              "    .dataframe tbody tr th:only-of-type {\n",
              "        vertical-align: middle;\n",
              "    }\n",
              "\n",
              "    .dataframe tbody tr th {\n",
              "        vertical-align: top;\n",
              "    }\n",
              "\n",
              "    .dataframe thead th {\n",
              "        text-align: right;\n",
              "    }\n",
              "</style>\n",
              "<table border=\"1\" class=\"dataframe\">\n",
              "  <thead>\n",
              "    <tr style=\"text-align: right;\">\n",
              "      <th></th>\n",
              "      <th>Year</th>\n",
              "      <th>Candidate</th>\n",
              "    </tr>\n",
              "  </thead>\n",
              "  <tbody>\n",
              "    <tr>\n",
              "      <th>1</th>\n",
              "      <td>1824</td>\n",
              "      <td>John Quincy Adams</td>\n",
              "    </tr>\n",
              "    <tr>\n",
              "      <th>2</th>\n",
              "      <td>1828</td>\n",
              "      <td>Andrew Jackson</td>\n",
              "    </tr>\n",
              "    <tr>\n",
              "      <th>3</th>\n",
              "      <td>1828</td>\n",
              "      <td>John Quincy Adams</td>\n",
              "    </tr>\n",
              "  </tbody>\n",
              "</table>\n",
              "</div>"
            ],
            "text/plain": [
              "   Year          Candidate\n",
              "1  1824  John Quincy Adams\n",
              "2  1828     Andrew Jackson\n",
              "3  1828  John Quincy Adams"
            ]
          },
          "execution_count": 13,
          "metadata": {},
          "output_type": "execute_result"
        }
      ],
      "source": [
        "elections.iloc[[1, 2, 3], 0:2]"
      ]
    },
    {
      "cell_type": "code",
      "execution_count": null,
      "metadata": {
        "colab": {
          "base_uri": "https://localhost:8080/"
        },
        "id": "Lj3gSCKIFXG4",
        "outputId": "fd4b9b44-2c53-4eb0-c313-1181c7fd4d3e"
      },
      "outputs": [
        {
          "data": {
            "text/plain": [
              "1    John Quincy Adams\n",
              "2       Andrew Jackson\n",
              "3    John Quincy Adams\n",
              "Name: Candidate, dtype: object"
            ]
          },
          "execution_count": 14,
          "metadata": {},
          "output_type": "execute_result"
        }
      ],
      "source": [
        "elections.iloc[[1, 2, 3], 1]"
      ]
    },
    {
      "cell_type": "code",
      "execution_count": null,
      "metadata": {
        "colab": {
          "base_uri": "https://localhost:8080/",
          "height": 424
        },
        "id": "LbxcFUdLFXG4",
        "outputId": "f214a486-e812-4bf9-a769-3b703517a918"
      },
      "outputs": [
        {
          "data": {
            "text/html": [
              "<div>\n",
              "<style scoped>\n",
              "    .dataframe tbody tr th:only-of-type {\n",
              "        vertical-align: middle;\n",
              "    }\n",
              "\n",
              "    .dataframe tbody tr th {\n",
              "        vertical-align: top;\n",
              "    }\n",
              "\n",
              "    .dataframe thead th {\n",
              "        text-align: right;\n",
              "    }\n",
              "</style>\n",
              "<table border=\"1\" class=\"dataframe\">\n",
              "  <thead>\n",
              "    <tr style=\"text-align: right;\">\n",
              "      <th></th>\n",
              "      <th>Year</th>\n",
              "      <th>Candidate</th>\n",
              "      <th>Result</th>\n",
              "    </tr>\n",
              "  </thead>\n",
              "  <tbody>\n",
              "    <tr>\n",
              "      <th>0</th>\n",
              "      <td>1824</td>\n",
              "      <td>Andrew Jackson</td>\n",
              "      <td>loss</td>\n",
              "    </tr>\n",
              "    <tr>\n",
              "      <th>1</th>\n",
              "      <td>1824</td>\n",
              "      <td>John Quincy Adams</td>\n",
              "      <td>win</td>\n",
              "    </tr>\n",
              "    <tr>\n",
              "      <th>2</th>\n",
              "      <td>1828</td>\n",
              "      <td>Andrew Jackson</td>\n",
              "      <td>win</td>\n",
              "    </tr>\n",
              "    <tr>\n",
              "      <th>3</th>\n",
              "      <td>1828</td>\n",
              "      <td>John Quincy Adams</td>\n",
              "      <td>loss</td>\n",
              "    </tr>\n",
              "    <tr>\n",
              "      <th>4</th>\n",
              "      <td>1832</td>\n",
              "      <td>Andrew Jackson</td>\n",
              "      <td>win</td>\n",
              "    </tr>\n",
              "    <tr>\n",
              "      <th>...</th>\n",
              "      <td>...</td>\n",
              "      <td>...</td>\n",
              "      <td>...</td>\n",
              "    </tr>\n",
              "    <tr>\n",
              "      <th>177</th>\n",
              "      <td>2016</td>\n",
              "      <td>Jill Stein</td>\n",
              "      <td>loss</td>\n",
              "    </tr>\n",
              "    <tr>\n",
              "      <th>178</th>\n",
              "      <td>2020</td>\n",
              "      <td>Joseph Biden</td>\n",
              "      <td>win</td>\n",
              "    </tr>\n",
              "    <tr>\n",
              "      <th>179</th>\n",
              "      <td>2020</td>\n",
              "      <td>Donald Trump</td>\n",
              "      <td>loss</td>\n",
              "    </tr>\n",
              "    <tr>\n",
              "      <th>180</th>\n",
              "      <td>2020</td>\n",
              "      <td>Jo Jorgensen</td>\n",
              "      <td>loss</td>\n",
              "    </tr>\n",
              "    <tr>\n",
              "      <th>181</th>\n",
              "      <td>2020</td>\n",
              "      <td>Howard Hawkins</td>\n",
              "      <td>loss</td>\n",
              "    </tr>\n",
              "  </tbody>\n",
              "</table>\n",
              "<p>182 rows × 3 columns</p>\n",
              "</div>"
            ],
            "text/plain": [
              "     Year          Candidate Result\n",
              "0    1824     Andrew Jackson   loss\n",
              "1    1824  John Quincy Adams    win\n",
              "2    1828     Andrew Jackson    win\n",
              "3    1828  John Quincy Adams   loss\n",
              "4    1832     Andrew Jackson    win\n",
              "..    ...                ...    ...\n",
              "177  2016         Jill Stein   loss\n",
              "178  2020       Joseph Biden    win\n",
              "179  2020       Donald Trump   loss\n",
              "180  2020       Jo Jorgensen   loss\n",
              "181  2020     Howard Hawkins   loss\n",
              "\n",
              "[182 rows x 3 columns]"
            ]
          },
          "execution_count": 15,
          "metadata": {},
          "output_type": "execute_result"
        }
      ],
      "source": [
        "elections.iloc[:, [0, 1, 4]]"
      ]
    },
    {
      "cell_type": "markdown",
      "metadata": {
        "id": "QkKEV_ITFXG4"
      },
      "source": [
        "---\n",
        "### The `[]` operator"
      ]
    },
    {
      "cell_type": "markdown",
      "metadata": {
        "id": "QNnrChMiFXG4"
      },
      "source": [
        "We could technically do anything we want using `.loc` or `.iloc`. However, in practice, the `[]` operator is often used instead to yield more concise code.\n",
        "\n",
        "`[]` is a bit trickier to understand than `.loc` or `.iloc`, but it does essentially the same thing."
      ]
    },
    {
      "cell_type": "markdown",
      "metadata": {
        "id": "ODUsxNWNFXG5"
      },
      "source": [
        "If we provide a slice of row numbers, we get the numbered rows."
      ]
    },
    {
      "cell_type": "code",
      "execution_count": null,
      "metadata": {
        "id": "gMye14_GFXG5",
        "outputId": "a81d3808-3a0d-47c5-e59b-11e18a3bd2c1",
        "scrolled": true
      },
      "outputs": [
        {
          "data": {
            "text/html": [
              "<div>\n",
              "<style scoped>\n",
              "    .dataframe tbody tr th:only-of-type {\n",
              "        vertical-align: middle;\n",
              "    }\n",
              "\n",
              "    .dataframe tbody tr th {\n",
              "        vertical-align: top;\n",
              "    }\n",
              "\n",
              "    .dataframe thead th {\n",
              "        text-align: right;\n",
              "    }\n",
              "</style>\n",
              "<table border=\"1\" class=\"dataframe\">\n",
              "  <thead>\n",
              "    <tr style=\"text-align: right;\">\n",
              "      <th></th>\n",
              "      <th>Year</th>\n",
              "      <th>Candidate</th>\n",
              "      <th>Party</th>\n",
              "      <th>Popular vote</th>\n",
              "      <th>Result</th>\n",
              "      <th>%</th>\n",
              "    </tr>\n",
              "  </thead>\n",
              "  <tbody>\n",
              "    <tr>\n",
              "      <th>3</th>\n",
              "      <td>1828</td>\n",
              "      <td>John Quincy Adams</td>\n",
              "      <td>National Republican</td>\n",
              "      <td>500897</td>\n",
              "      <td>loss</td>\n",
              "      <td>43.796073</td>\n",
              "    </tr>\n",
              "    <tr>\n",
              "      <th>4</th>\n",
              "      <td>1832</td>\n",
              "      <td>Andrew Jackson</td>\n",
              "      <td>Democratic</td>\n",
              "      <td>702735</td>\n",
              "      <td>win</td>\n",
              "      <td>54.574789</td>\n",
              "    </tr>\n",
              "    <tr>\n",
              "      <th>5</th>\n",
              "      <td>1832</td>\n",
              "      <td>Henry Clay</td>\n",
              "      <td>National Republican</td>\n",
              "      <td>484205</td>\n",
              "      <td>loss</td>\n",
              "      <td>37.603628</td>\n",
              "    </tr>\n",
              "    <tr>\n",
              "      <th>6</th>\n",
              "      <td>1832</td>\n",
              "      <td>William Wirt</td>\n",
              "      <td>Anti-Masonic</td>\n",
              "      <td>100715</td>\n",
              "      <td>loss</td>\n",
              "      <td>7.821583</td>\n",
              "    </tr>\n",
              "  </tbody>\n",
              "</table>\n",
              "</div>"
            ],
            "text/plain": [
              "   Year          Candidate                Party  Popular vote Result  \\\n",
              "3  1828  John Quincy Adams  National Republican        500897   loss   \n",
              "4  1832     Andrew Jackson           Democratic        702735    win   \n",
              "5  1832         Henry Clay  National Republican        484205   loss   \n",
              "6  1832       William Wirt         Anti-Masonic        100715   loss   \n",
              "\n",
              "           %  \n",
              "3  43.796073  \n",
              "4  54.574789  \n",
              "5  37.603628  \n",
              "6   7.821583  "
            ]
          },
          "execution_count": 16,
          "metadata": {},
          "output_type": "execute_result"
        }
      ],
      "source": [
        "elections[3:7]"
      ]
    },
    {
      "cell_type": "markdown",
      "metadata": {
        "id": "Zu61LSuVFXG5"
      },
      "source": [
        "If we provide a list of column names, we get the listed columns."
      ]
    },
    {
      "cell_type": "code",
      "execution_count": null,
      "metadata": {
        "id": "aRdRN1MBFXG5",
        "outputId": "1bac8e22-5b37-4145-cfaf-1c38912b6438"
      },
      "outputs": [
        {
          "data": {
            "text/html": [
              "<div>\n",
              "<style scoped>\n",
              "    .dataframe tbody tr th:only-of-type {\n",
              "        vertical-align: middle;\n",
              "    }\n",
              "\n",
              "    .dataframe tbody tr th {\n",
              "        vertical-align: top;\n",
              "    }\n",
              "\n",
              "    .dataframe thead th {\n",
              "        text-align: right;\n",
              "    }\n",
              "</style>\n",
              "<table border=\"1\" class=\"dataframe\">\n",
              "  <thead>\n",
              "    <tr style=\"text-align: right;\">\n",
              "      <th></th>\n",
              "      <th>Year</th>\n",
              "      <th>Candidate</th>\n",
              "      <th>Result</th>\n",
              "    </tr>\n",
              "  </thead>\n",
              "  <tbody>\n",
              "    <tr>\n",
              "      <th>177</th>\n",
              "      <td>2016</td>\n",
              "      <td>Jill Stein</td>\n",
              "      <td>loss</td>\n",
              "    </tr>\n",
              "    <tr>\n",
              "      <th>178</th>\n",
              "      <td>2020</td>\n",
              "      <td>Joseph Biden</td>\n",
              "      <td>win</td>\n",
              "    </tr>\n",
              "    <tr>\n",
              "      <th>179</th>\n",
              "      <td>2020</td>\n",
              "      <td>Donald Trump</td>\n",
              "      <td>loss</td>\n",
              "    </tr>\n",
              "    <tr>\n",
              "      <th>180</th>\n",
              "      <td>2020</td>\n",
              "      <td>Jo Jorgensen</td>\n",
              "      <td>loss</td>\n",
              "    </tr>\n",
              "    <tr>\n",
              "      <th>181</th>\n",
              "      <td>2020</td>\n",
              "      <td>Howard Hawkins</td>\n",
              "      <td>loss</td>\n",
              "    </tr>\n",
              "  </tbody>\n",
              "</table>\n",
              "</div>"
            ],
            "text/plain": [
              "     Year       Candidate Result\n",
              "177  2016      Jill Stein   loss\n",
              "178  2020    Joseph Biden    win\n",
              "179  2020    Donald Trump   loss\n",
              "180  2020    Jo Jorgensen   loss\n",
              "181  2020  Howard Hawkins   loss"
            ]
          },
          "execution_count": 17,
          "metadata": {},
          "output_type": "execute_result"
        }
      ],
      "source": [
        "elections[[\"Year\", \"Candidate\", \"Result\"]].tail(5)"
      ]
    },
    {
      "cell_type": "markdown",
      "metadata": {
        "id": "9YeanaerFXG5"
      },
      "source": [
        "And if we provide a single column name we get back just that column."
      ]
    },
    {
      "cell_type": "code",
      "execution_count": null,
      "metadata": {
        "colab": {
          "base_uri": "https://localhost:8080/"
        },
        "id": "3Mhg_-7LFXG5",
        "outputId": "4fd1c8f0-a747-45b8-f9ca-f6b37ce79221",
        "scrolled": true
      },
      "outputs": [
        {
          "data": {
            "text/plain": [
              "177        Jill Stein\n",
              "178      Joseph Biden\n",
              "179      Donald Trump\n",
              "180      Jo Jorgensen\n",
              "181    Howard Hawkins\n",
              "Name: Candidate, dtype: object"
            ]
          },
          "execution_count": 18,
          "metadata": {},
          "output_type": "execute_result"
        }
      ],
      "source": [
        "elections[\"Candidate\"].tail(5)"
      ]
    },
    {
      "cell_type": "code",
      "execution_count": null,
      "metadata": {
        "colab": {
          "base_uri": "https://localhost:8080/",
          "height": 112
        },
        "id": "BN-gnn7GFXG6",
        "outputId": "9841a6e8-951c-480b-8722-e0897cb725c8"
      },
      "outputs": [
        {
          "data": {
            "text/html": [
              "<div>\n",
              "<style scoped>\n",
              "    .dataframe tbody tr th:only-of-type {\n",
              "        vertical-align: middle;\n",
              "    }\n",
              "\n",
              "    .dataframe tbody tr th {\n",
              "        vertical-align: top;\n",
              "    }\n",
              "\n",
              "    .dataframe thead th {\n",
              "        text-align: right;\n",
              "    }\n",
              "</style>\n",
              "<table border=\"1\" class=\"dataframe\">\n",
              "  <thead>\n",
              "    <tr style=\"text-align: right;\">\n",
              "      <th></th>\n",
              "      <th>1</th>\n",
              "      <th>1</th>\n",
              "    </tr>\n",
              "  </thead>\n",
              "  <tbody>\n",
              "    <tr>\n",
              "      <th>0</th>\n",
              "      <td>topdog</td>\n",
              "      <td>topcat</td>\n",
              "    </tr>\n",
              "    <tr>\n",
              "      <th>1</th>\n",
              "      <td>botdog</td>\n",
              "      <td>botcat</td>\n",
              "    </tr>\n",
              "  </tbody>\n",
              "</table>\n",
              "</div>"
            ],
            "text/plain": [
              "        1       1\n",
              "0  topdog  topcat\n",
              "1  botdog  botcat"
            ]
          },
          "execution_count": 9,
          "metadata": {},
          "output_type": "execute_result"
        }
      ],
      "source": [
        "weird = pd.DataFrame({\n",
        "    1:[\"topdog\",\"botdog\"],\n",
        "    \"1\":[\"topcat\",\"botcat\"]\n",
        "})\n",
        "weird"
      ]
    },
    {
      "cell_type": "code",
      "execution_count": null,
      "metadata": {
        "colab": {
          "base_uri": "https://localhost:8080/"
        },
        "id": "vsPbLMRcFXG6",
        "outputId": "a7cf4578-e934-4f5c-9779-b841572e7a0e"
      },
      "outputs": [
        {
          "data": {
            "text/plain": [
              "0    topdog\n",
              "1    botdog\n",
              "Name: 1, dtype: object"
            ]
          },
          "execution_count": 10,
          "metadata": {},
          "output_type": "execute_result"
        }
      ],
      "source": [
        "weird[1] #try to predict the output"
      ]
    },
    {
      "cell_type": "code",
      "execution_count": null,
      "metadata": {
        "colab": {
          "base_uri": "https://localhost:8080/"
        },
        "id": "ibtKrUSqFXG6",
        "outputId": "d906bdbd-9e74-4f28-e5e7-77ad2d2a6a51"
      },
      "outputs": [
        {
          "data": {
            "text/plain": [
              "0    topcat\n",
              "1    botcat\n",
              "Name: 1, dtype: object"
            ]
          },
          "execution_count": 11,
          "metadata": {},
          "output_type": "execute_result"
        }
      ],
      "source": [
        "weird[\"1\"] #try to predict the output"
      ]
    },
    {
      "cell_type": "code",
      "execution_count": null,
      "metadata": {
        "id": "P6Evt3gTFXG6",
        "outputId": "734053c7-7c3b-4fb8-89ce-0356ba057528"
      },
      "outputs": [
        {
          "data": {
            "text/html": [
              "<div>\n",
              "<style scoped>\n",
              "    .dataframe tbody tr th:only-of-type {\n",
              "        vertical-align: middle;\n",
              "    }\n",
              "\n",
              "    .dataframe tbody tr th {\n",
              "        vertical-align: top;\n",
              "    }\n",
              "\n",
              "    .dataframe thead th {\n",
              "        text-align: right;\n",
              "    }\n",
              "</style>\n",
              "<table border=\"1\" class=\"dataframe\">\n",
              "  <thead>\n",
              "    <tr style=\"text-align: right;\">\n",
              "      <th></th>\n",
              "      <th>1</th>\n",
              "      <th>1</th>\n",
              "    </tr>\n",
              "  </thead>\n",
              "  <tbody>\n",
              "    <tr>\n",
              "      <th>1</th>\n",
              "      <td>botdog</td>\n",
              "      <td>botcat</td>\n",
              "    </tr>\n",
              "  </tbody>\n",
              "</table>\n",
              "</div>"
            ],
            "text/plain": [
              "        1       1\n",
              "1  botdog  botcat"
            ]
          },
          "execution_count": 12,
          "metadata": {},
          "output_type": "execute_result"
        }
      ],
      "source": [
        "weird[1:] #try to predict the output"
      ]
    },
    {
      "cell_type": "markdown",
      "metadata": {
        "id": "kiz784jYFXG6"
      },
      "source": [
        "---\n",
        "## Pandas Datastructures: DataFrames, Series, and Indices"
      ]
    },
    {
      "cell_type": "code",
      "execution_count": null,
      "metadata": {
        "id": "Igacl5IUFXG7",
        "outputId": "9eb34224-a841-48d9-a508-fcd8498f81bd"
      },
      "outputs": [
        {
          "data": {
            "text/plain": [
              "pandas.core.frame.DataFrame"
            ]
          },
          "execution_count": 23,
          "metadata": {},
          "output_type": "execute_result"
        }
      ],
      "source": [
        "type(elections)"
      ]
    },
    {
      "cell_type": "code",
      "execution_count": null,
      "metadata": {
        "id": "Np45JMAFFXG7",
        "outputId": "d6b2c588-5432-44d2-ac57-68ab1c107e25"
      },
      "outputs": [
        {
          "data": {
            "text/plain": [
              "pandas.core.series.Series"
            ]
          },
          "execution_count": 24,
          "metadata": {},
          "output_type": "execute_result"
        }
      ],
      "source": [
        "type(elections[\"Candidate\"])"
      ]
    },
    {
      "cell_type": "code",
      "execution_count": null,
      "metadata": {
        "colab": {
          "base_uri": "https://localhost:8080/",
          "height": 237
        },
        "id": "n31U7pm0FXG7",
        "outputId": "1ac532a5-fea5-4c2b-fe71-011ba214753b"
      },
      "outputs": [
        {
          "data": {
            "text/html": [
              "<div>\n",
              "<style scoped>\n",
              "    .dataframe tbody tr th:only-of-type {\n",
              "        vertical-align: middle;\n",
              "    }\n",
              "\n",
              "    .dataframe tbody tr th {\n",
              "        vertical-align: top;\n",
              "    }\n",
              "\n",
              "    .dataframe thead th {\n",
              "        text-align: right;\n",
              "    }\n",
              "</style>\n",
              "<table border=\"1\" class=\"dataframe\">\n",
              "  <thead>\n",
              "    <tr style=\"text-align: right;\">\n",
              "      <th></th>\n",
              "      <th>Motto</th>\n",
              "      <th>Translation</th>\n",
              "      <th>Language</th>\n",
              "      <th>Date Adopted</th>\n",
              "    </tr>\n",
              "    <tr>\n",
              "      <th>State</th>\n",
              "      <th></th>\n",
              "      <th></th>\n",
              "      <th></th>\n",
              "      <th></th>\n",
              "    </tr>\n",
              "  </thead>\n",
              "  <tbody>\n",
              "    <tr>\n",
              "      <th>Alabama</th>\n",
              "      <td>Audemus jura nostra defendere</td>\n",
              "      <td>We dare defend our rights!</td>\n",
              "      <td>Latin</td>\n",
              "      <td>1923</td>\n",
              "    </tr>\n",
              "    <tr>\n",
              "      <th>Alaska</th>\n",
              "      <td>North to the future</td>\n",
              "      <td>—</td>\n",
              "      <td>English</td>\n",
              "      <td>1967</td>\n",
              "    </tr>\n",
              "    <tr>\n",
              "      <th>Arizona</th>\n",
              "      <td>Ditat Deus</td>\n",
              "      <td>God enriches</td>\n",
              "      <td>Latin</td>\n",
              "      <td>1863</td>\n",
              "    </tr>\n",
              "    <tr>\n",
              "      <th>Arkansas</th>\n",
              "      <td>Regnat populus</td>\n",
              "      <td>The people rule</td>\n",
              "      <td>Latin</td>\n",
              "      <td>1907</td>\n",
              "    </tr>\n",
              "    <tr>\n",
              "      <th>California</th>\n",
              "      <td>Eureka (Εὕρηκα)</td>\n",
              "      <td>I have found it</td>\n",
              "      <td>Greek</td>\n",
              "      <td>1849</td>\n",
              "    </tr>\n",
              "  </tbody>\n",
              "</table>\n",
              "</div>"
            ],
            "text/plain": [
              "                                    Motto                 Translation  \\\n",
              "State                                                                   \n",
              "Alabama     Audemus jura nostra defendere  We dare defend our rights!   \n",
              "Alaska                North to the future                           —   \n",
              "Arizona                        Ditat Deus                God enriches   \n",
              "Arkansas                   Regnat populus             The people rule   \n",
              "California                Eureka (Εὕρηκα)             I have found it   \n",
              "\n",
              "           Language Date Adopted  \n",
              "State                             \n",
              "Alabama       Latin         1923  \n",
              "Alaska      English         1967  \n",
              "Arizona       Latin         1863  \n",
              "Arkansas      Latin         1907  \n",
              "California    Greek         1849  "
            ]
          },
          "execution_count": 25,
          "metadata": {},
          "output_type": "execute_result"
        }
      ],
      "source": [
        "mottos = pd.read_csv(\"./data/mottos.csv\", index_col = \"State\")\n",
        "mottos.loc[\"Alabama\":\"California\"]"
      ]
    },
    {
      "cell_type": "code",
      "execution_count": null,
      "metadata": {
        "colab": {
          "base_uri": "https://localhost:8080/",
          "height": 206
        },
        "id": "rDoC2QPrFXG7",
        "outputId": "8152848a-a98d-4803-b9c6-caf402cd09cc"
      },
      "outputs": [
        {
          "data": {
            "text/html": [
              "<div>\n",
              "<style scoped>\n",
              "    .dataframe tbody tr th:only-of-type {\n",
              "        vertical-align: middle;\n",
              "    }\n",
              "\n",
              "    .dataframe tbody tr th {\n",
              "        vertical-align: top;\n",
              "    }\n",
              "\n",
              "    .dataframe thead th {\n",
              "        text-align: right;\n",
              "    }\n",
              "</style>\n",
              "<table border=\"1\" class=\"dataframe\">\n",
              "  <thead>\n",
              "    <tr style=\"text-align: right;\">\n",
              "      <th></th>\n",
              "      <th>Candidate</th>\n",
              "    </tr>\n",
              "  </thead>\n",
              "  <tbody>\n",
              "    <tr>\n",
              "      <th>177</th>\n",
              "      <td>Jill Stein</td>\n",
              "    </tr>\n",
              "    <tr>\n",
              "      <th>178</th>\n",
              "      <td>Joseph Biden</td>\n",
              "    </tr>\n",
              "    <tr>\n",
              "      <th>179</th>\n",
              "      <td>Donald Trump</td>\n",
              "    </tr>\n",
              "    <tr>\n",
              "      <th>180</th>\n",
              "      <td>Jo Jorgensen</td>\n",
              "    </tr>\n",
              "    <tr>\n",
              "      <th>181</th>\n",
              "      <td>Howard Hawkins</td>\n",
              "    </tr>\n",
              "  </tbody>\n",
              "</table>\n",
              "</div>"
            ],
            "text/plain": [
              "          Candidate\n",
              "177      Jill Stein\n",
              "178    Joseph Biden\n",
              "179    Donald Trump\n",
              "180    Jo Jorgensen\n",
              "181  Howard Hawkins"
            ]
          },
          "execution_count": 26,
          "metadata": {},
          "output_type": "execute_result"
        }
      ],
      "source": [
        "elections[\"Candidate\"].tail(5).to_frame()"
      ]
    },
    {
      "cell_type": "code",
      "execution_count": null,
      "metadata": {
        "id": "WEWqc51BFXG7",
        "outputId": "c073266e-6043-4f46-f72a-a8055a0116a7"
      },
      "outputs": [
        {
          "data": {
            "text/html": [
              "<div>\n",
              "<style scoped>\n",
              "    .dataframe tbody tr th:only-of-type {\n",
              "        vertical-align: middle;\n",
              "    }\n",
              "\n",
              "    .dataframe tbody tr th {\n",
              "        vertical-align: top;\n",
              "    }\n",
              "\n",
              "    .dataframe thead th {\n",
              "        text-align: right;\n",
              "    }\n",
              "</style>\n",
              "<table border=\"1\" class=\"dataframe\">\n",
              "  <thead>\n",
              "    <tr style=\"text-align: right;\">\n",
              "      <th></th>\n",
              "      <th>Candidate</th>\n",
              "    </tr>\n",
              "  </thead>\n",
              "  <tbody>\n",
              "    <tr>\n",
              "      <th>177</th>\n",
              "      <td>Jill Stein</td>\n",
              "    </tr>\n",
              "    <tr>\n",
              "      <th>178</th>\n",
              "      <td>Joseph Biden</td>\n",
              "    </tr>\n",
              "    <tr>\n",
              "      <th>179</th>\n",
              "      <td>Donald Trump</td>\n",
              "    </tr>\n",
              "    <tr>\n",
              "      <th>180</th>\n",
              "      <td>Jo Jorgensen</td>\n",
              "    </tr>\n",
              "    <tr>\n",
              "      <th>181</th>\n",
              "      <td>Howard Hawkins</td>\n",
              "    </tr>\n",
              "  </tbody>\n",
              "</table>\n",
              "</div>"
            ],
            "text/plain": [
              "          Candidate\n",
              "177      Jill Stein\n",
              "178    Joseph Biden\n",
              "179    Donald Trump\n",
              "180    Jo Jorgensen\n",
              "181  Howard Hawkins"
            ]
          },
          "execution_count": 27,
          "metadata": {},
          "output_type": "execute_result"
        }
      ],
      "source": [
        "elections[[\"Candidate\"]].tail(5)"
      ]
    },
    {
      "cell_type": "code",
      "execution_count": null,
      "metadata": {
        "colab": {
          "base_uri": "https://localhost:8080/"
        },
        "id": "qJy3pZVhFXG8",
        "outputId": "72bb8b63-699f-47c4-9b56-84512671a83b"
      },
      "outputs": [
        {
          "data": {
            "text/plain": [
              "Index(['Alabama', 'Alaska', 'Arizona', 'Arkansas', 'California', 'Colorado',\n",
              "       'Connecticut', 'Delaware', 'Florida', 'Georgia', 'Hawaii', 'Idaho',\n",
              "       'Illinois', 'Indiana', 'Iowa', 'Kansas', 'Kentucky', 'Louisiana',\n",
              "       'Maine', 'Maryland', 'Massachusetts', 'Michigan', 'Minnesota',\n",
              "       'Mississippi', 'Missouri', 'Montana', 'Nebraska', 'Nevada',\n",
              "       'New Hampshire', 'New Jersey', 'New Mexico', 'New York',\n",
              "       'North Carolina', 'North Dakota', 'Ohio', 'Oklahoma', 'Oregon',\n",
              "       'Pennsylvania', 'Rhode Island', 'South Carolina', 'South Dakota',\n",
              "       'Tennessee', 'Texas', 'Utah', 'Vermont', 'Virginia', 'Washington',\n",
              "       'West Virginia', 'Wisconsin', 'Wyoming'],\n",
              "      dtype='object', name='State')"
            ]
          },
          "execution_count": 28,
          "metadata": {},
          "output_type": "execute_result"
        }
      ],
      "source": [
        "mottos.index"
      ]
    },
    {
      "cell_type": "code",
      "execution_count": null,
      "metadata": {
        "colab": {
          "base_uri": "https://localhost:8080/"
        },
        "id": "N1dqMEmiFXG8",
        "outputId": "746bdd40-fa32-4a6e-9401-6910a68eefee"
      },
      "outputs": [
        {
          "data": {
            "text/plain": [
              "Index(['Motto', 'Translation', 'Language', 'Date Adopted'], dtype='object')"
            ]
          },
          "execution_count": 29,
          "metadata": {},
          "output_type": "execute_result"
        }
      ],
      "source": [
        "mottos.columns"
      ]
    },
    {
      "cell_type": "markdown",
      "metadata": {
        "id": "ilj9R-U4FXG8"
      },
      "source": [
        "## Conditional Selection"
      ]
    },
    {
      "cell_type": "code",
      "execution_count": null,
      "metadata": {
        "id": "u1MITtJ3FXG8",
        "outputId": "1ad12505-86aa-4cc6-8c4f-d6f195d1a28a"
      },
      "outputs": [
        {
          "data": {
            "text/html": [
              "<div>\n",
              "<style scoped>\n",
              "    .dataframe tbody tr th:only-of-type {\n",
              "        vertical-align: middle;\n",
              "    }\n",
              "\n",
              "    .dataframe tbody tr th {\n",
              "        vertical-align: top;\n",
              "    }\n",
              "\n",
              "    .dataframe thead th {\n",
              "        text-align: right;\n",
              "    }\n",
              "</style>\n",
              "<table border=\"1\" class=\"dataframe\">\n",
              "  <thead>\n",
              "    <tr style=\"text-align: right;\">\n",
              "      <th></th>\n",
              "      <th>Year</th>\n",
              "      <th>Candidate</th>\n",
              "      <th>Party</th>\n",
              "      <th>Popular vote</th>\n",
              "      <th>Result</th>\n",
              "      <th>%</th>\n",
              "    </tr>\n",
              "  </thead>\n",
              "  <tbody>\n",
              "    <tr>\n",
              "      <th>121</th>\n",
              "      <td>1976</td>\n",
              "      <td>Eugene McCarthy</td>\n",
              "      <td>Independent</td>\n",
              "      <td>740460</td>\n",
              "      <td>loss</td>\n",
              "      <td>0.911649</td>\n",
              "    </tr>\n",
              "    <tr>\n",
              "      <th>130</th>\n",
              "      <td>1980</td>\n",
              "      <td>John B. Anderson</td>\n",
              "      <td>Independent</td>\n",
              "      <td>5719850</td>\n",
              "      <td>loss</td>\n",
              "      <td>6.631143</td>\n",
              "    </tr>\n",
              "    <tr>\n",
              "      <th>143</th>\n",
              "      <td>1992</td>\n",
              "      <td>Ross Perot</td>\n",
              "      <td>Independent</td>\n",
              "      <td>19743821</td>\n",
              "      <td>loss</td>\n",
              "      <td>18.956298</td>\n",
              "    </tr>\n",
              "    <tr>\n",
              "      <th>161</th>\n",
              "      <td>2004</td>\n",
              "      <td>Ralph Nader</td>\n",
              "      <td>Independent</td>\n",
              "      <td>465151</td>\n",
              "      <td>loss</td>\n",
              "      <td>0.380663</td>\n",
              "    </tr>\n",
              "    <tr>\n",
              "      <th>167</th>\n",
              "      <td>2008</td>\n",
              "      <td>Ralph Nader</td>\n",
              "      <td>Independent</td>\n",
              "      <td>739034</td>\n",
              "      <td>loss</td>\n",
              "      <td>0.563842</td>\n",
              "    </tr>\n",
              "    <tr>\n",
              "      <th>174</th>\n",
              "      <td>2016</td>\n",
              "      <td>Evan McMullin</td>\n",
              "      <td>Independent</td>\n",
              "      <td>732273</td>\n",
              "      <td>loss</td>\n",
              "      <td>0.539546</td>\n",
              "    </tr>\n",
              "  </tbody>\n",
              "</table>\n",
              "</div>"
            ],
            "text/plain": [
              "     Year         Candidate        Party  Popular vote Result          %\n",
              "121  1976   Eugene McCarthy  Independent        740460   loss   0.911649\n",
              "130  1980  John B. Anderson  Independent       5719850   loss   6.631143\n",
              "143  1992        Ross Perot  Independent      19743821   loss  18.956298\n",
              "161  2004       Ralph Nader  Independent        465151   loss   0.380663\n",
              "167  2008       Ralph Nader  Independent        739034   loss   0.563842\n",
              "174  2016     Evan McMullin  Independent        732273   loss   0.539546"
            ]
          },
          "execution_count": 30,
          "metadata": {},
          "output_type": "execute_result"
        }
      ],
      "source": [
        "elections[elections[\"Party\"] == \"Independent\"]"
      ]
    },
    {
      "cell_type": "code",
      "execution_count": null,
      "metadata": {
        "id": "D2FH8v9nFXG8",
        "outputId": "951a3855-d024-42cd-e969-1ee215ae298a"
      },
      "outputs": [
        {
          "data": {
            "text/plain": [
              "0      False\n",
              "1      False\n",
              "2      False\n",
              "3      False\n",
              "4      False\n",
              "       ...  \n",
              "177    False\n",
              "178    False\n",
              "179    False\n",
              "180    False\n",
              "181    False\n",
              "Name: Party, Length: 182, dtype: bool"
            ]
          },
          "execution_count": 31,
          "metadata": {},
          "output_type": "execute_result"
        }
      ],
      "source": [
        "elections[\"Party\"] == \"Independent\""
      ]
    },
    {
      "cell_type": "markdown",
      "metadata": {
        "id": "Im4lsyx6FXG8"
      },
      "source": [
        "Boolean array selection also works with `loc`!"
      ]
    },
    {
      "cell_type": "code",
      "execution_count": null,
      "metadata": {
        "colab": {
          "base_uri": "https://localhost:8080/",
          "height": 237
        },
        "id": "HRqBQ-7tFXG9",
        "outputId": "050ebc2f-78b9-4f9a-d589-066c16936555"
      },
      "outputs": [
        {
          "data": {
            "text/html": [
              "<div>\n",
              "<style scoped>\n",
              "    .dataframe tbody tr th:only-of-type {\n",
              "        vertical-align: middle;\n",
              "    }\n",
              "\n",
              "    .dataframe tbody tr th {\n",
              "        vertical-align: top;\n",
              "    }\n",
              "\n",
              "    .dataframe thead th {\n",
              "        text-align: right;\n",
              "    }\n",
              "</style>\n",
              "<table border=\"1\" class=\"dataframe\">\n",
              "  <thead>\n",
              "    <tr style=\"text-align: right;\">\n",
              "      <th></th>\n",
              "      <th>Year</th>\n",
              "      <th>Candidate</th>\n",
              "      <th>Party</th>\n",
              "      <th>Popular vote</th>\n",
              "      <th>Result</th>\n",
              "      <th>%</th>\n",
              "    </tr>\n",
              "  </thead>\n",
              "  <tbody>\n",
              "    <tr>\n",
              "      <th>121</th>\n",
              "      <td>1976</td>\n",
              "      <td>Eugene McCarthy</td>\n",
              "      <td>Independent</td>\n",
              "      <td>740460</td>\n",
              "      <td>loss</td>\n",
              "      <td>0.911649</td>\n",
              "    </tr>\n",
              "    <tr>\n",
              "      <th>130</th>\n",
              "      <td>1980</td>\n",
              "      <td>John B. Anderson</td>\n",
              "      <td>Independent</td>\n",
              "      <td>5719850</td>\n",
              "      <td>loss</td>\n",
              "      <td>6.631143</td>\n",
              "    </tr>\n",
              "    <tr>\n",
              "      <th>143</th>\n",
              "      <td>1992</td>\n",
              "      <td>Ross Perot</td>\n",
              "      <td>Independent</td>\n",
              "      <td>19743821</td>\n",
              "      <td>loss</td>\n",
              "      <td>18.956298</td>\n",
              "    </tr>\n",
              "    <tr>\n",
              "      <th>161</th>\n",
              "      <td>2004</td>\n",
              "      <td>Ralph Nader</td>\n",
              "      <td>Independent</td>\n",
              "      <td>465151</td>\n",
              "      <td>loss</td>\n",
              "      <td>0.380663</td>\n",
              "    </tr>\n",
              "    <tr>\n",
              "      <th>167</th>\n",
              "      <td>2008</td>\n",
              "      <td>Ralph Nader</td>\n",
              "      <td>Independent</td>\n",
              "      <td>739034</td>\n",
              "      <td>loss</td>\n",
              "      <td>0.563842</td>\n",
              "    </tr>\n",
              "    <tr>\n",
              "      <th>174</th>\n",
              "      <td>2016</td>\n",
              "      <td>Evan McMullin</td>\n",
              "      <td>Independent</td>\n",
              "      <td>732273</td>\n",
              "      <td>loss</td>\n",
              "      <td>0.539546</td>\n",
              "    </tr>\n",
              "  </tbody>\n",
              "</table>\n",
              "</div>"
            ],
            "text/plain": [
              "     Year         Candidate        Party  Popular vote Result          %\n",
              "121  1976   Eugene McCarthy  Independent        740460   loss   0.911649\n",
              "130  1980  John B. Anderson  Independent       5719850   loss   6.631143\n",
              "143  1992        Ross Perot  Independent      19743821   loss  18.956298\n",
              "161  2004       Ralph Nader  Independent        465151   loss   0.380663\n",
              "167  2008       Ralph Nader  Independent        739034   loss   0.563842\n",
              "174  2016     Evan McMullin  Independent        732273   loss   0.539546"
            ]
          },
          "execution_count": 32,
          "metadata": {},
          "output_type": "execute_result"
        }
      ],
      "source": [
        "elections.loc[elections[\"Party\"] == \"Independent\"]"
      ]
    },
    {
      "cell_type": "code",
      "execution_count": null,
      "metadata": {
        "colab": {
          "base_uri": "https://localhost:8080/",
          "height": 300
        },
        "id": "yhiipVjiFXG9",
        "outputId": "6bd5e42d-5cfe-4abd-c963-6448b4df7c41"
      },
      "outputs": [
        {
          "data": {
            "text/html": [
              "<div>\n",
              "<style scoped>\n",
              "    .dataframe tbody tr th:only-of-type {\n",
              "        vertical-align: middle;\n",
              "    }\n",
              "\n",
              "    .dataframe tbody tr th {\n",
              "        vertical-align: top;\n",
              "    }\n",
              "\n",
              "    .dataframe thead th {\n",
              "        text-align: right;\n",
              "    }\n",
              "</style>\n",
              "<table border=\"1\" class=\"dataframe\">\n",
              "  <thead>\n",
              "    <tr style=\"text-align: right;\">\n",
              "      <th></th>\n",
              "      <th>Year</th>\n",
              "      <th>Candidate</th>\n",
              "      <th>Party</th>\n",
              "      <th>Popular vote</th>\n",
              "      <th>Result</th>\n",
              "      <th>%</th>\n",
              "    </tr>\n",
              "  </thead>\n",
              "  <tbody>\n",
              "    <tr>\n",
              "      <th>1</th>\n",
              "      <td>1824</td>\n",
              "      <td>John Quincy Adams</td>\n",
              "      <td>Democratic-Republican</td>\n",
              "      <td>113142</td>\n",
              "      <td>win</td>\n",
              "      <td>42.789878</td>\n",
              "    </tr>\n",
              "    <tr>\n",
              "      <th>20</th>\n",
              "      <td>1856</td>\n",
              "      <td>James Buchanan</td>\n",
              "      <td>Democratic</td>\n",
              "      <td>1835140</td>\n",
              "      <td>win</td>\n",
              "      <td>45.306080</td>\n",
              "    </tr>\n",
              "    <tr>\n",
              "      <th>23</th>\n",
              "      <td>1860</td>\n",
              "      <td>Abraham Lincoln</td>\n",
              "      <td>Republican</td>\n",
              "      <td>1855993</td>\n",
              "      <td>win</td>\n",
              "      <td>39.699408</td>\n",
              "    </tr>\n",
              "    <tr>\n",
              "      <th>47</th>\n",
              "      <td>1892</td>\n",
              "      <td>Grover Cleveland</td>\n",
              "      <td>Democratic</td>\n",
              "      <td>5553898</td>\n",
              "      <td>win</td>\n",
              "      <td>46.121393</td>\n",
              "    </tr>\n",
              "    <tr>\n",
              "      <th>70</th>\n",
              "      <td>1912</td>\n",
              "      <td>Woodrow Wilson</td>\n",
              "      <td>Democratic</td>\n",
              "      <td>6296284</td>\n",
              "      <td>win</td>\n",
              "      <td>41.933422</td>\n",
              "    </tr>\n",
              "    <tr>\n",
              "      <th>117</th>\n",
              "      <td>1968</td>\n",
              "      <td>Richard Nixon</td>\n",
              "      <td>Republican</td>\n",
              "      <td>31783783</td>\n",
              "      <td>win</td>\n",
              "      <td>43.565246</td>\n",
              "    </tr>\n",
              "    <tr>\n",
              "      <th>140</th>\n",
              "      <td>1992</td>\n",
              "      <td>Bill Clinton</td>\n",
              "      <td>Democratic</td>\n",
              "      <td>44909806</td>\n",
              "      <td>win</td>\n",
              "      <td>43.118485</td>\n",
              "    </tr>\n",
              "    <tr>\n",
              "      <th>173</th>\n",
              "      <td>2016</td>\n",
              "      <td>Donald Trump</td>\n",
              "      <td>Republican</td>\n",
              "      <td>62984828</td>\n",
              "      <td>win</td>\n",
              "      <td>46.407862</td>\n",
              "    </tr>\n",
              "  </tbody>\n",
              "</table>\n",
              "</div>"
            ],
            "text/plain": [
              "     Year          Candidate                  Party  Popular vote Result  \\\n",
              "1    1824  John Quincy Adams  Democratic-Republican        113142    win   \n",
              "20   1856     James Buchanan             Democratic       1835140    win   \n",
              "23   1860    Abraham Lincoln             Republican       1855993    win   \n",
              "47   1892   Grover Cleveland             Democratic       5553898    win   \n",
              "70   1912     Woodrow Wilson             Democratic       6296284    win   \n",
              "117  1968      Richard Nixon             Republican      31783783    win   \n",
              "140  1992       Bill Clinton             Democratic      44909806    win   \n",
              "173  2016       Donald Trump             Republican      62984828    win   \n",
              "\n",
              "             %  \n",
              "1    42.789878  \n",
              "20   45.306080  \n",
              "23   39.699408  \n",
              "47   46.121393  \n",
              "70   41.933422  \n",
              "117  43.565246  \n",
              "140  43.118485  \n",
              "173  46.407862  "
            ]
          },
          "execution_count": 33,
          "metadata": {},
          "output_type": "execute_result"
        }
      ],
      "source": [
        "elections[(elections[\"Result\"] == \"win\") & (elections[\"%\"] < 47)]"
      ]
    },
    {
      "cell_type": "code",
      "execution_count": null,
      "metadata": {
        "colab": {
          "base_uri": "https://localhost:8080/",
          "height": 339
        },
        "id": "7fL5-yEFFXG9",
        "outputId": "74eb7b85-5200-4f91-98ac-91af1315f4d9"
      },
      "outputs": [
        {
          "ename": "KeyError",
          "evalue": "\"None of [Int64Index([1, 1, 1, 1, 1, 1, 1, 1, 1, 1,\\n            ...\\n            1, 1, 1, 1, 1, 1, 1, 1, 1, 1],\\n           dtype='int64', length=182)] are in the [columns]\"",
          "output_type": "error",
          "traceback": [
            "\u001b[0;31m---------------------------------------------------------------------------\u001b[0m",
            "\u001b[0;31mKeyError\u001b[0m                                  Traceback (most recent call last)",
            "Cell \u001b[0;32mIn[34], line 1\u001b[0m\n\u001b[0;32m----> 1\u001b[0m \u001b[43melections\u001b[49m\u001b[43m[\u001b[49m\u001b[43m[\u001b[49m\u001b[38;5;241;43m1\u001b[39;49m\u001b[43m]\u001b[49m\u001b[38;5;241;43m*\u001b[39;49m\u001b[38;5;28;43mlen\u001b[39;49m\u001b[43m(\u001b[49m\u001b[43melections\u001b[49m\u001b[43m)\u001b[49m\u001b[43m]\u001b[49m\n",
            "File \u001b[0;32m/opt/conda/lib/python3.10/site-packages/pandas/core/frame.py:3811\u001b[0m, in \u001b[0;36mDataFrame.__getitem__\u001b[0;34m(self, key)\u001b[0m\n\u001b[1;32m   3809\u001b[0m     \u001b[38;5;28;01mif\u001b[39;00m is_iterator(key):\n\u001b[1;32m   3810\u001b[0m         key \u001b[38;5;241m=\u001b[39m \u001b[38;5;28mlist\u001b[39m(key)\n\u001b[0;32m-> 3811\u001b[0m     indexer \u001b[38;5;241m=\u001b[39m \u001b[38;5;28;43mself\u001b[39;49m\u001b[38;5;241;43m.\u001b[39;49m\u001b[43mcolumns\u001b[49m\u001b[38;5;241;43m.\u001b[39;49m\u001b[43m_get_indexer_strict\u001b[49m\u001b[43m(\u001b[49m\u001b[43mkey\u001b[49m\u001b[43m,\u001b[49m\u001b[43m \u001b[49m\u001b[38;5;124;43m\"\u001b[39;49m\u001b[38;5;124;43mcolumns\u001b[39;49m\u001b[38;5;124;43m\"\u001b[39;49m\u001b[43m)\u001b[49m[\u001b[38;5;241m1\u001b[39m]\n\u001b[1;32m   3813\u001b[0m \u001b[38;5;66;03m# take() does not accept boolean indexers\u001b[39;00m\n\u001b[1;32m   3814\u001b[0m \u001b[38;5;28;01mif\u001b[39;00m \u001b[38;5;28mgetattr\u001b[39m(indexer, \u001b[38;5;124m\"\u001b[39m\u001b[38;5;124mdtype\u001b[39m\u001b[38;5;124m\"\u001b[39m, \u001b[38;5;28;01mNone\u001b[39;00m) \u001b[38;5;241m==\u001b[39m \u001b[38;5;28mbool\u001b[39m:\n",
            "File \u001b[0;32m/opt/conda/lib/python3.10/site-packages/pandas/core/indexes/base.py:6113\u001b[0m, in \u001b[0;36mIndex._get_indexer_strict\u001b[0;34m(self, key, axis_name)\u001b[0m\n\u001b[1;32m   6110\u001b[0m \u001b[38;5;28;01melse\u001b[39;00m:\n\u001b[1;32m   6111\u001b[0m     keyarr, indexer, new_indexer \u001b[38;5;241m=\u001b[39m \u001b[38;5;28mself\u001b[39m\u001b[38;5;241m.\u001b[39m_reindex_non_unique(keyarr)\n\u001b[0;32m-> 6113\u001b[0m \u001b[38;5;28;43mself\u001b[39;49m\u001b[38;5;241;43m.\u001b[39;49m\u001b[43m_raise_if_missing\u001b[49m\u001b[43m(\u001b[49m\u001b[43mkeyarr\u001b[49m\u001b[43m,\u001b[49m\u001b[43m \u001b[49m\u001b[43mindexer\u001b[49m\u001b[43m,\u001b[49m\u001b[43m \u001b[49m\u001b[43maxis_name\u001b[49m\u001b[43m)\u001b[49m\n\u001b[1;32m   6115\u001b[0m keyarr \u001b[38;5;241m=\u001b[39m \u001b[38;5;28mself\u001b[39m\u001b[38;5;241m.\u001b[39mtake(indexer)\n\u001b[1;32m   6116\u001b[0m \u001b[38;5;28;01mif\u001b[39;00m \u001b[38;5;28misinstance\u001b[39m(key, Index):\n\u001b[1;32m   6117\u001b[0m     \u001b[38;5;66;03m# GH 42790 - Preserve name from an Index\u001b[39;00m\n",
            "File \u001b[0;32m/opt/conda/lib/python3.10/site-packages/pandas/core/indexes/base.py:6173\u001b[0m, in \u001b[0;36mIndex._raise_if_missing\u001b[0;34m(self, key, indexer, axis_name)\u001b[0m\n\u001b[1;32m   6171\u001b[0m     \u001b[38;5;28;01mif\u001b[39;00m use_interval_msg:\n\u001b[1;32m   6172\u001b[0m         key \u001b[38;5;241m=\u001b[39m \u001b[38;5;28mlist\u001b[39m(key)\n\u001b[0;32m-> 6173\u001b[0m     \u001b[38;5;28;01mraise\u001b[39;00m \u001b[38;5;167;01mKeyError\u001b[39;00m(\u001b[38;5;124mf\u001b[39m\u001b[38;5;124m\"\u001b[39m\u001b[38;5;124mNone of [\u001b[39m\u001b[38;5;132;01m{\u001b[39;00mkey\u001b[38;5;132;01m}\u001b[39;00m\u001b[38;5;124m] are in the [\u001b[39m\u001b[38;5;132;01m{\u001b[39;00maxis_name\u001b[38;5;132;01m}\u001b[39;00m\u001b[38;5;124m]\u001b[39m\u001b[38;5;124m\"\u001b[39m)\n\u001b[1;32m   6175\u001b[0m not_found \u001b[38;5;241m=\u001b[39m \u001b[38;5;28mlist\u001b[39m(ensure_index(key)[missing_mask\u001b[38;5;241m.\u001b[39mnonzero()[\u001b[38;5;241m0\u001b[39m]]\u001b[38;5;241m.\u001b[39munique())\n\u001b[1;32m   6176\u001b[0m \u001b[38;5;28;01mraise\u001b[39;00m \u001b[38;5;167;01mKeyError\u001b[39;00m(\u001b[38;5;124mf\u001b[39m\u001b[38;5;124m\"\u001b[39m\u001b[38;5;132;01m{\u001b[39;00mnot_found\u001b[38;5;132;01m}\u001b[39;00m\u001b[38;5;124m not in index\u001b[39m\u001b[38;5;124m\"\u001b[39m)\n",
            "\u001b[0;31mKeyError\u001b[0m: \"None of [Int64Index([1, 1, 1, 1, 1, 1, 1, 1, 1, 1,\\n            ...\\n            1, 1, 1, 1, 1, 1, 1, 1, 1, 1],\\n           dtype='int64', length=182)] are in the [columns]\""
          ]
        }
      ],
      "source": [
        "elections[[1]*len(elections)]"
      ]
    },
    {
      "cell_type": "code",
      "execution_count": null,
      "metadata": {
        "colab": {
          "base_uri": "https://localhost:8080/",
          "height": 426
        },
        "id": "S9ts6_kOFXG-",
        "outputId": "8bdb469c-8e48-4981-c054-2de5b3577577"
      },
      "outputs": [
        {
          "data": {
            "text/html": [
              "<div>\n",
              "<style scoped>\n",
              "    .dataframe tbody tr th:only-of-type {\n",
              "        vertical-align: middle;\n",
              "    }\n",
              "\n",
              "    .dataframe tbody tr th {\n",
              "        vertical-align: top;\n",
              "    }\n",
              "\n",
              "    .dataframe thead th {\n",
              "        text-align: right;\n",
              "    }\n",
              "</style>\n",
              "<table border=\"1\" class=\"dataframe\">\n",
              "  <thead>\n",
              "    <tr style=\"text-align: right;\">\n",
              "      <th></th>\n",
              "      <th>Year</th>\n",
              "      <th>Candidate</th>\n",
              "      <th>Party</th>\n",
              "      <th>Popular vote</th>\n",
              "      <th>Result</th>\n",
              "      <th>%</th>\n",
              "    </tr>\n",
              "  </thead>\n",
              "  <tbody>\n",
              "    <tr>\n",
              "      <th>127</th>\n",
              "      <td>1980</td>\n",
              "      <td>Barry Commoner</td>\n",
              "      <td>Citizens</td>\n",
              "      <td>233052</td>\n",
              "      <td>loss</td>\n",
              "      <td>0.270182</td>\n",
              "    </tr>\n",
              "    <tr>\n",
              "      <th>128</th>\n",
              "      <td>1980</td>\n",
              "      <td>Ed Clark</td>\n",
              "      <td>Libertarian</td>\n",
              "      <td>921128</td>\n",
              "      <td>loss</td>\n",
              "      <td>1.067883</td>\n",
              "    </tr>\n",
              "    <tr>\n",
              "      <th>129</th>\n",
              "      <td>1980</td>\n",
              "      <td>Jimmy Carter</td>\n",
              "      <td>Democratic</td>\n",
              "      <td>35480115</td>\n",
              "      <td>loss</td>\n",
              "      <td>41.132848</td>\n",
              "    </tr>\n",
              "    <tr>\n",
              "      <th>130</th>\n",
              "      <td>1980</td>\n",
              "      <td>John B. Anderson</td>\n",
              "      <td>Independent</td>\n",
              "      <td>5719850</td>\n",
              "      <td>loss</td>\n",
              "      <td>6.631143</td>\n",
              "    </tr>\n",
              "    <tr>\n",
              "      <th>131</th>\n",
              "      <td>1980</td>\n",
              "      <td>Ronald Reagan</td>\n",
              "      <td>Republican</td>\n",
              "      <td>43903230</td>\n",
              "      <td>win</td>\n",
              "      <td>50.897944</td>\n",
              "    </tr>\n",
              "    <tr>\n",
              "      <th>132</th>\n",
              "      <td>1984</td>\n",
              "      <td>David Bergland</td>\n",
              "      <td>Libertarian</td>\n",
              "      <td>228111</td>\n",
              "      <td>loss</td>\n",
              "      <td>0.247245</td>\n",
              "    </tr>\n",
              "    <tr>\n",
              "      <th>133</th>\n",
              "      <td>1984</td>\n",
              "      <td>Ronald Reagan</td>\n",
              "      <td>Republican</td>\n",
              "      <td>54455472</td>\n",
              "      <td>win</td>\n",
              "      <td>59.023326</td>\n",
              "    </tr>\n",
              "    <tr>\n",
              "      <th>134</th>\n",
              "      <td>1984</td>\n",
              "      <td>Walter Mondale</td>\n",
              "      <td>Democratic</td>\n",
              "      <td>37577352</td>\n",
              "      <td>loss</td>\n",
              "      <td>40.729429</td>\n",
              "    </tr>\n",
              "    <tr>\n",
              "      <th>135</th>\n",
              "      <td>1988</td>\n",
              "      <td>George H. W. Bush</td>\n",
              "      <td>Republican</td>\n",
              "      <td>48886597</td>\n",
              "      <td>win</td>\n",
              "      <td>53.518845</td>\n",
              "    </tr>\n",
              "    <tr>\n",
              "      <th>136</th>\n",
              "      <td>1988</td>\n",
              "      <td>Lenora Fulani</td>\n",
              "      <td>New Alliance</td>\n",
              "      <td>217221</td>\n",
              "      <td>loss</td>\n",
              "      <td>0.237804</td>\n",
              "    </tr>\n",
              "    <tr>\n",
              "      <th>137</th>\n",
              "      <td>1988</td>\n",
              "      <td>Michael Dukakis</td>\n",
              "      <td>Democratic</td>\n",
              "      <td>41809074</td>\n",
              "      <td>loss</td>\n",
              "      <td>45.770691</td>\n",
              "    </tr>\n",
              "    <tr>\n",
              "      <th>138</th>\n",
              "      <td>1988</td>\n",
              "      <td>Ron Paul</td>\n",
              "      <td>Libertarian</td>\n",
              "      <td>431750</td>\n",
              "      <td>loss</td>\n",
              "      <td>0.472660</td>\n",
              "    </tr>\n",
              "  </tbody>\n",
              "</table>\n",
              "</div>"
            ],
            "text/plain": [
              "     Year          Candidate         Party  Popular vote Result          %\n",
              "127  1980     Barry Commoner      Citizens        233052   loss   0.270182\n",
              "128  1980           Ed Clark   Libertarian        921128   loss   1.067883\n",
              "129  1980       Jimmy Carter    Democratic      35480115   loss  41.132848\n",
              "130  1980   John B. Anderson   Independent       5719850   loss   6.631143\n",
              "131  1980      Ronald Reagan    Republican      43903230    win  50.897944\n",
              "132  1984     David Bergland   Libertarian        228111   loss   0.247245\n",
              "133  1984      Ronald Reagan    Republican      54455472    win  59.023326\n",
              "134  1984     Walter Mondale    Democratic      37577352   loss  40.729429\n",
              "135  1988  George H. W. Bush    Republican      48886597    win  53.518845\n",
              "136  1988      Lenora Fulani  New Alliance        217221   loss   0.237804\n",
              "137  1988    Michael Dukakis    Democratic      41809074   loss  45.770691\n",
              "138  1988           Ron Paul   Libertarian        431750   loss   0.472660"
            ]
          },
          "execution_count": 35,
          "metadata": {},
          "output_type": "execute_result"
        }
      ],
      "source": [
        "elections2 = elections[(elections[\"Year\"] == 1980) | (elections[\"Year\"] == 1984) | (elections[\"Year\"] == 1988)]\n",
        "elections2"
      ]
    },
    {
      "cell_type": "code",
      "execution_count": null,
      "metadata": {
        "colab": {
          "base_uri": "https://localhost:8080/",
          "height": 269
        },
        "id": "GIij00YNFXG-",
        "outputId": "4c6d87de-60a8-45ba-f0a2-ff91f16fc1a7"
      },
      "outputs": [
        {
          "data": {
            "text/html": [
              "<div>\n",
              "<style scoped>\n",
              "    .dataframe tbody tr th:only-of-type {\n",
              "        vertical-align: middle;\n",
              "    }\n",
              "\n",
              "    .dataframe tbody tr th {\n",
              "        vertical-align: top;\n",
              "    }\n",
              "\n",
              "    .dataframe thead th {\n",
              "        text-align: right;\n",
              "    }\n",
              "</style>\n",
              "<table border=\"1\" class=\"dataframe\">\n",
              "  <thead>\n",
              "    <tr style=\"text-align: right;\">\n",
              "      <th></th>\n",
              "      <th>Year</th>\n",
              "      <th>Candidate</th>\n",
              "      <th>Party</th>\n",
              "      <th>Popular vote</th>\n",
              "      <th>Result</th>\n",
              "      <th>%</th>\n",
              "    </tr>\n",
              "  </thead>\n",
              "  <tbody>\n",
              "    <tr>\n",
              "      <th>6</th>\n",
              "      <td>1832</td>\n",
              "      <td>William Wirt</td>\n",
              "      <td>Anti-Masonic</td>\n",
              "      <td>100715</td>\n",
              "      <td>loss</td>\n",
              "      <td>7.821583</td>\n",
              "    </tr>\n",
              "    <tr>\n",
              "      <th>22</th>\n",
              "      <td>1856</td>\n",
              "      <td>Millard Fillmore</td>\n",
              "      <td>American</td>\n",
              "      <td>873053</td>\n",
              "      <td>loss</td>\n",
              "      <td>21.554001</td>\n",
              "    </tr>\n",
              "    <tr>\n",
              "      <th>38</th>\n",
              "      <td>1884</td>\n",
              "      <td>Benjamin Butler</td>\n",
              "      <td>Anti-Monopoly</td>\n",
              "      <td>134294</td>\n",
              "      <td>loss</td>\n",
              "      <td>1.335838</td>\n",
              "    </tr>\n",
              "    <tr>\n",
              "      <th>115</th>\n",
              "      <td>1968</td>\n",
              "      <td>George Wallace</td>\n",
              "      <td>American Independent</td>\n",
              "      <td>9901118</td>\n",
              "      <td>loss</td>\n",
              "      <td>13.571218</td>\n",
              "    </tr>\n",
              "    <tr>\n",
              "      <th>119</th>\n",
              "      <td>1972</td>\n",
              "      <td>John G. Schmitz</td>\n",
              "      <td>American Independent</td>\n",
              "      <td>1100868</td>\n",
              "      <td>loss</td>\n",
              "      <td>1.421524</td>\n",
              "    </tr>\n",
              "    <tr>\n",
              "      <th>124</th>\n",
              "      <td>1976</td>\n",
              "      <td>Lester Maddox</td>\n",
              "      <td>American Independent</td>\n",
              "      <td>170274</td>\n",
              "      <td>loss</td>\n",
              "      <td>0.209640</td>\n",
              "    </tr>\n",
              "    <tr>\n",
              "      <th>126</th>\n",
              "      <td>1976</td>\n",
              "      <td>Thomas J. Anderson</td>\n",
              "      <td>American</td>\n",
              "      <td>158271</td>\n",
              "      <td>loss</td>\n",
              "      <td>0.194862</td>\n",
              "    </tr>\n",
              "  </tbody>\n",
              "</table>\n",
              "</div>"
            ],
            "text/plain": [
              "     Year           Candidate                 Party  Popular vote Result  \\\n",
              "6    1832        William Wirt          Anti-Masonic        100715   loss   \n",
              "22   1856    Millard Fillmore              American        873053   loss   \n",
              "38   1884     Benjamin Butler         Anti-Monopoly        134294   loss   \n",
              "115  1968      George Wallace  American Independent       9901118   loss   \n",
              "119  1972     John G. Schmitz  American Independent       1100868   loss   \n",
              "124  1976       Lester Maddox  American Independent        170274   loss   \n",
              "126  1976  Thomas J. Anderson              American        158271   loss   \n",
              "\n",
              "             %  \n",
              "6     7.821583  \n",
              "22   21.554001  \n",
              "38    1.335838  \n",
              "115  13.571218  \n",
              "119   1.421524  \n",
              "124   0.209640  \n",
              "126   0.194862  "
            ]
          },
          "execution_count": 36,
          "metadata": {},
          "output_type": "execute_result"
        }
      ],
      "source": [
        "(\n",
        "    elections[(elections[\"Party\"] == \"Anti-Masonic\")  |\n",
        "              (elections[\"Party\"] == \"American\")      |\n",
        "              (elections[\"Party\"] == \"Anti-Monopoly\") |\n",
        "              (elections[\"Party\"] == \"American Independent\")]\n",
        ")\n",
        "#Note: The parentheses surrounding the code make it possible to break the code on to multiple lines for readability"
      ]
    },
    {
      "cell_type": "code",
      "execution_count": null,
      "metadata": {
        "colab": {
          "base_uri": "https://localhost:8080/",
          "height": 269
        },
        "id": "qw8o_-nkFXG-",
        "outputId": "b4da5ee3-9f6d-4549-f8ad-38e72e2ac332"
      },
      "outputs": [
        {
          "data": {
            "text/html": [
              "<div>\n",
              "<style scoped>\n",
              "    .dataframe tbody tr th:only-of-type {\n",
              "        vertical-align: middle;\n",
              "    }\n",
              "\n",
              "    .dataframe tbody tr th {\n",
              "        vertical-align: top;\n",
              "    }\n",
              "\n",
              "    .dataframe thead th {\n",
              "        text-align: right;\n",
              "    }\n",
              "</style>\n",
              "<table border=\"1\" class=\"dataframe\">\n",
              "  <thead>\n",
              "    <tr style=\"text-align: right;\">\n",
              "      <th></th>\n",
              "      <th>Year</th>\n",
              "      <th>Candidate</th>\n",
              "      <th>Party</th>\n",
              "      <th>Popular vote</th>\n",
              "      <th>Result</th>\n",
              "      <th>%</th>\n",
              "    </tr>\n",
              "  </thead>\n",
              "  <tbody>\n",
              "    <tr>\n",
              "      <th>6</th>\n",
              "      <td>1832</td>\n",
              "      <td>William Wirt</td>\n",
              "      <td>Anti-Masonic</td>\n",
              "      <td>100715</td>\n",
              "      <td>loss</td>\n",
              "      <td>7.821583</td>\n",
              "    </tr>\n",
              "    <tr>\n",
              "      <th>22</th>\n",
              "      <td>1856</td>\n",
              "      <td>Millard Fillmore</td>\n",
              "      <td>American</td>\n",
              "      <td>873053</td>\n",
              "      <td>loss</td>\n",
              "      <td>21.554001</td>\n",
              "    </tr>\n",
              "    <tr>\n",
              "      <th>38</th>\n",
              "      <td>1884</td>\n",
              "      <td>Benjamin Butler</td>\n",
              "      <td>Anti-Monopoly</td>\n",
              "      <td>134294</td>\n",
              "      <td>loss</td>\n",
              "      <td>1.335838</td>\n",
              "    </tr>\n",
              "    <tr>\n",
              "      <th>115</th>\n",
              "      <td>1968</td>\n",
              "      <td>George Wallace</td>\n",
              "      <td>American Independent</td>\n",
              "      <td>9901118</td>\n",
              "      <td>loss</td>\n",
              "      <td>13.571218</td>\n",
              "    </tr>\n",
              "    <tr>\n",
              "      <th>119</th>\n",
              "      <td>1972</td>\n",
              "      <td>John G. Schmitz</td>\n",
              "      <td>American Independent</td>\n",
              "      <td>1100868</td>\n",
              "      <td>loss</td>\n",
              "      <td>1.421524</td>\n",
              "    </tr>\n",
              "    <tr>\n",
              "      <th>124</th>\n",
              "      <td>1976</td>\n",
              "      <td>Lester Maddox</td>\n",
              "      <td>American Independent</td>\n",
              "      <td>170274</td>\n",
              "      <td>loss</td>\n",
              "      <td>0.209640</td>\n",
              "    </tr>\n",
              "    <tr>\n",
              "      <th>126</th>\n",
              "      <td>1976</td>\n",
              "      <td>Thomas J. Anderson</td>\n",
              "      <td>American</td>\n",
              "      <td>158271</td>\n",
              "      <td>loss</td>\n",
              "      <td>0.194862</td>\n",
              "    </tr>\n",
              "  </tbody>\n",
              "</table>\n",
              "</div>"
            ],
            "text/plain": [
              "     Year           Candidate                 Party  Popular vote Result  \\\n",
              "6    1832        William Wirt          Anti-Masonic        100715   loss   \n",
              "22   1856    Millard Fillmore              American        873053   loss   \n",
              "38   1884     Benjamin Butler         Anti-Monopoly        134294   loss   \n",
              "115  1968      George Wallace  American Independent       9901118   loss   \n",
              "119  1972     John G. Schmitz  American Independent       1100868   loss   \n",
              "124  1976       Lester Maddox  American Independent        170274   loss   \n",
              "126  1976  Thomas J. Anderson              American        158271   loss   \n",
              "\n",
              "             %  \n",
              "6     7.821583  \n",
              "22   21.554001  \n",
              "38    1.335838  \n",
              "115  13.571218  \n",
              "119   1.421524  \n",
              "124   0.209640  \n",
              "126   0.194862  "
            ]
          },
          "execution_count": 37,
          "metadata": {},
          "output_type": "execute_result"
        }
      ],
      "source": [
        "a_parties = [\"Anti-Masonic\", \"American\", \"Anti-Monopoly\", \"American Independent\"]\n",
        "elections[elections[\"Party\"].isin(a_parties)]"
      ]
    },
    {
      "cell_type": "code",
      "execution_count": null,
      "metadata": {
        "colab": {
          "base_uri": "https://localhost:8080/",
          "height": 269
        },
        "id": "FcrhmIQNFXG-",
        "outputId": "81f36a96-d43c-4425-a370-a32062ac133a"
      },
      "outputs": [
        {
          "data": {
            "text/html": [
              "<div>\n",
              "<style scoped>\n",
              "    .dataframe tbody tr th:only-of-type {\n",
              "        vertical-align: middle;\n",
              "    }\n",
              "\n",
              "    .dataframe tbody tr th {\n",
              "        vertical-align: top;\n",
              "    }\n",
              "\n",
              "    .dataframe thead th {\n",
              "        text-align: right;\n",
              "    }\n",
              "</style>\n",
              "<table border=\"1\" class=\"dataframe\">\n",
              "  <thead>\n",
              "    <tr style=\"text-align: right;\">\n",
              "      <th></th>\n",
              "      <th>Year</th>\n",
              "      <th>Candidate</th>\n",
              "      <th>Party</th>\n",
              "      <th>Popular vote</th>\n",
              "      <th>Result</th>\n",
              "      <th>%</th>\n",
              "    </tr>\n",
              "  </thead>\n",
              "  <tbody>\n",
              "    <tr>\n",
              "      <th>6</th>\n",
              "      <td>1832</td>\n",
              "      <td>William Wirt</td>\n",
              "      <td>Anti-Masonic</td>\n",
              "      <td>100715</td>\n",
              "      <td>loss</td>\n",
              "      <td>7.821583</td>\n",
              "    </tr>\n",
              "    <tr>\n",
              "      <th>22</th>\n",
              "      <td>1856</td>\n",
              "      <td>Millard Fillmore</td>\n",
              "      <td>American</td>\n",
              "      <td>873053</td>\n",
              "      <td>loss</td>\n",
              "      <td>21.554001</td>\n",
              "    </tr>\n",
              "    <tr>\n",
              "      <th>38</th>\n",
              "      <td>1884</td>\n",
              "      <td>Benjamin Butler</td>\n",
              "      <td>Anti-Monopoly</td>\n",
              "      <td>134294</td>\n",
              "      <td>loss</td>\n",
              "      <td>1.335838</td>\n",
              "    </tr>\n",
              "    <tr>\n",
              "      <th>115</th>\n",
              "      <td>1968</td>\n",
              "      <td>George Wallace</td>\n",
              "      <td>American Independent</td>\n",
              "      <td>9901118</td>\n",
              "      <td>loss</td>\n",
              "      <td>13.571218</td>\n",
              "    </tr>\n",
              "    <tr>\n",
              "      <th>119</th>\n",
              "      <td>1972</td>\n",
              "      <td>John G. Schmitz</td>\n",
              "      <td>American Independent</td>\n",
              "      <td>1100868</td>\n",
              "      <td>loss</td>\n",
              "      <td>1.421524</td>\n",
              "    </tr>\n",
              "    <tr>\n",
              "      <th>124</th>\n",
              "      <td>1976</td>\n",
              "      <td>Lester Maddox</td>\n",
              "      <td>American Independent</td>\n",
              "      <td>170274</td>\n",
              "      <td>loss</td>\n",
              "      <td>0.209640</td>\n",
              "    </tr>\n",
              "    <tr>\n",
              "      <th>126</th>\n",
              "      <td>1976</td>\n",
              "      <td>Thomas J. Anderson</td>\n",
              "      <td>American</td>\n",
              "      <td>158271</td>\n",
              "      <td>loss</td>\n",
              "      <td>0.194862</td>\n",
              "    </tr>\n",
              "  </tbody>\n",
              "</table>\n",
              "</div>"
            ],
            "text/plain": [
              "     Year           Candidate                 Party  Popular vote Result  \\\n",
              "6    1832        William Wirt          Anti-Masonic        100715   loss   \n",
              "22   1856    Millard Fillmore              American        873053   loss   \n",
              "38   1884     Benjamin Butler         Anti-Monopoly        134294   loss   \n",
              "115  1968      George Wallace  American Independent       9901118   loss   \n",
              "119  1972     John G. Schmitz  American Independent       1100868   loss   \n",
              "124  1976       Lester Maddox  American Independent        170274   loss   \n",
              "126  1976  Thomas J. Anderson              American        158271   loss   \n",
              "\n",
              "             %  \n",
              "6     7.821583  \n",
              "22   21.554001  \n",
              "38    1.335838  \n",
              "115  13.571218  \n",
              "119   1.421524  \n",
              "124   0.209640  \n",
              "126   0.194862  "
            ]
          },
          "execution_count": 38,
          "metadata": {},
          "output_type": "execute_result"
        }
      ],
      "source": [
        "elections[elections[\"Party\"].str.startswith(\"A\")]"
      ]
    },
    {
      "cell_type": "code",
      "execution_count": null,
      "metadata": {
        "colab": {
          "base_uri": "https://localhost:8080/",
          "height": 237
        },
        "id": "y3Xz18_kFXG_",
        "outputId": "1ad961f2-15f2-4a13-b507-7909213e17b1"
      },
      "outputs": [
        {
          "data": {
            "text/html": [
              "<div>\n",
              "<style scoped>\n",
              "    .dataframe tbody tr th:only-of-type {\n",
              "        vertical-align: middle;\n",
              "    }\n",
              "\n",
              "    .dataframe tbody tr th {\n",
              "        vertical-align: top;\n",
              "    }\n",
              "\n",
              "    .dataframe thead th {\n",
              "        text-align: right;\n",
              "    }\n",
              "</style>\n",
              "<table border=\"1\" class=\"dataframe\">\n",
              "  <thead>\n",
              "    <tr style=\"text-align: right;\">\n",
              "      <th></th>\n",
              "      <th>Year</th>\n",
              "      <th>Candidate</th>\n",
              "      <th>Party</th>\n",
              "      <th>Popular vote</th>\n",
              "      <th>Result</th>\n",
              "      <th>%</th>\n",
              "    </tr>\n",
              "  </thead>\n",
              "  <tbody>\n",
              "    <tr>\n",
              "      <th>152</th>\n",
              "      <td>2000</td>\n",
              "      <td>George W. Bush</td>\n",
              "      <td>Republican</td>\n",
              "      <td>50456002</td>\n",
              "      <td>win</td>\n",
              "      <td>47.974666</td>\n",
              "    </tr>\n",
              "    <tr>\n",
              "      <th>157</th>\n",
              "      <td>2004</td>\n",
              "      <td>George W. Bush</td>\n",
              "      <td>Republican</td>\n",
              "      <td>62040610</td>\n",
              "      <td>win</td>\n",
              "      <td>50.771824</td>\n",
              "    </tr>\n",
              "    <tr>\n",
              "      <th>162</th>\n",
              "      <td>2008</td>\n",
              "      <td>Barack Obama</td>\n",
              "      <td>Democratic</td>\n",
              "      <td>69498516</td>\n",
              "      <td>win</td>\n",
              "      <td>53.023510</td>\n",
              "    </tr>\n",
              "    <tr>\n",
              "      <th>168</th>\n",
              "      <td>2012</td>\n",
              "      <td>Barack Obama</td>\n",
              "      <td>Democratic</td>\n",
              "      <td>65915795</td>\n",
              "      <td>win</td>\n",
              "      <td>51.258484</td>\n",
              "    </tr>\n",
              "    <tr>\n",
              "      <th>173</th>\n",
              "      <td>2016</td>\n",
              "      <td>Donald Trump</td>\n",
              "      <td>Republican</td>\n",
              "      <td>62984828</td>\n",
              "      <td>win</td>\n",
              "      <td>46.407862</td>\n",
              "    </tr>\n",
              "    <tr>\n",
              "      <th>178</th>\n",
              "      <td>2020</td>\n",
              "      <td>Joseph Biden</td>\n",
              "      <td>Democratic</td>\n",
              "      <td>81268924</td>\n",
              "      <td>win</td>\n",
              "      <td>51.311515</td>\n",
              "    </tr>\n",
              "  </tbody>\n",
              "</table>\n",
              "</div>"
            ],
            "text/plain": [
              "     Year       Candidate       Party  Popular vote Result          %\n",
              "152  2000  George W. Bush  Republican      50456002    win  47.974666\n",
              "157  2004  George W. Bush  Republican      62040610    win  50.771824\n",
              "162  2008    Barack Obama  Democratic      69498516    win  53.023510\n",
              "168  2012    Barack Obama  Democratic      65915795    win  51.258484\n",
              "173  2016    Donald Trump  Republican      62984828    win  46.407862\n",
              "178  2020    Joseph Biden  Democratic      81268924    win  51.311515"
            ]
          },
          "execution_count": 39,
          "metadata": {},
          "output_type": "execute_result"
        }
      ],
      "source": [
        "elections.query('Year >= 2000 and Result == \"win\"')"
      ]
    },
    {
      "cell_type": "code",
      "execution_count": null,
      "metadata": {
        "colab": {
          "base_uri": "https://localhost:8080/",
          "height": 206
        },
        "id": "mg88UIYNFXG_",
        "outputId": "6d60d310-1e66-4a87-97d0-2c5ff5e73644"
      },
      "outputs": [
        {
          "data": {
            "text/html": [
              "<div>\n",
              "<style scoped>\n",
              "    .dataframe tbody tr th:only-of-type {\n",
              "        vertical-align: middle;\n",
              "    }\n",
              "\n",
              "    .dataframe tbody tr th {\n",
              "        vertical-align: top;\n",
              "    }\n",
              "\n",
              "    .dataframe thead th {\n",
              "        text-align: right;\n",
              "    }\n",
              "</style>\n",
              "<table border=\"1\" class=\"dataframe\">\n",
              "  <thead>\n",
              "    <tr style=\"text-align: right;\">\n",
              "      <th></th>\n",
              "      <th>Year</th>\n",
              "      <th>Candidate</th>\n",
              "      <th>Party</th>\n",
              "      <th>Popular vote</th>\n",
              "      <th>Result</th>\n",
              "      <th>%</th>\n",
              "    </tr>\n",
              "  </thead>\n",
              "  <tbody>\n",
              "    <tr>\n",
              "      <th>1</th>\n",
              "      <td>1824</td>\n",
              "      <td>John Quincy Adams</td>\n",
              "      <td>Democratic-Republican</td>\n",
              "      <td>113142</td>\n",
              "      <td>win</td>\n",
              "      <td>42.789878</td>\n",
              "    </tr>\n",
              "    <tr>\n",
              "      <th>11</th>\n",
              "      <td>1840</td>\n",
              "      <td>William Henry Harrison</td>\n",
              "      <td>Whig</td>\n",
              "      <td>1275583</td>\n",
              "      <td>win</td>\n",
              "      <td>53.051213</td>\n",
              "    </tr>\n",
              "    <tr>\n",
              "      <th>16</th>\n",
              "      <td>1848</td>\n",
              "      <td>Zachary Taylor</td>\n",
              "      <td>Whig</td>\n",
              "      <td>1360235</td>\n",
              "      <td>win</td>\n",
              "      <td>47.309296</td>\n",
              "    </tr>\n",
              "    <tr>\n",
              "      <th>27</th>\n",
              "      <td>1864</td>\n",
              "      <td>Abraham Lincoln</td>\n",
              "      <td>National Union</td>\n",
              "      <td>2211317</td>\n",
              "      <td>win</td>\n",
              "      <td>54.951512</td>\n",
              "    </tr>\n",
              "  </tbody>\n",
              "</table>\n",
              "</div>"
            ],
            "text/plain": [
              "    Year               Candidate                  Party  Popular vote Result  \\\n",
              "1   1824       John Quincy Adams  Democratic-Republican        113142    win   \n",
              "11  1840  William Henry Harrison                   Whig       1275583    win   \n",
              "16  1848          Zachary Taylor                   Whig       1360235    win   \n",
              "27  1864         Abraham Lincoln         National Union       2211317    win   \n",
              "\n",
              "            %  \n",
              "1   42.789878  \n",
              "11  53.051213  \n",
              "16  47.309296  \n",
              "27  54.951512  "
            ]
          },
          "execution_count": 40,
          "metadata": {},
          "output_type": "execute_result"
        }
      ],
      "source": [
        "parties = [\"Republican\", \"Democratic\"]\n",
        "elections.query('Result == \"win\" and Party not in @parties')"
      ]
    },
    {
      "cell_type": "markdown",
      "metadata": {
        "id": "ll6j6m_GFXG_"
      },
      "source": [
        "## Built In Functions"
      ]
    },
    {
      "cell_type": "code",
      "execution_count": null,
      "metadata": {
        "colab": {
          "base_uri": "https://localhost:8080/"
        },
        "id": "f2kg_7AWFXG_",
        "outputId": "1717f337-4118-4ff5-9d45-38093b44ab2b"
      },
      "outputs": [
        {
          "data": {
            "text/plain": [
              "1     42.789878\n",
              "2     56.203927\n",
              "4     54.574789\n",
              "8     52.272472\n",
              "11    53.051213\n",
              "Name: %, dtype: float64"
            ]
          },
          "execution_count": 41,
          "metadata": {},
          "output_type": "execute_result"
        }
      ],
      "source": [
        "winners = elections.query('Result == \"win\"')[\"%\"]\n",
        "winners.head(5)"
      ]
    },
    {
      "cell_type": "code",
      "execution_count": null,
      "metadata": {
        "colab": {
          "base_uri": "https://localhost:8080/"
        },
        "id": "rulyXEpFFXHA",
        "outputId": "0e4aa5ac-fade-4461-eb35-c959fc0237aa"
      },
      "outputs": [
        {
          "data": {
            "text/plain": [
              "51.711492939"
            ]
          },
          "execution_count": 42,
          "metadata": {},
          "output_type": "execute_result"
        }
      ],
      "source": [
        "np.mean(winners)"
      ]
    },
    {
      "cell_type": "code",
      "execution_count": null,
      "metadata": {
        "colab": {
          "base_uri": "https://localhost:8080/"
        },
        "id": "TUXDU6FWFXHA",
        "outputId": "29adf85d-4f46-419f-84c0-51f05ada0f9e"
      },
      "outputs": [
        {
          "data": {
            "text/plain": [
              "61.34470329"
            ]
          },
          "execution_count": 43,
          "metadata": {},
          "output_type": "execute_result"
        }
      ],
      "source": [
        "max(winners)"
      ]
    },
    {
      "cell_type": "code",
      "execution_count": null,
      "metadata": {
        "colab": {
          "base_uri": "https://localhost:8080/",
          "height": 424
        },
        "id": "eT_8A3VhFXHA",
        "outputId": "9620ac3a-1331-4707-8fd3-7f8ba24a7798"
      },
      "outputs": [
        {
          "data": {
            "text/html": [
              "<div>\n",
              "<style scoped>\n",
              "    .dataframe tbody tr th:only-of-type {\n",
              "        vertical-align: middle;\n",
              "    }\n",
              "\n",
              "    .dataframe tbody tr th {\n",
              "        vertical-align: top;\n",
              "    }\n",
              "\n",
              "    .dataframe thead th {\n",
              "        text-align: right;\n",
              "    }\n",
              "</style>\n",
              "<table border=\"1\" class=\"dataframe\">\n",
              "  <thead>\n",
              "    <tr style=\"text-align: right;\">\n",
              "      <th></th>\n",
              "      <th>Year</th>\n",
              "      <th>Candidate</th>\n",
              "      <th>Party</th>\n",
              "      <th>Popular vote</th>\n",
              "      <th>Result</th>\n",
              "      <th>%</th>\n",
              "    </tr>\n",
              "  </thead>\n",
              "  <tbody>\n",
              "    <tr>\n",
              "      <th>0</th>\n",
              "      <td>1824</td>\n",
              "      <td>Andrew Jackson</td>\n",
              "      <td>Democratic-Republican</td>\n",
              "      <td>151271</td>\n",
              "      <td>loss</td>\n",
              "      <td>57.210122</td>\n",
              "    </tr>\n",
              "    <tr>\n",
              "      <th>1</th>\n",
              "      <td>1824</td>\n",
              "      <td>John Quincy Adams</td>\n",
              "      <td>Democratic-Republican</td>\n",
              "      <td>113142</td>\n",
              "      <td>win</td>\n",
              "      <td>42.789878</td>\n",
              "    </tr>\n",
              "    <tr>\n",
              "      <th>2</th>\n",
              "      <td>1828</td>\n",
              "      <td>Andrew Jackson</td>\n",
              "      <td>Democratic</td>\n",
              "      <td>642806</td>\n",
              "      <td>win</td>\n",
              "      <td>56.203927</td>\n",
              "    </tr>\n",
              "    <tr>\n",
              "      <th>3</th>\n",
              "      <td>1828</td>\n",
              "      <td>John Quincy Adams</td>\n",
              "      <td>National Republican</td>\n",
              "      <td>500897</td>\n",
              "      <td>loss</td>\n",
              "      <td>43.796073</td>\n",
              "    </tr>\n",
              "    <tr>\n",
              "      <th>4</th>\n",
              "      <td>1832</td>\n",
              "      <td>Andrew Jackson</td>\n",
              "      <td>Democratic</td>\n",
              "      <td>702735</td>\n",
              "      <td>win</td>\n",
              "      <td>54.574789</td>\n",
              "    </tr>\n",
              "    <tr>\n",
              "      <th>...</th>\n",
              "      <td>...</td>\n",
              "      <td>...</td>\n",
              "      <td>...</td>\n",
              "      <td>...</td>\n",
              "      <td>...</td>\n",
              "      <td>...</td>\n",
              "    </tr>\n",
              "    <tr>\n",
              "      <th>177</th>\n",
              "      <td>2016</td>\n",
              "      <td>Jill Stein</td>\n",
              "      <td>Green</td>\n",
              "      <td>1457226</td>\n",
              "      <td>loss</td>\n",
              "      <td>1.073699</td>\n",
              "    </tr>\n",
              "    <tr>\n",
              "      <th>178</th>\n",
              "      <td>2020</td>\n",
              "      <td>Joseph Biden</td>\n",
              "      <td>Democratic</td>\n",
              "      <td>81268924</td>\n",
              "      <td>win</td>\n",
              "      <td>51.311515</td>\n",
              "    </tr>\n",
              "    <tr>\n",
              "      <th>179</th>\n",
              "      <td>2020</td>\n",
              "      <td>Donald Trump</td>\n",
              "      <td>Republican</td>\n",
              "      <td>74216154</td>\n",
              "      <td>loss</td>\n",
              "      <td>46.858542</td>\n",
              "    </tr>\n",
              "    <tr>\n",
              "      <th>180</th>\n",
              "      <td>2020</td>\n",
              "      <td>Jo Jorgensen</td>\n",
              "      <td>Libertarian</td>\n",
              "      <td>1865724</td>\n",
              "      <td>loss</td>\n",
              "      <td>1.177979</td>\n",
              "    </tr>\n",
              "    <tr>\n",
              "      <th>181</th>\n",
              "      <td>2020</td>\n",
              "      <td>Howard Hawkins</td>\n",
              "      <td>Green</td>\n",
              "      <td>405035</td>\n",
              "      <td>loss</td>\n",
              "      <td>0.255731</td>\n",
              "    </tr>\n",
              "  </tbody>\n",
              "</table>\n",
              "<p>182 rows × 6 columns</p>\n",
              "</div>"
            ],
            "text/plain": [
              "     Year          Candidate                  Party  Popular vote Result  \\\n",
              "0    1824     Andrew Jackson  Democratic-Republican        151271   loss   \n",
              "1    1824  John Quincy Adams  Democratic-Republican        113142    win   \n",
              "2    1828     Andrew Jackson             Democratic        642806    win   \n",
              "3    1828  John Quincy Adams    National Republican        500897   loss   \n",
              "4    1832     Andrew Jackson             Democratic        702735    win   \n",
              "..    ...                ...                    ...           ...    ...   \n",
              "177  2016         Jill Stein                  Green       1457226   loss   \n",
              "178  2020       Joseph Biden             Democratic      81268924    win   \n",
              "179  2020       Donald Trump             Republican      74216154   loss   \n",
              "180  2020       Jo Jorgensen            Libertarian       1865724   loss   \n",
              "181  2020     Howard Hawkins                  Green        405035   loss   \n",
              "\n",
              "             %  \n",
              "0    57.210122  \n",
              "1    42.789878  \n",
              "2    56.203927  \n",
              "3    43.796073  \n",
              "4    54.574789  \n",
              "..         ...  \n",
              "177   1.073699  \n",
              "178  51.311515  \n",
              "179  46.858542  \n",
              "180   1.177979  \n",
              "181   0.255731  \n",
              "\n",
              "[182 rows x 6 columns]"
            ]
          },
          "execution_count": 44,
          "metadata": {},
          "output_type": "execute_result"
        }
      ],
      "source": [
        "elections"
      ]
    },
    {
      "cell_type": "code",
      "execution_count": null,
      "metadata": {
        "colab": {
          "base_uri": "https://localhost:8080/"
        },
        "id": "3-N4_RRsFXHA",
        "outputId": "5f0635f5-c24f-45c8-8ca4-e94e203cc37a"
      },
      "outputs": [
        {
          "data": {
            "text/plain": [
              "1092"
            ]
          },
          "execution_count": 45,
          "metadata": {},
          "output_type": "execute_result"
        }
      ],
      "source": [
        "elections.size"
      ]
    },
    {
      "cell_type": "code",
      "execution_count": null,
      "metadata": {
        "colab": {
          "base_uri": "https://localhost:8080/"
        },
        "id": "KKpXOhF_FXHA",
        "outputId": "72a1ea45-8c65-490e-85c8-7ba8262129b9"
      },
      "outputs": [
        {
          "data": {
            "text/plain": [
              "(182, 6)"
            ]
          },
          "execution_count": 46,
          "metadata": {},
          "output_type": "execute_result"
        }
      ],
      "source": [
        "elections.shape"
      ]
    },
    {
      "cell_type": "code",
      "execution_count": null,
      "metadata": {
        "colab": {
          "base_uri": "https://localhost:8080/",
          "height": 300
        },
        "id": "x9ptTu49FXHA",
        "outputId": "ce34ee38-8074-4cf8-9158-81eeee521cbc"
      },
      "outputs": [
        {
          "data": {
            "text/html": [
              "<div>\n",
              "<style scoped>\n",
              "    .dataframe tbody tr th:only-of-type {\n",
              "        vertical-align: middle;\n",
              "    }\n",
              "\n",
              "    .dataframe tbody tr th {\n",
              "        vertical-align: top;\n",
              "    }\n",
              "\n",
              "    .dataframe thead th {\n",
              "        text-align: right;\n",
              "    }\n",
              "</style>\n",
              "<table border=\"1\" class=\"dataframe\">\n",
              "  <thead>\n",
              "    <tr style=\"text-align: right;\">\n",
              "      <th></th>\n",
              "      <th>Year</th>\n",
              "      <th>Popular vote</th>\n",
              "      <th>%</th>\n",
              "    </tr>\n",
              "  </thead>\n",
              "  <tbody>\n",
              "    <tr>\n",
              "      <th>count</th>\n",
              "      <td>182.000000</td>\n",
              "      <td>1.820000e+02</td>\n",
              "      <td>182.000000</td>\n",
              "    </tr>\n",
              "    <tr>\n",
              "      <th>mean</th>\n",
              "      <td>1934.087912</td>\n",
              "      <td>1.235364e+07</td>\n",
              "      <td>27.470350</td>\n",
              "    </tr>\n",
              "    <tr>\n",
              "      <th>std</th>\n",
              "      <td>57.048908</td>\n",
              "      <td>1.907715e+07</td>\n",
              "      <td>22.968034</td>\n",
              "    </tr>\n",
              "    <tr>\n",
              "      <th>min</th>\n",
              "      <td>1824.000000</td>\n",
              "      <td>1.007150e+05</td>\n",
              "      <td>0.098088</td>\n",
              "    </tr>\n",
              "    <tr>\n",
              "      <th>25%</th>\n",
              "      <td>1889.000000</td>\n",
              "      <td>3.876395e+05</td>\n",
              "      <td>1.219996</td>\n",
              "    </tr>\n",
              "    <tr>\n",
              "      <th>50%</th>\n",
              "      <td>1936.000000</td>\n",
              "      <td>1.709375e+06</td>\n",
              "      <td>37.677893</td>\n",
              "    </tr>\n",
              "    <tr>\n",
              "      <th>75%</th>\n",
              "      <td>1988.000000</td>\n",
              "      <td>1.897775e+07</td>\n",
              "      <td>48.354977</td>\n",
              "    </tr>\n",
              "    <tr>\n",
              "      <th>max</th>\n",
              "      <td>2020.000000</td>\n",
              "      <td>8.126892e+07</td>\n",
              "      <td>61.344703</td>\n",
              "    </tr>\n",
              "  </tbody>\n",
              "</table>\n",
              "</div>"
            ],
            "text/plain": [
              "              Year  Popular vote           %\n",
              "count   182.000000  1.820000e+02  182.000000\n",
              "mean   1934.087912  1.235364e+07   27.470350\n",
              "std      57.048908  1.907715e+07   22.968034\n",
              "min    1824.000000  1.007150e+05    0.098088\n",
              "25%    1889.000000  3.876395e+05    1.219996\n",
              "50%    1936.000000  1.709375e+06   37.677893\n",
              "75%    1988.000000  1.897775e+07   48.354977\n",
              "max    2020.000000  8.126892e+07   61.344703"
            ]
          },
          "execution_count": 47,
          "metadata": {},
          "output_type": "execute_result"
        }
      ],
      "source": [
        "elections.describe()"
      ]
    },
    {
      "cell_type": "code",
      "execution_count": null,
      "metadata": {
        "colab": {
          "base_uri": "https://localhost:8080/",
          "height": 206
        },
        "id": "6bblZaI2FXHB",
        "outputId": "7e55f1a4-8629-43a2-c53b-98ac4c1d46ee"
      },
      "outputs": [
        {
          "data": {
            "text/html": [
              "<div>\n",
              "<style scoped>\n",
              "    .dataframe tbody tr th:only-of-type {\n",
              "        vertical-align: middle;\n",
              "    }\n",
              "\n",
              "    .dataframe tbody tr th {\n",
              "        vertical-align: top;\n",
              "    }\n",
              "\n",
              "    .dataframe thead th {\n",
              "        text-align: right;\n",
              "    }\n",
              "</style>\n",
              "<table border=\"1\" class=\"dataframe\">\n",
              "  <thead>\n",
              "    <tr style=\"text-align: right;\">\n",
              "      <th></th>\n",
              "      <th>Year</th>\n",
              "      <th>Candidate</th>\n",
              "    </tr>\n",
              "  </thead>\n",
              "  <tbody>\n",
              "    <tr>\n",
              "      <th>181</th>\n",
              "      <td>2020</td>\n",
              "      <td>Howard Hawkins</td>\n",
              "    </tr>\n",
              "    <tr>\n",
              "      <th>180</th>\n",
              "      <td>2020</td>\n",
              "      <td>Jo Jorgensen</td>\n",
              "    </tr>\n",
              "    <tr>\n",
              "      <th>112</th>\n",
              "      <td>1960</td>\n",
              "      <td>Richard Nixon</td>\n",
              "    </tr>\n",
              "    <tr>\n",
              "      <th>12</th>\n",
              "      <td>1844</td>\n",
              "      <td>Henry Clay</td>\n",
              "    </tr>\n",
              "    <tr>\n",
              "      <th>119</th>\n",
              "      <td>1972</td>\n",
              "      <td>John G. Schmitz</td>\n",
              "    </tr>\n",
              "  </tbody>\n",
              "</table>\n",
              "</div>"
            ],
            "text/plain": [
              "     Year        Candidate\n",
              "181  2020   Howard Hawkins\n",
              "180  2020     Jo Jorgensen\n",
              "112  1960    Richard Nixon\n",
              "12   1844       Henry Clay\n",
              "119  1972  John G. Schmitz"
            ]
          },
          "execution_count": 48,
          "metadata": {},
          "output_type": "execute_result"
        }
      ],
      "source": [
        "elections.sample(5).iloc[:, 0:2]"
      ]
    },
    {
      "cell_type": "code",
      "execution_count": null,
      "metadata": {
        "colab": {
          "base_uri": "https://localhost:8080/",
          "height": 175
        },
        "id": "r_XYGrxEFXHB",
        "outputId": "6ae80aee-d3af-42c0-9325-e0a8c6926016",
        "scrolled": true
      },
      "outputs": [
        {
          "data": {
            "text/html": [
              "<div>\n",
              "<style scoped>\n",
              "    .dataframe tbody tr th:only-of-type {\n",
              "        vertical-align: middle;\n",
              "    }\n",
              "\n",
              "    .dataframe tbody tr th {\n",
              "        vertical-align: top;\n",
              "    }\n",
              "\n",
              "    .dataframe thead th {\n",
              "        text-align: right;\n",
              "    }\n",
              "</style>\n",
              "<table border=\"1\" class=\"dataframe\">\n",
              "  <thead>\n",
              "    <tr style=\"text-align: right;\">\n",
              "      <th></th>\n",
              "      <th>Year</th>\n",
              "      <th>Candidate</th>\n",
              "    </tr>\n",
              "  </thead>\n",
              "  <tbody>\n",
              "    <tr>\n",
              "      <th>154</th>\n",
              "      <td>2000</td>\n",
              "      <td>Pat Buchanan</td>\n",
              "    </tr>\n",
              "    <tr>\n",
              "      <th>151</th>\n",
              "      <td>2000</td>\n",
              "      <td>Al Gore</td>\n",
              "    </tr>\n",
              "    <tr>\n",
              "      <th>155</th>\n",
              "      <td>2000</td>\n",
              "      <td>Ralph Nader</td>\n",
              "    </tr>\n",
              "    <tr>\n",
              "      <th>152</th>\n",
              "      <td>2000</td>\n",
              "      <td>George W. Bush</td>\n",
              "    </tr>\n",
              "  </tbody>\n",
              "</table>\n",
              "</div>"
            ],
            "text/plain": [
              "     Year       Candidate\n",
              "154  2000    Pat Buchanan\n",
              "151  2000         Al Gore\n",
              "155  2000     Ralph Nader\n",
              "152  2000  George W. Bush"
            ]
          },
          "execution_count": 49,
          "metadata": {},
          "output_type": "execute_result"
        }
      ],
      "source": [
        "elections.query('Year == 2000').sample(4, replace = True).iloc[:, 0:2]"
      ]
    },
    {
      "cell_type": "code",
      "execution_count": null,
      "metadata": {
        "colab": {
          "base_uri": "https://localhost:8080/"
        },
        "id": "-Jo_g4NIFXHB",
        "outputId": "8f84771b-440b-4f70-f05e-773792a61d7e"
      },
      "outputs": [
        {
          "data": {
            "text/plain": [
              "Norman Thomas         5\n",
              "Ralph Nader           4\n",
              "Franklin Roosevelt    4\n",
              "Eugene V. Debs        4\n",
              "Andrew Jackson        3\n",
              "                     ..\n",
              "Silas C. Swallow      1\n",
              "Alton B. Parker       1\n",
              "John G. Woolley       1\n",
              "Joshua Levering       1\n",
              "Howard Hawkins        1\n",
              "Name: Candidate, Length: 132, dtype: int64"
            ]
          },
          "execution_count": 50,
          "metadata": {},
          "output_type": "execute_result"
        }
      ],
      "source": [
        "elections[\"Candidate\"].value_counts()"
      ]
    },
    {
      "cell_type": "code",
      "execution_count": null,
      "metadata": {
        "colab": {
          "base_uri": "https://localhost:8080/"
        },
        "id": "F8ZX3IbQFXHB",
        "outputId": "d7d34c6f-489f-4b3a-90cf-c27230e21a08"
      },
      "outputs": [
        {
          "data": {
            "text/plain": [
              "array(['Democratic-Republican', 'Democratic', 'National Republican',\n",
              "       'Anti-Masonic', 'Whig', 'Free Soil', 'Republican', 'American',\n",
              "       'Constitutional Union', 'Southern Democratic',\n",
              "       'Northern Democratic', 'National Union', 'Liberal Republican',\n",
              "       'Greenback', 'Anti-Monopoly', 'Prohibition', 'Union Labor',\n",
              "       'Populist', 'National Democratic', 'Socialist', 'Progressive',\n",
              "       'Farmer–Labor', 'Communist', 'Union', 'Dixiecrat',\n",
              "       \"States' Rights\", 'American Independent', 'Independent',\n",
              "       'Libertarian', 'Citizens', 'New Alliance', 'Taxpayers',\n",
              "       'Natural Law', 'Green', 'Reform', 'Constitution'], dtype=object)"
            ]
          },
          "execution_count": 51,
          "metadata": {},
          "output_type": "execute_result"
        }
      ],
      "source": [
        "elections[\"Party\"].unique()"
      ]
    },
    {
      "cell_type": "code",
      "execution_count": null,
      "metadata": {
        "colab": {
          "base_uri": "https://localhost:8080/"
        },
        "id": "Lo9JXWm0FXHB",
        "outputId": "2e46811b-cfb9-43c5-b4a7-2f101ec5d8a5"
      },
      "outputs": [
        {
          "data": {
            "text/plain": [
              "75           Aaron S. Watkins\n",
              "27            Abraham Lincoln\n",
              "23            Abraham Lincoln\n",
              "108           Adlai Stevenson\n",
              "105           Adlai Stevenson\n",
              "                ...          \n",
              "19             Winfield Scott\n",
              "37     Winfield Scott Hancock\n",
              "74             Woodrow Wilson\n",
              "70             Woodrow Wilson\n",
              "16             Zachary Taylor\n",
              "Name: Candidate, Length: 182, dtype: object"
            ]
          },
          "execution_count": 52,
          "metadata": {},
          "output_type": "execute_result"
        }
      ],
      "source": [
        "elections[\"Candidate\"].sort_values()"
      ]
    },
    {
      "cell_type": "code",
      "execution_count": null,
      "metadata": {
        "colab": {
          "base_uri": "https://localhost:8080/",
          "height": 424
        },
        "id": "qEEveIoqFXHC",
        "outputId": "4c8319a2-1ba0-499f-a6fc-421f7b4ed7b9"
      },
      "outputs": [
        {
          "data": {
            "text/html": [
              "<div>\n",
              "<style scoped>\n",
              "    .dataframe tbody tr th:only-of-type {\n",
              "        vertical-align: middle;\n",
              "    }\n",
              "\n",
              "    .dataframe tbody tr th {\n",
              "        vertical-align: top;\n",
              "    }\n",
              "\n",
              "    .dataframe thead th {\n",
              "        text-align: right;\n",
              "    }\n",
              "</style>\n",
              "<table border=\"1\" class=\"dataframe\">\n",
              "  <thead>\n",
              "    <tr style=\"text-align: right;\">\n",
              "      <th></th>\n",
              "      <th>Year</th>\n",
              "      <th>Candidate</th>\n",
              "      <th>Party</th>\n",
              "      <th>Popular vote</th>\n",
              "      <th>Result</th>\n",
              "      <th>%</th>\n",
              "    </tr>\n",
              "  </thead>\n",
              "  <tbody>\n",
              "    <tr>\n",
              "      <th>114</th>\n",
              "      <td>1964</td>\n",
              "      <td>Lyndon Johnson</td>\n",
              "      <td>Democratic</td>\n",
              "      <td>43127041</td>\n",
              "      <td>win</td>\n",
              "      <td>61.344703</td>\n",
              "    </tr>\n",
              "    <tr>\n",
              "      <th>91</th>\n",
              "      <td>1936</td>\n",
              "      <td>Franklin Roosevelt</td>\n",
              "      <td>Democratic</td>\n",
              "      <td>27752648</td>\n",
              "      <td>win</td>\n",
              "      <td>60.978107</td>\n",
              "    </tr>\n",
              "    <tr>\n",
              "      <th>120</th>\n",
              "      <td>1972</td>\n",
              "      <td>Richard Nixon</td>\n",
              "      <td>Republican</td>\n",
              "      <td>47168710</td>\n",
              "      <td>win</td>\n",
              "      <td>60.907806</td>\n",
              "    </tr>\n",
              "    <tr>\n",
              "      <th>79</th>\n",
              "      <td>1920</td>\n",
              "      <td>Warren Harding</td>\n",
              "      <td>Republican</td>\n",
              "      <td>16144093</td>\n",
              "      <td>win</td>\n",
              "      <td>60.574501</td>\n",
              "    </tr>\n",
              "    <tr>\n",
              "      <th>133</th>\n",
              "      <td>1984</td>\n",
              "      <td>Ronald Reagan</td>\n",
              "      <td>Republican</td>\n",
              "      <td>54455472</td>\n",
              "      <td>win</td>\n",
              "      <td>59.023326</td>\n",
              "    </tr>\n",
              "    <tr>\n",
              "      <th>...</th>\n",
              "      <td>...</td>\n",
              "      <td>...</td>\n",
              "      <td>...</td>\n",
              "      <td>...</td>\n",
              "      <td>...</td>\n",
              "      <td>...</td>\n",
              "    </tr>\n",
              "    <tr>\n",
              "      <th>165</th>\n",
              "      <td>2008</td>\n",
              "      <td>Cynthia McKinney</td>\n",
              "      <td>Green</td>\n",
              "      <td>161797</td>\n",
              "      <td>loss</td>\n",
              "      <td>0.123442</td>\n",
              "    </tr>\n",
              "    <tr>\n",
              "      <th>148</th>\n",
              "      <td>1996</td>\n",
              "      <td>John Hagelin</td>\n",
              "      <td>Natural Law</td>\n",
              "      <td>113670</td>\n",
              "      <td>loss</td>\n",
              "      <td>0.118219</td>\n",
              "    </tr>\n",
              "    <tr>\n",
              "      <th>160</th>\n",
              "      <td>2004</td>\n",
              "      <td>Michael Peroutka</td>\n",
              "      <td>Constitution</td>\n",
              "      <td>143630</td>\n",
              "      <td>loss</td>\n",
              "      <td>0.117542</td>\n",
              "    </tr>\n",
              "    <tr>\n",
              "      <th>141</th>\n",
              "      <td>1992</td>\n",
              "      <td>Bo Gritz</td>\n",
              "      <td>Populist</td>\n",
              "      <td>106152</td>\n",
              "      <td>loss</td>\n",
              "      <td>0.101918</td>\n",
              "    </tr>\n",
              "    <tr>\n",
              "      <th>156</th>\n",
              "      <td>2004</td>\n",
              "      <td>David Cobb</td>\n",
              "      <td>Green</td>\n",
              "      <td>119859</td>\n",
              "      <td>loss</td>\n",
              "      <td>0.098088</td>\n",
              "    </tr>\n",
              "  </tbody>\n",
              "</table>\n",
              "<p>182 rows × 6 columns</p>\n",
              "</div>"
            ],
            "text/plain": [
              "     Year           Candidate         Party  Popular vote Result          %\n",
              "114  1964      Lyndon Johnson    Democratic      43127041    win  61.344703\n",
              "91   1936  Franklin Roosevelt    Democratic      27752648    win  60.978107\n",
              "120  1972       Richard Nixon    Republican      47168710    win  60.907806\n",
              "79   1920      Warren Harding    Republican      16144093    win  60.574501\n",
              "133  1984       Ronald Reagan    Republican      54455472    win  59.023326\n",
              "..    ...                 ...           ...           ...    ...        ...\n",
              "165  2008    Cynthia McKinney         Green        161797   loss   0.123442\n",
              "148  1996        John Hagelin   Natural Law        113670   loss   0.118219\n",
              "160  2004    Michael Peroutka  Constitution        143630   loss   0.117542\n",
              "141  1992            Bo Gritz      Populist        106152   loss   0.101918\n",
              "156  2004          David Cobb         Green        119859   loss   0.098088\n",
              "\n",
              "[182 rows x 6 columns]"
            ]
          },
          "execution_count": 53,
          "metadata": {},
          "output_type": "execute_result"
        }
      ],
      "source": [
        "elections.sort_values(\"%\", ascending = False)"
      ]
    },
    {
      "cell_type": "markdown",
      "metadata": {
        "id": "8fkKMo7Bj5Dv"
      },
      "source": [
        "## Chained indexing\n",
        "The flexibility of pandas allows for chained indexing, where you can repeatedly index the outcome of a previous indexing operation. [Source](https://towardsdatascience.com/settingwithcopywarning-in-pandas-782e4aa54ff7)"
      ]
    },
    {
      "cell_type": "code",
      "execution_count": null,
      "metadata": {
        "colab": {
          "base_uri": "https://localhost:8080/",
          "height": 206
        },
        "id": "y-q6MogkkDo2",
        "outputId": "9d0865b9-5d81-4dcb-b8b6-6f8ce623d992"
      },
      "outputs": [
        {
          "data": {
            "text/html": [
              "<div>\n",
              "<style scoped>\n",
              "    .dataframe tbody tr th:only-of-type {\n",
              "        vertical-align: middle;\n",
              "    }\n",
              "\n",
              "    .dataframe tbody tr th {\n",
              "        vertical-align: top;\n",
              "    }\n",
              "\n",
              "    .dataframe thead th {\n",
              "        text-align: right;\n",
              "    }\n",
              "</style>\n",
              "<table border=\"1\" class=\"dataframe\">\n",
              "  <thead>\n",
              "    <tr style=\"text-align: right;\">\n",
              "      <th></th>\n",
              "      <th>A</th>\n",
              "      <th>B</th>\n",
              "    </tr>\n",
              "  </thead>\n",
              "  <tbody>\n",
              "    <tr>\n",
              "      <th>0</th>\n",
              "      <td>1</td>\n",
              "      <td>6</td>\n",
              "    </tr>\n",
              "    <tr>\n",
              "      <th>1</th>\n",
              "      <td>2</td>\n",
              "      <td>7</td>\n",
              "    </tr>\n",
              "    <tr>\n",
              "      <th>2</th>\n",
              "      <td>3</td>\n",
              "      <td>8</td>\n",
              "    </tr>\n",
              "    <tr>\n",
              "      <th>3</th>\n",
              "      <td>4</td>\n",
              "      <td>9</td>\n",
              "    </tr>\n",
              "    <tr>\n",
              "      <th>4</th>\n",
              "      <td>5</td>\n",
              "      <td>10</td>\n",
              "    </tr>\n",
              "  </tbody>\n",
              "</table>\n",
              "</div>"
            ],
            "text/plain": [
              "   A   B\n",
              "0  1   6\n",
              "1  2   7\n",
              "2  3   8\n",
              "3  4   9\n",
              "4  5  10"
            ]
          },
          "execution_count": 13,
          "metadata": {},
          "output_type": "execute_result"
        }
      ],
      "source": [
        "import pandas as pd\n",
        "df = pd.DataFrame({\n",
        "    \"A\": [1, 2, 3, 4, 5],\n",
        "    \"B\": [6, 7, 8, 9, 10],\n",
        "    }, index=range(5)\n",
        "    )\n",
        "df"
      ]
    },
    {
      "cell_type": "code",
      "execution_count": null,
      "metadata": {
        "colab": {
          "base_uri": "https://localhost:8080/"
        },
        "id": "w8ZVa7fLUV_t",
        "outputId": "938dd406-5fd9-479f-ff44-679a7f14c55e"
      },
      "outputs": [
        {
          "name": "stderr",
          "output_type": "stream",
          "text": [
            "/tmp/ipykernel_359/914266719.py:3: SettingWithCopyWarning: \n",
            "A value is trying to be set on a copy of a slice from a DataFrame.\n",
            "Try using .loc[row_indexer,col_indexer] = value instead\n",
            "\n",
            "See the caveats in the documentation: https://pandas.pydata.org/pandas-docs/stable/user_guide/indexing.html#returning-a-view-versus-a-copy\n",
            "  dfa[\"C\"] = dfa[\"B\"] * 50\n"
          ]
        }
      ],
      "source": [
        "# Example of causing a Pandas chained assignment warning\n",
        "dfa = df.loc[3:5]\n",
        "dfa[\"C\"] = dfa[\"B\"] * 50"
      ]
    },
    {
      "cell_type": "code",
      "execution_count": null,
      "metadata": {
        "colab": {
          "base_uri": "https://localhost:8080/"
        },
        "id": "dSF0Ump9VACC",
        "outputId": "682f5a17-5bfb-4543-bb8c-2054bdf8e552"
      },
      "outputs": [
        {
          "name": "stdout",
          "output_type": "stream",
          "text": [
            "   A   B    C\n",
            "3  4   9  450\n",
            "4  5  10  500\n",
            "   A   B\n",
            "0  1   6\n",
            "1  2   7\n",
            "2  3   8\n",
            "3  4   9\n",
            "4  5  10\n"
          ]
        }
      ],
      "source": [
        "print(dfa)\n",
        "print(df)"
      ]
    },
    {
      "cell_type": "markdown",
      "metadata": {
        "id": "rW7SMEUjknMB"
      },
      "source": [
        "Note:\n",
        "* The value assignment did occur.\n",
        "* Did you expect the contents of `df` to be affected by the value assignment in dfa?\n",
        "* Pandas has internally consistent (albeit obtuse) rules on whether that happens or not. It’s just that the ambiguity in user expectations present in this situation warrants a warning, so that end users like you and me know where to look when our code misbehaves."
      ]
    },
    {
      "cell_type": "markdown",
      "metadata": {
        "id": "zvk4rZZlk-Px"
      },
      "source": [
        "When indexing and selecting data Pandas will return either a __view__ or a __copy__ of a dataframe. A view (shallow copy) references data from the original dataframe, while a copy (deep copy) is a separate instance of the same data.\n",
        "\n",
        "It is difficult to predict which will be returned by the indexing operation, as it depends on the memory layout of the underlying array. How exactly the indexing is chained can lead to different `__getitem__` and `__setitem__` calls being issued under the hood. Let's consider the following example: [Source](https://pandas.pydata.org/docs/user_guide/indexing.html#returning-a-view-versus-a-copy)"
      ]
    },
    {
      "cell_type": "code",
      "execution_count": null,
      "metadata": {
        "colab": {
          "base_uri": "https://localhost:8080/",
          "height": 206
        },
        "id": "VNXnKo0qkzhd",
        "outputId": "09408ca6-c8fa-4627-8868-b1d921d44df5"
      },
      "outputs": [
        {
          "data": {
            "text/html": [
              "<div>\n",
              "<style scoped>\n",
              "    .dataframe tbody tr th:only-of-type {\n",
              "        vertical-align: middle;\n",
              "    }\n",
              "\n",
              "    .dataframe tbody tr th {\n",
              "        vertical-align: top;\n",
              "    }\n",
              "\n",
              "    .dataframe thead tr th {\n",
              "        text-align: left;\n",
              "    }\n",
              "</style>\n",
              "<table border=\"1\" class=\"dataframe\">\n",
              "  <thead>\n",
              "    <tr>\n",
              "      <th></th>\n",
              "      <th colspan=\"2\" halign=\"left\">one</th>\n",
              "      <th colspan=\"2\" halign=\"left\">two</th>\n",
              "    </tr>\n",
              "    <tr>\n",
              "      <th></th>\n",
              "      <th>first</th>\n",
              "      <th>second</th>\n",
              "      <th>first</th>\n",
              "      <th>second</th>\n",
              "    </tr>\n",
              "  </thead>\n",
              "  <tbody>\n",
              "    <tr>\n",
              "      <th>0</th>\n",
              "      <td>a</td>\n",
              "      <td>b</td>\n",
              "      <td>c</td>\n",
              "      <td>d</td>\n",
              "    </tr>\n",
              "    <tr>\n",
              "      <th>1</th>\n",
              "      <td>e</td>\n",
              "      <td>f</td>\n",
              "      <td>g</td>\n",
              "      <td>h</td>\n",
              "    </tr>\n",
              "    <tr>\n",
              "      <th>2</th>\n",
              "      <td>i</td>\n",
              "      <td>j</td>\n",
              "      <td>k</td>\n",
              "      <td>l</td>\n",
              "    </tr>\n",
              "    <tr>\n",
              "      <th>3</th>\n",
              "      <td>m</td>\n",
              "      <td>n</td>\n",
              "      <td>o</td>\n",
              "      <td>p</td>\n",
              "    </tr>\n",
              "  </tbody>\n",
              "</table>\n",
              "</div>"
            ],
            "text/plain": [
              "    one          two       \n",
              "  first second first second\n",
              "0     a      b     c      d\n",
              "1     e      f     g      h\n",
              "2     i      j     k      l\n",
              "3     m      n     o      p"
            ]
          },
          "execution_count": 16,
          "metadata": {},
          "output_type": "execute_result"
        }
      ],
      "source": [
        "dfmi = pd.DataFrame([list('abcd'),\n",
        "                     list('efgh'),\n",
        "                     list('ijkl'),\n",
        "                     list('mnop')],\n",
        "                    columns=pd.MultiIndex.from_product([['one', 'two'],\n",
        "                                                        ['first', 'second']]))\n",
        "dfmi"
      ]
    },
    {
      "cell_type": "code",
      "execution_count": null,
      "metadata": {
        "id": "KsjEvV2WlDX0",
        "outputId": "ee0c6af1-b1e5-4b14-fb9d-2af8b37ce9e5"
      },
      "outputs": [
        {
          "data": {
            "text/html": [
              "<div>\n",
              "<style scoped>\n",
              "    .dataframe tbody tr th:only-of-type {\n",
              "        vertical-align: middle;\n",
              "    }\n",
              "\n",
              "    .dataframe tbody tr th {\n",
              "        vertical-align: top;\n",
              "    }\n",
              "\n",
              "    .dataframe thead tr th {\n",
              "        text-align: left;\n",
              "    }\n",
              "</style>\n",
              "<table border=\"1\" class=\"dataframe\">\n",
              "  <thead>\n",
              "    <tr>\n",
              "      <th></th>\n",
              "      <th colspan=\"2\" halign=\"left\">one</th>\n",
              "      <th colspan=\"2\" halign=\"left\">two</th>\n",
              "    </tr>\n",
              "    <tr>\n",
              "      <th></th>\n",
              "      <th>first</th>\n",
              "      <th>second</th>\n",
              "      <th>first</th>\n",
              "      <th>second</th>\n",
              "    </tr>\n",
              "  </thead>\n",
              "  <tbody>\n",
              "    <tr>\n",
              "      <th>0</th>\n",
              "      <td>a</td>\n",
              "      <td>z1</td>\n",
              "      <td>c</td>\n",
              "      <td>d</td>\n",
              "    </tr>\n",
              "    <tr>\n",
              "      <th>1</th>\n",
              "      <td>e</td>\n",
              "      <td>z1</td>\n",
              "      <td>g</td>\n",
              "      <td>h</td>\n",
              "    </tr>\n",
              "    <tr>\n",
              "      <th>2</th>\n",
              "      <td>i</td>\n",
              "      <td>z1</td>\n",
              "      <td>k</td>\n",
              "      <td>l</td>\n",
              "    </tr>\n",
              "    <tr>\n",
              "      <th>3</th>\n",
              "      <td>m</td>\n",
              "      <td>z1</td>\n",
              "      <td>o</td>\n",
              "      <td>p</td>\n",
              "    </tr>\n",
              "  </tbody>\n",
              "</table>\n",
              "</div>"
            ],
            "text/plain": [
              "    one          two       \n",
              "  first second first second\n",
              "0     a     z1     c      d\n",
              "1     e     z1     g      h\n",
              "2     i     z1     k      l\n",
              "3     m     z1     o      p"
            ]
          },
          "execution_count": 17,
          "metadata": {},
          "output_type": "execute_result"
        }
      ],
      "source": [
        "dfmi.loc[:, ('one', 'second')] = 'z1'\n",
        "# becomes\n",
        "# dfmi.loc.__setitem__((slice(None), (‘one’, ‘second’)), value)\n",
        "dfmi"
      ]
    },
    {
      "cell_type": "code",
      "execution_count": null,
      "metadata": {
        "colab": {
          "base_uri": "https://localhost:8080/"
        },
        "id": "s0Vwot51Z1Ld",
        "outputId": "f0a999b6-a2e0-4d8b-84e0-c004d0e6947f"
      },
      "outputs": [
        {
          "name": "stderr",
          "output_type": "stream",
          "text": [
            "/tmp/ipykernel_359/1355793736.py:1: SettingWithCopyWarning: \n",
            "A value is trying to be set on a copy of a slice from a DataFrame.\n",
            "Try using .loc[row_indexer,col_indexer] = value instead\n",
            "\n",
            "See the caveats in the documentation: https://pandas.pydata.org/pandas-docs/stable/user_guide/indexing.html#returning-a-view-versus-a-copy\n",
            "  dfmi['one']['second'] = 'z2'\n"
          ]
        }
      ],
      "source": [
        "dfmi['one']['second'] = 'z2'\n",
        "# becomes\n",
        "#dfmi.__getitem__(‘one’).__setitem__(‘second’, value)"
      ]
    },
    {
      "cell_type": "code",
      "execution_count": null,
      "metadata": {
        "id": "e3P3cPyk7j6B",
        "outputId": "5f92d12d-fa21-478a-a416-41eddb5240d8"
      },
      "outputs": [
        {
          "data": {
            "text/html": [
              "<div>\n",
              "<style scoped>\n",
              "    .dataframe tbody tr th:only-of-type {\n",
              "        vertical-align: middle;\n",
              "    }\n",
              "\n",
              "    .dataframe tbody tr th {\n",
              "        vertical-align: top;\n",
              "    }\n",
              "\n",
              "    .dataframe thead tr th {\n",
              "        text-align: left;\n",
              "    }\n",
              "</style>\n",
              "<table border=\"1\" class=\"dataframe\">\n",
              "  <thead>\n",
              "    <tr>\n",
              "      <th></th>\n",
              "      <th colspan=\"2\" halign=\"left\">one</th>\n",
              "      <th colspan=\"2\" halign=\"left\">two</th>\n",
              "    </tr>\n",
              "    <tr>\n",
              "      <th></th>\n",
              "      <th>first</th>\n",
              "      <th>second</th>\n",
              "      <th>first</th>\n",
              "      <th>second</th>\n",
              "    </tr>\n",
              "  </thead>\n",
              "  <tbody>\n",
              "    <tr>\n",
              "      <th>0</th>\n",
              "      <td>a</td>\n",
              "      <td>z1</td>\n",
              "      <td>c</td>\n",
              "      <td>d</td>\n",
              "    </tr>\n",
              "    <tr>\n",
              "      <th>1</th>\n",
              "      <td>e</td>\n",
              "      <td>z1</td>\n",
              "      <td>g</td>\n",
              "      <td>h</td>\n",
              "    </tr>\n",
              "    <tr>\n",
              "      <th>2</th>\n",
              "      <td>i</td>\n",
              "      <td>z1</td>\n",
              "      <td>k</td>\n",
              "      <td>l</td>\n",
              "    </tr>\n",
              "    <tr>\n",
              "      <th>3</th>\n",
              "      <td>m</td>\n",
              "      <td>z1</td>\n",
              "      <td>o</td>\n",
              "      <td>p</td>\n",
              "    </tr>\n",
              "  </tbody>\n",
              "</table>\n",
              "</div>"
            ],
            "text/plain": [
              "    one          two       \n",
              "  first second first second\n",
              "0     a     z1     c      d\n",
              "1     e     z1     g      h\n",
              "2     i     z1     k      l\n",
              "3     m     z1     o      p"
            ]
          },
          "execution_count": 19,
          "metadata": {},
          "output_type": "execute_result"
        }
      ],
      "source": [
        "dfmi"
      ]
    },
    {
      "cell_type": "markdown",
      "metadata": {
        "id": "kXQPj1TVaKRg"
      },
      "source": [
        "Notice the `__getitem__`? Outside of simple cases, it’s very hard to predict whether it will return a view or a copy (it depends on the memory layout of the array, about which pandas makes no guarantees), and therefore whether the `__setitem__` will modify `dfmi` or a temporary object that gets thrown out immediately afterward. That’s what `SettingWithCopy` is warning you about.\n",
        "\n",
        "If you need to update multiple items, it is recommended to use `.loc` as access method with a mask."
      ]
    },
    {
      "cell_type": "code",
      "execution_count": null,
      "metadata": {
        "colab": {
          "base_uri": "https://localhost:8080/",
          "height": 269
        },
        "id": "yb3SJVktlLhN",
        "outputId": "6e179dc1-e676-4623-b1f9-203a29adc571"
      },
      "outputs": [
        {
          "data": {
            "text/html": [
              "<div>\n",
              "<style scoped>\n",
              "    .dataframe tbody tr th:only-of-type {\n",
              "        vertical-align: middle;\n",
              "    }\n",
              "\n",
              "    .dataframe tbody tr th {\n",
              "        vertical-align: top;\n",
              "    }\n",
              "\n",
              "    .dataframe thead th {\n",
              "        text-align: right;\n",
              "    }\n",
              "</style>\n",
              "<table border=\"1\" class=\"dataframe\">\n",
              "  <thead>\n",
              "    <tr style=\"text-align: right;\">\n",
              "      <th></th>\n",
              "      <th>a</th>\n",
              "      <th>c</th>\n",
              "    </tr>\n",
              "  </thead>\n",
              "  <tbody>\n",
              "    <tr>\n",
              "      <th>0</th>\n",
              "      <td>one</td>\n",
              "      <td>42</td>\n",
              "    </tr>\n",
              "    <tr>\n",
              "      <th>1</th>\n",
              "      <td>one</td>\n",
              "      <td>42</td>\n",
              "    </tr>\n",
              "    <tr>\n",
              "      <th>2</th>\n",
              "      <td>two</td>\n",
              "      <td>2</td>\n",
              "    </tr>\n",
              "    <tr>\n",
              "      <th>3</th>\n",
              "      <td>three</td>\n",
              "      <td>3</td>\n",
              "    </tr>\n",
              "    <tr>\n",
              "      <th>4</th>\n",
              "      <td>two</td>\n",
              "      <td>4</td>\n",
              "    </tr>\n",
              "    <tr>\n",
              "      <th>5</th>\n",
              "      <td>one</td>\n",
              "      <td>42</td>\n",
              "    </tr>\n",
              "    <tr>\n",
              "      <th>6</th>\n",
              "      <td>six</td>\n",
              "      <td>6</td>\n",
              "    </tr>\n",
              "  </tbody>\n",
              "</table>\n",
              "</div>"
            ],
            "text/plain": [
              "       a   c\n",
              "0    one  42\n",
              "1    one  42\n",
              "2    two   2\n",
              "3  three   3\n",
              "4    two   4\n",
              "5    one  42\n",
              "6    six   6"
            ]
          },
          "execution_count": 60,
          "metadata": {},
          "output_type": "execute_result"
        }
      ],
      "source": [
        "dfc = pd.DataFrame({'a': ['one', 'one', 'two',\n",
        "                          'three', 'two', 'one', 'six'],\n",
        "                    'c': range(7)})\n",
        "\n",
        "dfd = dfc.copy()\n",
        "\n",
        "# Setting multiple items using a mask\n",
        "mask = dfd['a'].str.startswith('o')\n",
        "\n",
        "dfd.loc[mask, 'c'] = 42\n",
        "\n",
        "dfd"
      ]
    }
  ],
  "metadata": {
    "colab": {
      "collapsed_sections": [
        "-gY-rlrWFXG3",
        "QkKEV_ITFXG4",
        "kiz784jYFXG6"
      ],
      "provenance": [],
      "toc_visible": true,
      "include_colab_link": true
    },
    "kernelspec": {
      "display_name": "Python 3 (ipykernel)",
      "language": "python",
      "name": "python3"
    },
    "language_info": {
      "codemirror_mode": {
        "name": "ipython",
        "version": 3
      },
      "file_extension": ".py",
      "mimetype": "text/x-python",
      "name": "python",
      "nbconvert_exporter": "python",
      "pygments_lexer": "ipython3",
      "version": "3.10.8"
    }
  },
  "nbformat": 4,
  "nbformat_minor": 0
}