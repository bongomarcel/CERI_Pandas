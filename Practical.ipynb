{
  "cells": [
    {
      "cell_type": "markdown",
      "metadata": {
        "id": "view-in-github",
        "colab_type": "text"
      },
      "source": [
        "<a href=\"https://colab.research.google.com/github/bongomarcel/CERI_Pandas/blob/main/Practical.ipynb\" target=\"_parent\"><img src=\"https://colab.research.google.com/assets/colab-badge.svg\" alt=\"Open In Colab\"/></a>"
      ]
    },
    {
      "cell_type": "markdown",
      "id": "25f0c732-9675-4f35-a475-6dce8d43f1cf",
      "metadata": {
        "id": "25f0c732-9675-4f35-a475-6dce8d43f1cf"
      },
      "source": [
        "# Practical"
      ]
    },
    {
      "cell_type": "code",
      "source": [
        "#Setup\n",
        "! git clone https://github.com/bongomarcel/CERI_Pandas.git"
      ],
      "metadata": {
        "id": "bJeBHQ_064y7",
        "outputId": "2d1ab339-7e40-4e29-ec06-181f78fd7aa1",
        "colab": {
          "base_uri": "https://localhost:8080/"
        }
      },
      "id": "bJeBHQ_064y7",
      "execution_count": 1,
      "outputs": [
        {
          "output_type": "stream",
          "name": "stdout",
          "text": [
            "Cloning into 'CERI_Pandas'...\n",
            "remote: Enumerating objects: 96, done.\u001b[K\n",
            "remote: Counting objects: 100% (96/96), done.\u001b[K\n",
            "remote: Compressing objects: 100% (85/85), done.\u001b[K\n",
            "remote: Total 96 (delta 40), reused 42 (delta 8), pack-reused 0\u001b[K\n",
            "Receiving objects: 100% (96/96), 10.81 MiB | 11.64 MiB/s, done.\n",
            "Resolving deltas: 100% (40/40), done.\n"
          ]
        }
      ]
    },
    {
      "cell_type": "code",
      "source": [
        "%cd CERI_Pandas"
      ],
      "metadata": {
        "id": "aEbM743p7KP9",
        "outputId": "fd818c58-66d0-4ee0-b6c2-2a41431fa84f",
        "colab": {
          "base_uri": "https://localhost:8080/"
        }
      },
      "id": "aEbM743p7KP9",
      "execution_count": 2,
      "outputs": [
        {
          "output_type": "stream",
          "name": "stdout",
          "text": [
            "/content/CERI_Pandas\n"
          ]
        }
      ]
    },
    {
      "cell_type": "markdown",
      "id": "c4615e9f-1ef3-4369-9ffe-c800cdb436e1",
      "metadata": {
        "id": "c4615e9f-1ef3-4369-9ffe-c800cdb436e1"
      },
      "source": [
        "<hr style=\"border: 5px solid #61223b;\" />\n",
        "\n",
        "## Section 1: Recap on Pandas Basics\n",
        "If you need clarifications about the Pandas API you can type the function name followed by ? to get inline documentation:"
      ]
    },
    {
      "cell_type": "code",
      "execution_count": 5,
      "id": "f2f8a19d-0c51-43d8-a97e-abde523d5df2",
      "metadata": {
        "scrolled": true,
        "tags": [],
        "id": "f2f8a19d-0c51-43d8-a97e-abde523d5df2"
      },
      "outputs": [],
      "source": [
        "import pandas as pd\n",
        "pd.DataFrame?"
      ]
    },
    {
      "cell_type": "markdown",
      "id": "d5735e0c-659f-4d15-8c5b-faa81e26221b",
      "metadata": {
        "id": "d5735e0c-659f-4d15-8c5b-faa81e26221b"
      },
      "source": [
        "Other resources for Pandas:\n",
        "* Pandas API referece: [https://pandas.pydata.org/docs/reference/index.html](https://pandas.pydata.org/docs/reference/index.html)\n",
        "* DataFrame API: [https://pandas.pydata.org/docs/reference/api/pandas.DataFrame.html](https://pandas.pydata.org/docs/reference/api/pandas.DataFrame.html)\n",
        "* Series API: [https://pandas.pydata.org/docs/reference/api/pandas.Series.html](https://pandas.pydata.org/docs/reference/api/pandas.Series.html)\n",
        "* GroupBy API: [https://pandas.pydata.org/docs/reference/groupby.html](https://pandas.pydata.org/docs/reference/groupby.html)\n",
        "\n",
        "Small dataframes can simply be printed to the console. However, large dataframes cannot be printed to the console and we have higher level commands to inspect its contents. To get information on the schema of the DataFrames, we can use the info function:"
      ]
    },
    {
      "cell_type": "code",
      "execution_count": 6,
      "id": "00b9135d-3bae-4f17-a292-60030b22143c",
      "metadata": {
        "id": "00b9135d-3bae-4f17-a292-60030b22143c",
        "outputId": "f5eb1ef5-af4e-45f2-abd7-89af13cb4477",
        "colab": {
          "base_uri": "https://localhost:8080/"
        }
      },
      "outputs": [
        {
          "output_type": "stream",
          "name": "stdout",
          "text": [
            "<class 'pandas.core.frame.DataFrame'>\n",
            "RangeIndex: 5 entries, 0 to 4\n",
            "Data columns (total 2 columns):\n",
            " #   Column  Non-Null Count  Dtype\n",
            "---  ------  --------------  -----\n",
            " 0   A       5 non-null      int64\n",
            " 1   B       5 non-null      int64\n",
            "dtypes: int64(2)\n",
            "memory usage: 208.0 bytes\n"
          ]
        }
      ],
      "source": [
        "df = pd.DataFrame({\n",
        "    \"A\": [1, 2, 3, 4, 5],\n",
        "    \"B\": [6, 7, 8, 9, 10],\n",
        "    }, index=range(5)\n",
        "    )\n",
        "df.info()"
      ]
    },
    {
      "cell_type": "markdown",
      "id": "421221b4-37d1-4956-a4f3-0a53adaf11db",
      "metadata": {
        "id": "421221b4-37d1-4956-a4f3-0a53adaf11db"
      },
      "source": [
        "For the first part of this practical we will perform some basic data analyis on the World Cup soccer logs from the first practical. However, this time the input data has been sampled and formatted as a csv file.\n",
        "* When passing custom column labels to the `names` argument, [`read_csv()`](https://pandas.pydata.org/docs/reference/api/pandas.read_csv.html) assumes the csv file does not contain column header data.\n",
        "* The values passed to `na_values` are all considered missing data values in the dataset. `na_values` accepts scalars, lists, and dictionaries (for specifying per-column missing values characters). In this case we only have the `-` character indicating missing values for all columns in our data."
      ]
    },
    {
      "cell_type": "code",
      "source": [
        "%cd data\n",
        "! tar -xf wc_day6_1_sample.tar.bz2"
      ],
      "metadata": {
        "id": "CO4Go6eR7y8i",
        "outputId": "38efec69-8040-4497-b542-79edaf6d48e3",
        "colab": {
          "base_uri": "https://localhost:8080/"
        }
      },
      "id": "CO4Go6eR7y8i",
      "execution_count": 7,
      "outputs": [
        {
          "output_type": "stream",
          "name": "stdout",
          "text": [
            "/content/CERI_Pandas/data\n"
          ]
        }
      ]
    },
    {
      "cell_type": "code",
      "source": [
        "%cd .."
      ],
      "metadata": {
        "id": "TOPEUqna8Ra_",
        "outputId": "d6f17f65-a9e5-4f81-c687-9b87a5fd207f",
        "colab": {
          "base_uri": "https://localhost:8080/"
        }
      },
      "id": "TOPEUqna8Ra_",
      "execution_count": 8,
      "outputs": [
        {
          "output_type": "stream",
          "name": "stdout",
          "text": [
            "/content/CERI_Pandas\n"
          ]
        }
      ]
    },
    {
      "cell_type": "code",
      "execution_count": 9,
      "id": "c58d909c-83ef-490e-a24b-346f943a9b69",
      "metadata": {
        "id": "c58d909c-83ef-490e-a24b-346f943a9b69",
        "outputId": "529c7533-3095-42b6-e957-f4d05e5fbbb5",
        "colab": {
          "base_uri": "https://localhost:8080/",
          "height": 206
        }
      },
      "outputs": [
        {
          "output_type": "execute_result",
          "data": {
            "text/plain": [
              "   ClientID         Date      Time                                    URL  \\\n",
              "0      1044  30/Apr/1998  22:46:12                      /images/11104.gif   \n",
              "1     10871  01/May/1998  12:10:53                      /images/ligne.gif   \n",
              "2     11012  01/May/1998  12:17:30  /english/individuals/player111503.htm   \n",
              "3     11435  01/May/1998  13:15:13                   /french/frntpage.htm   \n",
              "4     12128  01/May/1998  13:30:21    /english/images/nav_sitemap_off.gif   \n",
              "\n",
              "   ResponseCode    Size  \n",
              "0         200.0   508.0  \n",
              "1         200.0   169.0  \n",
              "2         200.0  7027.0  \n",
              "3         304.0     0.0  \n",
              "4         304.0     NaN  "
            ],
            "text/html": [
              "\n",
              "  <div id=\"df-9e14a9a0-7386-467c-9182-3cbb01cab324\" class=\"colab-df-container\">\n",
              "    <div>\n",
              "<style scoped>\n",
              "    .dataframe tbody tr th:only-of-type {\n",
              "        vertical-align: middle;\n",
              "    }\n",
              "\n",
              "    .dataframe tbody tr th {\n",
              "        vertical-align: top;\n",
              "    }\n",
              "\n",
              "    .dataframe thead th {\n",
              "        text-align: right;\n",
              "    }\n",
              "</style>\n",
              "<table border=\"1\" class=\"dataframe\">\n",
              "  <thead>\n",
              "    <tr style=\"text-align: right;\">\n",
              "      <th></th>\n",
              "      <th>ClientID</th>\n",
              "      <th>Date</th>\n",
              "      <th>Time</th>\n",
              "      <th>URL</th>\n",
              "      <th>ResponseCode</th>\n",
              "      <th>Size</th>\n",
              "    </tr>\n",
              "  </thead>\n",
              "  <tbody>\n",
              "    <tr>\n",
              "      <th>0</th>\n",
              "      <td>1044</td>\n",
              "      <td>30/Apr/1998</td>\n",
              "      <td>22:46:12</td>\n",
              "      <td>/images/11104.gif</td>\n",
              "      <td>200.0</td>\n",
              "      <td>508.0</td>\n",
              "    </tr>\n",
              "    <tr>\n",
              "      <th>1</th>\n",
              "      <td>10871</td>\n",
              "      <td>01/May/1998</td>\n",
              "      <td>12:10:53</td>\n",
              "      <td>/images/ligne.gif</td>\n",
              "      <td>200.0</td>\n",
              "      <td>169.0</td>\n",
              "    </tr>\n",
              "    <tr>\n",
              "      <th>2</th>\n",
              "      <td>11012</td>\n",
              "      <td>01/May/1998</td>\n",
              "      <td>12:17:30</td>\n",
              "      <td>/english/individuals/player111503.htm</td>\n",
              "      <td>200.0</td>\n",
              "      <td>7027.0</td>\n",
              "    </tr>\n",
              "    <tr>\n",
              "      <th>3</th>\n",
              "      <td>11435</td>\n",
              "      <td>01/May/1998</td>\n",
              "      <td>13:15:13</td>\n",
              "      <td>/french/frntpage.htm</td>\n",
              "      <td>304.0</td>\n",
              "      <td>0.0</td>\n",
              "    </tr>\n",
              "    <tr>\n",
              "      <th>4</th>\n",
              "      <td>12128</td>\n",
              "      <td>01/May/1998</td>\n",
              "      <td>13:30:21</td>\n",
              "      <td>/english/images/nav_sitemap_off.gif</td>\n",
              "      <td>304.0</td>\n",
              "      <td>NaN</td>\n",
              "    </tr>\n",
              "  </tbody>\n",
              "</table>\n",
              "</div>\n",
              "    <div class=\"colab-df-buttons\">\n",
              "\n",
              "  <div class=\"colab-df-container\">\n",
              "    <button class=\"colab-df-convert\" onclick=\"convertToInteractive('df-9e14a9a0-7386-467c-9182-3cbb01cab324')\"\n",
              "            title=\"Convert this dataframe to an interactive table.\"\n",
              "            style=\"display:none;\">\n",
              "\n",
              "  <svg xmlns=\"http://www.w3.org/2000/svg\" height=\"24px\" viewBox=\"0 -960 960 960\">\n",
              "    <path d=\"M120-120v-720h720v720H120Zm60-500h600v-160H180v160Zm220 220h160v-160H400v160Zm0 220h160v-160H400v160ZM180-400h160v-160H180v160Zm440 0h160v-160H620v160ZM180-180h160v-160H180v160Zm440 0h160v-160H620v160Z\"/>\n",
              "  </svg>\n",
              "    </button>\n",
              "\n",
              "  <style>\n",
              "    .colab-df-container {\n",
              "      display:flex;\n",
              "      gap: 12px;\n",
              "    }\n",
              "\n",
              "    .colab-df-convert {\n",
              "      background-color: #E8F0FE;\n",
              "      border: none;\n",
              "      border-radius: 50%;\n",
              "      cursor: pointer;\n",
              "      display: none;\n",
              "      fill: #1967D2;\n",
              "      height: 32px;\n",
              "      padding: 0 0 0 0;\n",
              "      width: 32px;\n",
              "    }\n",
              "\n",
              "    .colab-df-convert:hover {\n",
              "      background-color: #E2EBFA;\n",
              "      box-shadow: 0px 1px 2px rgba(60, 64, 67, 0.3), 0px 1px 3px 1px rgba(60, 64, 67, 0.15);\n",
              "      fill: #174EA6;\n",
              "    }\n",
              "\n",
              "    .colab-df-buttons div {\n",
              "      margin-bottom: 4px;\n",
              "    }\n",
              "\n",
              "    [theme=dark] .colab-df-convert {\n",
              "      background-color: #3B4455;\n",
              "      fill: #D2E3FC;\n",
              "    }\n",
              "\n",
              "    [theme=dark] .colab-df-convert:hover {\n",
              "      background-color: #434B5C;\n",
              "      box-shadow: 0px 1px 3px 1px rgba(0, 0, 0, 0.15);\n",
              "      filter: drop-shadow(0px 1px 2px rgba(0, 0, 0, 0.3));\n",
              "      fill: #FFFFFF;\n",
              "    }\n",
              "  </style>\n",
              "\n",
              "    <script>\n",
              "      const buttonEl =\n",
              "        document.querySelector('#df-9e14a9a0-7386-467c-9182-3cbb01cab324 button.colab-df-convert');\n",
              "      buttonEl.style.display =\n",
              "        google.colab.kernel.accessAllowed ? 'block' : 'none';\n",
              "\n",
              "      async function convertToInteractive(key) {\n",
              "        const element = document.querySelector('#df-9e14a9a0-7386-467c-9182-3cbb01cab324');\n",
              "        const dataTable =\n",
              "          await google.colab.kernel.invokeFunction('convertToInteractive',\n",
              "                                                    [key], {});\n",
              "        if (!dataTable) return;\n",
              "\n",
              "        const docLinkHtml = 'Like what you see? Visit the ' +\n",
              "          '<a target=\"_blank\" href=https://colab.research.google.com/notebooks/data_table.ipynb>data table notebook</a>'\n",
              "          + ' to learn more about interactive tables.';\n",
              "        element.innerHTML = '';\n",
              "        dataTable['output_type'] = 'display_data';\n",
              "        await google.colab.output.renderOutput(dataTable, element);\n",
              "        const docLink = document.createElement('div');\n",
              "        docLink.innerHTML = docLinkHtml;\n",
              "        element.appendChild(docLink);\n",
              "      }\n",
              "    </script>\n",
              "  </div>\n",
              "\n",
              "\n",
              "<div id=\"df-b49352aa-1433-48ec-8f32-13aa8a8ec6c8\">\n",
              "  <button class=\"colab-df-quickchart\" onclick=\"quickchart('df-b49352aa-1433-48ec-8f32-13aa8a8ec6c8')\"\n",
              "            title=\"Suggest charts.\"\n",
              "            style=\"display:none;\">\n",
              "\n",
              "<svg xmlns=\"http://www.w3.org/2000/svg\" height=\"24px\"viewBox=\"0 0 24 24\"\n",
              "     width=\"24px\">\n",
              "    <g>\n",
              "        <path d=\"M19 3H5c-1.1 0-2 .9-2 2v14c0 1.1.9 2 2 2h14c1.1 0 2-.9 2-2V5c0-1.1-.9-2-2-2zM9 17H7v-7h2v7zm4 0h-2V7h2v10zm4 0h-2v-4h2v4z\"/>\n",
              "    </g>\n",
              "</svg>\n",
              "  </button>\n",
              "\n",
              "<style>\n",
              "  .colab-df-quickchart {\n",
              "    background-color: #E8F0FE;\n",
              "    border: none;\n",
              "    border-radius: 50%;\n",
              "    cursor: pointer;\n",
              "    display: none;\n",
              "    fill: #1967D2;\n",
              "    height: 32px;\n",
              "    padding: 0 0 0 0;\n",
              "    width: 32px;\n",
              "  }\n",
              "\n",
              "  .colab-df-quickchart:hover {\n",
              "    background-color: #E2EBFA;\n",
              "    box-shadow: 0px 1px 2px rgba(60, 64, 67, 0.3), 0px 1px 3px 1px rgba(60, 64, 67, 0.15);\n",
              "    fill: #174EA6;\n",
              "  }\n",
              "\n",
              "  [theme=dark] .colab-df-quickchart {\n",
              "    background-color: #3B4455;\n",
              "    fill: #D2E3FC;\n",
              "  }\n",
              "\n",
              "  [theme=dark] .colab-df-quickchart:hover {\n",
              "    background-color: #434B5C;\n",
              "    box-shadow: 0px 1px 3px 1px rgba(0, 0, 0, 0.15);\n",
              "    filter: drop-shadow(0px 1px 2px rgba(0, 0, 0, 0.3));\n",
              "    fill: #FFFFFF;\n",
              "  }\n",
              "</style>\n",
              "\n",
              "  <script>\n",
              "    async function quickchart(key) {\n",
              "      const charts = await google.colab.kernel.invokeFunction(\n",
              "          'suggestCharts', [key], {});\n",
              "    }\n",
              "    (() => {\n",
              "      let quickchartButtonEl =\n",
              "        document.querySelector('#df-b49352aa-1433-48ec-8f32-13aa8a8ec6c8 button');\n",
              "      quickchartButtonEl.style.display =\n",
              "        google.colab.kernel.accessAllowed ? 'block' : 'none';\n",
              "    })();\n",
              "  </script>\n",
              "</div>\n",
              "    </div>\n",
              "  </div>\n"
            ]
          },
          "metadata": {},
          "execution_count": 9
        }
      ],
      "source": [
        "column_labels = ['ClientID', 'Date', 'Time', 'URL', 'ResponseCode', 'Size']\n",
        "log_df = pd.read_csv(\"./data/wc_day6_1_sample.csv\", names=column_labels, na_values=['-'], encoding=\"unicode_escape\")\n",
        "log_df.head()"
      ]
    },
    {
      "cell_type": "markdown",
      "id": "fcedca8f-b946-4520-962b-8ce06b2167c1",
      "metadata": {
        "id": "fcedca8f-b946-4520-962b-8ce06b2167c1"
      },
      "source": [
        "<hr style=\"border: 1px solid #b79962;\" />\n",
        "\n",
        "### Recap of indexing operators\n",
        "*(If you were at the lecture and paid attention skip this recap section)*\n",
        "\n",
        "| Operator | Allowed inputs | Examples | Multi-axis selection? |\n",
        "|:---|:---|:---|:---|\n",
        "|`.loc[]`| <ul><li> single label</li><li> list or array of labels </li><li> a slice object with labels (stop-inclusing!)</li><li>boolean array</li><li>callable function with one argument</ul>|<ul><li> `.loc[3]` or `.loc[\"a\"]`</li><li> `.loc[[\"a\", \"b\", \"c\"]]` </li><li> `.loc[\"a\":\"c\"]`</li><li>`.loc[[True, False, True]]`</li><li>`.loc[lambda s: s > 0]`</ul> | Yes `.iloc[1, \"2\"]` (first argument = rows, second argument = columns, third, ...)|\n",
        "|`.iloc[]`|<ul><li> single integer</li><li> list or array of integers </li><li> a slice object with ints (right-exclusive!)</li><li>boolean array</li><li>callable function with one argument</ul>|<ul><li> `.iloc[2]`</li><li> `.iloc[[0, 1, 2]]` </li><li> `.iloc[0:2]`</li><li>`.loc[[True, False, True]]`</li><li>`.loc[lambda s: s > 0]`</ul>| Yes: `.iloc[1, 2]` (first argument = rows, second argument = columns, third, ...) |\n",
        "|`[]`| <ul><li> single label</li><li> list or array of labels </li><li> a slice object with labels (stop-inclusing or exclusive!)</li><li>boolean array</li><li>callable function with one argument</ul>|<ul><li> `df[3]` or `df[\"a\"]`</li><li> `df[[\"a\", \"b\", \"c\"]]` </li><li> `df[\"a\":\"c\"]`</li><li>`df[[True, False, True]]`</li><li>`df[lambda s: s > 0]`</ul> | No: <ul><li>single value = match column labels</li><li> List or array of labels will match columns labels. List or array of ints, will return indexed rows.</li><li> Slice = match rows</li></ul> |\n"
      ]
    },
    {
      "cell_type": "markdown",
      "id": "55f6dc45-db07-45fc-a3d9-6d518381155d",
      "metadata": {
        "id": "55f6dc45-db07-45fc-a3d9-6d518381155d"
      },
      "source": [
        "<hr style=\"border: 1px solid #b79962;\" />\n",
        "\n",
        "### SQL-like queries\n",
        "A SQL statement typically selects a subset of rows from a table that match a given criteria. This is known as the [Selection operator in Relational Algebra](https://en.wikipedia.org/wiki/Selection_(relational_algebra)). Similarly we can perform selections in Pandas using boolean indexing. Boolean indexing refers to a technique where you can use a list of boolean values to filter a dataframe.\n",
        "\n",
        "For example, lets say we only want entries from `01/May/1998`. To do this we can create a boolean array like:"
      ]
    },
    {
      "cell_type": "code",
      "execution_count": null,
      "id": "c77a227b-0298-434d-a8d5-f595ab53ced0",
      "metadata": {
        "id": "c77a227b-0298-434d-a8d5-f595ab53ced0",
        "outputId": "e02204c0-e10e-4506-ec4f-63dc9aba5eb1"
      },
      "outputs": [
        {
          "data": {
            "text/plain": [
              "0    False\n",
              "1     True\n",
              "Name: Date, dtype: bool"
            ]
          },
          "execution_count": 25,
          "metadata": {},
          "output_type": "execute_result"
        }
      ],
      "source": [
        "is_may1st = log_df['Date'] == '01/May/1998'\n",
        "is_may1st.head(2)"
      ]
    },
    {
      "cell_type": "markdown",
      "id": "b485541c-4a29-4375-887b-d72f1987f249",
      "metadata": {
        "id": "b485541c-4a29-4375-887b-d72f1987f249"
      },
      "source": [
        "Now we can filter our DataFrame by passing it the boolean array."
      ]
    },
    {
      "cell_type": "code",
      "execution_count": null,
      "id": "44df89d7-3739-4455-a2d9-59731b68abf0",
      "metadata": {
        "id": "44df89d7-3739-4455-a2d9-59731b68abf0",
        "outputId": "68f33cbc-cd7a-432c-ea61-c00f4f786729"
      },
      "outputs": [
        {
          "data": {
            "text/html": [
              "<div>\n",
              "<style scoped>\n",
              "    .dataframe tbody tr th:only-of-type {\n",
              "        vertical-align: middle;\n",
              "    }\n",
              "\n",
              "    .dataframe tbody tr th {\n",
              "        vertical-align: top;\n",
              "    }\n",
              "\n",
              "    .dataframe thead th {\n",
              "        text-align: right;\n",
              "    }\n",
              "</style>\n",
              "<table border=\"1\" class=\"dataframe\">\n",
              "  <thead>\n",
              "    <tr style=\"text-align: right;\">\n",
              "      <th></th>\n",
              "      <th>ClientID</th>\n",
              "      <th>Date</th>\n",
              "      <th>Time</th>\n",
              "      <th>URL</th>\n",
              "      <th>ResponseCode</th>\n",
              "      <th>Size</th>\n",
              "    </tr>\n",
              "  </thead>\n",
              "  <tbody>\n",
              "    <tr>\n",
              "      <th>1</th>\n",
              "      <td>10871</td>\n",
              "      <td>01/May/1998</td>\n",
              "      <td>12:10:53</td>\n",
              "      <td>/images/ligne.gif</td>\n",
              "      <td>200.0</td>\n",
              "      <td>169.0</td>\n",
              "    </tr>\n",
              "    <tr>\n",
              "      <th>2</th>\n",
              "      <td>11012</td>\n",
              "      <td>01/May/1998</td>\n",
              "      <td>12:17:30</td>\n",
              "      <td>/english/individuals/player111503.htm</td>\n",
              "      <td>200.0</td>\n",
              "      <td>7027.0</td>\n",
              "    </tr>\n",
              "    <tr>\n",
              "      <th>3</th>\n",
              "      <td>11435</td>\n",
              "      <td>01/May/1998</td>\n",
              "      <td>13:15:13</td>\n",
              "      <td>/french/frntpage.htm</td>\n",
              "      <td>304.0</td>\n",
              "      <td>0.0</td>\n",
              "    </tr>\n",
              "    <tr>\n",
              "      <th>4</th>\n",
              "      <td>12128</td>\n",
              "      <td>01/May/1998</td>\n",
              "      <td>13:30:21</td>\n",
              "      <td>/english/images/nav_sitemap_off.gif</td>\n",
              "      <td>304.0</td>\n",
              "      <td>NaN</td>\n",
              "    </tr>\n",
              "    <tr>\n",
              "      <th>5</th>\n",
              "      <td>13649</td>\n",
              "      <td>01/May/1998</td>\n",
              "      <td>14:55:01</td>\n",
              "      <td>/images/hm_anime_e.gif</td>\n",
              "      <td>200.0</td>\n",
              "      <td>15609.0</td>\n",
              "    </tr>\n",
              "  </tbody>\n",
              "</table>\n",
              "</div>"
            ],
            "text/plain": [
              "   ClientID         Date      Time                                    URL  \\\n",
              "1     10871  01/May/1998  12:10:53                      /images/ligne.gif   \n",
              "2     11012  01/May/1998  12:17:30  /english/individuals/player111503.htm   \n",
              "3     11435  01/May/1998  13:15:13                   /french/frntpage.htm   \n",
              "4     12128  01/May/1998  13:30:21    /english/images/nav_sitemap_off.gif   \n",
              "5     13649  01/May/1998  14:55:01                 /images/hm_anime_e.gif   \n",
              "\n",
              "   ResponseCode     Size  \n",
              "1         200.0    169.0  \n",
              "2         200.0   7027.0  \n",
              "3         304.0      0.0  \n",
              "4         304.0      NaN  \n",
              "5         200.0  15609.0  "
            ]
          },
          "execution_count": 26,
          "metadata": {},
          "output_type": "execute_result"
        }
      ],
      "source": [
        "may1_df = log_df[is_may1st]\n",
        "may1_df.head()"
      ]
    },
    {
      "cell_type": "markdown",
      "id": "86f2333a-0cdb-4273-adee-a428b0c2670b",
      "metadata": {
        "id": "86f2333a-0cdb-4273-adee-a428b0c2670b"
      },
      "source": [
        "Or we can directly do this by passing in the boolean clause to the DataFrame:"
      ]
    },
    {
      "cell_type": "code",
      "execution_count": null,
      "id": "847b6e27-32d4-4049-9dbd-f446b3156178",
      "metadata": {
        "id": "847b6e27-32d4-4049-9dbd-f446b3156178",
        "outputId": "0a8d158a-81ba-4641-8832-2c0165fed023"
      },
      "outputs": [
        {
          "data": {
            "text/html": [
              "<div>\n",
              "<style scoped>\n",
              "    .dataframe tbody tr th:only-of-type {\n",
              "        vertical-align: middle;\n",
              "    }\n",
              "\n",
              "    .dataframe tbody tr th {\n",
              "        vertical-align: top;\n",
              "    }\n",
              "\n",
              "    .dataframe thead th {\n",
              "        text-align: right;\n",
              "    }\n",
              "</style>\n",
              "<table border=\"1\" class=\"dataframe\">\n",
              "  <thead>\n",
              "    <tr style=\"text-align: right;\">\n",
              "      <th></th>\n",
              "      <th>ClientID</th>\n",
              "      <th>Date</th>\n",
              "      <th>Time</th>\n",
              "      <th>URL</th>\n",
              "      <th>ResponseCode</th>\n",
              "      <th>Size</th>\n",
              "    </tr>\n",
              "  </thead>\n",
              "  <tbody>\n",
              "    <tr>\n",
              "      <th>1</th>\n",
              "      <td>10871</td>\n",
              "      <td>01/May/1998</td>\n",
              "      <td>12:10:53</td>\n",
              "      <td>/images/ligne.gif</td>\n",
              "      <td>200.0</td>\n",
              "      <td>169.0</td>\n",
              "    </tr>\n",
              "    <tr>\n",
              "      <th>2</th>\n",
              "      <td>11012</td>\n",
              "      <td>01/May/1998</td>\n",
              "      <td>12:17:30</td>\n",
              "      <td>/english/individuals/player111503.htm</td>\n",
              "      <td>200.0</td>\n",
              "      <td>7027.0</td>\n",
              "    </tr>\n",
              "    <tr>\n",
              "      <th>3</th>\n",
              "      <td>11435</td>\n",
              "      <td>01/May/1998</td>\n",
              "      <td>13:15:13</td>\n",
              "      <td>/french/frntpage.htm</td>\n",
              "      <td>304.0</td>\n",
              "      <td>0.0</td>\n",
              "    </tr>\n",
              "    <tr>\n",
              "      <th>4</th>\n",
              "      <td>12128</td>\n",
              "      <td>01/May/1998</td>\n",
              "      <td>13:30:21</td>\n",
              "      <td>/english/images/nav_sitemap_off.gif</td>\n",
              "      <td>304.0</td>\n",
              "      <td>NaN</td>\n",
              "    </tr>\n",
              "    <tr>\n",
              "      <th>5</th>\n",
              "      <td>13649</td>\n",
              "      <td>01/May/1998</td>\n",
              "      <td>14:55:01</td>\n",
              "      <td>/images/hm_anime_e.gif</td>\n",
              "      <td>200.0</td>\n",
              "      <td>15609.0</td>\n",
              "    </tr>\n",
              "  </tbody>\n",
              "</table>\n",
              "</div>"
            ],
            "text/plain": [
              "   ClientID         Date      Time                                    URL  \\\n",
              "1     10871  01/May/1998  12:10:53                      /images/ligne.gif   \n",
              "2     11012  01/May/1998  12:17:30  /english/individuals/player111503.htm   \n",
              "3     11435  01/May/1998  13:15:13                   /french/frntpage.htm   \n",
              "4     12128  01/May/1998  13:30:21    /english/images/nav_sitemap_off.gif   \n",
              "5     13649  01/May/1998  14:55:01                 /images/hm_anime_e.gif   \n",
              "\n",
              "   ResponseCode     Size  \n",
              "1         200.0    169.0  \n",
              "2         200.0   7027.0  \n",
              "3         304.0      0.0  \n",
              "4         304.0      NaN  \n",
              "5         200.0  15609.0  "
            ]
          },
          "execution_count": 32,
          "metadata": {},
          "output_type": "execute_result"
        }
      ],
      "source": [
        "may1_df = log_df[log_df['Date'] == '01/May/1998']\n",
        "may1_df.head()"
      ]
    },
    {
      "cell_type": "markdown",
      "id": "20a17427-4310-4dde-813f-190727c2878d",
      "metadata": {
        "id": "20a17427-4310-4dde-813f-190727c2878d"
      },
      "source": [
        "While selection is used for filtering rows, [projection is the relational algebra operator](https://en.wikipedia.org/wiki/Projection_%28relational_algebra%29) used to select columns.\n",
        "With the indexing operators\n",
        "For example to only keep the `URL` and `ResponseCode` column we would use:"
      ]
    },
    {
      "cell_type": "code",
      "execution_count": null,
      "id": "c0f99b97-953d-4b5c-a397-904ffb5394ad",
      "metadata": {
        "id": "c0f99b97-953d-4b5c-a397-904ffb5394ad",
        "outputId": "273309c0-1aa1-4df5-f702-e24c0fa3a737"
      },
      "outputs": [
        {
          "data": {
            "text/html": [
              "<div>\n",
              "<style scoped>\n",
              "    .dataframe tbody tr th:only-of-type {\n",
              "        vertical-align: middle;\n",
              "    }\n",
              "\n",
              "    .dataframe tbody tr th {\n",
              "        vertical-align: top;\n",
              "    }\n",
              "\n",
              "    .dataframe thead th {\n",
              "        text-align: right;\n",
              "    }\n",
              "</style>\n",
              "<table border=\"1\" class=\"dataframe\">\n",
              "  <thead>\n",
              "    <tr style=\"text-align: right;\">\n",
              "      <th></th>\n",
              "      <th>URL</th>\n",
              "      <th>ResponseCode</th>\n",
              "    </tr>\n",
              "  </thead>\n",
              "  <tbody>\n",
              "    <tr>\n",
              "      <th>0</th>\n",
              "      <td>/images/11104.gif</td>\n",
              "      <td>200.0</td>\n",
              "    </tr>\n",
              "    <tr>\n",
              "      <th>1</th>\n",
              "      <td>/images/ligne.gif</td>\n",
              "      <td>200.0</td>\n",
              "    </tr>\n",
              "    <tr>\n",
              "      <th>2</th>\n",
              "      <td>/english/individuals/player111503.htm</td>\n",
              "      <td>200.0</td>\n",
              "    </tr>\n",
              "    <tr>\n",
              "      <th>3</th>\n",
              "      <td>/french/frntpage.htm</td>\n",
              "      <td>304.0</td>\n",
              "    </tr>\n",
              "    <tr>\n",
              "      <th>4</th>\n",
              "      <td>/english/images/nav_sitemap_off.gif</td>\n",
              "      <td>304.0</td>\n",
              "    </tr>\n",
              "  </tbody>\n",
              "</table>\n",
              "</div>"
            ],
            "text/plain": [
              "                                     URL  ResponseCode\n",
              "0                      /images/11104.gif         200.0\n",
              "1                      /images/ligne.gif         200.0\n",
              "2  /english/individuals/player111503.htm         200.0\n",
              "3                   /french/frntpage.htm         304.0\n",
              "4    /english/images/nav_sitemap_off.gif         304.0"
            ]
          },
          "execution_count": 92,
          "metadata": {},
          "output_type": "execute_result"
        }
      ],
      "source": [
        "url_codes = log_df[['URL', 'ResponseCode']]\n",
        "url_codes.head(5)"
      ]
    },
    {
      "cell_type": "markdown",
      "id": "82494728-becd-4934-8692-09dd9bb889ba",
      "metadata": {
        "id": "82494728-becd-4934-8692-09dd9bb889ba"
      },
      "source": [
        "Pandas also allows you to group the DataFrame by values in any column. For example to group requests by `ResponseCode` you can execute:"
      ]
    },
    {
      "cell_type": "code",
      "execution_count": null,
      "id": "7b1e330e-64db-4741-b9ae-6cd1c6eee7d2",
      "metadata": {
        "id": "7b1e330e-64db-4741-b9ae-6cd1c6eee7d2",
        "outputId": "357c392d-aa1e-4540-a9de-b776d427e7f9"
      },
      "outputs": [
        {
          "data": {
            "text/plain": [
              "<pandas.core.groupby.generic.DataFrameGroupBy object at 0x7fb78b8fae50>"
            ]
          },
          "execution_count": 28,
          "metadata": {},
          "output_type": "execute_result"
        }
      ],
      "source": [
        "grouped = log_df.groupby('ResponseCode')\n",
        "grouped"
      ]
    },
    {
      "cell_type": "markdown",
      "id": "ae086f22-0423-499e-810c-d9b1383ed599",
      "metadata": {
        "id": "ae086f22-0423-499e-810c-d9b1383ed599"
      },
      "source": [
        "The `groupby` method returns a `DataFrameGroupBy` or `SeriesGroupBy` object based on whether it was called on a `DataFrame` or `Series` object. These datatypes contain a number of groups where each group is a dataframe or series."
      ]
    },
    {
      "cell_type": "code",
      "execution_count": null,
      "id": "c6c9c02f-5c28-4169-ac15-c9d9894fd3c8",
      "metadata": {
        "id": "c6c9c02f-5c28-4169-ac15-c9d9894fd3c8",
        "outputId": "45a81d93-079a-4bcb-ba7a-f81aa5be6c45"
      },
      "outputs": [
        {
          "name": "stdout",
          "output_type": "stream",
          "text": [
            "Number of groups:  7\n",
            "Group keys:  dict_keys([200.0, 206.0, 302.0, 304.0, 400.0, 404.0, 500.0])\n",
            "Sample of group 200:\n",
            "    ClientID         Date      Time                                    URL  \\\n",
            "0      1044  30/Apr/1998  22:46:12                      /images/11104.gif   \n",
            "1     10871  01/May/1998  12:10:53                      /images/ligne.gif   \n",
            "2     11012  01/May/1998  12:17:30  /english/individuals/player111503.htm   \n",
            "5     13649  01/May/1998  14:55:01                 /images/hm_anime_e.gif   \n",
            "6     15006  01/May/1998  16:14:32  /english/images/comp_bu_group_off.gif   \n",
            "\n",
            "   ResponseCode     Size  \n",
            "0         200.0    508.0  \n",
            "1         200.0    169.0  \n",
            "2         200.0   7027.0  \n",
            "5         200.0  15609.0  \n",
            "6         200.0   1557.0  \n"
          ]
        }
      ],
      "source": [
        "print(\"Number of groups: \", grouped.ngroups)\n",
        "print(\"Group keys: \", grouped.groups.keys())\n",
        "print(\"Sample of group 200:\\n\", grouped.get_group(200).head())"
      ]
    },
    {
      "cell_type": "markdown",
      "id": "722efe55-79da-4fdb-a33d-6fb3f483cde9",
      "metadata": {
        "id": "722efe55-79da-4fdb-a33d-6fb3f483cde9"
      },
      "source": [
        "Pandas also has many useful commands that can be used on groupby objects using the data [split-apply-combine paradigm](https://pandas.pydata.org/pandas-docs/dev/user_guide/groupby.html).\n",
        "This paradigm is very common and follows the following principles:\n",
        "1. **Splitting** the data into groups based on some criteria.\n",
        "2. **Applying** a function to each group independently.\n",
        "3. **Combining** the results into a data structure.\n",
        "\n",
        "Out of these, the split step is the most straightforward. In fact, in many situations we may wish to split the data set into groups and do something with those groups. In the **apply step**, we might wish to do one of the following:\n",
        "* **Aggregation:** compute a summary statistic (or statistics) for each group. For example, sums or means, or compute group sizes / counts.\n",
        "* **Transformation:** perform some group-specific computations and return a like-indexed object. For example: normalise data, filling NAs within groups with a value derived from each group.\n",
        "* **Filtration:** discard some groups, according to a group-wise computation that evaluates True or False. For example, discard data that belongs to groups with only a few members or filter out data based on the group sum or mean."
      ]
    },
    {
      "cell_type": "markdown",
      "id": "22f699dd-d381-4588-8002-a4ec6d68772d",
      "metadata": {
        "id": "22f699dd-d381-4588-8002-a4ec6d68772d"
      },
      "source": [
        "<hr style=\"border: 1px solid #b79962;\" />\n",
        "\n",
        "### Exercises:\n",
        "1. How many rows are present in `log_df`?\n",
        "2. What are the number of non-NaN values for each column in `log_df`?\n",
        "3. What are the URLs in rows 85 through 90?\n",
        "4. Use selection to print the number of requests that had HTTP return code `404`.\n",
        "5. Use `.query()` to select all responses that had a 4** return code.\n",
        "6. Use `.value_counts()` to show all unique client error responses (400-499) and server error responses (500-599) and their corresponding counts.\n",
        "7. What is the average reponse size?\n",
        "8. Using `groupby`, get the number of log entries per `ResponseCode` value.\n",
        "9. Add the string `https://www.mywebsite.co.za/` in front of all `URL` column values.\n",
        "10. How many of the various response codes occurred on the 30th April and how many on 1st May? (Hint: Use a multi_grouped DataFrame.) On which day did the servers produce the most errors?\n",
        "11. How many GIFs were delivered to the clients?"
      ]
    },
    {
      "cell_type": "markdown",
      "id": "25175793-dbb9-4a27-b24a-6a0ddbf8795a",
      "metadata": {
        "id": "25175793-dbb9-4a27-b24a-6a0ddbf8795a"
      },
      "source": [
        "<br/><br/>\n",
        "<hr style=\"border: 5px solid #61223b;\" />\n",
        "\n",
        "## Section 2: Applying functions to rows, column\n",
        "\n",
        "So far we have been using SQL-style operators to process the data. However to do data cleaning or more complex analysis we often need to apply functions on rows or columns of a DataFrame.\n",
        "\n",
        "For example, consider the columns `Date` and `Time` in `log_df`. It would be useful if we could combine these columns and create `datetime` which can be used for filtering, grouping, etc.\n",
        "\n",
        "To create a DateTime column we will use Pandas helper function `to_datetime()`. This function takes a string and converts it to a datetime object. To call this on every row of the DataFrame, we use the `apply()` function. `apply()` takes two arguments, the first a function to apply and secondly `axis` which indicates if this should be applied on every row (`axis=1`) or column (`axis=0`)."
      ]
    },
    {
      "cell_type": "code",
      "execution_count": null,
      "id": "2cf34042-c0c1-44c0-8a5b-f2432a17b314",
      "metadata": {
        "id": "2cf34042-c0c1-44c0-8a5b-f2432a17b314",
        "outputId": "bc14948f-4302-4915-e4c5-7af0688cfa1c"
      },
      "outputs": [
        {
          "data": {
            "text/html": [
              "<div>\n",
              "<style scoped>\n",
              "    .dataframe tbody tr th:only-of-type {\n",
              "        vertical-align: middle;\n",
              "    }\n",
              "\n",
              "    .dataframe tbody tr th {\n",
              "        vertical-align: top;\n",
              "    }\n",
              "\n",
              "    .dataframe thead th {\n",
              "        text-align: right;\n",
              "    }\n",
              "</style>\n",
              "<table border=\"1\" class=\"dataframe\">\n",
              "  <thead>\n",
              "    <tr style=\"text-align: right;\">\n",
              "      <th></th>\n",
              "      <th>ClientID</th>\n",
              "      <th>Date</th>\n",
              "      <th>Time</th>\n",
              "      <th>URL</th>\n",
              "      <th>ResponseCode</th>\n",
              "      <th>Size</th>\n",
              "      <th>DateTime</th>\n",
              "    </tr>\n",
              "  </thead>\n",
              "  <tbody>\n",
              "    <tr>\n",
              "      <th>0</th>\n",
              "      <td>1044</td>\n",
              "      <td>30/Apr/1998</td>\n",
              "      <td>22:46:12</td>\n",
              "      <td>/images/11104.gif</td>\n",
              "      <td>200.0</td>\n",
              "      <td>508.0</td>\n",
              "      <td>1998-04-30 22:46:12</td>\n",
              "    </tr>\n",
              "    <tr>\n",
              "      <th>1</th>\n",
              "      <td>10871</td>\n",
              "      <td>01/May/1998</td>\n",
              "      <td>12:10:53</td>\n",
              "      <td>/images/ligne.gif</td>\n",
              "      <td>200.0</td>\n",
              "      <td>169.0</td>\n",
              "      <td>1998-05-01 12:10:53</td>\n",
              "    </tr>\n",
              "    <tr>\n",
              "      <th>2</th>\n",
              "      <td>11012</td>\n",
              "      <td>01/May/1998</td>\n",
              "      <td>12:17:30</td>\n",
              "      <td>/english/individuals/player111503.htm</td>\n",
              "      <td>200.0</td>\n",
              "      <td>7027.0</td>\n",
              "      <td>1998-05-01 12:17:30</td>\n",
              "    </tr>\n",
              "    <tr>\n",
              "      <th>3</th>\n",
              "      <td>11435</td>\n",
              "      <td>01/May/1998</td>\n",
              "      <td>13:15:13</td>\n",
              "      <td>/french/frntpage.htm</td>\n",
              "      <td>304.0</td>\n",
              "      <td>0.0</td>\n",
              "      <td>1998-05-01 13:15:13</td>\n",
              "    </tr>\n",
              "    <tr>\n",
              "      <th>4</th>\n",
              "      <td>12128</td>\n",
              "      <td>01/May/1998</td>\n",
              "      <td>13:30:21</td>\n",
              "      <td>/english/images/nav_sitemap_off.gif</td>\n",
              "      <td>304.0</td>\n",
              "      <td>NaN</td>\n",
              "      <td>1998-05-01 13:30:21</td>\n",
              "    </tr>\n",
              "  </tbody>\n",
              "</table>\n",
              "</div>"
            ],
            "text/plain": [
              "   ClientID         Date      Time                                    URL  \\\n",
              "0      1044  30/Apr/1998  22:46:12                      /images/11104.gif   \n",
              "1     10871  01/May/1998  12:10:53                      /images/ligne.gif   \n",
              "2     11012  01/May/1998  12:17:30  /english/individuals/player111503.htm   \n",
              "3     11435  01/May/1998  13:15:13                   /french/frntpage.htm   \n",
              "4     12128  01/May/1998  13:30:21    /english/images/nav_sitemap_off.gif   \n",
              "\n",
              "   ResponseCode    Size            DateTime  \n",
              "0         200.0   508.0 1998-04-30 22:46:12  \n",
              "1         200.0   169.0 1998-05-01 12:10:53  \n",
              "2         200.0  7027.0 1998-05-01 12:17:30  \n",
              "3         304.0     0.0 1998-05-01 13:15:13  \n",
              "4         304.0     NaN 1998-05-01 13:30:21  "
            ]
          },
          "execution_count": 94,
          "metadata": {},
          "output_type": "execute_result"
        }
      ],
      "source": [
        "log_df['DateTime'] = pd.to_datetime(log_df.apply(lambda row: row['Date'] + ' ' + row['Time'], axis=1))\n",
        "log_df.head(5)"
      ]
    },
    {
      "cell_type": "markdown",
      "id": "7222c038-f9a3-40e0-86f3-cbe7c86c20e0",
      "metadata": {
        "id": "7222c038-f9a3-40e0-86f3-cbe7c86c20e0"
      },
      "source": [
        "This might take a minute to execute due to datetime parsing. This is an opportunity to stretch or take a look at Pandas' [Timestamp documentation](https://pandas.pydata.org/docs/reference/api/pandas.Timestamp.html) or [Python's `datetime.datetime`](https://docs.python.org/3/library/datetime.html#datetime.datetime) object which are basically equivalent.\n",
        "\n",
        "If we want to group by hour, we can now use the timestamp functionality instead of doing any string parsing:"
      ]
    },
    {
      "cell_type": "code",
      "execution_count": null,
      "id": "389bfd3a-d13f-4a41-bfbf-ad5a8bf4e2a8",
      "metadata": {
        "id": "389bfd3a-d13f-4a41-bfbf-ad5a8bf4e2a8",
        "outputId": "f463b57a-c901-4062-e902-b9133ce18d95"
      },
      "outputs": [
        {
          "data": {
            "text/plain": [
              "24"
            ]
          },
          "execution_count": 95,
          "metadata": {},
          "output_type": "execute_result"
        }
      ],
      "source": [
        "hour_grouped = log_df.groupby(lambda row: log_df['DateTime'][row].hour)\n",
        "hour_grouped.ngroups"
      ]
    },
    {
      "cell_type": "markdown",
      "id": "fdf03b0e-ef5a-44c5-a9a4-5d409c1ecbf0",
      "metadata": {
        "id": "fdf03b0e-ef5a-44c5-a9a4-5d409c1ecbf0"
      },
      "source": [
        "Finally, note that you can apply operations on each group using the `apply()` method. This is similar to the apply on the DataFrame we saw earlier except the `apply()` method is now called once per group."
      ]
    },
    {
      "cell_type": "markdown",
      "id": "99b24198-b254-444d-a67f-1bd5913274d7",
      "metadata": {
        "id": "99b24198-b254-444d-a67f-1bd5913274d7"
      },
      "source": [
        "#### Exercises:\n",
        "1. Create a new column that contains the `ResponseSize` in kilobytes converted from the byte value in the `Size` column.\n",
        "2. What is the average file size for images (.gif or .jpg or .jpeg files) which had response code 200?\n",
        "3. What is the standard deviation?\n",
        "4. Using a regular expression, extract the file name and type from the URL column. Add these as two new columns called `Filename` and `Filetype` to the `log_df` dataframe. For the sake of this exercise assume that for the URL `https://www.mywebsite.co.za/images/11104.gif`, `11104` would be the file name and `.gif` would be the file type\n",
        "5. Generate a histogram of traffic to the site every half-hour and plot this. [Use `plotly.express` for plotting the histogram](https://plotly.com/python/histograms/).\n",
        "6. Is there any correlation between client IDs and hours of the day at which they visit the website. Get 100 random client IDs from the dataset and plot a scatter plot that shows the hours of the day these clients sent requests. [Use `plotly.express` for plotting the scatter plot](https://plotly.com/python/line-and-scatter/).\n",
        "7. **(Optional)** Use the logs from another day (`./data/wc_day91_1_log.tar.bz2)`) and merge it with the data from the (`../week1/data/wc_day6_1_log.tar.bz2)`. Repeat Exercise 5 from this section with the merged data. How similar or different are the results? (Hint: Use UNIX command line tools first get a csv file and then load it into Pandas.)"
      ]
    },
    {
      "cell_type": "markdown",
      "id": "0c93ebf5-d7c5-48ed-9242-686deecd96d9",
      "metadata": {
        "id": "0c93ebf5-d7c5-48ed-9242-686deecd96d9"
      },
      "source": [
        "<br/><br/>\n",
        "<hr style=\"border: 5px solid #61223b;\" />\n",
        "\n",
        "## Section 3: Groupby and data merging\n",
        "\n",
        "For the exercises in this section use the following files:\n",
        "```\n",
        "./data/mentors.csv\n",
        "./data/marks.csv\n",
        "./data/advanced_tutors.csv\n",
        "```\n",
        "\n",
        "For your code to match the memo execute the following cell in your notebook as setup for this section's exercises:"
      ]
    },
    {
      "cell_type": "code",
      "execution_count": null,
      "id": "d7894bb5-bfd3-4b07-81c5-c0e9ba93cc9f",
      "metadata": {
        "id": "d7894bb5-bfd3-4b07-81c5-c0e9ba93cc9f"
      },
      "outputs": [],
      "source": [
        "total_students = 215\n",
        "discontinues = 8\n",
        "# column labels for the mentor.csv file\n",
        "field_names = ['Date', 'StartTime', 'EndTime', 'Mentor', 'Student', 'StudentID', 'Attended']"
      ]
    },
    {
      "cell_type": "markdown",
      "id": "3cb8cb4d-f011-4bb5-bb23-6264896f1115",
      "metadata": {
        "id": "3cb8cb4d-f011-4bb5-bb23-6264896f1115"
      },
      "source": [
        "### Exercises:\n",
        "\n",
        "1. Load the mentor data into Pandas and perform some basic EDA to understand the data. For example, find out what the unique values are for each column? Does the data contain missing values? Does the data contain incorrect values?\n",
        "2. How many unique attended mentor session were attended?\n",
        "3. How many unique students attended at least one mentor session?\n",
        "4. Assuimg there were a total of 215 students taking the course, what are the percentages of all students (215) that attended more than one, three, and 5 mentor session? (Use the `groupby` and `query` functions).\n",
        "5. Create a bar chart of the number of students and their session attendance counts? In other words Y-axis=Number of students and X-axis=Session counts. Use the following to create the plot.\n",
        "```\n",
        "fig = px.bar(<your data>,\n",
        "                labels={<your column name of the data to plot>:'Number of Sessions Attended', 'value':\"Nr. of Students\"},\n",
        "                text_auto=True,\n",
        "                title=\"Students per session attendance frequency\")\n",
        "fig.update_layout(bargap=0.2)\n",
        "fig.show()\n",
        "```\n",
        "6. How many sessions did each mentor hold?\n",
        "7. Use `dataframe.to_datetime()` ([documentation](https://pandas.pydata.org/pandas-docs/stable/reference/api/pandas.Series.dt.strftime.html)) to calculate the number of students that made bookings per week. Plot a bargraph that looks like the following:\n",
        "![Bargraph](https://github.com/bongomarcel/CERI_Pandas/blob/main/images/practical_sec3_question7.png?raw=1)\n",
        "8. How many sessions occured per week throughout the semester?\n",
        "9. What were the average mentor session attendance per week throughout the semester?\n",
        "10. What is the number of session size per week (for both noon and everning sessions)? Try and recreate the following figure:\n",
        "![grouped bar chart](https://github.com/bongomarcel/CERI_Pandas/blob/main/images/practical_sec3_question10.png?raw=1)\n",
        "11. Merge the mentor session data with the advanced mentor session data (`./data/advanced_tutors.csv`) such that you will still be able to differentiate between the type of sessions.\n",
        "12. What is the overlap between the students that attended the normal and advanced mentor sessions?\n",
        "13. Merge the `./data/marks.csv` file with your current dataframe.\n",
        "14. Is there a significant difference in the marks between students that went to normal mentor sessions and advanced mentor sessions?\n",
        "15. Add a categorical column `Category` to your dataframe with categories `[\"Fail\", \"Cont.\", \"Pass\", \"Distinction\"]` for groups based on the students' marks: `[0,39,40-49,50-74,75-100]`. Recreate the following pie chart:\n",
        "![pie chart](https://github.com/bongomarcel/CERI_Pandas/blob/main/images/practical_sec3_question15.png?raw=1)\n",
        "\n",
        "```\n",
        "# Helper code to create the Pie chart\n",
        "fig = px.pie(<your merged dataframe>, names='Category', title=\"Student Performance Overall\",\n",
        "             color=\"Category\",\n",
        "             color_discrete_map={\n",
        "                \"Distinction\": \"blue\",\n",
        "                \"Pass\": \"green\",\n",
        "                \"Cont.\": \"orange\",\n",
        "                \"Fail\": \"red\"})\n",
        "fig.update_traces(textinfo='percent+label')\n",
        "fig.show()\n",
        "```\n"
      ]
    },
    {
      "cell_type": "markdown",
      "id": "0bb9bd53-dd82-447c-8285-8d432e1b056e",
      "metadata": {
        "id": "0bb9bd53-dd82-447c-8285-8d432e1b056e"
      },
      "source": [
        "## References and futher reading:\n",
        "* [Pandas documentation on indexing and selection data](https://pandas.pydata.org/docs/user_guide/indexing.html#)\n",
        "* [Pandas documentation on advanced data selection and hierarchical indexing (MultiIndex)](https://pandas.pydata.org/docs/user_guide/advanced.html#)\n",
        "* [Plotly](https://plotly.com/python/)\n",
        "* [Plotly express](https://plotly.com/python/plotly-express/)"
      ]
    }
  ],
  "metadata": {
    "kernelspec": {
      "display_name": "Python 3 (ipykernel)",
      "language": "python",
      "name": "python3"
    },
    "language_info": {
      "codemirror_mode": {
        "name": "ipython",
        "version": 3
      },
      "file_extension": ".py",
      "mimetype": "text/x-python",
      "name": "python",
      "nbconvert_exporter": "python",
      "pygments_lexer": "ipython3",
      "version": "3.10.8"
    },
    "colab": {
      "provenance": [],
      "include_colab_link": true
    }
  },
  "nbformat": 4,
  "nbformat_minor": 5
}