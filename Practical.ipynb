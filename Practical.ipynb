{
 "cells": [
  {
   "cell_type": "markdown",
   "id": "25f0c732-9675-4f35-a475-6dce8d43f1cf",
   "metadata": {},
   "source": [
    "# Week 3 - Practical"
   ]
  },
  {
   "cell_type": "markdown",
   "id": "c4615e9f-1ef3-4369-9ffe-c800cdb436e1",
   "metadata": {},
   "source": [
    "<hr style=\"border: 5px solid #61223b;\" />\n",
    "\n",
    "## Section 1: Recap on Pandas Basics\n",
    "If you need clarifications about the Pandas API you can type the function name followed by ? to get inline documentation:"
   ]
  },
  {
   "cell_type": "code",
   "execution_count": 1,
   "id": "f2f8a19d-0c51-43d8-a97e-abde523d5df2",
   "metadata": {
    "scrolled": true,
    "tags": []
   },
   "outputs": [
    {
     "data": {
      "text/plain": [
       "\u001b[0;31mInit signature:\u001b[0m\n",
       "\u001b[0mpd\u001b[0m\u001b[0;34m.\u001b[0m\u001b[0mDataFrame\u001b[0m\u001b[0;34m(\u001b[0m\u001b[0;34m\u001b[0m\n",
       "\u001b[0;34m\u001b[0m    \u001b[0mdata\u001b[0m\u001b[0;34m=\u001b[0m\u001b[0;32mNone\u001b[0m\u001b[0;34m,\u001b[0m\u001b[0;34m\u001b[0m\n",
       "\u001b[0;34m\u001b[0m    \u001b[0mindex\u001b[0m\u001b[0;34m:\u001b[0m \u001b[0;34m'Axes | None'\u001b[0m \u001b[0;34m=\u001b[0m \u001b[0;32mNone\u001b[0m\u001b[0;34m,\u001b[0m\u001b[0;34m\u001b[0m\n",
       "\u001b[0;34m\u001b[0m    \u001b[0mcolumns\u001b[0m\u001b[0;34m:\u001b[0m \u001b[0;34m'Axes | None'\u001b[0m \u001b[0;34m=\u001b[0m \u001b[0;32mNone\u001b[0m\u001b[0;34m,\u001b[0m\u001b[0;34m\u001b[0m\n",
       "\u001b[0;34m\u001b[0m    \u001b[0mdtype\u001b[0m\u001b[0;34m:\u001b[0m \u001b[0;34m'Dtype | None'\u001b[0m \u001b[0;34m=\u001b[0m \u001b[0;32mNone\u001b[0m\u001b[0;34m,\u001b[0m\u001b[0;34m\u001b[0m\n",
       "\u001b[0;34m\u001b[0m    \u001b[0mcopy\u001b[0m\u001b[0;34m:\u001b[0m \u001b[0;34m'bool | None'\u001b[0m \u001b[0;34m=\u001b[0m \u001b[0;32mNone\u001b[0m\u001b[0;34m,\u001b[0m\u001b[0;34m\u001b[0m\n",
       "\u001b[0;34m\u001b[0m\u001b[0;34m)\u001b[0m \u001b[0;34m->\u001b[0m \u001b[0;34m'None'\u001b[0m\u001b[0;34m\u001b[0m\u001b[0;34m\u001b[0m\u001b[0m\n",
       "\u001b[0;31mDocstring:\u001b[0m     \n",
       "Two-dimensional, size-mutable, potentially heterogeneous tabular data.\n",
       "\n",
       "Data structure also contains labeled axes (rows and columns).\n",
       "Arithmetic operations align on both row and column labels. Can be\n",
       "thought of as a dict-like container for Series objects. The primary\n",
       "pandas data structure.\n",
       "\n",
       "Parameters\n",
       "----------\n",
       "data : ndarray (structured or homogeneous), Iterable, dict, or DataFrame\n",
       "    Dict can contain Series, arrays, constants, dataclass or list-like objects. If\n",
       "    data is a dict, column order follows insertion-order. If a dict contains Series\n",
       "    which have an index defined, it is aligned by its index.\n",
       "\n",
       "    .. versionchanged:: 0.25.0\n",
       "       If data is a list of dicts, column order follows insertion-order.\n",
       "\n",
       "index : Index or array-like\n",
       "    Index to use for resulting frame. Will default to RangeIndex if\n",
       "    no indexing information part of input data and no index provided.\n",
       "columns : Index or array-like\n",
       "    Column labels to use for resulting frame when data does not have them,\n",
       "    defaulting to RangeIndex(0, 1, 2, ..., n). If data contains column labels,\n",
       "    will perform column selection instead.\n",
       "dtype : dtype, default None\n",
       "    Data type to force. Only a single dtype is allowed. If None, infer.\n",
       "copy : bool or None, default None\n",
       "    Copy data from inputs.\n",
       "    For dict data, the default of None behaves like ``copy=True``.  For DataFrame\n",
       "    or 2d ndarray input, the default of None behaves like ``copy=False``.\n",
       "    If data is a dict containing one or more Series (possibly of different dtypes),\n",
       "    ``copy=False`` will ensure that these inputs are not copied.\n",
       "\n",
       "    .. versionchanged:: 1.3.0\n",
       "\n",
       "See Also\n",
       "--------\n",
       "DataFrame.from_records : Constructor from tuples, also record arrays.\n",
       "DataFrame.from_dict : From dicts of Series, arrays, or dicts.\n",
       "read_csv : Read a comma-separated values (csv) file into DataFrame.\n",
       "read_table : Read general delimited file into DataFrame.\n",
       "read_clipboard : Read text from clipboard into DataFrame.\n",
       "\n",
       "Notes\n",
       "-----\n",
       "Please reference the :ref:`User Guide <basics.dataframe>` for more information.\n",
       "\n",
       "Examples\n",
       "--------\n",
       "Constructing DataFrame from a dictionary.\n",
       "\n",
       ">>> d = {'col1': [1, 2], 'col2': [3, 4]}\n",
       ">>> df = pd.DataFrame(data=d)\n",
       ">>> df\n",
       "   col1  col2\n",
       "0     1     3\n",
       "1     2     4\n",
       "\n",
       "Notice that the inferred dtype is int64.\n",
       "\n",
       ">>> df.dtypes\n",
       "col1    int64\n",
       "col2    int64\n",
       "dtype: object\n",
       "\n",
       "To enforce a single dtype:\n",
       "\n",
       ">>> df = pd.DataFrame(data=d, dtype=np.int8)\n",
       ">>> df.dtypes\n",
       "col1    int8\n",
       "col2    int8\n",
       "dtype: object\n",
       "\n",
       "Constructing DataFrame from a dictionary including Series:\n",
       "\n",
       ">>> d = {'col1': [0, 1, 2, 3], 'col2': pd.Series([2, 3], index=[2, 3])}\n",
       ">>> pd.DataFrame(data=d, index=[0, 1, 2, 3])\n",
       "   col1  col2\n",
       "0     0   NaN\n",
       "1     1   NaN\n",
       "2     2   2.0\n",
       "3     3   3.0\n",
       "\n",
       "Constructing DataFrame from numpy ndarray:\n",
       "\n",
       ">>> df2 = pd.DataFrame(np.array([[1, 2, 3], [4, 5, 6], [7, 8, 9]]),\n",
       "...                    columns=['a', 'b', 'c'])\n",
       ">>> df2\n",
       "   a  b  c\n",
       "0  1  2  3\n",
       "1  4  5  6\n",
       "2  7  8  9\n",
       "\n",
       "Constructing DataFrame from a numpy ndarray that has labeled columns:\n",
       "\n",
       ">>> data = np.array([(1, 2, 3), (4, 5, 6), (7, 8, 9)],\n",
       "...                 dtype=[(\"a\", \"i4\"), (\"b\", \"i4\"), (\"c\", \"i4\")])\n",
       ">>> df3 = pd.DataFrame(data, columns=['c', 'a'])\n",
       "...\n",
       ">>> df3\n",
       "   c  a\n",
       "0  3  1\n",
       "1  6  4\n",
       "2  9  7\n",
       "\n",
       "Constructing DataFrame from dataclass:\n",
       "\n",
       ">>> from dataclasses import make_dataclass\n",
       ">>> Point = make_dataclass(\"Point\", [(\"x\", int), (\"y\", int)])\n",
       ">>> pd.DataFrame([Point(0, 0), Point(0, 3), Point(2, 3)])\n",
       "   x  y\n",
       "0  0  0\n",
       "1  0  3\n",
       "2  2  3\n",
       "\u001b[0;31mFile:\u001b[0m           /opt/conda/lib/python3.10/site-packages/pandas/core/frame.py\n",
       "\u001b[0;31mType:\u001b[0m           type\n",
       "\u001b[0;31mSubclasses:\u001b[0m     SubclassedDataFrame\n"
      ]
     },
     "metadata": {},
     "output_type": "display_data"
    }
   ],
   "source": [
    "import pandas as pd\n",
    "pd.DataFrame?"
   ]
  },
  {
   "cell_type": "markdown",
   "id": "d5735e0c-659f-4d15-8c5b-faa81e26221b",
   "metadata": {},
   "source": [
    "Other resources for Pandas:\n",
    "* Pandas API referece: [https://pandas.pydata.org/docs/reference/index.html](https://pandas.pydata.org/docs/reference/index.html)\n",
    "* DataFrame API: [https://pandas.pydata.org/docs/reference/api/pandas.DataFrame.html](https://pandas.pydata.org/docs/reference/api/pandas.DataFrame.html)\n",
    "* Series API: [https://pandas.pydata.org/docs/reference/api/pandas.Series.html](https://pandas.pydata.org/docs/reference/api/pandas.Series.html)\n",
    "* GroupBy API: [https://pandas.pydata.org/docs/reference/groupby.html](https://pandas.pydata.org/docs/reference/groupby.html)\n",
    "\n",
    "Small dataframes can simply be printed to the console. However, large dataframes cannot be printed to the console and we have higher level commands to inspect its contents. To get information on the schema of the DataFrames, we can use the info function:"
   ]
  },
  {
   "cell_type": "code",
   "execution_count": 2,
   "id": "00b9135d-3bae-4f17-a292-60030b22143c",
   "metadata": {},
   "outputs": [
    {
     "name": "stdout",
     "output_type": "stream",
     "text": [
      "<class 'pandas.core.frame.DataFrame'>\n",
      "RangeIndex: 5 entries, 0 to 4\n",
      "Data columns (total 2 columns):\n",
      " #   Column  Non-Null Count  Dtype\n",
      "---  ------  --------------  -----\n",
      " 0   A       5 non-null      int64\n",
      " 1   B       5 non-null      int64\n",
      "dtypes: int64(2)\n",
      "memory usage: 208.0 bytes\n"
     ]
    }
   ],
   "source": [
    "df = pd.DataFrame({\n",
    "    \"A\": [1, 2, 3, 4, 5],\n",
    "    \"B\": [6, 7, 8, 9, 10],\n",
    "    }, index=range(5)\n",
    "    )\n",
    "df.info()"
   ]
  },
  {
   "cell_type": "markdown",
   "id": "421221b4-37d1-4956-a4f3-0a53adaf11db",
   "metadata": {},
   "source": [
    "For the first part of this practical we will perform some basic data analyis on the World Cup soccer logs from the first practical. However, this time the input data has been sampled and formatted as a csv file.\n",
    "* When passing custom column labels to the `names` argument, [`read_csv()`](https://pandas.pydata.org/docs/reference/api/pandas.read_csv.html) assumes the csv file does not contain column header data.\n",
    "* The values passed to `na_values` are all considered missing data values in the dataset. `na_values` accepts scalars, lists, and dictionaries (for specifying per-column missing values characters). In this case we only have the `-` character indicating missing values for all columns in our data."
   ]
  },
  {
   "cell_type": "code",
   "execution_count": 5,
   "id": "c58d909c-83ef-490e-a24b-346f943a9b69",
   "metadata": {},
   "outputs": [
    {
     "data": {
      "text/html": [
       "<div>\n",
       "<style scoped>\n",
       "    .dataframe tbody tr th:only-of-type {\n",
       "        vertical-align: middle;\n",
       "    }\n",
       "\n",
       "    .dataframe tbody tr th {\n",
       "        vertical-align: top;\n",
       "    }\n",
       "\n",
       "    .dataframe thead th {\n",
       "        text-align: right;\n",
       "    }\n",
       "</style>\n",
       "<table border=\"1\" class=\"dataframe\">\n",
       "  <thead>\n",
       "    <tr style=\"text-align: right;\">\n",
       "      <th></th>\n",
       "      <th>ClientID</th>\n",
       "      <th>Date</th>\n",
       "      <th>Time</th>\n",
       "      <th>URL</th>\n",
       "      <th>ResponseCode</th>\n",
       "      <th>Size</th>\n",
       "    </tr>\n",
       "  </thead>\n",
       "  <tbody>\n",
       "    <tr>\n",
       "      <th>0</th>\n",
       "      <td>1044</td>\n",
       "      <td>30/Apr/1998</td>\n",
       "      <td>22:46:12</td>\n",
       "      <td>/images/11104.gif</td>\n",
       "      <td>200.0</td>\n",
       "      <td>508.0</td>\n",
       "    </tr>\n",
       "    <tr>\n",
       "      <th>1</th>\n",
       "      <td>10871</td>\n",
       "      <td>01/May/1998</td>\n",
       "      <td>12:10:53</td>\n",
       "      <td>/images/ligne.gif</td>\n",
       "      <td>200.0</td>\n",
       "      <td>169.0</td>\n",
       "    </tr>\n",
       "    <tr>\n",
       "      <th>2</th>\n",
       "      <td>11012</td>\n",
       "      <td>01/May/1998</td>\n",
       "      <td>12:17:30</td>\n",
       "      <td>/english/individuals/player111503.htm</td>\n",
       "      <td>200.0</td>\n",
       "      <td>7027.0</td>\n",
       "    </tr>\n",
       "    <tr>\n",
       "      <th>3</th>\n",
       "      <td>11435</td>\n",
       "      <td>01/May/1998</td>\n",
       "      <td>13:15:13</td>\n",
       "      <td>/french/frntpage.htm</td>\n",
       "      <td>304.0</td>\n",
       "      <td>0.0</td>\n",
       "    </tr>\n",
       "    <tr>\n",
       "      <th>4</th>\n",
       "      <td>12128</td>\n",
       "      <td>01/May/1998</td>\n",
       "      <td>13:30:21</td>\n",
       "      <td>/english/images/nav_sitemap_off.gif</td>\n",
       "      <td>304.0</td>\n",
       "      <td>NaN</td>\n",
       "    </tr>\n",
       "  </tbody>\n",
       "</table>\n",
       "</div>"
      ],
      "text/plain": [
       "   ClientID         Date      Time                                    URL  \\\n",
       "0      1044  30/Apr/1998  22:46:12                      /images/11104.gif   \n",
       "1     10871  01/May/1998  12:10:53                      /images/ligne.gif   \n",
       "2     11012  01/May/1998  12:17:30  /english/individuals/player111503.htm   \n",
       "3     11435  01/May/1998  13:15:13                   /french/frntpage.htm   \n",
       "4     12128  01/May/1998  13:30:21    /english/images/nav_sitemap_off.gif   \n",
       "\n",
       "   ResponseCode    Size  \n",
       "0         200.0   508.0  \n",
       "1         200.0   169.0  \n",
       "2         200.0  7027.0  \n",
       "3         304.0     0.0  \n",
       "4         304.0     NaN  "
      ]
     },
     "execution_count": 5,
     "metadata": {},
     "output_type": "execute_result"
    }
   ],
   "source": [
    "#! cd data && tar -xf wc_day6_1_sample.tar.bz2\n",
    "column_labels = ['ClientID', 'Date', 'Time', 'URL', 'ResponseCode', 'Size']\n",
    "log_df = pd.read_csv(\"./data/wc_day6_1_sample.csv\", names=column_labels, na_values=['-'], encoding=\"unicode_escape\")\n",
    "log_df.head()"
   ]
  },
  {
   "cell_type": "markdown",
   "id": "fcedca8f-b946-4520-962b-8ce06b2167c1",
   "metadata": {},
   "source": [
    "<hr style=\"border: 1px solid #b79962;\" />\n",
    "\n",
    "### Recap of indexing operators\n",
    "*(If you were at the lecture and paid attention skip this recap section)*\n",
    "\n",
    "| Operator | Allowed inputs | Examples | Multi-axis selection? | \n",
    "|:---|:---|:---|:---|\n",
    "|`.loc[]`| <ul><li> single label</li><li> list or array of labels </li><li> a slice object with labels (stop-inclusing!)</li><li>boolean array</li><li>callable function with one argument</ul>|<ul><li> `.loc[3]` or `.loc[\"a\"]`</li><li> `.loc[[\"a\", \"b\", \"c\"]]` </li><li> `.loc[\"a\":\"c\"]`</li><li>`.loc[[True, False, True]]`</li><li>`.loc[lambda s: s > 0]`</ul> | Yes `.iloc[1, \"2\"]` (first argument = rows, second argument = columns, third, ...)|\n",
    "|`.iloc[]`|<ul><li> single integer</li><li> list or array of integers </li><li> a slice object with ints (right-exclusive!)</li><li>boolean array</li><li>callable function with one argument</ul>|<ul><li> `.iloc[2]`</li><li> `.iloc[[0, 1, 2]]` </li><li> `.iloc[0:2]`</li><li>`.loc[[True, False, True]]`</li><li>`.loc[lambda s: s > 0]`</ul>| Yes: `.iloc[1, 2]` (first argument = rows, second argument = columns, third, ...) |\n",
    "|`[]`| <ul><li> single label</li><li> list or array of labels </li><li> a slice object with labels (stop-inclusing or exclusive!)</li><li>boolean array</li><li>callable function with one argument</ul>|<ul><li> `df[3]` or `df[\"a\"]`</li><li> `df[[\"a\", \"b\", \"c\"]]` </li><li> `df[\"a\":\"c\"]`</li><li>`df[[True, False, True]]`</li><li>`df[lambda s: s > 0]`</ul> | No: <ul><li>single value = match column labels</li><li> List or array of labels will match columns labels. List or array of ints, will return indexed rows.</li><li> Slice = match rows</li></ul> |\n"
   ]
  },
  {
   "cell_type": "markdown",
   "id": "55f6dc45-db07-45fc-a3d9-6d518381155d",
   "metadata": {},
   "source": [
    "<hr style=\"border: 1px solid #b79962;\" />\n",
    "\n",
    "### SQL-like queries\n",
    "A SQL statement typically selects a subset of rows from a table that match a given criteria. This is known as the [Selection operator in Relational Algebra](https://en.wikipedia.org/wiki/Selection_(relational_algebra)). Similarly we can perform selections in Pandas using boolean indexing. Boolean indexing refers to a technique where you can use a list of boolean values to filter a dataframe.\n",
    "\n",
    "For example, lets say we only want entries from `01/May/1998`. To do this we can create a boolean array like:"
   ]
  },
  {
   "cell_type": "code",
   "execution_count": 25,
   "id": "c77a227b-0298-434d-a8d5-f595ab53ced0",
   "metadata": {},
   "outputs": [
    {
     "data": {
      "text/plain": [
       "0    False\n",
       "1     True\n",
       "Name: Date, dtype: bool"
      ]
     },
     "execution_count": 25,
     "metadata": {},
     "output_type": "execute_result"
    }
   ],
   "source": [
    "is_may1st = log_df['Date'] == '01/May/1998'\n",
    "is_may1st.head(2)"
   ]
  },
  {
   "cell_type": "markdown",
   "id": "b485541c-4a29-4375-887b-d72f1987f249",
   "metadata": {},
   "source": [
    "Now we can filter our DataFrame by passing it the boolean array."
   ]
  },
  {
   "cell_type": "code",
   "execution_count": 26,
   "id": "44df89d7-3739-4455-a2d9-59731b68abf0",
   "metadata": {},
   "outputs": [
    {
     "data": {
      "text/html": [
       "<div>\n",
       "<style scoped>\n",
       "    .dataframe tbody tr th:only-of-type {\n",
       "        vertical-align: middle;\n",
       "    }\n",
       "\n",
       "    .dataframe tbody tr th {\n",
       "        vertical-align: top;\n",
       "    }\n",
       "\n",
       "    .dataframe thead th {\n",
       "        text-align: right;\n",
       "    }\n",
       "</style>\n",
       "<table border=\"1\" class=\"dataframe\">\n",
       "  <thead>\n",
       "    <tr style=\"text-align: right;\">\n",
       "      <th></th>\n",
       "      <th>ClientID</th>\n",
       "      <th>Date</th>\n",
       "      <th>Time</th>\n",
       "      <th>URL</th>\n",
       "      <th>ResponseCode</th>\n",
       "      <th>Size</th>\n",
       "    </tr>\n",
       "  </thead>\n",
       "  <tbody>\n",
       "    <tr>\n",
       "      <th>1</th>\n",
       "      <td>10871</td>\n",
       "      <td>01/May/1998</td>\n",
       "      <td>12:10:53</td>\n",
       "      <td>/images/ligne.gif</td>\n",
       "      <td>200.0</td>\n",
       "      <td>169.0</td>\n",
       "    </tr>\n",
       "    <tr>\n",
       "      <th>2</th>\n",
       "      <td>11012</td>\n",
       "      <td>01/May/1998</td>\n",
       "      <td>12:17:30</td>\n",
       "      <td>/english/individuals/player111503.htm</td>\n",
       "      <td>200.0</td>\n",
       "      <td>7027.0</td>\n",
       "    </tr>\n",
       "    <tr>\n",
       "      <th>3</th>\n",
       "      <td>11435</td>\n",
       "      <td>01/May/1998</td>\n",
       "      <td>13:15:13</td>\n",
       "      <td>/french/frntpage.htm</td>\n",
       "      <td>304.0</td>\n",
       "      <td>0.0</td>\n",
       "    </tr>\n",
       "    <tr>\n",
       "      <th>4</th>\n",
       "      <td>12128</td>\n",
       "      <td>01/May/1998</td>\n",
       "      <td>13:30:21</td>\n",
       "      <td>/english/images/nav_sitemap_off.gif</td>\n",
       "      <td>304.0</td>\n",
       "      <td>NaN</td>\n",
       "    </tr>\n",
       "    <tr>\n",
       "      <th>5</th>\n",
       "      <td>13649</td>\n",
       "      <td>01/May/1998</td>\n",
       "      <td>14:55:01</td>\n",
       "      <td>/images/hm_anime_e.gif</td>\n",
       "      <td>200.0</td>\n",
       "      <td>15609.0</td>\n",
       "    </tr>\n",
       "  </tbody>\n",
       "</table>\n",
       "</div>"
      ],
      "text/plain": [
       "   ClientID         Date      Time                                    URL  \\\n",
       "1     10871  01/May/1998  12:10:53                      /images/ligne.gif   \n",
       "2     11012  01/May/1998  12:17:30  /english/individuals/player111503.htm   \n",
       "3     11435  01/May/1998  13:15:13                   /french/frntpage.htm   \n",
       "4     12128  01/May/1998  13:30:21    /english/images/nav_sitemap_off.gif   \n",
       "5     13649  01/May/1998  14:55:01                 /images/hm_anime_e.gif   \n",
       "\n",
       "   ResponseCode     Size  \n",
       "1         200.0    169.0  \n",
       "2         200.0   7027.0  \n",
       "3         304.0      0.0  \n",
       "4         304.0      NaN  \n",
       "5         200.0  15609.0  "
      ]
     },
     "execution_count": 26,
     "metadata": {},
     "output_type": "execute_result"
    }
   ],
   "source": [
    "may1_df = log_df[is_may1st]\n",
    "may1_df.head()"
   ]
  },
  {
   "cell_type": "markdown",
   "id": "86f2333a-0cdb-4273-adee-a428b0c2670b",
   "metadata": {},
   "source": [
    "Or we can directly do this by passing in the boolean clause to the DataFrame:"
   ]
  },
  {
   "cell_type": "code",
   "execution_count": 32,
   "id": "847b6e27-32d4-4049-9dbd-f446b3156178",
   "metadata": {},
   "outputs": [
    {
     "data": {
      "text/html": [
       "<div>\n",
       "<style scoped>\n",
       "    .dataframe tbody tr th:only-of-type {\n",
       "        vertical-align: middle;\n",
       "    }\n",
       "\n",
       "    .dataframe tbody tr th {\n",
       "        vertical-align: top;\n",
       "    }\n",
       "\n",
       "    .dataframe thead th {\n",
       "        text-align: right;\n",
       "    }\n",
       "</style>\n",
       "<table border=\"1\" class=\"dataframe\">\n",
       "  <thead>\n",
       "    <tr style=\"text-align: right;\">\n",
       "      <th></th>\n",
       "      <th>ClientID</th>\n",
       "      <th>Date</th>\n",
       "      <th>Time</th>\n",
       "      <th>URL</th>\n",
       "      <th>ResponseCode</th>\n",
       "      <th>Size</th>\n",
       "    </tr>\n",
       "  </thead>\n",
       "  <tbody>\n",
       "    <tr>\n",
       "      <th>1</th>\n",
       "      <td>10871</td>\n",
       "      <td>01/May/1998</td>\n",
       "      <td>12:10:53</td>\n",
       "      <td>/images/ligne.gif</td>\n",
       "      <td>200.0</td>\n",
       "      <td>169.0</td>\n",
       "    </tr>\n",
       "    <tr>\n",
       "      <th>2</th>\n",
       "      <td>11012</td>\n",
       "      <td>01/May/1998</td>\n",
       "      <td>12:17:30</td>\n",
       "      <td>/english/individuals/player111503.htm</td>\n",
       "      <td>200.0</td>\n",
       "      <td>7027.0</td>\n",
       "    </tr>\n",
       "    <tr>\n",
       "      <th>3</th>\n",
       "      <td>11435</td>\n",
       "      <td>01/May/1998</td>\n",
       "      <td>13:15:13</td>\n",
       "      <td>/french/frntpage.htm</td>\n",
       "      <td>304.0</td>\n",
       "      <td>0.0</td>\n",
       "    </tr>\n",
       "    <tr>\n",
       "      <th>4</th>\n",
       "      <td>12128</td>\n",
       "      <td>01/May/1998</td>\n",
       "      <td>13:30:21</td>\n",
       "      <td>/english/images/nav_sitemap_off.gif</td>\n",
       "      <td>304.0</td>\n",
       "      <td>NaN</td>\n",
       "    </tr>\n",
       "    <tr>\n",
       "      <th>5</th>\n",
       "      <td>13649</td>\n",
       "      <td>01/May/1998</td>\n",
       "      <td>14:55:01</td>\n",
       "      <td>/images/hm_anime_e.gif</td>\n",
       "      <td>200.0</td>\n",
       "      <td>15609.0</td>\n",
       "    </tr>\n",
       "  </tbody>\n",
       "</table>\n",
       "</div>"
      ],
      "text/plain": [
       "   ClientID         Date      Time                                    URL  \\\n",
       "1     10871  01/May/1998  12:10:53                      /images/ligne.gif   \n",
       "2     11012  01/May/1998  12:17:30  /english/individuals/player111503.htm   \n",
       "3     11435  01/May/1998  13:15:13                   /french/frntpage.htm   \n",
       "4     12128  01/May/1998  13:30:21    /english/images/nav_sitemap_off.gif   \n",
       "5     13649  01/May/1998  14:55:01                 /images/hm_anime_e.gif   \n",
       "\n",
       "   ResponseCode     Size  \n",
       "1         200.0    169.0  \n",
       "2         200.0   7027.0  \n",
       "3         304.0      0.0  \n",
       "4         304.0      NaN  \n",
       "5         200.0  15609.0  "
      ]
     },
     "execution_count": 32,
     "metadata": {},
     "output_type": "execute_result"
    }
   ],
   "source": [
    "may1_df = log_df[log_df['Date'] == '01/May/1998']\n",
    "may1_df.head()"
   ]
  },
  {
   "cell_type": "markdown",
   "id": "20a17427-4310-4dde-813f-190727c2878d",
   "metadata": {},
   "source": [
    "While selection is used for filtering rows, [projection is the relational algebra operator](https://en.wikipedia.org/wiki/Projection_%28relational_algebra%29) used to select columns.\n",
    "With the indexing operators\n",
    "For example to only keep the `URL` and `ResponseCode` column we would use:"
   ]
  },
  {
   "cell_type": "code",
   "execution_count": 92,
   "id": "c0f99b97-953d-4b5c-a397-904ffb5394ad",
   "metadata": {},
   "outputs": [
    {
     "data": {
      "text/html": [
       "<div>\n",
       "<style scoped>\n",
       "    .dataframe tbody tr th:only-of-type {\n",
       "        vertical-align: middle;\n",
       "    }\n",
       "\n",
       "    .dataframe tbody tr th {\n",
       "        vertical-align: top;\n",
       "    }\n",
       "\n",
       "    .dataframe thead th {\n",
       "        text-align: right;\n",
       "    }\n",
       "</style>\n",
       "<table border=\"1\" class=\"dataframe\">\n",
       "  <thead>\n",
       "    <tr style=\"text-align: right;\">\n",
       "      <th></th>\n",
       "      <th>URL</th>\n",
       "      <th>ResponseCode</th>\n",
       "    </tr>\n",
       "  </thead>\n",
       "  <tbody>\n",
       "    <tr>\n",
       "      <th>0</th>\n",
       "      <td>/images/11104.gif</td>\n",
       "      <td>200.0</td>\n",
       "    </tr>\n",
       "    <tr>\n",
       "      <th>1</th>\n",
       "      <td>/images/ligne.gif</td>\n",
       "      <td>200.0</td>\n",
       "    </tr>\n",
       "    <tr>\n",
       "      <th>2</th>\n",
       "      <td>/english/individuals/player111503.htm</td>\n",
       "      <td>200.0</td>\n",
       "    </tr>\n",
       "    <tr>\n",
       "      <th>3</th>\n",
       "      <td>/french/frntpage.htm</td>\n",
       "      <td>304.0</td>\n",
       "    </tr>\n",
       "    <tr>\n",
       "      <th>4</th>\n",
       "      <td>/english/images/nav_sitemap_off.gif</td>\n",
       "      <td>304.0</td>\n",
       "    </tr>\n",
       "  </tbody>\n",
       "</table>\n",
       "</div>"
      ],
      "text/plain": [
       "                                     URL  ResponseCode\n",
       "0                      /images/11104.gif         200.0\n",
       "1                      /images/ligne.gif         200.0\n",
       "2  /english/individuals/player111503.htm         200.0\n",
       "3                   /french/frntpage.htm         304.0\n",
       "4    /english/images/nav_sitemap_off.gif         304.0"
      ]
     },
     "execution_count": 92,
     "metadata": {},
     "output_type": "execute_result"
    }
   ],
   "source": [
    "url_codes = log_df[['URL', 'ResponseCode']]\n",
    "url_codes.head(5)"
   ]
  },
  {
   "cell_type": "markdown",
   "id": "82494728-becd-4934-8692-09dd9bb889ba",
   "metadata": {},
   "source": [
    "Pandas also allows you to group the DataFrame by values in any column. For example to group requests by `ResponseCode` you can execute:"
   ]
  },
  {
   "cell_type": "code",
   "execution_count": 28,
   "id": "7b1e330e-64db-4741-b9ae-6cd1c6eee7d2",
   "metadata": {},
   "outputs": [
    {
     "data": {
      "text/plain": [
       "<pandas.core.groupby.generic.DataFrameGroupBy object at 0x7fb78b8fae50>"
      ]
     },
     "execution_count": 28,
     "metadata": {},
     "output_type": "execute_result"
    }
   ],
   "source": [
    "grouped = log_df.groupby('ResponseCode')\n",
    "grouped"
   ]
  },
  {
   "cell_type": "markdown",
   "id": "ae086f22-0423-499e-810c-d9b1383ed599",
   "metadata": {},
   "source": [
    "The `groupby` method returns a `DataFrameGroupBy` or `SeriesGroupBy` object based on whether it was called on a `DataFrame` or `Series` object. These datatypes contain a number of groups where each group is a dataframe or series."
   ]
  },
  {
   "cell_type": "code",
   "execution_count": 31,
   "id": "c6c9c02f-5c28-4169-ac15-c9d9894fd3c8",
   "metadata": {},
   "outputs": [
    {
     "name": "stdout",
     "output_type": "stream",
     "text": [
      "Number of groups:  7\n",
      "Group keys:  dict_keys([200.0, 206.0, 302.0, 304.0, 400.0, 404.0, 500.0])\n",
      "Sample of group 200:\n",
      "    ClientID         Date      Time                                    URL  \\\n",
      "0      1044  30/Apr/1998  22:46:12                      /images/11104.gif   \n",
      "1     10871  01/May/1998  12:10:53                      /images/ligne.gif   \n",
      "2     11012  01/May/1998  12:17:30  /english/individuals/player111503.htm   \n",
      "5     13649  01/May/1998  14:55:01                 /images/hm_anime_e.gif   \n",
      "6     15006  01/May/1998  16:14:32  /english/images/comp_bu_group_off.gif   \n",
      "\n",
      "   ResponseCode     Size  \n",
      "0         200.0    508.0  \n",
      "1         200.0    169.0  \n",
      "2         200.0   7027.0  \n",
      "5         200.0  15609.0  \n",
      "6         200.0   1557.0  \n"
     ]
    }
   ],
   "source": [
    "print(\"Number of groups: \", grouped.ngroups)\n",
    "print(\"Group keys: \", grouped.groups.keys())\n",
    "print(\"Sample of group 200:\\n\", grouped.get_group(200).head())"
   ]
  },
  {
   "cell_type": "markdown",
   "id": "722efe55-79da-4fdb-a33d-6fb3f483cde9",
   "metadata": {},
   "source": [
    "Pandas also has many useful commands that can be used on groupby objects using the data [split-apply-combine paradigm](https://pandas.pydata.org/pandas-docs/dev/user_guide/groupby.html).\n",
    "This paradigm is very common and follows the following principles:\n",
    "1. **Splitting** the data into groups based on some criteria.\n",
    "2. **Applying** a function to each group independently.\n",
    "3. **Combining** the results into a data structure.\n",
    "\n",
    "Out of these, the split step is the most straightforward. In fact, in many situations we may wish to split the data set into groups and do something with those groups. In the **apply step**, we might wish to do one of the following:\n",
    "* **Aggregation:** compute a summary statistic (or statistics) for each group. For example, sums or means, or compute group sizes / counts.\n",
    "* **Transformation:** perform some group-specific computations and return a like-indexed object. For example: normalise data, filling NAs within groups with a value derived from each group.\n",
    "* **Filtration:** discard some groups, according to a group-wise computation that evaluates True or False. For example, discard data that belongs to groups with only a few members or filter out data based on the group sum or mean."
   ]
  },
  {
   "cell_type": "markdown",
   "id": "22f699dd-d381-4588-8002-a4ec6d68772d",
   "metadata": {},
   "source": [
    "<hr style=\"border: 1px solid #b79962;\" />\n",
    "\n",
    "### Exercises:\n",
    "1. How many rows are present in `log_df`?\n",
    "2. What are the number of non-NaN values for each column in `log_df`?\n",
    "3. What are the URLs in rows 85 through 90?\n",
    "4. Use selection to print the number of requests that had HTTP return code `404`.\n",
    "5. Use `.query()` to select all responses that had a 4** return code.\n",
    "6. Use `.value_counts()` to show all unique client error responses (400-499) and server error responses (500-599) and their corresponding counts.\n",
    "7. What is the average reponse size?\n",
    "8. Using `groupby`, get the number of log entries per `ResponseCode` value.\n",
    "9. Add the string `https://www.mywebsite.co.za/` in front of all `URL` column values.\n",
    "10. How many of the various response codes occurred on the 30th April and how many on 1st May? (Hint: Use a multi_grouped DataFrame.) On which day did the servers produce the most errors?\n",
    "11. How many GIFs were delivered to the clients?"
   ]
  },
  {
   "cell_type": "markdown",
   "id": "25175793-dbb9-4a27-b24a-6a0ddbf8795a",
   "metadata": {},
   "source": [
    "<br/><br/>\n",
    "<hr style=\"border: 5px solid #61223b;\" />\n",
    "\n",
    "## Section 2: Applying functions to rows, column\n",
    "\n",
    "So far we have been using SQL-style operators to process the data. However to do data cleaning or more complex analysis we often need to apply functions on rows or columns of a DataFrame.\n",
    "\n",
    "For example, consider the columns `Date` and `Time` in `log_df`. It would be useful if we could combine these columns and create `datetime` which can be used for filtering, grouping, etc.\n",
    "\n",
    "To create a DateTime column we will use Pandas helper function `to_datetime()`. This function takes a string and converts it to a datetime object. To call this on every row of the DataFrame, we use the `apply()` function. `apply()` takes two arguments, the first a function to apply and secondly `axis` which indicates if this should be applied on every row (`axis=1`) or column (`axis=0`)."
   ]
  },
  {
   "cell_type": "code",
   "execution_count": 94,
   "id": "2cf34042-c0c1-44c0-8a5b-f2432a17b314",
   "metadata": {},
   "outputs": [
    {
     "data": {
      "text/html": [
       "<div>\n",
       "<style scoped>\n",
       "    .dataframe tbody tr th:only-of-type {\n",
       "        vertical-align: middle;\n",
       "    }\n",
       "\n",
       "    .dataframe tbody tr th {\n",
       "        vertical-align: top;\n",
       "    }\n",
       "\n",
       "    .dataframe thead th {\n",
       "        text-align: right;\n",
       "    }\n",
       "</style>\n",
       "<table border=\"1\" class=\"dataframe\">\n",
       "  <thead>\n",
       "    <tr style=\"text-align: right;\">\n",
       "      <th></th>\n",
       "      <th>ClientID</th>\n",
       "      <th>Date</th>\n",
       "      <th>Time</th>\n",
       "      <th>URL</th>\n",
       "      <th>ResponseCode</th>\n",
       "      <th>Size</th>\n",
       "      <th>DateTime</th>\n",
       "    </tr>\n",
       "  </thead>\n",
       "  <tbody>\n",
       "    <tr>\n",
       "      <th>0</th>\n",
       "      <td>1044</td>\n",
       "      <td>30/Apr/1998</td>\n",
       "      <td>22:46:12</td>\n",
       "      <td>/images/11104.gif</td>\n",
       "      <td>200.0</td>\n",
       "      <td>508.0</td>\n",
       "      <td>1998-04-30 22:46:12</td>\n",
       "    </tr>\n",
       "    <tr>\n",
       "      <th>1</th>\n",
       "      <td>10871</td>\n",
       "      <td>01/May/1998</td>\n",
       "      <td>12:10:53</td>\n",
       "      <td>/images/ligne.gif</td>\n",
       "      <td>200.0</td>\n",
       "      <td>169.0</td>\n",
       "      <td>1998-05-01 12:10:53</td>\n",
       "    </tr>\n",
       "    <tr>\n",
       "      <th>2</th>\n",
       "      <td>11012</td>\n",
       "      <td>01/May/1998</td>\n",
       "      <td>12:17:30</td>\n",
       "      <td>/english/individuals/player111503.htm</td>\n",
       "      <td>200.0</td>\n",
       "      <td>7027.0</td>\n",
       "      <td>1998-05-01 12:17:30</td>\n",
       "    </tr>\n",
       "    <tr>\n",
       "      <th>3</th>\n",
       "      <td>11435</td>\n",
       "      <td>01/May/1998</td>\n",
       "      <td>13:15:13</td>\n",
       "      <td>/french/frntpage.htm</td>\n",
       "      <td>304.0</td>\n",
       "      <td>0.0</td>\n",
       "      <td>1998-05-01 13:15:13</td>\n",
       "    </tr>\n",
       "    <tr>\n",
       "      <th>4</th>\n",
       "      <td>12128</td>\n",
       "      <td>01/May/1998</td>\n",
       "      <td>13:30:21</td>\n",
       "      <td>/english/images/nav_sitemap_off.gif</td>\n",
       "      <td>304.0</td>\n",
       "      <td>NaN</td>\n",
       "      <td>1998-05-01 13:30:21</td>\n",
       "    </tr>\n",
       "  </tbody>\n",
       "</table>\n",
       "</div>"
      ],
      "text/plain": [
       "   ClientID         Date      Time                                    URL  \\\n",
       "0      1044  30/Apr/1998  22:46:12                      /images/11104.gif   \n",
       "1     10871  01/May/1998  12:10:53                      /images/ligne.gif   \n",
       "2     11012  01/May/1998  12:17:30  /english/individuals/player111503.htm   \n",
       "3     11435  01/May/1998  13:15:13                   /french/frntpage.htm   \n",
       "4     12128  01/May/1998  13:30:21    /english/images/nav_sitemap_off.gif   \n",
       "\n",
       "   ResponseCode    Size            DateTime  \n",
       "0         200.0   508.0 1998-04-30 22:46:12  \n",
       "1         200.0   169.0 1998-05-01 12:10:53  \n",
       "2         200.0  7027.0 1998-05-01 12:17:30  \n",
       "3         304.0     0.0 1998-05-01 13:15:13  \n",
       "4         304.0     NaN 1998-05-01 13:30:21  "
      ]
     },
     "execution_count": 94,
     "metadata": {},
     "output_type": "execute_result"
    }
   ],
   "source": [
    "log_df['DateTime'] = pd.to_datetime(log_df.apply(lambda row: row['Date'] + ' ' + row['Time'], axis=1))\n",
    "log_df.head(5)"
   ]
  },
  {
   "cell_type": "markdown",
   "id": "7222c038-f9a3-40e0-86f3-cbe7c86c20e0",
   "metadata": {},
   "source": [
    "This might take a minute to execute due to datetime parsing. This is an opportunity to stretch or take a look at Pandas' [Timestamp documentation](https://pandas.pydata.org/docs/reference/api/pandas.Timestamp.html) or [Python's `datetime.datetime`](https://docs.python.org/3/library/datetime.html#datetime.datetime) object which are basically equivalent.\n",
    "\n",
    "If we want to group by hour, we can now use the timestamp functionality instead of doing any string parsing:"
   ]
  },
  {
   "cell_type": "code",
   "execution_count": 95,
   "id": "389bfd3a-d13f-4a41-bfbf-ad5a8bf4e2a8",
   "metadata": {},
   "outputs": [
    {
     "data": {
      "text/plain": [
       "24"
      ]
     },
     "execution_count": 95,
     "metadata": {},
     "output_type": "execute_result"
    }
   ],
   "source": [
    "hour_grouped = log_df.groupby(lambda row: log_df['DateTime'][row].hour)\n",
    "hour_grouped.ngroups"
   ]
  },
  {
   "cell_type": "markdown",
   "id": "fdf03b0e-ef5a-44c5-a9a4-5d409c1ecbf0",
   "metadata": {},
   "source": [
    "Finally, note that you can apply operations on each group using the `apply()` method. This is similar to the apply on the DataFrame we saw earlier except the `apply()` method is now called once per group."
   ]
  },
  {
   "cell_type": "markdown",
   "id": "99b24198-b254-444d-a67f-1bd5913274d7",
   "metadata": {},
   "source": [
    "#### Exercises:\n",
    "1. Create a new column that contains the `ResponseSize` in kilobytes converted from the byte value in the `Size` column.\n",
    "2. What is the average file size for images (.gif or .jpg or .jpeg files) which had response code 200?\n",
    "3. What is the standard deviation?\n",
    "4. Using a regular expression, extract the file name and type from the URL column. Add these as two new columns called `Filename` and `Filetype` to the `log_df` dataframe. For the sake of this exercise assume that for the URL `https://www.mywebsite.co.za/images/11104.gif`, `11104` would be the file name and `.gif` would be the file type\n",
    "5. Generate a histogram of traffic to the site every half-hour and plot this. [Use `plotly.express` for plotting the histogram](https://plotly.com/python/histograms/).\n",
    "6. Is there any correlation between client IDs and hours of the day at which they visit the website. Get 100 random client IDs from the dataset and plot a scatter plot that shows the hours of the day these clients sent requests. [Use `plotly.express` for plotting the scatter plot](https://plotly.com/python/line-and-scatter/).\n",
    "7. **(Optional)** Use the logs from another day (`./data/wc_day91_1_log.tar.bz2)`) and merge it with the data from the (`../week1/data/wc_day6_1_log.tar.bz2)`. Repeat Exercise 5 from this section with the merged data. How similar or different are the results? (Hint: Use UNIX command line tools first get a csv file and then load it into Pandas.)"
   ]
  },
  {
   "cell_type": "markdown",
   "id": "0c93ebf5-d7c5-48ed-9242-686deecd96d9",
   "metadata": {},
   "source": [
    "<br/><br/>\n",
    "<hr style=\"border: 5px solid #61223b;\" />\n",
    "\n",
    "## Section 3: Groupby and data merging\n",
    "\n",
    "For the exercises in this section use the following files:\n",
    "```\n",
    "./data/mentors.csv\n",
    "./data/marks.csv\n",
    "./data/advanced_tutors.csv\n",
    "```\n",
    "\n",
    "For your code to match the memo execute the following cell in your notebook as setup for this section's exercises:"
   ]
  },
  {
   "cell_type": "code",
   "execution_count": 14,
   "id": "d7894bb5-bfd3-4b07-81c5-c0e9ba93cc9f",
   "metadata": {},
   "outputs": [],
   "source": [
    "total_students = 215\n",
    "discontinues = 8\n",
    "# column labels for the mentor.csv file\n",
    "field_names = ['Date', 'StartTime', 'EndTime', 'Mentor', 'Student', 'StudentID', 'Attended'] "
   ]
  },
  {
   "cell_type": "markdown",
   "id": "3cb8cb4d-f011-4bb5-bb23-6264896f1115",
   "metadata": {},
   "source": [
    "### Exercises:\n",
    "\n",
    "1. Load the mentor data into Pandas and perform some basic EDA to understand the data. For example, find out what the unique values are for each column? Does the data contain missing values? Does the data contain incorrect values?\n",
    "2. How many unique attended mentor session were attended?\n",
    "3. How many unique students attended at least one mentor session?\n",
    "4. Assuimg there were a total of 215 students taking the course, what are the percentages of all students (215) that attended more than one, three, and 5 mentor session? (Use the `groupby` and `query` functions).\n",
    "5. Create a bar chart of the number of students and their session attendance counts? In other words Y-axis=Number of students and X-axis=Session counts. Use the following to create the plot.\n",
    "```\n",
    "fig = px.bar(<your data>,\n",
    "                labels={<your column name of the data to plot>:'Number of Sessions Attended', 'value':\"Nr. of Students\"},\n",
    "                text_auto=True,\n",
    "                title=\"Students per session attendance frequency\")\n",
    "fig.update_layout(bargap=0.2)\n",
    "fig.show()\n",
    "```\n",
    "6. How many sessions did each mentor hold?\n",
    "7. Use `dataframe.to_datetime()` ([documentation](https://pandas.pydata.org/pandas-docs/stable/reference/api/pandas.Series.dt.strftime.html)) to calculate the number of students that made bookings per week. Plot a bargraph that looks like the following:\n",
    "![Bargraph](./images/practical_sec3_question7.png)\n",
    "8. How many sessions occured per week throughout the semester?\n",
    "9. What were the average mentor session attendance per week throughout the semester?\n",
    "10. What is the number of session size per week (for both noon and everning sessions)? Try and recreate the following figure:\n",
    "![grouped bar chart](./images/practical_sec3_question10.png)\n",
    "11. Merge the mentor session data with the advanced mentor session data (`./data/advanced_tutors.csv`) such that you will still be able to differentiate between the type of sessions.\n",
    "12. What is the overlap between the students that attended the normal and advanced mentor sessions?\n",
    "13. Merge the `./data/marks.csv` file with your current dataframe.\n",
    "14. Is there a significant difference in the marks between students that went to normal mentor sessions and advanced mentor sessions?\n",
    "15. Add a categorical column `Category` to your dataframe with categories `[\"Fail\", \"Cont.\", \"Pass\", \"Distinction\"]` for groups based on the students' marks: `[0,39,40-49,50-74,75-100]`. Recreate the following pie chart:\n",
    "![pie chart](./images/practical_sec3_question15.png)\n",
    "\n",
    "```\n",
    "# Helper code to create the Pie chart\n",
    "fig = px.pie(<your merged dataframe>, names='Category', title=\"Student Performance Overall\",\n",
    "             color=\"Category\",\n",
    "             color_discrete_map={\n",
    "                \"Distinction\": \"blue\",\n",
    "                \"Pass\": \"green\",\n",
    "                \"Cont.\": \"orange\",\n",
    "                \"Fail\": \"red\"})\n",
    "fig.update_traces(textinfo='percent+label')\n",
    "fig.show()\n",
    "```\n"
   ]
  },
  {
   "cell_type": "markdown",
   "id": "0bb9bd53-dd82-447c-8285-8d432e1b056e",
   "metadata": {},
   "source": [
    "## References and futher reading:\n",
    "* [Pandas documentation on indexing and selection data](https://pandas.pydata.org/docs/user_guide/indexing.html#)\n",
    "* [Pandas documentation on advanced data selection and hierarchical indexing (MultiIndex)](https://pandas.pydata.org/docs/user_guide/advanced.html#)\n",
    "* [Plotly](https://plotly.com/python/)\n",
    "* [Plotly express](https://plotly.com/python/plotly-express/)"
   ]
  }
 ],
 "metadata": {
  "kernelspec": {
   "display_name": "Python 3 (ipykernel)",
   "language": "python",
   "name": "python3"
  },
  "language_info": {
   "codemirror_mode": {
    "name": "ipython",
    "version": 3
   },
   "file_extension": ".py",
   "mimetype": "text/x-python",
   "name": "python",
   "nbconvert_exporter": "python",
   "pygments_lexer": "ipython3",
   "version": "3.10.8"
  }
 },
 "nbformat": 4,
 "nbformat_minor": 5
}
